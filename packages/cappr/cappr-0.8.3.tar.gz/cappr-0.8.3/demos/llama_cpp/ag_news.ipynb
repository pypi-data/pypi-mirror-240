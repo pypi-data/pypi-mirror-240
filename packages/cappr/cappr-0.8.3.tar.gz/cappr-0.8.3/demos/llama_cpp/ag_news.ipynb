{
  "cells": [
    {
      "cell_type": "markdown",
      "metadata": {
        "id": "onOeCT_HbGMC"
      },
      "source": [
        "In its current form, you must run this notebook on a GPU. A T4 is sufficient. It's free\n",
        "on [Google\n",
        "Colab](https://stackoverflow.com/questions/62596466/how-can-i-run-notebooks-of-a-github-project-in-google-colab/67344477#67344477).\n",
        "You can technically run this notebook on a CPU (with minor adjustments), but then it'll\n",
        "take hours. We'll be running the model 1,500 times!\n",
        "\n",
        "**Description**: for a [4 GB 4-bit Llama 2 chat\n",
        "model](https://huggingface.co/TheBloke/Llama-2-7b-Chat-GGUF/blob/main/llama-2-7b-chat.Q4_0.gguf)\n",
        "and the [AG news](https://huggingface.co/datasets/ag_news) classification task, this\n",
        "notebook demonstrates that CAPPr gets you +4% absolute accuracy. Note that this dataset is kind of a strawman b/c it's trivial to do better by training BERT. Still, it's useful as a benchmark.\n",
        "\n",
        "**Contamination notice**: I don't know whether Llama 2 was trained on any AG news data. If\n",
        "it was, but there's no interaction between the method (CAPPr vs text generation) and\n",
        "training, then the difference between performances can be studied.\n",
        "\n",
        "**Estimated run time**: ~20 min."
      ]
    },
    {
      "cell_type": "markdown",
      "metadata": {
        "id": "5H2cqyOvbGMT"
      },
      "source": [
        "[Install packages](#install-packages)\n",
        "\n",
        "[Download model](#download-model)\n",
        "\n",
        "[Utils](#utils)\n",
        "\n",
        "[Load data](#load-data)\n",
        "\n",
        "[Text generation](#text-generation)\n",
        "\n",
        "[Text generation (Multiple Choice)](#text-generation-multiple-choice)\n",
        "\n",
        "[CAPPr](#cappr)"
      ]
    },
    {
      "cell_type": "markdown",
      "metadata": {
        "id": "3edTvevkoCCR"
      },
      "source": [
        "# Install packages"
      ]
    },
    {
      "cell_type": "markdown",
      "metadata": {
        "id": "3_-mtmZuccEf"
      },
      "source": [
        "For CPU, just do\n",
        "\n",
        "```\n",
        "!pip install llama-cpp-python\n",
        "```"
      ]
    },
    {
      "cell_type": "markdown",
      "metadata": {
        "id": "4Heya6HkdJyE"
      },
      "source": [
        "For GPU (ty [this comment](https://github.com/ggerganov/llama.cpp/issues/128#issuecomment-1604696753)):"
      ]
    },
    {
      "cell_type": "code",
      "execution_count": null,
      "metadata": {
        "id": "KuyxVtifKFeS"
      },
      "outputs": [],
      "source": [
        "!CMAKE_ARGS=\"-DLLAMA_CUBLAS=on\" FORCE_CMAKE=1 pip install llama-cpp-python"
      ]
    },
    {
      "cell_type": "markdown",
      "metadata": {
        "id": "6H2ukkr1cy6Z"
      },
      "source": [
        "I'm gonna install `cappr` from source b/c sometimes I use this notebook to statistically\n",
        "gut check code changes.\n",
        "\n",
        "I'll also install the `demos` extras for NLP datasets.\n",
        "\n",
        "In your local env, you'd just do:\n",
        "\n",
        "```\n",
        "pip install \"cappr[llama-cpp]\"\n",
        "```"
      ]
    },
    {
      "cell_type": "code",
      "execution_count": null,
      "metadata": {
        "id": "NicJ2-6Hcump"
      },
      "outputs": [],
      "source": [
        "!pip install \"cappr[demos] @ git+https://github.com/kddubey/cappr.git\""
      ]
    },
    {
      "cell_type": "markdown",
      "metadata": {
        "id": "A22iSuqGVtr7"
      },
      "source": [
        "# Download model"
      ]
    },
    {
      "cell_type": "markdown",
      "metadata": {
        "id": "RTx6xWlXfVWN"
      },
      "source": [
        "The model is a [4 GB 4-bit Llama 2 chat\n",
        "model](https://huggingface.co/TheBloke/Llama-2-7b-Chat-GGUF/blob/main/llama-2-7b-chat.Q4_0.gguf) with 7B parameters."
      ]
    },
    {
      "cell_type": "code",
      "execution_count": null,
      "metadata": {
        "id": "fkMaqHovEo_1"
      },
      "outputs": [],
      "source": [
        "!huggingface-cli download \\\n",
        "TheBloke/Llama-2-7b-Chat-GGUF \\\n",
        "llama-2-7b-chat.Q4_0.gguf \\\n",
        "--local-dir . \\\n",
        "--local-dir-use-symlinks False"
      ]
    },
    {
      "cell_type": "code",
      "execution_count": 1,
      "metadata": {
        "id": "UC6fONZlV1XF"
      },
      "outputs": [],
      "source": [
        "model_path = \"./llama-2-7b-chat.Q4_0.gguf\""
      ]
    },
    {
      "cell_type": "code",
      "execution_count": 2,
      "metadata": {
        "id": "WNW0Cz1sbGMX"
      },
      "outputs": [],
      "source": [
        "from __future__ import annotations\n",
        "from string import ascii_uppercase as alphabet\n",
        "from typing import Collection, Sequence\n",
        "\n",
        "import datasets\n",
        "import pandas as pd\n",
        "from tqdm.auto import tqdm\n",
        "\n",
        "from llama_cpp import Llama\n",
        "\n",
        "from cappr.llama_cpp import classify"
      ]
    },
    {
      "cell_type": "code",
      "execution_count": 3,
      "metadata": {
        "colab": {
          "base_uri": "https://localhost:8080/"
        },
        "id": "xegEtmskckgp",
        "outputId": "682b82e1-8351-4eb2-9f34-8f428f00e286"
      },
      "outputs": [
        {
          "data": {
            "text/plain": [
              "-1"
            ]
          },
          "execution_count": 3,
          "metadata": {},
          "output_type": "execute_result"
        }
      ],
      "source": [
        "import torch\n",
        "n_gpu_layers = -1 if torch.cuda.is_available() else 0\n",
        "n_gpu_layers"
      ]
    },
    {
      "cell_type": "code",
      "execution_count": 4,
      "metadata": {
        "colab": {
          "base_uri": "https://localhost:8080/"
        },
        "id": "q-JyALQPE-c1",
        "outputId": "7d1859ad-3b9f-4b15-a00b-1b97a3f1d84b"
      },
      "outputs": [
        {
          "name": "stderr",
          "output_type": "stream",
          "text": [
            "AVX = 1 | AVX2 = 1 | AVX512 = 0 | AVX512_VBMI = 0 | AVX512_VNNI = 0 | FMA = 1 | NEON = 0 | ARM_FMA = 0 | F16C = 1 | FP16_VA = 0 | WASM_SIMD = 0 | BLAS = 1 | SSE3 = 1 | SSSE3 = 1 | VSX = 0 | \n"
          ]
        }
      ],
      "source": [
        "model = Llama(model_path=model_path, logits_all=True, n_gpu_layers=n_gpu_layers)"
      ]
    },
    {
      "cell_type": "markdown",
      "metadata": {
        "id": "OcCXl84vbGMd"
      },
      "source": [
        "# Load data"
      ]
    },
    {
      "cell_type": "code",
      "execution_count": 5,
      "metadata": {
        "id": "NDauFakI6E9n"
      },
      "outputs": [],
      "source": [
        "DATASET_NAME = \"ag_news\""
      ]
    },
    {
      "cell_type": "code",
      "execution_count": 6,
      "metadata": {
        "id": "0WayD0g5bGMj"
      },
      "outputs": [],
      "source": [
        "_df = pd.DataFrame(datasets.load_dataset(DATASET_NAME, split=\"train\"))"
      ]
    },
    {
      "cell_type": "code",
      "execution_count": 7,
      "metadata": {
        "colab": {
          "base_uri": "https://localhost:8080/",
          "height": 206
        },
        "id": "775AXSrh6E9o",
        "outputId": "90b184ef-45e9-4969-879c-b357583a4339"
      },
      "outputs": [
        {
          "data": {
            "text/html": [
              "\n",
              "  <div id=\"df-886577c7-4065-46c7-8061-bdddb5b4ead1\" class=\"colab-df-container\">\n",
              "    <div>\n",
              "<style scoped>\n",
              "    .dataframe tbody tr th:only-of-type {\n",
              "        vertical-align: middle;\n",
              "    }\n",
              "\n",
              "    .dataframe tbody tr th {\n",
              "        vertical-align: top;\n",
              "    }\n",
              "\n",
              "    .dataframe thead th {\n",
              "        text-align: right;\n",
              "    }\n",
              "</style>\n",
              "<table border=\"1\" class=\"dataframe\">\n",
              "  <thead>\n",
              "    <tr style=\"text-align: right;\">\n",
              "      <th></th>\n",
              "      <th>text</th>\n",
              "      <th>label</th>\n",
              "    </tr>\n",
              "  </thead>\n",
              "  <tbody>\n",
              "    <tr>\n",
              "      <th>0</th>\n",
              "      <td>Wall St. Bears Claw Back Into the Black (Reute...</td>\n",
              "      <td>2</td>\n",
              "    </tr>\n",
              "    <tr>\n",
              "      <th>1</th>\n",
              "      <td>Carlyle Looks Toward Commercial Aerospace (Reu...</td>\n",
              "      <td>2</td>\n",
              "    </tr>\n",
              "    <tr>\n",
              "      <th>2</th>\n",
              "      <td>Oil and Economy Cloud Stocks' Outlook (Reuters...</td>\n",
              "      <td>2</td>\n",
              "    </tr>\n",
              "    <tr>\n",
              "      <th>3</th>\n",
              "      <td>Iraq Halts Oil Exports from Main Southern Pipe...</td>\n",
              "      <td>2</td>\n",
              "    </tr>\n",
              "    <tr>\n",
              "      <th>4</th>\n",
              "      <td>Oil prices soar to all-time record, posing new...</td>\n",
              "      <td>2</td>\n",
              "    </tr>\n",
              "  </tbody>\n",
              "</table>\n",
              "</div>\n",
              "    <div class=\"colab-df-buttons\">\n",
              "\n",
              "  <div class=\"colab-df-container\">\n",
              "    <button class=\"colab-df-convert\" onclick=\"convertToInteractive('df-886577c7-4065-46c7-8061-bdddb5b4ead1')\"\n",
              "            title=\"Convert this dataframe to an interactive table.\"\n",
              "            style=\"display:none;\">\n",
              "\n",
              "  <svg xmlns=\"http://www.w3.org/2000/svg\" height=\"24px\" viewBox=\"0 -960 960 960\">\n",
              "    <path d=\"M120-120v-720h720v720H120Zm60-500h600v-160H180v160Zm220 220h160v-160H400v160Zm0 220h160v-160H400v160ZM180-400h160v-160H180v160Zm440 0h160v-160H620v160ZM180-180h160v-160H180v160Zm440 0h160v-160H620v160Z\"/>\n",
              "  </svg>\n",
              "    </button>\n",
              "\n",
              "  <style>\n",
              "    .colab-df-container {\n",
              "      display:flex;\n",
              "      gap: 12px;\n",
              "    }\n",
              "\n",
              "    .colab-df-convert {\n",
              "      background-color: #E8F0FE;\n",
              "      border: none;\n",
              "      border-radius: 50%;\n",
              "      cursor: pointer;\n",
              "      display: none;\n",
              "      fill: #1967D2;\n",
              "      height: 32px;\n",
              "      padding: 0 0 0 0;\n",
              "      width: 32px;\n",
              "    }\n",
              "\n",
              "    .colab-df-convert:hover {\n",
              "      background-color: #E2EBFA;\n",
              "      box-shadow: 0px 1px 2px rgba(60, 64, 67, 0.3), 0px 1px 3px 1px rgba(60, 64, 67, 0.15);\n",
              "      fill: #174EA6;\n",
              "    }\n",
              "\n",
              "    .colab-df-buttons div {\n",
              "      margin-bottom: 4px;\n",
              "    }\n",
              "\n",
              "    [theme=dark] .colab-df-convert {\n",
              "      background-color: #3B4455;\n",
              "      fill: #D2E3FC;\n",
              "    }\n",
              "\n",
              "    [theme=dark] .colab-df-convert:hover {\n",
              "      background-color: #434B5C;\n",
              "      box-shadow: 0px 1px 3px 1px rgba(0, 0, 0, 0.15);\n",
              "      filter: drop-shadow(0px 1px 2px rgba(0, 0, 0, 0.3));\n",
              "      fill: #FFFFFF;\n",
              "    }\n",
              "  </style>\n",
              "\n",
              "    <script>\n",
              "      const buttonEl =\n",
              "        document.querySelector('#df-886577c7-4065-46c7-8061-bdddb5b4ead1 button.colab-df-convert');\n",
              "      buttonEl.style.display =\n",
              "        google.colab.kernel.accessAllowed ? 'block' : 'none';\n",
              "\n",
              "      async function convertToInteractive(key) {\n",
              "        const element = document.querySelector('#df-886577c7-4065-46c7-8061-bdddb5b4ead1');\n",
              "        const dataTable =\n",
              "          await google.colab.kernel.invokeFunction('convertToInteractive',\n",
              "                                                    [key], {});\n",
              "        if (!dataTable) return;\n",
              "\n",
              "        const docLinkHtml = 'Like what you see? Visit the ' +\n",
              "          '<a target=\"_blank\" href=https://colab.research.google.com/notebooks/data_table.ipynb>data table notebook</a>'\n",
              "          + ' to learn more about interactive tables.';\n",
              "        element.innerHTML = '';\n",
              "        dataTable['output_type'] = 'display_data';\n",
              "        await google.colab.output.renderOutput(dataTable, element);\n",
              "        const docLink = document.createElement('div');\n",
              "        docLink.innerHTML = docLinkHtml;\n",
              "        element.appendChild(docLink);\n",
              "      }\n",
              "    </script>\n",
              "  </div>\n",
              "\n",
              "\n",
              "<div id=\"df-9a466c00-057a-4bc1-9aac-7375a78c67ff\">\n",
              "  <button class=\"colab-df-quickchart\" onclick=\"quickchart('df-9a466c00-057a-4bc1-9aac-7375a78c67ff')\"\n",
              "            title=\"Suggest charts.\"\n",
              "            style=\"display:none;\">\n",
              "\n",
              "<svg xmlns=\"http://www.w3.org/2000/svg\" height=\"24px\"viewBox=\"0 0 24 24\"\n",
              "     width=\"24px\">\n",
              "    <g>\n",
              "        <path d=\"M19 3H5c-1.1 0-2 .9-2 2v14c0 1.1.9 2 2 2h14c1.1 0 2-.9 2-2V5c0-1.1-.9-2-2-2zM9 17H7v-7h2v7zm4 0h-2V7h2v10zm4 0h-2v-4h2v4z\"/>\n",
              "    </g>\n",
              "</svg>\n",
              "  </button>\n",
              "\n",
              "<style>\n",
              "  .colab-df-quickchart {\n",
              "      --bg-color: #E8F0FE;\n",
              "      --fill-color: #1967D2;\n",
              "      --hover-bg-color: #E2EBFA;\n",
              "      --hover-fill-color: #174EA6;\n",
              "      --disabled-fill-color: #AAA;\n",
              "      --disabled-bg-color: #DDD;\n",
              "  }\n",
              "\n",
              "  [theme=dark] .colab-df-quickchart {\n",
              "      --bg-color: #3B4455;\n",
              "      --fill-color: #D2E3FC;\n",
              "      --hover-bg-color: #434B5C;\n",
              "      --hover-fill-color: #FFFFFF;\n",
              "      --disabled-bg-color: #3B4455;\n",
              "      --disabled-fill-color: #666;\n",
              "  }\n",
              "\n",
              "  .colab-df-quickchart {\n",
              "    background-color: var(--bg-color);\n",
              "    border: none;\n",
              "    border-radius: 50%;\n",
              "    cursor: pointer;\n",
              "    display: none;\n",
              "    fill: var(--fill-color);\n",
              "    height: 32px;\n",
              "    padding: 0;\n",
              "    width: 32px;\n",
              "  }\n",
              "\n",
              "  .colab-df-quickchart:hover {\n",
              "    background-color: var(--hover-bg-color);\n",
              "    box-shadow: 0 1px 2px rgba(60, 64, 67, 0.3), 0 1px 3px 1px rgba(60, 64, 67, 0.15);\n",
              "    fill: var(--button-hover-fill-color);\n",
              "  }\n",
              "\n",
              "  .colab-df-quickchart-complete:disabled,\n",
              "  .colab-df-quickchart-complete:disabled:hover {\n",
              "    background-color: var(--disabled-bg-color);\n",
              "    fill: var(--disabled-fill-color);\n",
              "    box-shadow: none;\n",
              "  }\n",
              "\n",
              "  .colab-df-spinner {\n",
              "    border: 2px solid var(--fill-color);\n",
              "    border-color: transparent;\n",
              "    border-bottom-color: var(--fill-color);\n",
              "    animation:\n",
              "      spin 1s steps(1) infinite;\n",
              "  }\n",
              "\n",
              "  @keyframes spin {\n",
              "    0% {\n",
              "      border-color: transparent;\n",
              "      border-bottom-color: var(--fill-color);\n",
              "      border-left-color: var(--fill-color);\n",
              "    }\n",
              "    20% {\n",
              "      border-color: transparent;\n",
              "      border-left-color: var(--fill-color);\n",
              "      border-top-color: var(--fill-color);\n",
              "    }\n",
              "    30% {\n",
              "      border-color: transparent;\n",
              "      border-left-color: var(--fill-color);\n",
              "      border-top-color: var(--fill-color);\n",
              "      border-right-color: var(--fill-color);\n",
              "    }\n",
              "    40% {\n",
              "      border-color: transparent;\n",
              "      border-right-color: var(--fill-color);\n",
              "      border-top-color: var(--fill-color);\n",
              "    }\n",
              "    60% {\n",
              "      border-color: transparent;\n",
              "      border-right-color: var(--fill-color);\n",
              "    }\n",
              "    80% {\n",
              "      border-color: transparent;\n",
              "      border-right-color: var(--fill-color);\n",
              "      border-bottom-color: var(--fill-color);\n",
              "    }\n",
              "    90% {\n",
              "      border-color: transparent;\n",
              "      border-bottom-color: var(--fill-color);\n",
              "    }\n",
              "  }\n",
              "</style>\n",
              "\n",
              "  <script>\n",
              "    async function quickchart(key) {\n",
              "      const quickchartButtonEl =\n",
              "        document.querySelector('#' + key + ' button');\n",
              "      quickchartButtonEl.disabled = true;  // To prevent multiple clicks.\n",
              "      quickchartButtonEl.classList.add('colab-df-spinner');\n",
              "      try {\n",
              "        const charts = await google.colab.kernel.invokeFunction(\n",
              "            'suggestCharts', [key], {});\n",
              "      } catch (error) {\n",
              "        console.error('Error during call to suggestCharts:', error);\n",
              "      }\n",
              "      quickchartButtonEl.classList.remove('colab-df-spinner');\n",
              "      quickchartButtonEl.classList.add('colab-df-quickchart-complete');\n",
              "    }\n",
              "    (() => {\n",
              "      let quickchartButtonEl =\n",
              "        document.querySelector('#df-9a466c00-057a-4bc1-9aac-7375a78c67ff button');\n",
              "      quickchartButtonEl.style.display =\n",
              "        google.colab.kernel.accessAllowed ? 'block' : 'none';\n",
              "    })();\n",
              "  </script>\n",
              "</div>\n",
              "    </div>\n",
              "  </div>\n"
            ],
            "text/plain": [
              "                                                text  label\n",
              "0  Wall St. Bears Claw Back Into the Black (Reute...      2\n",
              "1  Carlyle Looks Toward Commercial Aerospace (Reu...      2\n",
              "2  Oil and Economy Cloud Stocks' Outlook (Reuters...      2\n",
              "3  Iraq Halts Oil Exports from Main Southern Pipe...      2\n",
              "4  Oil prices soar to all-time record, posing new...      2"
            ]
          },
          "execution_count": 7,
          "metadata": {},
          "output_type": "execute_result"
        }
      ],
      "source": [
        "_df.head()"
      ]
    },
    {
      "cell_type": "markdown",
      "metadata": {
        "id": "NAO-IYK46E9o"
      },
      "source": [
        "Ensure your dataframe passes these checks"
      ]
    },
    {
      "cell_type": "code",
      "execution_count": 8,
      "metadata": {
        "id": "WbqzhUx_6E9o"
      },
      "outputs": [],
      "source": [
        "assert len(set(_df.index)) == len(_df)\n",
        "assert \"text\" in _df.columns\n",
        "assert \"label\" in _df.columns"
      ]
    },
    {
      "cell_type": "code",
      "execution_count": 9,
      "metadata": {
        "id": "TuF8Wpf66E9p"
      },
      "outputs": [],
      "source": [
        "_df[\"text\"] = _df[\"text\"].astype(str)\n",
        "_df[\"label\"] = _df[\"label\"].astype(int)"
      ]
    },
    {
      "cell_type": "code",
      "execution_count": 10,
      "metadata": {
        "colab": {
          "base_uri": "https://localhost:8080/"
        },
        "id": "AlOIxn66bGMm",
        "outputId": "86bf9c50-f6b6-438a-d8eb-f10011d3dbcc"
      },
      "outputs": [
        {
          "data": {
            "text/plain": [
              "120000"
            ]
          },
          "execution_count": 10,
          "metadata": {},
          "output_type": "execute_result"
        }
      ],
      "source": [
        "len(_df)"
      ]
    },
    {
      "cell_type": "markdown",
      "metadata": {
        "id": "V7-ldgr0EJQb"
      },
      "source": [
        "We don't need that much data to compare methods. We'll (stratify) sample a couple hundred of them."
      ]
    },
    {
      "cell_type": "code",
      "execution_count": 11,
      "metadata": {
        "colab": {
          "base_uri": "https://localhost:8080/"
        },
        "id": "8UYnBCHtbGNH",
        "outputId": "6ee06991-f72d-4e53-c13f-d502d71906b7"
      },
      "outputs": [
        {
          "data": {
            "text/plain": [
              "0    0.25\n",
              "1    0.25\n",
              "2    0.25\n",
              "3    0.25\n",
              "Name: label, dtype: float64"
            ]
          },
          "execution_count": 11,
          "metadata": {},
          "output_type": "execute_result"
        }
      ],
      "source": [
        "_df[\"label\"].value_counts(normalize=True).sort_index()"
      ]
    },
    {
      "cell_type": "markdown",
      "metadata": {
        "id": "d7YkpFoz6E9r"
      },
      "source": [
        "Is the default context, 512, sufficient? Let's see how many characters (not tokens)\n",
        "there are in this dataset."
      ]
    },
    {
      "cell_type": "code",
      "execution_count": 12,
      "metadata": {
        "colab": {
          "base_uri": "https://localhost:8080/"
        },
        "id": "LyMUcrlH6E9r",
        "outputId": "8112a37e-0fe8-429f-a2d7-1db489b3eda1"
      },
      "outputs": [
        {
          "data": {
            "text/plain": [
              "count    120000.000000\n",
              "mean        236.477525\n",
              "std          66.509741\n",
              "min         100.000000\n",
              "25%         196.000000\n",
              "50%         232.000000\n",
              "75%         266.000000\n",
              "max        1012.000000\n",
              "Name: text, dtype: float64"
            ]
          },
          "execution_count": 12,
          "metadata": {},
          "output_type": "execute_result"
        }
      ],
      "source": [
        "_df[\"text\"].str.len().describe()"
      ]
    },
    {
      "cell_type": "code",
      "execution_count": 13,
      "metadata": {
        "id": "O0je-oIO6E9r"
      },
      "outputs": [],
      "source": [
        "def stratified_sample(\n",
        "    df: pd.DataFrame, sample_size: int, random_state: int = None\n",
        ") -> pd.DataFrame:\n",
        "    # let's not worry about not exactly returning a df w/ size sample_size for\n",
        "    # now. it's nbd for this experiment\n",
        "    num_labels = len(set(df[\"label\"]))\n",
        "    num_obs_per_label = int(sample_size / num_labels)\n",
        "\n",
        "    def label_sampler(df_label: pd.DataFrame) -> pd.DataFrame:\n",
        "        return df_label.sample(num_obs_per_label, random_state=random_state)\n",
        "\n",
        "    return df.groupby(\"label\", group_keys=False).apply(label_sampler)"
      ]
    },
    {
      "cell_type": "code",
      "execution_count": 14,
      "metadata": {
        "id": "7sPJENiKBQVt"
      },
      "outputs": [],
      "source": [
        "sample_size = 500\n",
        "random_state = 3459"
      ]
    },
    {
      "cell_type": "code",
      "execution_count": 15,
      "metadata": {
        "id": "fE5MwarY6E9r"
      },
      "outputs": [],
      "source": [
        "df = stratified_sample(_df, sample_size=sample_size, random_state=random_state)\n",
        "df = df.reset_index(drop=True)"
      ]
    },
    {
      "cell_type": "code",
      "execution_count": 16,
      "metadata": {
        "colab": {
          "base_uri": "https://localhost:8080/"
        },
        "id": "SZAyTEO_DsYB",
        "outputId": "51cf95b2-3616-4fc7-f3c5-6dbf8ff9e26a"
      },
      "outputs": [
        {
          "data": {
            "text/plain": [
              "0    0.25\n",
              "1    0.25\n",
              "2    0.25\n",
              "3    0.25\n",
              "Name: label, dtype: float64"
            ]
          },
          "execution_count": 16,
          "metadata": {},
          "output_type": "execute_result"
        }
      ],
      "source": [
        "df[\"label\"].value_counts(normalize=True).sort_index()"
      ]
    },
    {
      "cell_type": "code",
      "execution_count": 17,
      "metadata": {
        "id": "jsnZuCft-XNH"
      },
      "outputs": [],
      "source": [
        "news_categories = (\"world\", \"sports\", \"business\", \"science\")"
      ]
    },
    {
      "cell_type": "code",
      "execution_count": 18,
      "metadata": {
        "id": "tPePXRDPBctp"
      },
      "outputs": [],
      "source": [
        "llama_chat_template = \"\"\"\n",
        "<s>[INST] <<SYS>>\n",
        "{system_prompt}\n",
        "<</SYS>>\n",
        "\n",
        "{user_message} [/INST]\n",
        "\"\"\".lstrip(\n",
        "    \"\\n\"\n",
        ")"
      ]
    },
    {
      "cell_type": "markdown",
      "metadata": {
        "id": "qgNUWO0ZbGNv"
      },
      "source": [
        "# Text generation"
      ]
    },
    {
      "cell_type": "markdown",
      "metadata": {
        "id": "a9TCyBTxGsZt"
      },
      "source": [
        "This prompt is the best I could do."
      ]
    },
    {
      "cell_type": "code",
      "execution_count": 19,
      "metadata": {
        "colab": {
          "base_uri": "https://localhost:8080/"
        },
        "id": "7RUrWpZNbGN1",
        "outputId": "ad737664-72be-4218-be77-cd5146ec8b18"
      },
      "outputs": [
        {
          "name": "stdout",
          "output_type": "stream",
          "text": [
            "<s>[INST] <<SYS>>\n",
            "Identify the news topic which the text belongs to. The news topics are: world, sports, business, and science. Respond only with the correct topic.\n",
            "<</SYS>>\n",
            "\n",
            "The following text was taken from a news article:\n",
            "\"Strong Quake Hits Japan's Hokkaido, 11 Hurt (Reuters) Reuters - A strong earthquake with a preliminary\\magnitude of 7.1 hit a wide area of Japan's northernmost main\\island of Hokkaido early on Monday, the Japan Meteorological\\Agency said.\"\n",
            "\n",
            "Identify the topic which the text belongs to. [/INST]\n",
            "\n"
          ]
        }
      ],
      "source": [
        "system_prompt_chat = (\n",
        "    \"Identify the news topic which the text belongs to. The news topics are: \"\n",
        "    \"world, sports, business, and science. \"\n",
        "    \"Respond only with the correct topic.\"\n",
        ")\n",
        "\n",
        "def prompt_chat(text: str):\n",
        "    return (\n",
        "        f'The following text was taken from a news article:\\n\"{text}\"\\n\\n'\n",
        "        \"Identify the topic which the text belongs to.\"\n",
        "    )\n",
        "\n",
        "df[\"prompt_chat\"] = [\n",
        "    llama_chat_template.format(\n",
        "        system_prompt=system_prompt_chat,\n",
        "        user_message=prompt_chat(text)\n",
        "    )\n",
        "    for text in df[\"text\"]\n",
        "]\n",
        "\n",
        "print(df[\"prompt_chat\"].iloc[0])"
      ]
    },
    {
      "cell_type": "markdown",
      "metadata": {
        "id": "_OaEEYAbrVf7"
      },
      "source": [
        "Generate completions"
      ]
    },
    {
      "cell_type": "code",
      "execution_count": null,
      "metadata": {
        "id": "V1J5uu1wjGsH"
      },
      "outputs": [],
      "source": [
        "model.reset()\n",
        "completions = []\n",
        "for _prompt in tqdm(df[\"prompt_chat\"], total=len(df), desc=\"Sampling\"):\n",
        "    response = model(_prompt, max_tokens=20, temperature=0)\n",
        "    completion = response[\"choices\"][0][\"text\"]\n",
        "    completions.append(completion)"
      ]
    },
    {
      "cell_type": "markdown",
      "metadata": {
        "id": "EUziWyvGISQj"
      },
      "source": [
        "Inspect completions"
      ]
    },
    {
      "cell_type": "code",
      "execution_count": 21,
      "metadata": {
        "colab": {
          "base_uri": "https://localhost:8080/"
        },
        "id": "oMtKqqdPlggb",
        "outputId": "e1a3e53a-14d0-4875-c63f-9f0f954a7a55"
      },
      "outputs": [
        {
          "data": {
            "text/plain": [
              "465                                   Business\n",
              "168                                     Sports\n",
              "367                                   Business\n",
              "60      The text belongs to the \"world\" topic.\n",
              "476                                   Business\n",
              "210                                     Sports\n",
              "359                                   Business\n",
              "154    The text belongs to the \"sports\" topic.\n",
              "242                                   Business\n",
              "193      The text belongs to the sports topic.\n",
              "dtype: object"
            ]
          },
          "execution_count": 21,
          "metadata": {},
          "output_type": "execute_result"
        }
      ],
      "source": [
        "pd.Series(completions).sample(10)"
      ]
    },
    {
      "cell_type": "markdown",
      "metadata": {
        "id": "izyq3REq7w84"
      },
      "source": [
        "When you're doing text generation, you often have to write this sort of data-dependent and model-dependent function. For this prompt and the AG news task, it's pretty trivial."
      ]
    },
    {
      "cell_type": "code",
      "execution_count": 22,
      "metadata": {
        "id": "NR4DkFgm4KhJ"
      },
      "outputs": [],
      "source": [
        "def process_completion(\n",
        "    completion: str,\n",
        "    class_names: Sequence[str],\n",
        "    default=-1,\n",
        ") -> int:\n",
        "    for i, name in enumerate(class_names):\n",
        "        if name in completion.lower():\n",
        "            return i\n",
        "    return default"
      ]
    },
    {
      "cell_type": "code",
      "execution_count": 23,
      "metadata": {
        "id": "9UnausK74XjN"
      },
      "outputs": [],
      "source": [
        "preds_text_gen = pd.Series([\n",
        "    process_completion(completion, news_categories)\n",
        "    for completion in completions\n",
        "])"
      ]
    },
    {
      "cell_type": "markdown",
      "metadata": {
        "id": "SA-Mxvf841lv"
      },
      "source": [
        "How many of the completions could be mapped to a label?"
      ]
    },
    {
      "cell_type": "code",
      "execution_count": 24,
      "metadata": {
        "colab": {
          "base_uri": "https://localhost:8080/"
        },
        "id": "Sua4kuar4bAJ",
        "outputId": "17d91905-a74d-48f1-cda4-233dfec5600f"
      },
      "outputs": [
        {
          "data": {
            "text/plain": [
              "0.982"
            ]
          },
          "execution_count": 24,
          "metadata": {},
          "output_type": "execute_result"
        }
      ],
      "source": [
        "(preds_text_gen != -1).mean()"
      ]
    },
    {
      "cell_type": "markdown",
      "metadata": {
        "id": "N9SYb7poB1xt"
      },
      "source": [
        "What do invalid completions look like?"
      ]
    },
    {
      "cell_type": "code",
      "execution_count": 25,
      "metadata": {
        "colab": {
          "base_uri": "https://localhost:8080/"
        },
        "id": "vBST78rwB3Mj",
        "outputId": "2c6b2c77-792b-46e5-c872-a2bc53d9880d"
      },
      "outputs": [
        {
          "data": {
            "text/plain": [
              "['The text belongs to the \"Politics\" or \"Government\" topic.',\n",
              " 'The text belongs to the \"Politics\" or \"Government\" topic.',\n",
              " 'The text belongs to the \"law\" or \"legal\" topic.',\n",
              " 'The text belongs to the \"Politics\" or \"Government\" topic.',\n",
              " 'The text belongs to the \"Politics\" or \"Government\" topic.',\n",
              " 'The text belongs to the \"Politics\" or \"Government\" topic.',\n",
              " 'The text belongs to the \"health\" or \"medical\" topic.',\n",
              " 'The text belongs to the topic of \"Technology\" or more specifically, \"Gadgets',\n",
              " 'The text belongs to the \"Health\" topic.']"
            ]
          },
          "execution_count": 25,
          "metadata": {},
          "output_type": "execute_result"
        }
      ],
      "source": [
        "pd.Series(completions)[preds_text_gen == -1].tolist()"
      ]
    },
    {
      "cell_type": "markdown",
      "metadata": {
        "id": "7oJHEEg2HT-K"
      },
      "source": [
        "I don't think improving `process_completion` is the way to go—that seems too tricky. For\n",
        "a fairer comparison, assume these get always mapped to one of the choices. It's more\n",
        "fair to apply a string distance match or a similarity search from a small similarity\n",
        "model. Those solutions are kinda annoying and complicated. For now I'm just gonna map it to the\n",
        "most common class. That's more optimistic than mapping them uniformly-at-random."
      ]
    },
    {
      "cell_type": "code",
      "execution_count": 26,
      "metadata": {
        "colab": {
          "base_uri": "https://localhost:8080/"
        },
        "id": "njBpPwB3EmSI",
        "outputId": "47aa585f-bffc-4e46-fad0-b05b332fd644"
      },
      "outputs": [
        {
          "data": {
            "text/plain": [
              "0"
            ]
          },
          "execution_count": 26,
          "metadata": {},
          "output_type": "execute_result"
        }
      ],
      "source": [
        "most_common_label = (\n",
        "    df[\"label\"].value_counts(normalize=True, ascending=False).index[0]\n",
        ")\n",
        "most_common_label"
      ]
    },
    {
      "cell_type": "code",
      "execution_count": 27,
      "metadata": {
        "id": "6-iMV_9yEjI4"
      },
      "outputs": [],
      "source": [
        "preds_text_gen_imputed = preds_text_gen.copy()\n",
        "preds_text_gen_imputed[preds_text_gen_imputed == -1] = most_common_label"
      ]
    },
    {
      "cell_type": "markdown",
      "metadata": {
        "id": "HwBK97kYAuqi"
      },
      "source": [
        "How accurate are the predictions?"
      ]
    },
    {
      "cell_type": "code",
      "execution_count": 28,
      "metadata": {
        "colab": {
          "base_uri": "https://localhost:8080/"
        },
        "id": "zsMAayo04gWC",
        "outputId": "0c5b2675-d803-438e-dc47-46193b4bf0c2"
      },
      "outputs": [
        {
          "data": {
            "text/plain": [
              "0.714"
            ]
          },
          "execution_count": 28,
          "metadata": {},
          "output_type": "execute_result"
        }
      ],
      "source": [
        "(preds_text_gen_imputed == df['label']).mean()"
      ]
    },
    {
      "cell_type": "markdown",
      "metadata": {
        "id": "oBi3m4QnAIG0"
      },
      "source": [
        "# Text generation (Multiple Choice)"
      ]
    },
    {
      "cell_type": "markdown",
      "metadata": {
        "id": "7hl-KVY1Hneg"
      },
      "source": [
        "This Llama 2 isn't great with multiple choice, but figured I'd try it anyway. This prompt is the best I could do."
      ]
    },
    {
      "cell_type": "code",
      "execution_count": 29,
      "metadata": {
        "colab": {
          "base_uri": "https://localhost:8080/"
        },
        "id": "y9bJ5KEeAJq6",
        "outputId": "fd427974-8df0-4ada-9dd9-e7c14e719120"
      },
      "outputs": [
        {
          "name": "stdout",
          "output_type": "stream",
          "text": [
            "<s>[INST] <<SYS>>\n",
            "Identify the news topic which the text belongs to. The news categories are: world, sports, business, and science. Each topic is identified by a letter: A, B, C, or D, respectively.\n",
            "Respond only with the letter corresponding to the correct news topic.\n",
            "<</SYS>>\n",
            "\n",
            "The following text was taken from a news article:\n",
            "\"Strong Quake Hits Japan's Hokkaido, 11 Hurt (Reuters) Reuters - A strong earthquake with a preliminary\\magnitude of 7.1 hit a wide area of Japan's northernmost main\\island of Hokkaido early on Monday, the Japan Meteorological\\Agency said.\"\n",
            "\n",
            "Identify the news topic which the text belongs to:\n",
            "A. world\n",
            "B. sports\n",
            "C. business\n",
            "D. science\n",
            "\n",
            "Answer A, B, C, or D. [/INST]\n",
            "\n"
          ]
        }
      ],
      "source": [
        "def multiple_choice(*choices) -> str:\n",
        "    if len(choices) > len(alphabet):\n",
        "        raise ValueError(\"There are more choices than letters.\")\n",
        "    letters_and_choices = [\n",
        "        f\"{letter}. {choice}\" for letter, choice in zip(alphabet, choices)\n",
        "    ]\n",
        "    return \"\\n\".join(letters_and_choices)\n",
        "\n",
        "\n",
        "def prompt_mc(text: str):\n",
        "    mc = multiple_choice(*news_categories)\n",
        "    return (\n",
        "        f'The following text was taken from a news article:\\n\"{text}\"\\n\\n'\n",
        "        \"Identify the news topic which the text belongs to:\\n\"\n",
        "        f\"{mc}\\n\\n\"\n",
        "        \"Answer A, B, C, or D.\"\n",
        "    )\n",
        "\n",
        "system_prompt_mc = (\n",
        "    \"Identify the news topic which the text belongs to. The news categories are: \"\n",
        "    \"world, sports, business, and science. Each topic is identified by a letter: \"\n",
        "    \"A, B, C, or D, respectively.\\n\"\n",
        "    \"Respond only with the letter corresponding to the correct news topic.\"\n",
        ")\n",
        "\n",
        "df[\"prompt_chat_mc\"] = [\n",
        "    llama_chat_template.format(\n",
        "        system_prompt=system_prompt_mc,\n",
        "        user_message=prompt_mc(text),\n",
        "    )\n",
        "    for text in df[\"text\"]\n",
        "]\n",
        "\n",
        "print(df[\"prompt_chat_mc\"].iloc[0])"
      ]
    },
    {
      "cell_type": "code",
      "execution_count": null,
      "metadata": {
        "colab": {
          "base_uri": "https://localhost:8080/",
          "height": 1000,
          "referenced_widgets": [
            "6a3703141a574f839238c4e660029d9a",
            "4ab7b7ddf191433f8ee2d63897dbaabf",
            "395e6878424b41d194b390fbba98110a",
            "d5644c6513c94ecd8f62394a04dfe7a5",
            "20ad6451416c41788daf660c5661e614",
            "415495fdbd41412e9a794bb67ba18cd8",
            "aba886a588bd4d5981b0ecbec16492ab",
            "3e1e3b3cca12469b9565c99705a22703",
            "12c45a1dba7f400b99462c1215cc0fce",
            "920306bdd8ce43eb936def770750efb8",
            "27ce6b5a3d5742889f4989e39387eef1"
          ]
        },
        "id": "hhRduSRIBGLD",
        "outputId": "55219451-6bb4-42ab-f32f-8f732220a82c"
      },
      "outputs": [],
      "source": [
        "model.reset()\n",
        "completions_mc = []\n",
        "for _prompt in tqdm(df[\"prompt_chat_mc\"], total=len(df), desc=\"Sampling\"):\n",
        "    response = model(_prompt, max_tokens=15, temperature=0)\n",
        "    completion_mc = response[\"choices\"][0][\"text\"]\n",
        "    completions_mc.append(completion_mc)"
      ]
    },
    {
      "cell_type": "code",
      "execution_count": 31,
      "metadata": {
        "colab": {
          "base_uri": "https://localhost:8080/"
        },
        "id": "tX_tUWpVJuah",
        "outputId": "5090aca9-6240-47fb-9121-af9a2e8fb8c7"
      },
      "outputs": [
        {
          "data": {
            "text/plain": [
              "95     The text belongs to the news topic \"world\". Th...\n",
              "340    The news topic that the text belongs to is:\\nA...\n",
              "148    The text belongs to the news topic of \"B. spor...\n",
              "241    The text belongs to the news topic of \"sports\"...\n",
              "317    The text belongs to the news topic of \"B - Spo...\n",
              "461     The text belongs to the news topic \"B\" - Sports.\n",
              "350    The news topic that the text belongs to is:\\nD...\n",
              "101    The text belongs to the news topic of \"world\"....\n",
              "167    The text belongs to the news topic of \"sports\"...\n",
              "178    The text belongs to the news topic of sports, ...\n",
              "dtype: object"
            ]
          },
          "execution_count": 31,
          "metadata": {},
          "output_type": "execute_result"
        }
      ],
      "source": [
        "pd.Series(completions_mc).sample(10)"
      ]
    },
    {
      "cell_type": "code",
      "execution_count": 32,
      "metadata": {
        "id": "6HskBdr7A71w"
      },
      "outputs": [],
      "source": [
        "def process_completion_mc(\n",
        "    completion: str,\n",
        "    class_chars: Sequence[str],\n",
        "    class_names: Sequence[str],\n",
        "    default=-1,\n",
        ") -> int:\n",
        "    for i, name in enumerate(class_names):\n",
        "        if name in completion.lower():\n",
        "            return i\n",
        "    for i, char in enumerate(class_chars):\n",
        "        if char in completion:\n",
        "            return i\n",
        "    return default"
      ]
    },
    {
      "cell_type": "code",
      "execution_count": 33,
      "metadata": {
        "id": "ztbXvVPvCa2F"
      },
      "outputs": [],
      "source": [
        "class_chars = alphabet[:len(news_categories)]  # uppercased\n",
        "preds_text_gen_mc = [\n",
        "    process_completion_mc(\n",
        "        completion_mc,\n",
        "        class_chars=class_chars,\n",
        "        class_names=news_categories\n",
        "    )\n",
        "    for completion_mc in completions_mc\n",
        "]"
      ]
    },
    {
      "cell_type": "markdown",
      "metadata": {
        "id": "7X7UzcfsDMsG"
      },
      "source": [
        "How many of the sampled completions could be mapped to a label?"
      ]
    },
    {
      "cell_type": "code",
      "execution_count": 34,
      "metadata": {
        "colab": {
          "base_uri": "https://localhost:8080/"
        },
        "id": "2HgujpcCDNAm",
        "outputId": "0cdc26a3-a9a3-4385-cdcf-93fc7b1ee31b"
      },
      "outputs": [
        {
          "data": {
            "text/plain": [
              "0.998"
            ]
          },
          "execution_count": 34,
          "metadata": {},
          "output_type": "execute_result"
        }
      ],
      "source": [
        "(pd.Series(preds_text_gen_mc) != -1).mean()"
      ]
    },
    {
      "cell_type": "markdown",
      "metadata": {
        "id": "43zUjdH5LK-y"
      },
      "source": [
        "Accuracy:"
      ]
    },
    {
      "cell_type": "code",
      "execution_count": 35,
      "metadata": {
        "colab": {
          "base_uri": "https://localhost:8080/"
        },
        "id": "JqjrTdh5C3RQ",
        "outputId": "07abba66-9a29-4bbd-b639-05a10c0c6a45"
      },
      "outputs": [
        {
          "data": {
            "text/plain": [
              "0.622"
            ]
          },
          "execution_count": 35,
          "metadata": {},
          "output_type": "execute_result"
        }
      ],
      "source": [
        "(preds_text_gen_mc == df[\"label\"]).mean()"
      ]
    },
    {
      "cell_type": "markdown",
      "metadata": {
        "id": "wHgGqHrKbGNe"
      },
      "source": [
        "# CAPPr"
      ]
    },
    {
      "cell_type": "markdown",
      "metadata": {
        "id": "nmK0o8kSFhMH"
      },
      "source": [
        "We'll cache the set of instructions which are universal to all prompts."
      ]
    },
    {
      "cell_type": "code",
      "execution_count": 36,
      "metadata": {
        "id": "vtwoUC7XxRBy"
      },
      "outputs": [],
      "source": [
        "prompt_prefix = (\n",
        "    \"Every news article can be categorized as either world, sports, business, or \"\n",
        "    \"science.\\n\"\n",
        "    \"The following text was taken from a news article:\"\n",
        ")"
      ]
    },
    {
      "cell_type": "code",
      "execution_count": 37,
      "metadata": {
        "id": "yI3VoPvq6E90"
      },
      "outputs": [],
      "source": [
        "def prompt(text: str):\n",
        "    return (\n",
        "        f'\\n\"{text}\"\\n\\n'\n",
        "        \"The topic which the text belongs to is\"\n",
        "    )"
      ]
    },
    {
      "cell_type": "code",
      "execution_count": 38,
      "metadata": {
        "id": "CMDfwSnx6E90"
      },
      "outputs": [],
      "source": [
        "df[\"prompt\"] = [prompt(text) for text in df[\"text\"]]"
      ]
    },
    {
      "cell_type": "markdown",
      "metadata": {
        "id": "gUQ4g3KJFnfw"
      },
      "source": [
        "This string is what the model will see:"
      ]
    },
    {
      "cell_type": "code",
      "execution_count": 39,
      "metadata": {
        "colab": {
          "base_uri": "https://localhost:8080/"
        },
        "id": "N6wkJ0Jjxrq0",
        "outputId": "83993361-3505-4fff-c9e2-81544cfa69ec"
      },
      "outputs": [
        {
          "name": "stdout",
          "output_type": "stream",
          "text": [
            "Every news article can be categorized as either world, sports, business, or science.\n",
            "The following text was taken from a news article:\n",
            "\"Strong Quake Hits Japan's Hokkaido, 11 Hurt (Reuters) Reuters - A strong earthquake with a preliminary\\magnitude of 7.1 hit a wide area of Japan's northernmost main\\island of Hokkaido early on Monday, the Japan Meteorological\\Agency said.\"\n",
            "\n",
            "The topic which the text belongs to is\n"
          ]
        }
      ],
      "source": [
        "print(prompt_prefix + df[\"prompt\"].iloc[0])"
      ]
    },
    {
      "cell_type": "code",
      "execution_count": 40,
      "metadata": {
        "colab": {
          "base_uri": "https://localhost:8080/",
          "height": 49,
          "referenced_widgets": [
            "56a016724eef475eb3337045253f9dd4",
            "c7ab4361d1c64dbfa0ef5e4e313acaa5",
            "df5a840649b24a1a934eecbf77c124d9",
            "e6589ba476e04cfc963c5e5716d83c6b",
            "41a35fc6e0d84a50b0b52f9142834116",
            "1ed06e7a13eb41c8a414731b791c3592",
            "1563bc0d42144699a31449e797b2fe18",
            "7b8ffef07018478ab5fd86733afe22f6",
            "09e618958afe4505901a78238fe186d3",
            "d2c997efe25f49f28627360adf5a638a",
            "4f83124decd144f49e54ec96859c375f"
          ]
        },
        "id": "2mMYomd06E91",
        "outputId": "573085df-60c3-4c12-e3c9-2ca185e727b0"
      },
      "outputs": [
        {
          "data": {
            "application/vnd.jupyter.widget-view+json": {
              "model_id": "56a016724eef475eb3337045253f9dd4",
              "version_major": 2,
              "version_minor": 0
            },
            "text/plain": [
              "conditional log-probs:   0%|          | 0/500 [00:00<?, ?it/s]"
            ]
          },
          "metadata": {},
          "output_type": "display_data"
        }
      ],
      "source": [
        "with classify.cache(model, prompt_prefix):\n",
        "    pred_probs = classify.predict_proba(\n",
        "        prompts=df[\"prompt\"],\n",
        "        completions=news_categories,\n",
        "        model=model,\n",
        "        reset_model=False,\n",
        "    )"
      ]
    },
    {
      "cell_type": "code",
      "execution_count": 41,
      "metadata": {
        "colab": {
          "base_uri": "https://localhost:8080/"
        },
        "id": "QVxgmQkwbGNr",
        "outputId": "dad12ded-8994-40c1-b918-af9e805674c2"
      },
      "outputs": [
        {
          "data": {
            "text/plain": [
              "0.754"
            ]
          },
          "execution_count": 41,
          "metadata": {},
          "output_type": "execute_result"
        }
      ],
      "source": [
        "(pred_probs.argmax(axis=1) == df[\"label\"]).mean()"
      ]
    }
  ],
  "metadata": {
    "accelerator": "GPU",
    "colab": {
      "gpuType": "T4",
      "provenance": [],
      "toc_visible": true
    },
    "kernelspec": {
      "display_name": "Python 3",
      "name": "python3"
    },
    "language_info": {
      "codemirror_mode": {
        "name": "ipython",
        "version": 3
      },
      "file_extension": ".py",
      "mimetype": "text/x-python",
      "name": "python",
      "nbconvert_exporter": "python",
      "pygments_lexer": "ipython3",
      "version": "3.11.5"
    },
    "orig_nbformat": 4,
    "vscode": {
      "interpreter": {
        "hash": "68daa88f78f5c448099edb3a6d3dee27486a6add8824ae1cbe4c903ef8faec70"
      }
    },
    "widgets": {
      "application/vnd.jupyter.widget-state+json": {
        "09e618958afe4505901a78238fe186d3": {
          "model_module": "@jupyter-widgets/controls",
          "model_module_version": "1.5.0",
          "model_name": "ProgressStyleModel",
          "state": {
            "_model_module": "@jupyter-widgets/controls",
            "_model_module_version": "1.5.0",
            "_model_name": "ProgressStyleModel",
            "_view_count": null,
            "_view_module": "@jupyter-widgets/base",
            "_view_module_version": "1.2.0",
            "_view_name": "StyleView",
            "bar_color": null,
            "description_width": ""
          }
        },
        "12c45a1dba7f400b99462c1215cc0fce": {
          "model_module": "@jupyter-widgets/controls",
          "model_module_version": "1.5.0",
          "model_name": "ProgressStyleModel",
          "state": {
            "_model_module": "@jupyter-widgets/controls",
            "_model_module_version": "1.5.0",
            "_model_name": "ProgressStyleModel",
            "_view_count": null,
            "_view_module": "@jupyter-widgets/base",
            "_view_module_version": "1.2.0",
            "_view_name": "StyleView",
            "bar_color": null,
            "description_width": ""
          }
        },
        "1563bc0d42144699a31449e797b2fe18": {
          "model_module": "@jupyter-widgets/controls",
          "model_module_version": "1.5.0",
          "model_name": "DescriptionStyleModel",
          "state": {
            "_model_module": "@jupyter-widgets/controls",
            "_model_module_version": "1.5.0",
            "_model_name": "DescriptionStyleModel",
            "_view_count": null,
            "_view_module": "@jupyter-widgets/base",
            "_view_module_version": "1.2.0",
            "_view_name": "StyleView",
            "description_width": ""
          }
        },
        "1ed06e7a13eb41c8a414731b791c3592": {
          "model_module": "@jupyter-widgets/base",
          "model_module_version": "1.2.0",
          "model_name": "LayoutModel",
          "state": {
            "_model_module": "@jupyter-widgets/base",
            "_model_module_version": "1.2.0",
            "_model_name": "LayoutModel",
            "_view_count": null,
            "_view_module": "@jupyter-widgets/base",
            "_view_module_version": "1.2.0",
            "_view_name": "LayoutView",
            "align_content": null,
            "align_items": null,
            "align_self": null,
            "border": null,
            "bottom": null,
            "display": null,
            "flex": null,
            "flex_flow": null,
            "grid_area": null,
            "grid_auto_columns": null,
            "grid_auto_flow": null,
            "grid_auto_rows": null,
            "grid_column": null,
            "grid_gap": null,
            "grid_row": null,
            "grid_template_areas": null,
            "grid_template_columns": null,
            "grid_template_rows": null,
            "height": null,
            "justify_content": null,
            "justify_items": null,
            "left": null,
            "margin": null,
            "max_height": null,
            "max_width": null,
            "min_height": null,
            "min_width": null,
            "object_fit": null,
            "object_position": null,
            "order": null,
            "overflow": null,
            "overflow_x": null,
            "overflow_y": null,
            "padding": null,
            "right": null,
            "top": null,
            "visibility": null,
            "width": null
          }
        },
        "20ad6451416c41788daf660c5661e614": {
          "model_module": "@jupyter-widgets/base",
          "model_module_version": "1.2.0",
          "model_name": "LayoutModel",
          "state": {
            "_model_module": "@jupyter-widgets/base",
            "_model_module_version": "1.2.0",
            "_model_name": "LayoutModel",
            "_view_count": null,
            "_view_module": "@jupyter-widgets/base",
            "_view_module_version": "1.2.0",
            "_view_name": "LayoutView",
            "align_content": null,
            "align_items": null,
            "align_self": null,
            "border": null,
            "bottom": null,
            "display": null,
            "flex": null,
            "flex_flow": null,
            "grid_area": null,
            "grid_auto_columns": null,
            "grid_auto_flow": null,
            "grid_auto_rows": null,
            "grid_column": null,
            "grid_gap": null,
            "grid_row": null,
            "grid_template_areas": null,
            "grid_template_columns": null,
            "grid_template_rows": null,
            "height": null,
            "justify_content": null,
            "justify_items": null,
            "left": null,
            "margin": null,
            "max_height": null,
            "max_width": null,
            "min_height": null,
            "min_width": null,
            "object_fit": null,
            "object_position": null,
            "order": null,
            "overflow": null,
            "overflow_x": null,
            "overflow_y": null,
            "padding": null,
            "right": null,
            "top": null,
            "visibility": null,
            "width": null
          }
        },
        "27ce6b5a3d5742889f4989e39387eef1": {
          "model_module": "@jupyter-widgets/controls",
          "model_module_version": "1.5.0",
          "model_name": "DescriptionStyleModel",
          "state": {
            "_model_module": "@jupyter-widgets/controls",
            "_model_module_version": "1.5.0",
            "_model_name": "DescriptionStyleModel",
            "_view_count": null,
            "_view_module": "@jupyter-widgets/base",
            "_view_module_version": "1.2.0",
            "_view_name": "StyleView",
            "description_width": ""
          }
        },
        "395e6878424b41d194b390fbba98110a": {
          "model_module": "@jupyter-widgets/controls",
          "model_module_version": "1.5.0",
          "model_name": "FloatProgressModel",
          "state": {
            "_dom_classes": [],
            "_model_module": "@jupyter-widgets/controls",
            "_model_module_version": "1.5.0",
            "_model_name": "FloatProgressModel",
            "_view_count": null,
            "_view_module": "@jupyter-widgets/controls",
            "_view_module_version": "1.5.0",
            "_view_name": "ProgressView",
            "bar_style": "success",
            "description": "",
            "description_tooltip": null,
            "layout": "IPY_MODEL_3e1e3b3cca12469b9565c99705a22703",
            "max": 500,
            "min": 0,
            "orientation": "horizontal",
            "style": "IPY_MODEL_12c45a1dba7f400b99462c1215cc0fce",
            "value": 500
          }
        },
        "3e1e3b3cca12469b9565c99705a22703": {
          "model_module": "@jupyter-widgets/base",
          "model_module_version": "1.2.0",
          "model_name": "LayoutModel",
          "state": {
            "_model_module": "@jupyter-widgets/base",
            "_model_module_version": "1.2.0",
            "_model_name": "LayoutModel",
            "_view_count": null,
            "_view_module": "@jupyter-widgets/base",
            "_view_module_version": "1.2.0",
            "_view_name": "LayoutView",
            "align_content": null,
            "align_items": null,
            "align_self": null,
            "border": null,
            "bottom": null,
            "display": null,
            "flex": null,
            "flex_flow": null,
            "grid_area": null,
            "grid_auto_columns": null,
            "grid_auto_flow": null,
            "grid_auto_rows": null,
            "grid_column": null,
            "grid_gap": null,
            "grid_row": null,
            "grid_template_areas": null,
            "grid_template_columns": null,
            "grid_template_rows": null,
            "height": null,
            "justify_content": null,
            "justify_items": null,
            "left": null,
            "margin": null,
            "max_height": null,
            "max_width": null,
            "min_height": null,
            "min_width": null,
            "object_fit": null,
            "object_position": null,
            "order": null,
            "overflow": null,
            "overflow_x": null,
            "overflow_y": null,
            "padding": null,
            "right": null,
            "top": null,
            "visibility": null,
            "width": null
          }
        },
        "415495fdbd41412e9a794bb67ba18cd8": {
          "model_module": "@jupyter-widgets/base",
          "model_module_version": "1.2.0",
          "model_name": "LayoutModel",
          "state": {
            "_model_module": "@jupyter-widgets/base",
            "_model_module_version": "1.2.0",
            "_model_name": "LayoutModel",
            "_view_count": null,
            "_view_module": "@jupyter-widgets/base",
            "_view_module_version": "1.2.0",
            "_view_name": "LayoutView",
            "align_content": null,
            "align_items": null,
            "align_self": null,
            "border": null,
            "bottom": null,
            "display": null,
            "flex": null,
            "flex_flow": null,
            "grid_area": null,
            "grid_auto_columns": null,
            "grid_auto_flow": null,
            "grid_auto_rows": null,
            "grid_column": null,
            "grid_gap": null,
            "grid_row": null,
            "grid_template_areas": null,
            "grid_template_columns": null,
            "grid_template_rows": null,
            "height": null,
            "justify_content": null,
            "justify_items": null,
            "left": null,
            "margin": null,
            "max_height": null,
            "max_width": null,
            "min_height": null,
            "min_width": null,
            "object_fit": null,
            "object_position": null,
            "order": null,
            "overflow": null,
            "overflow_x": null,
            "overflow_y": null,
            "padding": null,
            "right": null,
            "top": null,
            "visibility": null,
            "width": null
          }
        },
        "41a35fc6e0d84a50b0b52f9142834116": {
          "model_module": "@jupyter-widgets/base",
          "model_module_version": "1.2.0",
          "model_name": "LayoutModel",
          "state": {
            "_model_module": "@jupyter-widgets/base",
            "_model_module_version": "1.2.0",
            "_model_name": "LayoutModel",
            "_view_count": null,
            "_view_module": "@jupyter-widgets/base",
            "_view_module_version": "1.2.0",
            "_view_name": "LayoutView",
            "align_content": null,
            "align_items": null,
            "align_self": null,
            "border": null,
            "bottom": null,
            "display": null,
            "flex": null,
            "flex_flow": null,
            "grid_area": null,
            "grid_auto_columns": null,
            "grid_auto_flow": null,
            "grid_auto_rows": null,
            "grid_column": null,
            "grid_gap": null,
            "grid_row": null,
            "grid_template_areas": null,
            "grid_template_columns": null,
            "grid_template_rows": null,
            "height": null,
            "justify_content": null,
            "justify_items": null,
            "left": null,
            "margin": null,
            "max_height": null,
            "max_width": null,
            "min_height": null,
            "min_width": null,
            "object_fit": null,
            "object_position": null,
            "order": null,
            "overflow": null,
            "overflow_x": null,
            "overflow_y": null,
            "padding": null,
            "right": null,
            "top": null,
            "visibility": null,
            "width": null
          }
        },
        "4ab7b7ddf191433f8ee2d63897dbaabf": {
          "model_module": "@jupyter-widgets/controls",
          "model_module_version": "1.5.0",
          "model_name": "HTMLModel",
          "state": {
            "_dom_classes": [],
            "_model_module": "@jupyter-widgets/controls",
            "_model_module_version": "1.5.0",
            "_model_name": "HTMLModel",
            "_view_count": null,
            "_view_module": "@jupyter-widgets/controls",
            "_view_module_version": "1.5.0",
            "_view_name": "HTMLView",
            "description": "",
            "description_tooltip": null,
            "layout": "IPY_MODEL_415495fdbd41412e9a794bb67ba18cd8",
            "placeholder": "​",
            "style": "IPY_MODEL_aba886a588bd4d5981b0ecbec16492ab",
            "value": "Sampling: 100%"
          }
        },
        "4f83124decd144f49e54ec96859c375f": {
          "model_module": "@jupyter-widgets/controls",
          "model_module_version": "1.5.0",
          "model_name": "DescriptionStyleModel",
          "state": {
            "_model_module": "@jupyter-widgets/controls",
            "_model_module_version": "1.5.0",
            "_model_name": "DescriptionStyleModel",
            "_view_count": null,
            "_view_module": "@jupyter-widgets/base",
            "_view_module_version": "1.2.0",
            "_view_name": "StyleView",
            "description_width": ""
          }
        },
        "56a016724eef475eb3337045253f9dd4": {
          "model_module": "@jupyter-widgets/controls",
          "model_module_version": "1.5.0",
          "model_name": "HBoxModel",
          "state": {
            "_dom_classes": [],
            "_model_module": "@jupyter-widgets/controls",
            "_model_module_version": "1.5.0",
            "_model_name": "HBoxModel",
            "_view_count": null,
            "_view_module": "@jupyter-widgets/controls",
            "_view_module_version": "1.5.0",
            "_view_name": "HBoxView",
            "box_style": "",
            "children": [
              "IPY_MODEL_c7ab4361d1c64dbfa0ef5e4e313acaa5",
              "IPY_MODEL_df5a840649b24a1a934eecbf77c124d9",
              "IPY_MODEL_e6589ba476e04cfc963c5e5716d83c6b"
            ],
            "layout": "IPY_MODEL_41a35fc6e0d84a50b0b52f9142834116"
          }
        },
        "6a3703141a574f839238c4e660029d9a": {
          "model_module": "@jupyter-widgets/controls",
          "model_module_version": "1.5.0",
          "model_name": "HBoxModel",
          "state": {
            "_dom_classes": [],
            "_model_module": "@jupyter-widgets/controls",
            "_model_module_version": "1.5.0",
            "_model_name": "HBoxModel",
            "_view_count": null,
            "_view_module": "@jupyter-widgets/controls",
            "_view_module_version": "1.5.0",
            "_view_name": "HBoxView",
            "box_style": "",
            "children": [
              "IPY_MODEL_4ab7b7ddf191433f8ee2d63897dbaabf",
              "IPY_MODEL_395e6878424b41d194b390fbba98110a",
              "IPY_MODEL_d5644c6513c94ecd8f62394a04dfe7a5"
            ],
            "layout": "IPY_MODEL_20ad6451416c41788daf660c5661e614"
          }
        },
        "7b8ffef07018478ab5fd86733afe22f6": {
          "model_module": "@jupyter-widgets/base",
          "model_module_version": "1.2.0",
          "model_name": "LayoutModel",
          "state": {
            "_model_module": "@jupyter-widgets/base",
            "_model_module_version": "1.2.0",
            "_model_name": "LayoutModel",
            "_view_count": null,
            "_view_module": "@jupyter-widgets/base",
            "_view_module_version": "1.2.0",
            "_view_name": "LayoutView",
            "align_content": null,
            "align_items": null,
            "align_self": null,
            "border": null,
            "bottom": null,
            "display": null,
            "flex": null,
            "flex_flow": null,
            "grid_area": null,
            "grid_auto_columns": null,
            "grid_auto_flow": null,
            "grid_auto_rows": null,
            "grid_column": null,
            "grid_gap": null,
            "grid_row": null,
            "grid_template_areas": null,
            "grid_template_columns": null,
            "grid_template_rows": null,
            "height": null,
            "justify_content": null,
            "justify_items": null,
            "left": null,
            "margin": null,
            "max_height": null,
            "max_width": null,
            "min_height": null,
            "min_width": null,
            "object_fit": null,
            "object_position": null,
            "order": null,
            "overflow": null,
            "overflow_x": null,
            "overflow_y": null,
            "padding": null,
            "right": null,
            "top": null,
            "visibility": null,
            "width": null
          }
        },
        "920306bdd8ce43eb936def770750efb8": {
          "model_module": "@jupyter-widgets/base",
          "model_module_version": "1.2.0",
          "model_name": "LayoutModel",
          "state": {
            "_model_module": "@jupyter-widgets/base",
            "_model_module_version": "1.2.0",
            "_model_name": "LayoutModel",
            "_view_count": null,
            "_view_module": "@jupyter-widgets/base",
            "_view_module_version": "1.2.0",
            "_view_name": "LayoutView",
            "align_content": null,
            "align_items": null,
            "align_self": null,
            "border": null,
            "bottom": null,
            "display": null,
            "flex": null,
            "flex_flow": null,
            "grid_area": null,
            "grid_auto_columns": null,
            "grid_auto_flow": null,
            "grid_auto_rows": null,
            "grid_column": null,
            "grid_gap": null,
            "grid_row": null,
            "grid_template_areas": null,
            "grid_template_columns": null,
            "grid_template_rows": null,
            "height": null,
            "justify_content": null,
            "justify_items": null,
            "left": null,
            "margin": null,
            "max_height": null,
            "max_width": null,
            "min_height": null,
            "min_width": null,
            "object_fit": null,
            "object_position": null,
            "order": null,
            "overflow": null,
            "overflow_x": null,
            "overflow_y": null,
            "padding": null,
            "right": null,
            "top": null,
            "visibility": null,
            "width": null
          }
        },
        "aba886a588bd4d5981b0ecbec16492ab": {
          "model_module": "@jupyter-widgets/controls",
          "model_module_version": "1.5.0",
          "model_name": "DescriptionStyleModel",
          "state": {
            "_model_module": "@jupyter-widgets/controls",
            "_model_module_version": "1.5.0",
            "_model_name": "DescriptionStyleModel",
            "_view_count": null,
            "_view_module": "@jupyter-widgets/base",
            "_view_module_version": "1.2.0",
            "_view_name": "StyleView",
            "description_width": ""
          }
        },
        "c7ab4361d1c64dbfa0ef5e4e313acaa5": {
          "model_module": "@jupyter-widgets/controls",
          "model_module_version": "1.5.0",
          "model_name": "HTMLModel",
          "state": {
            "_dom_classes": [],
            "_model_module": "@jupyter-widgets/controls",
            "_model_module_version": "1.5.0",
            "_model_name": "HTMLModel",
            "_view_count": null,
            "_view_module": "@jupyter-widgets/controls",
            "_view_module_version": "1.5.0",
            "_view_name": "HTMLView",
            "description": "",
            "description_tooltip": null,
            "layout": "IPY_MODEL_1ed06e7a13eb41c8a414731b791c3592",
            "placeholder": "​",
            "style": "IPY_MODEL_1563bc0d42144699a31449e797b2fe18",
            "value": "conditional log-probs: 100%"
          }
        },
        "d2c997efe25f49f28627360adf5a638a": {
          "model_module": "@jupyter-widgets/base",
          "model_module_version": "1.2.0",
          "model_name": "LayoutModel",
          "state": {
            "_model_module": "@jupyter-widgets/base",
            "_model_module_version": "1.2.0",
            "_model_name": "LayoutModel",
            "_view_count": null,
            "_view_module": "@jupyter-widgets/base",
            "_view_module_version": "1.2.0",
            "_view_name": "LayoutView",
            "align_content": null,
            "align_items": null,
            "align_self": null,
            "border": null,
            "bottom": null,
            "display": null,
            "flex": null,
            "flex_flow": null,
            "grid_area": null,
            "grid_auto_columns": null,
            "grid_auto_flow": null,
            "grid_auto_rows": null,
            "grid_column": null,
            "grid_gap": null,
            "grid_row": null,
            "grid_template_areas": null,
            "grid_template_columns": null,
            "grid_template_rows": null,
            "height": null,
            "justify_content": null,
            "justify_items": null,
            "left": null,
            "margin": null,
            "max_height": null,
            "max_width": null,
            "min_height": null,
            "min_width": null,
            "object_fit": null,
            "object_position": null,
            "order": null,
            "overflow": null,
            "overflow_x": null,
            "overflow_y": null,
            "padding": null,
            "right": null,
            "top": null,
            "visibility": null,
            "width": null
          }
        },
        "d5644c6513c94ecd8f62394a04dfe7a5": {
          "model_module": "@jupyter-widgets/controls",
          "model_module_version": "1.5.0",
          "model_name": "HTMLModel",
          "state": {
            "_dom_classes": [],
            "_model_module": "@jupyter-widgets/controls",
            "_model_module_version": "1.5.0",
            "_model_name": "HTMLModel",
            "_view_count": null,
            "_view_module": "@jupyter-widgets/controls",
            "_view_module_version": "1.5.0",
            "_view_name": "HTMLView",
            "description": "",
            "description_tooltip": null,
            "layout": "IPY_MODEL_920306bdd8ce43eb936def770750efb8",
            "placeholder": "​",
            "style": "IPY_MODEL_27ce6b5a3d5742889f4989e39387eef1",
            "value": " 500/500 [07:31&lt;00:00,  1.09it/s]"
          }
        },
        "df5a840649b24a1a934eecbf77c124d9": {
          "model_module": "@jupyter-widgets/controls",
          "model_module_version": "1.5.0",
          "model_name": "FloatProgressModel",
          "state": {
            "_dom_classes": [],
            "_model_module": "@jupyter-widgets/controls",
            "_model_module_version": "1.5.0",
            "_model_name": "FloatProgressModel",
            "_view_count": null,
            "_view_module": "@jupyter-widgets/controls",
            "_view_module_version": "1.5.0",
            "_view_name": "ProgressView",
            "bar_style": "success",
            "description": "",
            "description_tooltip": null,
            "layout": "IPY_MODEL_7b8ffef07018478ab5fd86733afe22f6",
            "max": 500,
            "min": 0,
            "orientation": "horizontal",
            "style": "IPY_MODEL_09e618958afe4505901a78238fe186d3",
            "value": 500
          }
        },
        "e6589ba476e04cfc963c5e5716d83c6b": {
          "model_module": "@jupyter-widgets/controls",
          "model_module_version": "1.5.0",
          "model_name": "HTMLModel",
          "state": {
            "_dom_classes": [],
            "_model_module": "@jupyter-widgets/controls",
            "_model_module_version": "1.5.0",
            "_model_name": "HTMLModel",
            "_view_count": null,
            "_view_module": "@jupyter-widgets/controls",
            "_view_module_version": "1.5.0",
            "_view_name": "HTMLView",
            "description": "",
            "description_tooltip": null,
            "layout": "IPY_MODEL_d2c997efe25f49f28627360adf5a638a",
            "placeholder": "​",
            "style": "IPY_MODEL_4f83124decd144f49e54ec96859c375f",
            "value": " 500/500 [04:03&lt;00:00,  2.31it/s]"
          }
        }
      }
    }
  },
  "nbformat": 4,
  "nbformat_minor": 0
}
