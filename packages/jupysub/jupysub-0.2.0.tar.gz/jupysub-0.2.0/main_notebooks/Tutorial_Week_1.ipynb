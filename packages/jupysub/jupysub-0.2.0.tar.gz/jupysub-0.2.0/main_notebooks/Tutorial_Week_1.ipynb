{
 "cells": [
  {
   "cell_type": "markdown",
   "metadata": {
    "id": "xchSaZzG8umR"
   },
   "source": [
    "## Programming cheatsheet and exercises\n",
    "\n",
    "The goal of these exercises is to teach you the use of _Python 3_ in the context of _Modelling and data analysis of chemical processes_. These programming lessons do not require prior programming experience. If you do have experience with programming in Python then you may find some exercises rather easy, so consider them a refresher."
   ]
  },
  {
   "cell_type": "markdown",
   "metadata": {
    "id": "8tUdVS1H9pVl"
   },
   "source": [
    "## Introduction to This Template Notebook\n",
    "\n",
    "**How to use?**:\n",
    "* Run the code cell by putting the cursor there and pressing **Control-Enter**.\n",
    "\n",
    "* The locations where you should write your solutions can be recognized by the following comment.\n",
    "\n",
    "* Double-clicking markdown cells will reveal their content. Press **Control-Enter** to make the cells user-friendly again. \n",
    "\n",
    ">`# WRITE YOUR CODE HERE`\n",
    "\n",
    "**Make sure to clear your variables using `%reset -f` when you are done with an exercise and run it from top to bottom**\n",
    "\n",
    "<hr style=\"border:2px solid #eee\">"
   ]
  },
  {
   "cell_type": "markdown",
   "metadata": {
    "id": "PeBJV26s-E30"
   },
   "source": [
    "## Learning Objectives\n",
    "\n",
    "After this lesson, you should know:\n",
    "\n",
    "1. The basic **data types** of Python.\n",
    "1. How to use **expressions** and **variables** to work with data.\n",
    "1. How to use **lists** and **dictionaries**.\n",
    "1. How to use the `if` **statement**\n",
    "1. How to use the `for` and the `while` **loop**.\n",
    "1. How to define and call **functions**.\n",
    "1. How to import **libraries**\n",
    "1. How to make **plots**"
   ]
  },
  {
   "cell_type": "markdown",
   "metadata": {
    "id": "jj_jv2CEACfb"
   },
   "source": [
    "## <#s>. Data Types\n",
    "\n",
    "Python uses the following **primitive data types**:\n",
    "\n",
    "* **`int`**: Integer\n",
    "* **`float`**: Floating point number\n",
    "* **`bool`**: Truth value in logical expressions (true or false)\n",
    "* **`str`**: Character sequence (text)\n",
    "\n",
    "And Python supports **iterables**\n",
    "that combine the above data types into\n",
    "composite data values.\n",
    "Important composite data types in Python are:\n",
    "\n",
    "* **`list`**: sequences of values from other types, including lists\n",
    "* **`dict`**: Mapping between keys and values (of any type), similar to a list with non integer indexing\n",
    "* **`str`**: Character sequence (text)\n",
    "\n",
    "To verify the type of a variable you can use the function `type()`. For example:\n",
    "```python\n",
    "type(10) # int\n",
    "```\n",
    "\n",
    "Examples of creating all data types:\n",
    "```python\n",
    "# Creating int, float and str\n",
    "num = 15 # Interpreted as integer\n",
    "num_float = 15.0 # Interpreted as floating point number\n",
    "num_float = float(num) # Converting int to floating point number\n",
    "num_str = str(num) # Converting to string\n",
    "\n",
    "# Creating iterables\n",
    "my_list = [1, 2, 3] # Initializing list with three numbers\n",
    "\n",
    "# Creating dictionary\n",
    "my_dictionary = {\"int\": num,\"float\": num_float,\"str\": num_str}\n",
    "```"
   ]
  },
  {
   "cell_type": "markdown",
   "metadata": {
    "id": "LoeJQhe4BrCT"
   },
   "source": [
    "## Exercise <#q> <d1/5>\n",
    "a) Write a python script that stores the value `100` in the variable `num` and then prints the result onto the screen with `print(num)`"
   ]
  },
  {
   "cell_type": "code",
   "execution_count": 1,
   "metadata": {
    "colab": {
     "base_uri": "https://localhost:8080/"
    },
    "execution": {
     "iopub.execute_input": "2023-10-04T08:25:38.028185Z",
     "iopub.status.busy": "2023-10-04T08:25:38.028185Z",
     "iopub.status.idle": "2023-10-04T08:25:38.050067Z",
     "shell.execute_reply": "2023-10-04T08:25:38.048780Z"
    },
    "executionInfo": {
     "elapsed": 27,
     "status": "ok",
     "timestamp": 1690556286827,
     "user": {
      "displayName": "p479h",
      "userId": "12658626037121552609"
     },
     "user_tz": -120
    },
    "id": "bCYlW0xdBrt2",
    "outputId": "12fdd0a7-bf6d-4668-8170-0881979f458c",
    "tags": []
   },
   "outputs": [
    {
     "name": "stdout",
     "output_type": "stream",
     "text": [
      "100\n"
     ]
    }
   ],
   "source": [
    "#! BEGIN ANSWER\n",
    "num = 100\n",
    "print(num)\n",
    "#! END ANSWER"
   ]
  },
  {
   "cell_type": "markdown",
   "metadata": {
    "id": "11NHoX69B5gD"
   },
   "source": [
    "b) Convert num into `int`, `float`, and `str` and place all four variables into a list called `1`, print the result. "
   ]
  },
  {
   "cell_type": "code",
   "execution_count": 2,
   "metadata": {
    "execution": {
     "iopub.execute_input": "2023-10-04T08:25:38.087931Z",
     "iopub.status.busy": "2023-10-04T08:25:38.087931Z",
     "iopub.status.idle": "2023-10-04T08:25:38.093458Z",
     "shell.execute_reply": "2023-10-04T08:25:38.093458Z"
    },
    "id": "IxsHIGYdCx8E"
   },
   "outputs": [
    {
     "name": "stdout",
     "output_type": "stream",
     "text": [
      "[100, 100, 100.0, '100']\n"
     ]
    }
   ],
   "source": [
    "#! BEGIN ANSWER\n",
    "l = [num, int(num), float(num), str(num)]\n",
    "print(l)\n",
    "#! END ANSWER"
   ]
  },
  {
   "cell_type": "markdown",
   "metadata": {
    "id": "2Tr2n3zNHHEg"
   },
   "source": [
    "c) Create a dictionary called `dictionary` containing the number `15` as an integer, float and string. Print the result."
   ]
  },
  {
   "cell_type": "code",
   "execution_count": 3,
   "metadata": {
    "colab": {
     "base_uri": "https://localhost:8080/"
    },
    "execution": {
     "iopub.execute_input": "2023-10-04T08:25:38.093458Z",
     "iopub.status.busy": "2023-10-04T08:25:38.093458Z",
     "iopub.status.idle": "2023-10-04T08:25:38.102125Z",
     "shell.execute_reply": "2023-10-04T08:25:38.102125Z"
    },
    "executionInfo": {
     "elapsed": 233,
     "status": "ok",
     "timestamp": 1692104211922,
     "user": {
      "displayName": "Douwe Orij",
      "userId": "11642343109152016907"
     },
     "user_tz": -120
    },
    "id": "TiVox4kfHrri",
    "outputId": "4f8d2fd5-0beb-4f96-a8c0-1104a1265fc6"
   },
   "outputs": [
    {
     "name": "stdout",
     "output_type": "stream",
     "text": [
      "`dictionary`= {'int': 15, 'float': 15.0, 'str': '15'}\n"
     ]
    }
   ],
   "source": [
    "#! BEGIN ANSWER\n",
    "dictionary = {\n",
    "    \"int\": int(15),\n",
    "    \"float\": float(15),\n",
    "    \"str\": str(15)\n",
    "}\n",
    "\n",
    "dictionary = {\n",
    "    \"int\": 15,\n",
    "    \"float\": 15.0,\n",
    "    \"str\": \"15\"\n",
    "}\n",
    "#! END ANSWER\n",
    "#! BEGIN EXCLUDE\n",
    "print(\"`dictionary`=\", dictionary)\n",
    "#! END EXCLUDE"
   ]
  },
  {
   "cell_type": "markdown",
   "metadata": {
    "id": "l2L20BvfvchP"
   },
   "source": [
    ">Make sure to clear your variables before moving on to the next question by running the following code block"
   ]
  },
  {
   "cell_type": "code",
   "execution_count": 4,
   "metadata": {
    "execution": {
     "iopub.execute_input": "2023-10-04T08:25:38.102125Z",
     "iopub.status.busy": "2023-10-04T08:25:38.102125Z",
     "iopub.status.idle": "2023-10-04T08:25:38.165828Z",
     "shell.execute_reply": "2023-10-04T08:25:38.165828Z"
    },
    "id": "86AfaPR5vmf-"
   },
   "outputs": [],
   "source": [
    "%reset -f"
   ]
  },
  {
   "cell_type": "markdown",
   "metadata": {
    "id": "gB8QOxhQH-6Y"
   },
   "source": [
    "## <#s>. Arithmetic Operators\n",
    "\n",
    "In Python, one can use the common **arithmetic operators** on\n",
    "integers and floating-point numbers:\n",
    "\n",
    "- `+` and `-` for addition and subtraction/negation\n",
    "- `*` and `/` for multiplication and division\n",
    "- <code>\\*\\*</code> for exponentiation, e.g. `2**3` stands for $2^3$\n",
    "- `//` and `%` for integer division and remainder\n",
    "\n",
    "\n",
    "### Here is how they work:\n",
    "\n",
    "- The usual **order of operations** applies. \n",
    "    From strongest to weakest (strongest is applied first), the order is:   \n",
    "    + `**`\n",
    "    + `*`, `/`, `%` and `//`\n",
    "    + `+` and `-`\n",
    "- Division using `/` **always** returns a `float`.\n",
    "- Integer division `//` **always** returns an `int`, rounding down the value (e.g. `100//101` will result in `0`).\n",
    "- Floating-point arithmetic is inherently not exact;\n",
    "    it has **limited precision** due to rounding.\n",
    "    \n",
    "**Parentheses** `()` are used for grouping regardless of binding precedence."
   ]
  },
  {
   "cell_type": "markdown",
   "metadata": {
    "id": "7YH6v7TyJGgf"
   },
   "source": [
    "## Exercise <#q> <d1/5>\n",
    "a) Write an expression to evaluate the product of $1903$ and $22302$."
   ]
  },
  {
   "cell_type": "code",
   "execution_count": 5,
   "metadata": {
    "colab": {
     "base_uri": "https://localhost:8080/"
    },
    "execution": {
     "iopub.execute_input": "2023-10-04T08:25:38.165828Z",
     "iopub.status.busy": "2023-10-04T08:25:38.165828Z",
     "iopub.status.idle": "2023-10-04T08:25:38.174337Z",
     "shell.execute_reply": "2023-10-04T08:25:38.174337Z"
    },
    "executionInfo": {
     "elapsed": 20,
     "status": "ok",
     "timestamp": 1690556286831,
     "user": {
      "displayName": "p479h",
      "userId": "12658626037121552609"
     },
     "user_tz": -120
    },
    "id": "Nd8yoDnjJFnN",
    "outputId": "7b13d023-8a15-4e6f-8d51-2058fdece053"
   },
   "outputs": [
    {
     "name": "stdout",
     "output_type": "stream",
     "text": [
      "42440706\n"
     ]
    }
   ],
   "source": [
    "#! BEGIN ANSWER\n",
    "print(1903*22302)\n",
    "#! END ANSWER"
   ]
  },
  {
   "cell_type": "markdown",
   "metadata": {
    "id": "PFgB1JUMJWt9"
   },
   "source": [
    "b) Write **one** expression to evaluate the formula $\\frac{N(N+1)}{2}$ for $N=100$. This gives the sum of the integers from 1 through 100.\n",
    "Make sure that the result is an **integer** and not a _floating-point number_.  \n",
    "\n",
    "> **Hint:** Use integer division."
   ]
  },
  {
   "cell_type": "code",
   "execution_count": 6,
   "metadata": {
    "colab": {
     "base_uri": "https://localhost:8080/"
    },
    "execution": {
     "iopub.execute_input": "2023-10-04T08:25:38.174337Z",
     "iopub.status.busy": "2023-10-04T08:25:38.174337Z",
     "iopub.status.idle": "2023-10-04T08:25:38.186057Z",
     "shell.execute_reply": "2023-10-04T08:25:38.186057Z"
    },
    "executionInfo": {
     "elapsed": 270,
     "status": "ok",
     "timestamp": 1690556287088,
     "user": {
      "displayName": "p479h",
      "userId": "12658626037121552609"
     },
     "user_tz": -120
    },
    "id": "dPvVEFkbJm3l",
    "outputId": "ae1a4192-2485-4c01-f019-28d1371ef5d3"
   },
   "outputs": [
    {
     "data": {
      "text/plain": [
       "5050"
      ]
     },
     "execution_count": 6,
     "metadata": {},
     "output_type": "execute_result"
    }
   ],
   "source": [
    "#! BEGIN ANSWER\n",
    "N = 100\n",
    "# Write your code here\n",
    "N*(N+1)//2\n",
    "#! END ANSWER"
   ]
  },
  {
   "cell_type": "markdown",
   "metadata": {
    "id": "ITgd8KeoJvMF"
   },
   "source": [
    "c)  Below we define variables `pi` and `r`, representing an approximation of the number $\\pi$ and the radius of a circle. Use these variables to compute the area of a circle with radius `r` and assign it to the variable `circle_area`."
   ]
  },
  {
   "cell_type": "code",
   "execution_count": 7,
   "metadata": {
    "colab": {
     "base_uri": "https://localhost:8080/"
    },
    "execution": {
     "iopub.execute_input": "2023-10-04T08:25:38.186057Z",
     "iopub.status.busy": "2023-10-04T08:25:38.186057Z",
     "iopub.status.idle": "2023-10-04T08:25:38.195122Z",
     "shell.execute_reply": "2023-10-04T08:25:38.195122Z"
    },
    "executionInfo": {
     "elapsed": 254,
     "status": "ok",
     "timestamp": 1692104156471,
     "user": {
      "displayName": "Douwe Orij",
      "userId": "11642343109152016907"
     },
     "user_tz": -120
    },
    "id": "WL3L8hXCKLe2",
    "outputId": "6c283ab6-08a3-4aa2-b72e-8f38c0d90c3f"
   },
   "outputs": [
    {
     "name": "stdout",
     "output_type": "stream",
     "text": [
      "`circle_area`$\\approx$ 50.2654816\n"
     ]
    }
   ],
   "source": [
    "pi = 3.1415926\n",
    "r = 4\n",
    "\n",
    "#! BEGIN ANSWER\n",
    "circle_area = pi*r**2\n",
    "#! END ANSWER\n",
    "\n",
    "#! BEGIN EXCLUDE\n",
    "print(\"`circle_area`$\\\\approx$\", circle_area)\n",
    "#! END EXCLUDE"
   ]
  },
  {
   "cell_type": "markdown",
   "metadata": {
    "id": "5shKV69EF63H"
   },
   "source": [
    ">Make sure to clear your variables before moving on to the next question by running the following code block"
   ]
  },
  {
   "cell_type": "code",
   "execution_count": 8,
   "metadata": {
    "execution": {
     "iopub.execute_input": "2023-10-04T08:25:38.195122Z",
     "iopub.status.busy": "2023-10-04T08:25:38.195122Z",
     "iopub.status.idle": "2023-10-04T08:25:38.263099Z",
     "shell.execute_reply": "2023-10-04T08:25:38.263099Z"
    },
    "id": "W7MzPicBF63I"
   },
   "outputs": [],
   "source": [
    "%reset -f"
   ]
  },
  {
   "cell_type": "markdown",
   "metadata": {
    "id": "QULIPiNEi85G"
   },
   "source": [
    "## <#s>. Working with sequences and iterators\n",
    "\n",
    "Below you can find some examples of slicing and indexing and adding elements to lists and dictionaries. Indexing is often done by using the `[]` brackets.\n",
    "\n",
    "**List**:\n",
    "```python\n",
    "# Making a list\n",
    "l = [10, 11, 12]\n",
    "\n",
    "# indexing a single value\n",
    "print(l[1]) # 11\n",
    "print(l[0]) # 10\n",
    "print(l[-1]) # 12\n",
    "print(l[-2]) # 11\n",
    "\n",
    "# indexing multiple values\n",
    "print(l[1:]) # [11, 12]\n",
    "print(l[:-1]) # [10, 11]\n",
    "\n",
    "# Adding an element to the list\n",
    "l.append(55)\n",
    "print(l[3]) # 55\n",
    "\n",
    "# Getting the length of the list\n",
    "len(l) # 4\n",
    "```\n",
    "\n",
    "**Dictionary**:\n",
    "```python\n",
    "# Making a dictionary\n",
    "d = {\"first\": \"first string\",\"number\": 5}\n",
    "\n",
    "# Getting the values from the dictionary\n",
    "print(d['first']) # \"first string\"\n",
    "print(d['number']) # 5\n",
    "\n",
    "# Adding an element to the dictionary\n",
    "d[\"other number\"] = 10\n",
    "print(d[\"other number\"]) # 10\n",
    "\n",
    "# Getting the length of the list\n",
    "len(l) # 3\n",
    "```\n",
    "\n",
    "Other examples:\n",
    "* The `in` operator checks if a value exists inside an iterable. It returns a boolean. For example `1 in [1, 2, 3] == True`.\n",
    "* In a dictionary, the `in` operator only acts on the keys. For example `'a' in {'a':1,'b':2} == True`."
   ]
  },
  {
   "cell_type": "markdown",
   "metadata": {
    "id": "xtBBiuiIl1fk"
   },
   "source": [
    "## Exercise <#q> <d2/5>\n",
    "\n",
    "a) Write a script to obtain the fourth to sixth (inclusive) characters of string `s`. Strings use the same indexing as lists."
   ]
  },
  {
   "cell_type": "code",
   "execution_count": 9,
   "metadata": {
    "colab": {
     "base_uri": "https://localhost:8080/",
     "height": 35
    },
    "execution": {
     "iopub.execute_input": "2023-10-04T08:25:38.266108Z",
     "iopub.status.busy": "2023-10-04T08:25:38.266108Z",
     "iopub.status.idle": "2023-10-04T08:25:38.270213Z",
     "shell.execute_reply": "2023-10-04T08:25:38.270213Z"
    },
    "executionInfo": {
     "elapsed": 65,
     "status": "ok",
     "timestamp": 1690556287768,
     "user": {
      "displayName": "p479h",
      "userId": "12658626037121552609"
     },
     "user_tz": -120
    },
    "id": "KKXXukDll5Sk",
    "outputId": "529f877c-ed98-4893-b5b6-853356453852",
    "tags": []
   },
   "outputs": [
    {
     "name": "stdout",
     "output_type": "stream",
     "text": [
      "o_\n"
     ]
    }
   ],
   "source": [
    "s = \"Hello_world\"\n",
    "#! BEGIN ANSWER\n",
    "s[4:6]\n",
    "#! END ANSWER\n",
    "#! BEGIN EXCLUDE\n",
    "print(s[4:6])\n",
    "#! END EXCLUDE"
   ]
  },
  {
   "cell_type": "markdown",
   "metadata": {
    "id": "vkN4NEh4l8t1"
   },
   "source": [
    "b) Write a script to obtain the first four elements of list `s`."
   ]
  },
  {
   "cell_type": "code",
   "execution_count": 10,
   "metadata": {
    "colab": {
     "base_uri": "https://localhost:8080/"
    },
    "execution": {
     "iopub.execute_input": "2023-10-04T08:25:38.270213Z",
     "iopub.status.busy": "2023-10-04T08:25:38.270213Z",
     "iopub.status.idle": "2023-10-04T08:25:38.277134Z",
     "shell.execute_reply": "2023-10-04T08:25:38.277134Z"
    },
    "executionInfo": {
     "elapsed": 63,
     "status": "ok",
     "timestamp": 1690556287769,
     "user": {
      "displayName": "p479h",
      "userId": "12658626037121552609"
     },
     "user_tz": -120
    },
    "id": "HDYx_iTKmBFb",
    "outputId": "26110dd2-f3e7-43ce-ecf1-c140ab412306"
   },
   "outputs": [
    {
     "name": "stdout",
     "output_type": "stream",
     "text": [
      "[0, 1, 2, 3]\n"
     ]
    }
   ],
   "source": [
    "s = [0, 1, 2, 3, 4, 5, 6, 7]\n",
    "#! BEGIN ANSWER\n",
    "s[:4]\n",
    "#! END ANSWER\n",
    "#! BEGIN EXCLUDE\n",
    "print(s[:4])\n",
    "#! END EXCLUDE"
   ]
  },
  {
   "cell_type": "markdown",
   "metadata": {
    "id": "lpedPPEZmWK-"
   },
   "source": [
    "c) Append the number 50 to list `s` and print the result."
   ]
  },
  {
   "cell_type": "code",
   "execution_count": 11,
   "metadata": {
    "colab": {
     "base_uri": "https://localhost:8080/"
    },
    "execution": {
     "iopub.execute_input": "2023-10-04T08:25:38.277134Z",
     "iopub.status.busy": "2023-10-04T08:25:38.277134Z",
     "iopub.status.idle": "2023-10-04T08:25:38.284452Z",
     "shell.execute_reply": "2023-10-04T08:25:38.284452Z"
    },
    "executionInfo": {
     "elapsed": 56,
     "status": "ok",
     "timestamp": 1690556287770,
     "user": {
      "displayName": "p479h",
      "userId": "12658626037121552609"
     },
     "user_tz": -120
    },
    "id": "I50WeliFmarr",
    "outputId": "4943a34e-c990-4b1e-c567-5ffe2c07e992"
   },
   "outputs": [
    {
     "name": "stdout",
     "output_type": "stream",
     "text": [
      "[0, 1, 2, 3, 4, 5, 6, 7, 50]\n"
     ]
    }
   ],
   "source": [
    "s = [0, 1, 2, 3, 4, 5, 6, 7]\n",
    "#! BEGIN ANSWER\n",
    "s.append(50)\n",
    "print(s) # 50 is added \n",
    "#! END ANSWER"
   ]
  },
  {
   "cell_type": "markdown",
   "metadata": {
    "id": "iuLFA7aPmjLN"
   },
   "source": [
    "d) Modify the last element of `s` to be `\"Hello world\"` and print the result."
   ]
  },
  {
   "cell_type": "code",
   "execution_count": 12,
   "metadata": {
    "colab": {
     "base_uri": "https://localhost:8080/",
     "height": 35
    },
    "execution": {
     "iopub.execute_input": "2023-10-04T08:25:38.284452Z",
     "iopub.status.busy": "2023-10-04T08:25:38.284452Z",
     "iopub.status.idle": "2023-10-04T08:25:38.290820Z",
     "shell.execute_reply": "2023-10-04T08:25:38.290820Z"
    },
    "executionInfo": {
     "elapsed": 51,
     "status": "ok",
     "timestamp": 1690556287771,
     "user": {
      "displayName": "p479h",
      "userId": "12658626037121552609"
     },
     "user_tz": -120
    },
    "id": "STTOt-KRmheD",
    "outputId": "3b973a35-db4f-4930-a676-b8675fbfb82b"
   },
   "outputs": [
    {
     "name": "stdout",
     "output_type": "stream",
     "text": [
      "[0, 1, 2, 3, 4, 5, 6, 'Hello world']\n"
     ]
    }
   ],
   "source": [
    "s = [0, 1, 2, 3, 4, 5, 6, 7]\n",
    "#! BEGIN ANSWER\n",
    "s[-1] = \"Hello world\"\n",
    "print(s) # \"Hello world\"\n",
    "#! END ANSWER"
   ]
  },
  {
   "cell_type": "markdown",
   "metadata": {
    "id": "GnTgTf5UnGL2"
   },
   "source": [
    "e) Create an empty dictionary and add the number `5` to using `\"number\"` as a key. Print the result."
   ]
  },
  {
   "cell_type": "code",
   "execution_count": 13,
   "metadata": {
    "execution": {
     "iopub.execute_input": "2023-10-04T08:25:38.290820Z",
     "iopub.status.busy": "2023-10-04T08:25:38.290820Z",
     "iopub.status.idle": "2023-10-04T08:25:38.298196Z",
     "shell.execute_reply": "2023-10-04T08:25:38.297697Z"
    },
    "id": "gSB2MpI9nFWq"
   },
   "outputs": [
    {
     "name": "stdout",
     "output_type": "stream",
     "text": [
      "{'number': 5}\n"
     ]
    }
   ],
   "source": [
    "#! BEGIN ANSWER\n",
    "d = {}\n",
    "d[\"number\"] = 5\n",
    "print(d)\n",
    "#! END ANSWER"
   ]
  },
  {
   "cell_type": "markdown",
   "metadata": {
    "id": "2UT-Lj6KnV1V"
   },
   "source": [
    "f) Create an empty dictionary and add itself using `\"self\"` as a key. Print the result."
   ]
  },
  {
   "cell_type": "code",
   "execution_count": 14,
   "metadata": {
    "colab": {
     "base_uri": "https://localhost:8080/"
    },
    "execution": {
     "iopub.execute_input": "2023-10-04T08:25:38.301445Z",
     "iopub.status.busy": "2023-10-04T08:25:38.300933Z",
     "iopub.status.idle": "2023-10-04T08:25:38.304338Z",
     "shell.execute_reply": "2023-10-04T08:25:38.304338Z"
    },
    "executionInfo": {
     "elapsed": 48,
     "status": "ok",
     "timestamp": 1690556287773,
     "user": {
      "displayName": "p479h",
      "userId": "12658626037121552609"
     },
     "user_tz": -120
    },
    "id": "aBHTUSXfneKr",
    "outputId": "3bcf6533-86cb-4f40-ac94-5b83002ad455"
   },
   "outputs": [
    {
     "name": "stdout",
     "output_type": "stream",
     "text": [
      "{'self': {...}}\n"
     ]
    }
   ],
   "source": [
    "#! BEGIN ANSWER\n",
    "d = {}\n",
    "d[\"self\"] = d\n",
    "\n",
    "print(d)\n",
    "#! END ANSWER"
   ]
  },
  {
   "cell_type": "markdown",
   "metadata": {
    "id": "ohAkppGcF-Sq"
   },
   "source": [
    ">Make sure to clear your variables before moving on to the next question by running the following code block"
   ]
  },
  {
   "cell_type": "code",
   "execution_count": 15,
   "metadata": {
    "execution": {
     "iopub.execute_input": "2023-10-04T08:25:38.304338Z",
     "iopub.status.busy": "2023-10-04T08:25:38.304338Z",
     "iopub.status.idle": "2023-10-04T08:25:38.359994Z",
     "shell.execute_reply": "2023-10-04T08:25:38.359056Z"
    },
    "tags": []
   },
   "outputs": [],
   "source": [
    "%reset -f"
   ]
  },
  {
   "cell_type": "markdown",
   "metadata": {
    "id": "_xGe4zSgKlNr"
   },
   "source": [
    "## <#s>. More Expressions: Comparison Operators\n",
    "\n",
    "**Comparison operators** yield boolean values (i.e. `True` or `False`):\n",
    "\n",
    "* `==` and `!=` for _equality_ and _inequality_ (`<>` cannot be used)\n",
    "* `<` and `>` for _less than_ and _greater than_\n",
    "* `<=` and `>=` for _less than or equal_ and _greater than or equal_ (`=<` and `=>` cannot be used)\n",
    "\n",
    "Notes:\n",
    "\n",
    "* Comparison operators apply to numbers, strings, and lists (but not to a mix).\n",
    "* Avoid equality operators on floating-point numbers.  \n",
    "    Reason: Floating-point arithmetic is inherently not exact.  \n",
    "    Thus, we have `0.1 + 0.2 != 0.3`.\n",
    "* Comparison operators can be **chained**: `expr_1 <= expr_2 < expr_3`"
   ]
  },
  {
   "cell_type": "markdown",
   "metadata": {
    "id": "MwWHspC68KWH"
   },
   "source": [
    "## Exercise <#q> <d3/5>\n",
    "\n",
    "a) Write a **comparison expression** to compare `1 + 2` and `3` for equality,\n",
    "and execute it.  "
   ]
  },
  {
   "cell_type": "code",
   "execution_count": 16,
   "metadata": {
    "colab": {
     "base_uri": "https://localhost:8080/"
    },
    "execution": {
     "iopub.execute_input": "2023-10-04T08:25:38.359994Z",
     "iopub.status.busy": "2023-10-04T08:25:38.359994Z",
     "iopub.status.idle": "2023-10-04T08:25:38.368890Z",
     "shell.execute_reply": "2023-10-04T08:25:38.368890Z"
    },
    "executionInfo": {
     "elapsed": 28,
     "status": "ok",
     "timestamp": 1690556287445,
     "user": {
      "displayName": "p479h",
      "userId": "12658626037121552609"
     },
     "user_tz": -120
    },
    "id": "rgzTSVRO8KWH",
    "outputId": "1ec34a88-8ad7-4c70-c80e-169daac759ef"
   },
   "outputs": [
    {
     "data": {
      "text/plain": [
       "True"
      ]
     },
     "execution_count": 16,
     "metadata": {},
     "output_type": "execute_result"
    }
   ],
   "source": [
    "#! BEGIN ANSWER\n",
    "1+2 == 3\n",
    "#! END ANSWER"
   ]
  },
  {
   "cell_type": "markdown",
   "metadata": {
    "id": "iqlBtK0m8KWI"
   },
   "source": [
    "b) Write a **comparison expression** to verify that $0.1 + 0.2$ lies strictly between $0.299999$ and $0.300001$.  \n",
    "\n",
    "> **Hint:** Use comparison operator chaining of the form `a < b < c`."
   ]
  },
  {
   "cell_type": "code",
   "execution_count": 17,
   "metadata": {
    "colab": {
     "base_uri": "https://localhost:8080/"
    },
    "execution": {
     "iopub.execute_input": "2023-10-04T08:25:38.368890Z",
     "iopub.status.busy": "2023-10-04T08:25:38.368890Z",
     "iopub.status.idle": "2023-10-04T08:25:38.379143Z",
     "shell.execute_reply": "2023-10-04T08:25:38.377982Z"
    },
    "executionInfo": {
     "elapsed": 27,
     "status": "ok",
     "timestamp": 1690556287447,
     "user": {
      "displayName": "p479h",
      "userId": "12658626037121552609"
     },
     "user_tz": -120
    },
    "id": "xtld3JSn8KWI",
    "outputId": "2acbfaa7-8cde-46b9-8eb7-9fc93def7fa3"
   },
   "outputs": [
    {
     "data": {
      "text/plain": [
       "True"
      ]
     },
     "execution_count": 17,
     "metadata": {},
     "output_type": "execute_result"
    }
   ],
   "source": [
    "#! BEGIN ANSWER\n",
    "0.299999 < 0.1+0.2 < 0.300001\n",
    "#! END ANSWER"
   ]
  },
  {
   "cell_type": "markdown",
   "metadata": {
    "id": "AmoDJZUTMmP0"
   },
   "source": [
    "## <#s>. Logical Operators\n",
    "\n",
    "**Logical operators** operate on boolean values:\n",
    "\n",
    "* `and`, `or`, and `not` for conjunction, disjunction, and negation, and\n",
    "* `if`-`elif`-`else` for **conditional evaluation**.\n",
    "\n",
    "```python\n",
    "if condition:\n",
    "  \"Do something\"\n",
    "elif other_condition:\n",
    "  \"Do other thing\"\n",
    "else:\n",
    "  \"Do something else\"\n",
    "```\n",
    "\n",
    "Note:\n",
    "\n",
    "* The logical operators bind _weaker_ than the other operators. Hence, you need parentheses when comparing the results of logical operators.\n",
    "    \n",
    "    * `a and b == c` &nbsp; is interpreted as &nbsp; `a and (b == c)` &nbsp; and _not_ as &nbsp; `(a and b) == c`"
   ]
  },
  {
   "cell_type": "markdown",
   "metadata": {
    "id": "kAID0Ln4hfOG"
   },
   "source": [
    "## Exercise <#q> <d2/5>\n",
    "\n",
    "a) Write a **logical expression**, for integers $a,b,c$ defined below, that computes if $a$ is less than $b$ and $c$ is greater or equal to $b$."
   ]
  },
  {
   "cell_type": "code",
   "execution_count": 18,
   "metadata": {
    "colab": {
     "base_uri": "https://localhost:8080/"
    },
    "execution": {
     "iopub.execute_input": "2023-10-04T08:25:38.381933Z",
     "iopub.status.busy": "2023-10-04T08:25:38.381933Z",
     "iopub.status.idle": "2023-10-04T08:25:38.387879Z",
     "shell.execute_reply": "2023-10-04T08:25:38.387879Z"
    },
    "executionInfo": {
     "elapsed": 240,
     "status": "ok",
     "timestamp": 1692104577481,
     "user": {
      "displayName": "Douwe Orij",
      "userId": "11642343109152016907"
     },
     "user_tz": -120
    },
    "id": "4yvrrFKeheU2",
    "outputId": "cf4858df-d7db-48e9-966d-08bd94a1c3d1"
   },
   "outputs": [
    {
     "data": {
      "text/plain": [
       "False"
      ]
     },
     "execution_count": 18,
     "metadata": {},
     "output_type": "execute_result"
    }
   ],
   "source": [
    "a = 4\n",
    "b = 4\n",
    "c = 3\n",
    "\n",
    "#! BEGIN ANSWER\n",
    "a < b and c >= b\n",
    "#! END ANSWER"
   ]
  },
  {
   "cell_type": "markdown",
   "metadata": {
    "id": "KLe8iayRiY1Z"
   },
   "source": [
    "b) Check if the dictionary `rob` has a key called `\"age\"`. If it does not have the key, assign `\"age\"` to 57. Print the result."
   ]
  },
  {
   "cell_type": "code",
   "execution_count": 19,
   "metadata": {
    "execution": {
     "iopub.execute_input": "2023-10-04T08:25:38.387879Z",
     "iopub.status.busy": "2023-10-04T08:25:38.387879Z",
     "iopub.status.idle": "2023-10-04T08:25:38.394068Z",
     "shell.execute_reply": "2023-10-04T08:25:38.394068Z"
    }
   },
   "outputs": [
    {
     "name": "stdout",
     "output_type": "stream",
     "text": [
      "{'species': 'Homo Sapiens', 'Gender': 'masculine', 'height': 1.97, 'age': 57}\n"
     ]
    }
   ],
   "source": [
    "rob = {\"species\": \"Homo Sapiens\", \"Gender\": \"masculine\", \"height\": 1.97}\n",
    "\n",
    "#! BEGIN ANSWER\n",
    "if not \"age\" in rob:\n",
    "  rob[\"age\"] = 57\n",
    "print(rob)\n",
    "#! END ANSWER"
   ]
  },
  {
   "cell_type": "markdown",
   "metadata": {},
   "source": [
    "c) Given three numbers $a,b,c$, pick the highest one using conditional statements."
   ]
  },
  {
   "cell_type": "code",
   "execution_count": 20,
   "metadata": {
    "colab": {
     "base_uri": "https://localhost:8080/"
    },
    "execution": {
     "iopub.execute_input": "2023-10-04T08:25:38.394068Z",
     "iopub.status.busy": "2023-10-04T08:25:38.394068Z",
     "iopub.status.idle": "2023-10-04T08:25:38.401492Z",
     "shell.execute_reply": "2023-10-04T08:25:38.401492Z"
    },
    "executionInfo": {
     "elapsed": 18,
     "status": "ok",
     "timestamp": 1690556287448,
     "user": {
      "displayName": "p479h",
      "userId": "12658626037121552609"
     },
     "user_tz": -120
    },
    "id": "3gdnFtS-iYEk",
    "outputId": "59eb8b5f-b68f-4615-af29-bb17476f050d"
   },
   "outputs": [
    {
     "name": "stdout",
     "output_type": "stream",
     "text": [
      "3\n"
     ]
    }
   ],
   "source": [
    "a = 1\n",
    "b = 2\n",
    "c = 3\n",
    "\n",
    "#! BEGIN ANSWER\n",
    "if a>=b and a>=c:\n",
    "  print(a)\n",
    "elif b >= a and b >= c:\n",
    "  print(b)\n",
    "else:\n",
    "  print(c)\n",
    "#! END ANSWER"
   ]
  },
  {
   "cell_type": "markdown",
   "metadata": {
    "id": "vw6h1YN2F8oQ"
   },
   "source": [
    ">Make sure to clear your variables before moving on to the next question by running the following code block"
   ]
  },
  {
   "cell_type": "code",
   "execution_count": 21,
   "metadata": {
    "execution": {
     "iopub.execute_input": "2023-10-04T08:25:38.401492Z",
     "iopub.status.busy": "2023-10-04T08:25:38.401492Z",
     "iopub.status.idle": "2023-10-04T08:25:38.462633Z",
     "shell.execute_reply": "2023-10-04T08:25:38.462633Z"
    },
    "id": "4XkbIDN-F8oS"
   },
   "outputs": [],
   "source": [
    "%reset -f"
   ]
  },
  {
   "cell_type": "markdown",
   "metadata": {
    "id": "uSh2zZWGphmm"
   },
   "source": [
    "## <#s>. For and while loops\n",
    "\n",
    "**For loop**\n",
    "\n",
    "The **`for` loop** allows us to iterate over a an iterable, i.e. to execute a set of statements for each element of a list. It has the following syntax:\n",
    "```python\n",
    "for x in iterable:      \n",
    "    statements\n",
    "```\n",
    "Wherein **`statements`** is a block of one or more statements **indented** to the same level. It has the following semantics:\n",
    "\n",
    "1. assign elements from `list` to the variable `x` one by one, and;\n",
    "1. execute the `statements` for each element assigned to `x`.\n",
    "\n",
    "For example, let us define a list of numbers `number_list` and only print the ones higher than 5.\n",
    "```python\n",
    "# Define a test iterable (list in this case)\n",
    "iterable = [10, 1, 2, 5, 3, 7, 20]\n",
    "\n",
    "# Loop over all elements of iterable\n",
    "for element in iterable:\n",
    "  # For the statement we check if the current element > 5\n",
    "  if element > 5:\n",
    "    print(element)\n",
    "```\n",
    "\n",
    "**While loop**\n",
    "\n",
    "The **`while` loop** allows us to execute a set of statements until a condition turns false. For example, take the following code which tries to find the first number higher than 5 in a list:\n",
    "```python\n",
    "# Define a test iterable (list in this case)\n",
    "iterable = [1, 2, 5, 3, 7, 20]\n",
    "\n",
    "# Loop over all elements of iterable\n",
    "i = 0 # Index which will vary as the while block is executed\n",
    "while iterable[i] <= 5: # Runs until iterable[i] > 5\n",
    "  i += 1 # Search the next element of the list\n",
    "\n",
    "print(iterable[i]) # 7\n",
    "```\n"
   ]
  },
  {
   "cell_type": "markdown",
   "metadata": {
    "id": "NwCsQAXasuCV"
   },
   "source": [
    "## Exercise <#q> <d3/5>\n",
    "\n",
    "a) Use a for loop to compute the sum of elements in a list of numbers `l`. Make sure to initialize before starting the for loop."
   ]
  },
  {
   "cell_type": "code",
   "execution_count": 22,
   "metadata": {
    "colab": {
     "base_uri": "https://localhost:8080/"
    },
    "execution": {
     "iopub.execute_input": "2023-10-04T08:25:38.466144Z",
     "iopub.status.busy": "2023-10-04T08:25:38.462633Z",
     "iopub.status.idle": "2023-10-04T08:25:38.469352Z",
     "shell.execute_reply": "2023-10-04T08:25:38.469352Z"
    },
    "executionInfo": {
     "elapsed": 38,
     "status": "ok",
     "timestamp": 1690556287776,
     "user": {
      "displayName": "p479h",
      "userId": "12658626037121552609"
     },
     "user_tz": -120
    },
    "id": "KMPECXH1su6E",
    "outputId": "8417d6cc-a20b-44d8-ee4d-dc4b99d64c1f"
   },
   "outputs": [
    {
     "name": "stdout",
     "output_type": "stream",
     "text": [
      "$\\sum_i$`l`$_{i}$= 21\n"
     ]
    }
   ],
   "source": [
    "l = [1, 2, 3, 4, 5, 6]\n",
    "\n",
    "#! BEGIN ANSWER\n",
    "s = 0\n",
    "for element in l:\n",
    "  s += element\n",
    "#! END ANSWER\n",
    "#! BEGIN EXCLUDE\n",
    "print(\"$\\\\sum_i$`l`$_{i}$=\",s)\n",
    "#! END EXCLUDE"
   ]
  },
  {
   "cell_type": "markdown",
   "metadata": {
    "id": "M1OfyTDZsuKQ"
   },
   "source": [
    "b) Use a while loop to accomplish the same sum as in a).\n",
    "> Hint: Change the current index using `i += 1` and execute while `i < len(l)`"
   ]
  },
  {
   "cell_type": "code",
   "execution_count": 23,
   "metadata": {
    "colab": {
     "base_uri": "https://localhost:8080/"
    },
    "execution": {
     "iopub.execute_input": "2023-10-04T08:25:38.469352Z",
     "iopub.status.busy": "2023-10-04T08:25:38.469352Z",
     "iopub.status.idle": "2023-10-04T08:25:38.475369Z",
     "shell.execute_reply": "2023-10-04T08:25:38.475369Z"
    },
    "executionInfo": {
     "elapsed": 660,
     "status": "ok",
     "timestamp": 1690556288404,
     "user": {
      "displayName": "p479h",
      "userId": "12658626037121552609"
     },
     "user_tz": -120
    },
    "id": "S8mwk3gVssYu",
    "outputId": "cbedcc44-e653-4ea3-cbeb-89783397cf32"
   },
   "outputs": [
    {
     "name": "stdout",
     "output_type": "stream",
     "text": [
      "$\\sum_i$`l`$_{i}$= 21\n"
     ]
    }
   ],
   "source": [
    "l = [1, 2, 3, 4, 5, 6]\n",
    "\n",
    "#! BEGIN ANSWER\n",
    "s = 0\n",
    "i = 0\n",
    "while i < len(l):\n",
    "  s += l[i]\n",
    "  i += 1\n",
    "#! END ANSWER\n",
    "#! BEGIN EXCLUDE\n",
    "print(\"$\\\\sum_i$`l`$_{i}$=\",s)\n",
    "#! END EXCLUDE"
   ]
  },
  {
   "cell_type": "markdown",
   "metadata": {
    "id": "Ug7GkrLFGCat"
   },
   "source": [
    ">Make sure to clear your variables before moving on to the next question by running the following code block"
   ]
  },
  {
   "cell_type": "code",
   "execution_count": 24,
   "metadata": {
    "execution": {
     "iopub.execute_input": "2023-10-04T08:25:38.478472Z",
     "iopub.status.busy": "2023-10-04T08:25:38.478472Z",
     "iopub.status.idle": "2023-10-04T08:25:38.531161Z",
     "shell.execute_reply": "2023-10-04T08:25:38.531161Z"
    },
    "id": "81NwYToaGCax"
   },
   "outputs": [],
   "source": [
    "%reset -f"
   ]
  },
  {
   "cell_type": "markdown",
   "metadata": {
    "id": "c97q-k2OvYCa"
   },
   "source": [
    "## <#s>. Functions\n",
    "\n",
    "Functions allow you to package the functionality of entire programs into a single statement which may make use and or return multiple variables or none.\n",
    "\n",
    "The general syntax of a function in Python is as follows:\n",
    "\n",
    "```python\n",
    "def function_name(parameters):\n",
    "    \"\"\"Optional docstring describing the function.\"\"\"\n",
    "    # Function body\n",
    "    # Perform computations\n",
    "    return result\n",
    "```\n",
    "* The `def` keyword is used to define a function.\n",
    "* `function_name` is the name of the function, which should be descriptive and meaningful.\n",
    "* Parameters are optional inputs that the function can accept.\n",
    "* The function body contains the code that is executed when the function is called.\n",
    "* The optional docstring provides a brief description of the function's purpose and usage.\n",
    "* The `return` statement specifies the value(s) to be returned by the function\n",
    "\n",
    "Here are some examples of functions in python:\n",
    "```python\n",
    "# Example 1: Simple function\n",
    "def greet():\n",
    "    \"\"\"Prints a greeting message.\"\"\"\n",
    "    print(\"Hello, world!\")\n",
    "\n",
    "# Example 2: Function with parameters and return\n",
    "def multiply(a, b):\n",
    "    \"\"\"Multiplies two numbers.\"\"\"\n",
    "    return a * b\n",
    "\n",
    "# Example 3: Function with default parameter\n",
    "def power(base, exponent=2):\n",
    "    \"\"\"Raises a number to a power.\"\"\"\n",
    "    return base ** exponent\n",
    "\n",
    "# Calling all three functions\n",
    "a = 10\n",
    "b = 20\n",
    "greet()\n",
    "a_times_b = multiply(a, b)\n",
    "a_power_2 = power(a)\n",
    "```"
   ]
  },
  {
   "cell_type": "markdown",
   "metadata": {
    "id": "tDxDk_iW0c2n"
   },
   "source": [
    "## Exercise <#q> <d4/5>\n",
    "\n",
    "a) Make a function called `factorial` which computes the factorial of an integer. Be sure to add an if statement to confirm that the value supplied is an integer instead of a floating point number. Additionally, remember that $0!=1$.\n",
    "> Hint: This can be achieved with a `for` or `while` loop"
   ]
  },
  {
   "cell_type": "code",
   "execution_count": 25,
   "metadata": {
    "colab": {
     "base_uri": "https://localhost:8080/"
    },
    "execution": {
     "iopub.execute_input": "2023-10-04T08:25:38.531161Z",
     "iopub.status.busy": "2023-10-04T08:25:38.531161Z",
     "iopub.status.idle": "2023-10-04T08:25:38.540053Z",
     "shell.execute_reply": "2023-10-04T08:25:38.540053Z"
    },
    "executionInfo": {
     "elapsed": 22,
     "status": "ok",
     "timestamp": 1690556288406,
     "user": {
      "displayName": "p479h",
      "userId": "12658626037121552609"
     },
     "user_tz": -120
    },
    "id": "PjAWU1E_0uu7",
    "outputId": "fedf097a-56f4-4fc5-f882-a8a2f8f674f5"
   },
   "outputs": [
    {
     "name": "stdout",
     "output_type": "stream",
     "text": [
      "3!= 6\n"
     ]
    }
   ],
   "source": [
    "def factorial(num):\n",
    "    \"\"\" Add documentation here \"\"\"\n",
    "    #! BEGIN ANSWER\n",
    "    if num == 0:\n",
    "        return 1\n",
    "    f = 1\n",
    "    while (num > 0):\n",
    "        f*=num\n",
    "        num -= 1\n",
    "    return f\n",
    "  #! END ANSWER\n",
    "#! BEGIN EXCLUDE\n",
    "print(\"3!=\",factorial(3))\n",
    "#! END EXCLUDE"
   ]
  },
  {
   "cell_type": "markdown",
   "metadata": {
    "id": "LpBnmyRr1KRL"
   },
   "source": [
    "b) Write a function called `list_sum` which computes the sum of values in a list."
   ]
  },
  {
   "cell_type": "code",
   "execution_count": 26,
   "metadata": {
    "colab": {
     "base_uri": "https://localhost:8080/"
    },
    "execution": {
     "iopub.execute_input": "2023-10-04T08:25:38.542421Z",
     "iopub.status.busy": "2023-10-04T08:25:38.542421Z",
     "iopub.status.idle": "2023-10-04T08:25:38.547294Z",
     "shell.execute_reply": "2023-10-04T08:25:38.547294Z"
    },
    "executionInfo": {
     "elapsed": 17,
     "status": "ok",
     "timestamp": 1690556288407,
     "user": {
      "displayName": "p479h",
      "userId": "12658626037121552609"
     },
     "user_tz": -120
    },
    "id": "6U621XkY1Jha",
    "outputId": "276ddbe3-1d46-418f-9bb5-0b006319cf2b"
   },
   "outputs": [
    {
     "name": "stdout",
     "output_type": "stream",
     "text": [
      "`list_sum([1,2,3])`= 6\n"
     ]
    }
   ],
   "source": [
    "def list_sum(l):\n",
    "  \"\"\" Add documentation here \"\"\"\n",
    "  s = 0 # Sum\n",
    "  #! BEGIN ANSWER\n",
    "  for n in l:\n",
    "    s += n\n",
    "  return s\n",
    "  #! END ANSWER\n",
    "#! BEGIN EXCLUDE\n",
    "print(\"`list_sum([1,2,3])`=\",list_sum([1,2,3]))\n",
    "#! END EXCLUDE"
   ]
  },
  {
   "cell_type": "markdown",
   "metadata": {
    "id": "c9GKNVvjGV2C"
   },
   "source": [
    ">Make sure to clear your variables before moving on to the next question by running the following code block"
   ]
  },
  {
   "cell_type": "code",
   "execution_count": 27,
   "metadata": {
    "execution": {
     "iopub.execute_input": "2023-10-04T08:25:38.549432Z",
     "iopub.status.busy": "2023-10-04T08:25:38.549432Z",
     "iopub.status.idle": "2023-10-04T08:25:38.595879Z",
     "shell.execute_reply": "2023-10-04T08:25:38.595879Z"
    },
    "id": "EUymBnbjGV2G"
   },
   "outputs": [],
   "source": [
    "%reset -f"
   ]
  },
  {
   "cell_type": "markdown",
   "metadata": {},
   "source": [
    "## Homework \n",
    "\n",
    "Herein you can find exercises to improve your basic python skills in the basic control statements, operations, loops and functions.\n",
    "\n",
    "If you get stuck, don't worry about asking a friend for help! You are encouraged to work together in these exercises."
   ]
  },
  {
   "cell_type": "markdown",
   "metadata": {},
   "source": [
    "### Homework Exercise <#hmq> <d3/5>\n",
    "\n",
    "a) Write a function that returns the number of international students in the class using the dictionary below.  "
   ]
  },
  {
   "cell_type": "code",
   "execution_count": 28,
   "metadata": {
    "execution": {
     "iopub.execute_input": "2023-10-04T08:25:38.595879Z",
     "iopub.status.busy": "2023-10-04T08:25:38.595879Z",
     "iopub.status.idle": "2023-10-04T08:25:38.604255Z",
     "shell.execute_reply": "2023-10-04T08:25:38.604255Z"
    }
   },
   "outputs": [],
   "source": [
    "classroom = {'A': 'International', 'B': 'Dutch', 'C': 'Dutch', 'D': 'International', 'E': 'International', 'F': 'International', 'G': 'Dutch', 'H': 'Dutch'}\n",
    "\n",
    "def students(num):\n",
    "    \"\"\" Add documentation here \"\"\"\n",
    "    #! BEGIN ANSWER\n",
    "    count = 0 \n",
    "    for i in classroom:\n",
    "        if classroom[i] == \"International\":\n",
    "            count = count + 1\n",
    "    return(count)\n",
    "        \n",
    "    #! END ANSWER"
   ]
  },
  {
   "cell_type": "markdown",
   "metadata": {},
   "source": [
    "b) Using a while loop print a countdown from 10 to 1 and then print \"Blastoff!\""
   ]
  },
  {
   "cell_type": "code",
   "execution_count": 29,
   "metadata": {
    "execution": {
     "iopub.execute_input": "2023-10-04T08:25:38.604255Z",
     "iopub.status.busy": "2023-10-04T08:25:38.604255Z",
     "iopub.status.idle": "2023-10-04T08:25:38.611602Z",
     "shell.execute_reply": "2023-10-04T08:25:38.611272Z"
    }
   },
   "outputs": [
    {
     "name": "stdout",
     "output_type": "stream",
     "text": [
      "10\n",
      "9\n",
      "8\n",
      "7\n",
      "6\n",
      "5\n",
      "4\n",
      "3\n",
      "2\n",
      "1\n",
      "Blastoff!\n"
     ]
    }
   ],
   "source": [
    "#! BEGIN ANSWER\n",
    "count = 10\n",
    "while count > 0:\n",
    "    print(count)\n",
    "    count -= 1 # shortcut way of writing \"count = count - 1\"\n",
    "\n",
    "print(\"Blastoff!\")\n",
    "#! END ANSWER"
   ]
  },
  {
   "cell_type": "markdown",
   "metadata": {},
   "source": [
    "c) Use a for loop to create a list of the 20 terms of the Fibonacci sequence. The sequence is defined as:\n",
    "\n",
    "$$F_n = F_{n-1} + F_{n-2}$$\n",
    "Where $$F_1 = 0,  F_2 = 1$$\n",
    "\n",
    "> Hint: Remember that `list[-1]` gives you the final value in the list."
   ]
  },
  {
   "cell_type": "code",
   "execution_count": 30,
   "metadata": {
    "execution": {
     "iopub.execute_input": "2023-10-04T08:25:38.611602Z",
     "iopub.status.busy": "2023-10-04T08:25:38.611602Z",
     "iopub.status.idle": "2023-10-04T08:25:38.618747Z",
     "shell.execute_reply": "2023-10-04T08:25:38.618747Z"
    }
   },
   "outputs": [
    {
     "name": "stdout",
     "output_type": "stream",
     "text": [
      "[0, 1, 1, 2, 3, 5, 8, 13, 21, 34, 55, 89, 144, 233, 377, 610, 987, 1597, 2584, 4181]\n"
     ]
    }
   ],
   "source": [
    "#! BEGIN ANSWER\n",
    "a = [0,1]\n",
    "for i in range(18): \n",
    "    a.append(a[-1]+a[-2])\n",
    "print(a)\n",
    "#! END ANSWER"
   ]
  },
  {
   "cell_type": "markdown",
   "metadata": {},
   "source": [
    "d) Write a function that returns a list of the squares of all numbers 1 to n. "
   ]
  },
  {
   "cell_type": "code",
   "execution_count": 31,
   "metadata": {
    "execution": {
     "iopub.execute_input": "2023-10-04T08:25:38.618747Z",
     "iopub.status.busy": "2023-10-04T08:25:38.618747Z",
     "iopub.status.idle": "2023-10-04T08:25:38.626796Z",
     "shell.execute_reply": "2023-10-04T08:25:38.626724Z"
    }
   },
   "outputs": [],
   "source": [
    "def SquareList(n):\n",
    "    #!BEGIN ANSWER\n",
    "    a = []\n",
    "    for i in range(n):\n",
    "        a.append((i+1)**2)\n",
    "    return(a)\n",
    "#!END ANSWER"
   ]
  },
  {
   "cell_type": "markdown",
   "metadata": {},
   "source": [
    "e) Write a function that implements Newton's method to calculate a square root using a while loop. Newton's method starts with a guess $x > 0$, which gets closer every step by the formula:\n",
    "$$x_{n+1} = \\frac{1}{2}(x_n+\\frac{a}{x_n})$$\n",
    "This sequence will converge to the square root. "
   ]
  },
  {
   "cell_type": "code",
   "execution_count": 32,
   "metadata": {
    "execution": {
     "iopub.execute_input": "2023-10-04T08:25:38.626796Z",
     "iopub.status.busy": "2023-10-04T08:25:38.626796Z",
     "iopub.status.idle": "2023-10-04T08:25:38.633342Z",
     "shell.execute_reply": "2023-10-04T08:25:38.633342Z"
    }
   },
   "outputs": [],
   "source": [
    "def mySqrt(num):\n",
    "    \"\"\" Add documentation here \"\"\"\n",
    "    #! BEGIN ANSWER\n",
    "    approx = n/2\n",
    "    closer = (approx + n/approx)/2\n",
    "    while close != approx:\n",
    "        approx = closer\n",
    "        closer = (approx + n/approx)/2\n",
    "    \n",
    "    return approx \n",
    "        \n",
    "#! END ANSWER"
   ]
  },
  {
   "cell_type": "markdown",
   "metadata": {},
   "source": [
    ">Make sure to clear your variables before moving on to the next question by running the following code block"
   ]
  },
  {
   "cell_type": "code",
   "execution_count": 33,
   "metadata": {
    "execution": {
     "iopub.execute_input": "2023-10-04T08:25:38.633342Z",
     "iopub.status.busy": "2023-10-04T08:25:38.633342Z",
     "iopub.status.idle": "2023-10-04T08:25:38.687896Z",
     "shell.execute_reply": "2023-10-04T08:25:38.687896Z"
    }
   },
   "outputs": [],
   "source": [
    "%reset -f"
   ]
  },
  {
   "cell_type": "markdown",
   "metadata": {},
   "source": [
    "### Homework Exercise <#hmq> <d2/5>\n",
    "\n",
    "a) A float is sometimes not a suitable data type due to rounding errors. Prove this using the statement a=a+1 for a=10^20"
   ]
  },
  {
   "cell_type": "code",
   "execution_count": 34,
   "metadata": {
    "execution": {
     "iopub.execute_input": "2023-10-04T08:25:38.687896Z",
     "iopub.status.busy": "2023-10-04T08:25:38.687896Z",
     "iopub.status.idle": "2023-10-04T08:25:38.695801Z",
     "shell.execute_reply": "2023-10-04T08:25:38.695801Z"
    }
   },
   "outputs": [
    {
     "data": {
      "text/plain": [
       "True"
      ]
     },
     "execution_count": 34,
     "metadata": {},
     "output_type": "execute_result"
    }
   ],
   "source": [
    "#! BEGIN ANSWER\n",
    "a = 100000000000000000000\n",
    "a+1 == a\n",
    "\n",
    "a = 100000000000000000000.0\n",
    "a+1 ==a \n",
    "#! END ANSWER"
   ]
  },
  {
   "cell_type": "markdown",
   "metadata": {},
   "source": [
    "b) Write a function that will calculate the Scrabble score of any word.\n",
    "Use the following scores: a=1, b=3, c=3, d=2, e=2, f=4, g=2, h=4, i=1, j=6, k=5, l=1, m=3, n=1, o=1, p=3, q=10, r=1, s=1, t=1, u=1, v=4, w=4, y=4, z=10\n",
    "\n",
    ">Hint: Use a dictionary to assign scores to letters"
   ]
  },
  {
   "cell_type": "code",
   "execution_count": 35,
   "metadata": {
    "execution": {
     "iopub.execute_input": "2023-10-04T08:25:38.695801Z",
     "iopub.status.busy": "2023-10-04T08:25:38.695801Z",
     "iopub.status.idle": "2023-10-04T08:25:38.706741Z",
     "shell.execute_reply": "2023-10-04T08:25:38.706741Z"
    }
   },
   "outputs": [
    {
     "data": {
      "text/plain": [
       "10"
      ]
     },
     "execution_count": 35,
     "metadata": {},
     "output_type": "execute_result"
    }
   ],
   "source": [
    "\n",
    "\n",
    "def ScrabbleScore(str):\n",
    "    \"\"\"This function calculates the scrabble score of any word\"\"\"\n",
    "    #! BEGIN ANSWER\n",
    "    Scrabble = {'a':1, 'b':3, 'c':3, 'd':2, 'e':2, 'f':4, 'g':2, 'h':4, 'i':1, 'j':6, 'k':5, 'l':1, 'm':3, 'n':1, 'o':1, 'p':3, 'q':10, 'r':1, 's':1, 't':1, 'u':1, 'v':4, 'w':4, 'y':4, 'z':10}\n",
    "\n",
    "    score = 0\n",
    "    for i in str:\n",
    "        score += Scrabble[i]\n",
    "        \n",
    "    return score \n",
    "\n",
    "ScrabbleScore(\"apple\")\n",
    "#! END ANSWER"
   ]
  },
  {
   "cell_type": "markdown",
   "metadata": {},
   "source": [
    "c) Write a function that counts the frequency of words in a provided text and stores the frequencies in a dictionary. "
   ]
  },
  {
   "cell_type": "code",
   "execution_count": 36,
   "metadata": {
    "execution": {
     "iopub.execute_input": "2023-10-04T08:25:38.711430Z",
     "iopub.status.busy": "2023-10-04T08:25:38.710929Z",
     "iopub.status.idle": "2023-10-04T08:25:38.717480Z",
     "shell.execute_reply": "2023-10-04T08:25:38.717480Z"
    }
   },
   "outputs": [
    {
     "data": {
      "text/plain": [
       "{'We': 1,\n",
       " 'All': 1,\n",
       " 'Know': 1,\n",
       " 'How': 1,\n",
       " 'To': 1,\n",
       " 'Program': 1,\n",
       " 'Now': 1,\n",
       " 'Hip': 4,\n",
       " 'Hoera': 2}"
      ]
     },
     "execution_count": 36,
     "metadata": {},
     "output_type": "execute_result"
    }
   ],
   "source": [
    "#! BEGIN ANSWER\n",
    "\n",
    "def WordCounter(str):\n",
    "    \"\"\"This function counts the words in a text and creates a dictionary storing word and frequencies\"\"\"\n",
    "    \n",
    "    WordCount = {}\n",
    "    words = str.split() #This separates the string by words \n",
    "    for i in words:\n",
    "        if i in WordCount:\n",
    "            WordCount[i] += 1\n",
    "        else:\n",
    "            WordCount[i] = 1\n",
    "    \n",
    "    return WordCount\n",
    "\n",
    "WordCounter(\"We All Know How To Program Now Hip Hip Hoera Hip Hip Hoera\")\n",
    "#! END ANSWER \n"
   ]
  },
  {
   "cell_type": "markdown",
   "metadata": {},
   "source": [
    ">Make sure to clear your variables before moving on to the next question by running the following code block"
   ]
  },
  {
   "cell_type": "code",
   "execution_count": 37,
   "metadata": {
    "execution": {
     "iopub.execute_input": "2023-10-04T08:25:38.717480Z",
     "iopub.status.busy": "2023-10-04T08:25:38.717480Z",
     "iopub.status.idle": "2023-10-04T08:25:38.766493Z",
     "shell.execute_reply": "2023-10-04T08:25:38.765478Z"
    }
   },
   "outputs": [],
   "source": [
    "%reset -f"
   ]
  }
 ],
 "metadata": {
  "colab": {
   "provenance": []
  },
  "kernelspec": {
   "display_name": "Python 3 (ipykernel)",
   "language": "python",
   "name": "python3"
  },
  "language_info": {
   "codemirror_mode": {
    "name": "ipython",
    "version": 3
   },
   "file_extension": ".py",
   "mimetype": "text/x-python",
   "name": "python",
   "nbconvert_exporter": "python",
   "pygments_lexer": "ipython3",
   "version": "3.11.4"
  }
 },
 "nbformat": 4,
 "nbformat_minor": 4
}
