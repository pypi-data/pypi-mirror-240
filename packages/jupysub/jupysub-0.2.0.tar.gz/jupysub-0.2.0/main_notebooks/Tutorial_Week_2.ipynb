{
 "cells": [
  {
   "cell_type": "raw",
   "metadata": {
    "id": "tGIp5-1WMyyu"
   },
   "source": [
    "---\n",
    "title: \"Tutorial Week 2\"\n",
    "author: \"Tess Jans\"\n",
    "date: \"27/09/2023\"\n",
    "---"
   ]
  },
  {
   "cell_type": "markdown",
   "metadata": {
    "id": "bellsLrqobzW"
   },
   "source": [
    "## Tutorial 2\n",
    "\n",
    "Herein you can find exercises to improve your basic python skills in creating various types of plots, modules, computation with `NumPy` and logical indexing and slicing. \n",
    "\n",
    "If you get stuck, don't worry about asking a friend for help! You are encouraged to work together in these exercises."
   ]
  },
  {
   "cell_type": "markdown",
   "metadata": {
    "id": "Smhm8ANL7XNy",
    "tags": []
   },
   "source": [
    "## Introduction to This Template Notebook\n",
    "\n",
    "**How to use?**:\n",
    "* Run the code cell by putting the cursor there and pressing **Control-Enter**.\n",
    "\n",
    "* The locations where you should write your solutions can be recognized by the following comment.\n",
    "\n",
    "* Double-clicking markdown cells will reveal their content. Press **Control-Enter** to make the cells user-friendly again. \n",
    "\n",
    ">`# WRITE YOUR CODE HERE`\n",
    "\n",
    "**Make sure to clear your variables using `%reset -f` when you are done with an exercise and run it from top to bottom**\n",
    "\n",
    "<hr style=\"border:2px solid #eee\">"
   ]
  },
  {
   "cell_type": "markdown",
   "metadata": {},
   "source": [
    "## Learning Objectives\n",
    "\n",
    "After this lesson, you should know:\n",
    "\n",
    "1. How to define and call **functions**\n",
    "1. How to import **libraries**\n",
    "2. Working with arrays and matrices using **NumPy**\n",
    "3. Logical indexing/slicing\n",
    "4. Introduction to **random** in Python"
   ]
  },
  {
   "cell_type": "markdown",
   "metadata": {},
   "source": [
    "## 1. Functions\n",
    "\n",
    "Functions allow you to package the functionality of entire programs into a single statement which may make use and or return multiple variables or none.\n",
    "\n",
    "The general syntax of a function in Python is as follows:\n",
    "\n",
    "```python\n",
    "def function_name(parameters):\n",
    "    \"\"\"Optional docstring describing the function.\"\"\"\n",
    "    # Function body\n",
    "    # Perform computations\n",
    "    return result\n",
    "```\n",
    "* The `def` keyword is used to define a function.\n",
    "* `function_name` is the name of the function, which should be descriptive and meaningful.\n",
    "* Parameters are optional inputs that the function can accept.\n",
    "* The function body contains the code that is executed when the function is called.\n",
    "* The optional docstring provides a brief description of the function's purpose and usage.\n",
    "* The `return` statement specifies the value(s) to be returned by the function\n",
    "\n",
    "Here are some examples of functions in python:\n",
    "```python\n",
    "# Example 1: Simple function\n",
    "def greet():\n",
    "    \"\"\"Prints a greeting message.\"\"\"\n",
    "    print(\"Hello, world!\")\n",
    "\n",
    "# Example 2: Function with parameters and return\n",
    "def multiply(a, b):\n",
    "    \"\"\"Multiplies two numbers.\"\"\"\n",
    "    return a * b\n",
    "\n",
    "# Example 3: Function with default parameter\n",
    "def power(base, exponent=2):\n",
    "    \"\"\"Raises a number to a power.\"\"\"\n",
    "    return base ** exponent\n",
    "\n",
    "# Calling all three functions\n",
    "a = 10\n",
    "b = 20\n",
    "greet()\n",
    "a_times_b = multiply(a, b)\n",
    "a_power_2 = power(a)\n",
    "```"
   ]
  },
  {
   "cell_type": "markdown",
   "metadata": {},
   "source": [
    "## Exercise 1.1: Making Your First Function\n",
    "\n",
    "a) Make a function called `factorial` which computes the factorial of an integer. Be sure to add an if statement to confirm that the value supplied is an integer instead of a floating point number. Additionally, remember that $0!=1$.\n",
    "> Hint: This can be achieved with a `for` or `while` loop"
   ]
  },
  {
   "cell_type": "code",
   "execution_count": 1,
   "metadata": {
    "execution": {
     "iopub.execute_input": "2023-10-04T08:25:38.028185Z",
     "iopub.status.busy": "2023-10-04T08:25:38.028185Z",
     "iopub.status.idle": "2023-10-04T08:25:38.050067Z",
     "shell.execute_reply": "2023-10-04T08:25:38.050067Z"
    }
   },
   "outputs": [
    {
     "name": "stdout",
     "output_type": "stream",
     "text": [
      "3!= 6\n"
     ]
    }
   ],
   "source": [
    "def factorial(num):\n",
    "    \"\"\" Add documentation here \"\"\"\n",
    "    #! BEGIN ANSWER\n",
    "    if num == 0:\n",
    "        return 1\n",
    "    f = 1\n",
    "    while (num > 0):\n",
    "        f*=num\n",
    "        num -= 1\n",
    "    return f\n",
    "    #! END ANSWER\n",
    "#! BEGIN EXCLUDE\n",
    "print(\"3!=\",factorial(3))\n",
    "#! END EXCLUDE"
   ]
  },
  {
   "cell_type": "markdown",
   "metadata": {},
   "source": [
    "b) Write a function called `list_sum` which computes the sum of values in a list."
   ]
  },
  {
   "cell_type": "code",
   "execution_count": 2,
   "metadata": {
    "execution": {
     "iopub.execute_input": "2023-10-04T08:25:38.087931Z",
     "iopub.status.busy": "2023-10-04T08:25:38.087931Z",
     "iopub.status.idle": "2023-10-04T08:25:38.093458Z",
     "shell.execute_reply": "2023-10-04T08:25:38.092797Z"
    }
   },
   "outputs": [
    {
     "name": "stdout",
     "output_type": "stream",
     "text": [
      "`list_sum([1,2,3])`= 6\n"
     ]
    }
   ],
   "source": [
    "def list_sum(l):\n",
    "  \"\"\" Add documentation here \"\"\"\n",
    "  s = 0 # initialize\n",
    "  #! BEGIN ANSWER\n",
    "  for n in l:\n",
    "    s += n\n",
    "  return s\n",
    "  #! END ANSWER\n",
    "#! BEGIN EXCLUDE\n",
    "print(\"`list_sum([1,2,3])`=\",list_sum([1,2,3]))\n",
    "#! END EXCLUDE"
   ]
  },
  {
   "cell_type": "markdown",
   "metadata": {},
   "source": [
    "## Exercise 1.2: Function with Varying Number of Arguments\n",
    "\n",
    "Write a function called `multiply` that takes a variable number of arguments and returns their product. If no arguments are given, it should return 1.\n"
   ]
  },
  {
   "cell_type": "code",
   "execution_count": 3,
   "metadata": {
    "execution": {
     "iopub.execute_input": "2023-10-04T08:25:38.093458Z",
     "iopub.status.busy": "2023-10-04T08:25:38.093458Z",
     "iopub.status.idle": "2023-10-04T08:25:38.100607Z",
     "shell.execute_reply": "2023-10-04T08:25:38.100607Z"
    }
   },
   "outputs": [
    {
     "name": "stdout",
     "output_type": "stream",
     "text": [
      "`multiply(2, 3, 4)`= 24\n"
     ]
    }
   ],
   "source": [
    "#! BEGIN ANSWER\n",
    "def multiply(*args):\n",
    "    product = 1\n",
    "    for num in args:\n",
    "        product *= num\n",
    "    return product\n",
    "#! END ANSWER\n",
    "\n",
    "#! BEGIN EXCLUDE\n",
    "print(\"`multiply(2, 3, 4)`=\",multiply(2, 3, 4))\n",
    "#! END EXCLUDE\n"
   ]
  },
  {
   "cell_type": "markdown",
   "metadata": {},
   "source": [
    "## Exercise: 1.3 Using Lamba Functions\n",
    "\n",
    "In Python, a `lambda` function is a small anonymous function. Anonymous means it doesn\u2019t have a name. The `lambda` keyword in Python is used to create these simple inline functions. \n",
    "\n",
    "Here\u2019s how you can create a simple lambda function to add two numbers:\n",
    "```python\n",
    "add = lambda a, b: a + b\n",
    "\n",
    "print(add(5, 3))  # Output: 8\n",
    "```\n",
    "`a` and `b` are the arguments of the lambda function.\n",
    "`a` + `b` is the expression that gets evaluated and returned.\n"
   ]
  },
  {
   "cell_type": "markdown",
   "metadata": {},
   "source": [
    "a) write a lambda function to calculate the square of a number."
   ]
  },
  {
   "cell_type": "code",
   "execution_count": 4,
   "metadata": {
    "execution": {
     "iopub.execute_input": "2023-10-04T08:25:38.102125Z",
     "iopub.status.busy": "2023-10-04T08:25:38.102125Z",
     "iopub.status.idle": "2023-10-04T08:25:38.107648Z",
     "shell.execute_reply": "2023-10-04T08:25:38.107648Z"
    }
   },
   "outputs": [
    {
     "name": "stdout",
     "output_type": "stream",
     "text": [
      "`square(4)`= 16\n"
     ]
    }
   ],
   "source": [
    "#! BEGIN ANSWER\n",
    "square = lambda x: x ** 2\n",
    "#! END ANSWER\n",
    "\n",
    "#! BEGIN EXCLUDE\n",
    "print(\"`square(4)`=\",square(4))  # Expected Output: 16\n",
    "#! END EXCLUDE"
   ]
  },
  {
   "cell_type": "markdown",
   "metadata": {},
   "source": [
    "b) Given the list of numbers below, use a lambda function to remove numbers smaller than the given threshhold. Then, use a `for` loop to multiply these filtered numbers cumulatively until the product exceeds a the given limit. If the limit is exceeded, break the loop and print a message indicating this. \n",
    "\n",
    "> Hint: Use `filter()` to remove numbers that do not satisfy a certain condition.\n",
    "\n",
    "> Note: Use `print` on both `filter` and `range`. You will notice they are not your everyday itarables, they are `generators`. For the time being you don't have to know what a `generator` is. Just know that you can loop over them or turn them into a `list` using `list(filter(...))` or `list(range(...))`."
   ]
  },
  {
   "cell_type": "code",
   "execution_count": 5,
   "metadata": {
    "execution": {
     "iopub.execute_input": "2023-10-04T08:25:38.107648Z",
     "iopub.status.busy": "2023-10-04T08:25:38.107648Z",
     "iopub.status.idle": "2023-10-04T08:25:38.117959Z",
     "shell.execute_reply": "2023-10-04T08:25:38.117959Z"
    }
   },
   "outputs": [
    {
     "name": "stdout",
     "output_type": "stream",
     "text": [
      "6\n",
      "48\n",
      "Product limit exceeded.\n"
     ]
    }
   ],
   "source": [
    "# Given list of numbers, threshold, and limit\n",
    "numbers = [1, 2, 4, 6, 8, 15, 16, 30]\n",
    "threshold = 5\n",
    "limit = 300\n",
    "\n",
    "#! BEGIN ANSWER\n",
    "# Step 1: Filter out numbers greater than the threshold using lambda function.\n",
    "filtered_numbers = filter(lambda x: x > threshold, numbers)\n",
    "filtered_numbers = list(filtered_numbers)\n",
    "\n",
    "# Step 2: Use while loop for cumulative multiplication.\n",
    "product = 1\n",
    "for number in filtered_numbers:\n",
    "    product *= number\n",
    "    if product > limit:\n",
    "        print(\"Product limit exceeded.\")\n",
    "        break\n",
    "    print(product)\n",
    "#! END ANSWER"
   ]
  },
  {
   "cell_type": "markdown",
   "metadata": {},
   "source": [
    "## Exercise 1.4: Recursive Function\n",
    "\n",
    "#### Understanding Recursion\n",
    "\n",
    "Recursion is a programming concept where a function calls itself to solve a smaller version of the same problem. It's like breaking down a problem into smaller, more manageable parts, and using the solution of the smaller part to solve the larger problem.\n",
    "\n",
    "Here's how recursion works:\n",
    "1. **Base Case**: This is the condition under which the function will stop calling itself. Every recursive function must have a base case to prevent infinite recursion.\n",
    "2. **Recursive Case**: If the base case is not met, the function calls itself with a new argument intending to meet the base case eventually.\n",
    "\n",
    "Let's consider the example of calculating the factorial of a number. The factorial of a number `n` is the product of all positive integers up to and including `n`.\n",
    "\n",
    "For example:\n",
    "- $5! = 5 \\times 4 \\times 3 \\times 2 \\times 1 = 120$\n",
    "\n",
    "In recursion, we can express the factorial function as:\n",
    "- $n! = n \\times (n-1)!$\n",
    "\n",
    "Here, \n",
    "- The base case is $0! = 1$\n",
    "- The recursive case is $n! = n \\times (n-1)!$\n",
    "\n",
    "We continue to call the function with $n-1$ until the base case $n=0$ is met. \n",
    "\n"
   ]
  },
  {
   "cell_type": "markdown",
   "metadata": {},
   "source": [
    " \n",
    "a) Write a function called `factorial` that takes a non-negative integer as an argument and returns its factorial using recursion."
   ]
  },
  {
   "cell_type": "code",
   "execution_count": 6,
   "metadata": {
    "execution": {
     "iopub.execute_input": "2023-10-04T08:25:38.117959Z",
     "iopub.status.busy": "2023-10-04T08:25:38.117959Z",
     "iopub.status.idle": "2023-10-04T08:25:38.125842Z",
     "shell.execute_reply": "2023-10-04T08:25:38.125842Z"
    }
   },
   "outputs": [
    {
     "name": "stdout",
     "output_type": "stream",
     "text": [
      "`factorial(5)`= 120\n"
     ]
    }
   ],
   "source": [
    "#! BEGIN ANSWER\n",
    "def factorial(n):\n",
    "    if n == 0:\n",
    "        return 1\n",
    "    else:\n",
    "        return n * factorial(n - 1)\n",
    "#! END ANSWER\n",
    "#! BEGIN EXCLUDE\n",
    "print(\"`factorial(5)`=\",factorial(5))\n",
    "#! END EXCLUDE\n"
   ]
  },
  {
   "cell_type": "markdown",
   "metadata": {},
   "source": [
    "b) Write a function called `recursive_sum` that takes a non-negative integer `n` as an argument and returns the sum of all numbers from `1` to `n` (including `n`) using recursion.\n",
    "> Hint: Make sure to check whether n is a non-negative integer."
   ]
  },
  {
   "cell_type": "code",
   "execution_count": 7,
   "metadata": {
    "execution": {
     "iopub.execute_input": "2023-10-04T08:25:38.125842Z",
     "iopub.status.busy": "2023-10-04T08:25:38.125842Z",
     "iopub.status.idle": "2023-10-04T08:25:38.133810Z",
     "shell.execute_reply": "2023-10-04T08:25:38.133810Z"
    }
   },
   "outputs": [
    {
     "name": "stdout",
     "output_type": "stream",
     "text": [
      "`recursive_sum(5)`= 15\n"
     ]
    }
   ],
   "source": [
    "#! BEGIN ANSWER\n",
    "def recursive_sum(n):\n",
    "    if n == 0:\n",
    "        return 0\n",
    "    else:\n",
    "        return n + recursive_sum(n - 1)\n",
    "#! END ANSWER\n",
    "\n",
    "#! BEGIN EXCLUDE\n",
    "print(\"`recursive_sum(5)`=\",recursive_sum(5))\n",
    "#! END EXCLUDE"
   ]
  },
  {
   "cell_type": "markdown",
   "metadata": {},
   "source": [
    "> Now run the cell below to clear all your variables before moving on to the next exercise"
   ]
  },
  {
   "cell_type": "code",
   "execution_count": 8,
   "metadata": {
    "execution": {
     "iopub.execute_input": "2023-10-04T08:25:38.133810Z",
     "iopub.status.busy": "2023-10-04T08:25:38.133810Z",
     "iopub.status.idle": "2023-10-04T08:25:38.192287Z",
     "shell.execute_reply": "2023-10-04T08:25:38.192287Z"
    }
   },
   "outputs": [],
   "source": [
    "%reset -f"
   ]
  },
  {
   "cell_type": "markdown",
   "metadata": {},
   "source": [
    "## 2. Modules\n",
    "\n",
    "In Python, a module (often called a library) is like a package of ready-to-use functions. There are several useful modules that you will encounter in this course, including: `numpy`, `matplotlib`, and `scipy`. These modules offer powerful tools for numerical computations, data visualization, and scientific computing.\n",
    "\n",
    "To import a module in Python, you can use the `import` command followed by the module name. For example, to import the `numpy` module, and use its `numpy.max` function we write:\n",
    "```python\n",
    "import numpy\n",
    "numpy.max([1, 2, 3]) # Returns 3\n",
    "```\n",
    "The word `as` can be used to shorten the module name, so the user does not have to type the entire module name several times in the code. Below you can see `numpy` renamed to `np`, as this is convention.\n",
    "```python\n",
    "import numpy as np\n",
    "np.max([1, 2, 3]) # Returns 3\n",
    "```\n",
    "Modules only need to be imported again once you have cleared your workspace using `%reset -f`\n",
    "\n",
    "## Excerise 2.1: Numpy\n",
    "\n",
    "Numpy stands for *numerical python* and it contains several functions useful in number crunching. Numpy also contains the object `np.ndarray` which allows mathematical operations to be performed much faster than in a list and can be used directly in mathematical expressions as shown below:\n",
    "```python\n",
    "import numpy as np\n",
    "\n",
    "array = np.array([1,2,3])\n",
    "array*2 + 1 # returns np.ndarray([3 5 7])\n",
    "```\n",
    "In Numpy, you can access elements in the array just like how you do with Python lists, by using indices. But with Numpy arrays, you have the ability to do advanced indexing, allowing you to access elements more efficiently. For now, you only need to know these:\n",
    "```python\n",
    "array = np.array([5, 10, 15, 20])\n",
    "print(array[2])  # Outputs: 15\n",
    "\n",
    "print(array[-1])  # Outputs: 20\n",
    "```\n",
    "\n",
    "**Some useful numpy functions**:\n",
    "\n",
    "Array generation:\n",
    "\n",
    "  - `np.linspace(a, b, n)`: Creates an array of `n` values evenly spaced in the interval [`a`, `b`].\n",
    "  - `np.arange(a, b, n)`: Creates an array of the integers in interval [`a`, `b`) with step size `n`. `a` & `n` are optional.\n",
    "\n",
    "<br>\n",
    "\n",
    "Data analysis:\n",
    "\n",
    "  - `np.max(array)`: Returns the maximum value of an array.\n",
    "  - `np.min(array)`: Returns the minimum value of an array.\n",
    "  - `np.mean(array)`: Computes the arithmetic mean of an array.\n",
    "  - `np.sum(array)`: Calculates the sum of array elements.\n",
    "  - `np.std(array)`: Computes the standard deviation of array elements.\n",
    "\n",
    "<br>\n",
    "\n",
    "Operators:\n",
    "\n",
    "  - `np.exp(array)`: Calculates the exponential value for each element in the array.\n",
    "  - `np.log(array)`: Computes the natural logarithm of each element in the array.\n",
    "  - `np.sqrt(array)`: Computes the square root of each element in the array.\n",
    "  - `np.sin(array)`: Calculates the sine value for each element in the array.\n",
    "  - `np.cos(array)`: Calculates the cosine value for each element in the array.\n",
    "\n",
    "<br>\n",
    "\n",
    "Randomizers:\n",
    "\n",
    "  - `np.random.rand(d0, d1, ..., dn)`: Generates an array of random numbers from a uniform distribution over [0, 1].\n",
    "  - `np.random.randn(d0, d1, ..., dn)`: Generates an array of random numbers from a standard normal distribution.\n",
    "  - `np.random.randint(d0, d1, ..., dn)`: Generates an array of random integers within a specified range.\n",
    "\n",
    "Each function has documentation available to get more information on the input and output."
   ]
  },
  {
   "cell_type": "markdown",
   "metadata": {},
   "source": [
    "a) Generate an array `a` of 5 random integers between 0 and 10.\n",
    "> Hint: To make sure you get the same \"random\" result as the answer to the exercise, you can set it to the same seed using `np.random.seed(0)`."
   ]
  },
  {
   "cell_type": "code",
   "execution_count": 9,
   "metadata": {
    "execution": {
     "iopub.execute_input": "2023-10-04T08:25:38.195122Z",
     "iopub.status.busy": "2023-10-04T08:25:38.195122Z",
     "iopub.status.idle": "2023-10-04T08:25:38.301445Z",
     "shell.execute_reply": "2023-10-04T08:25:38.301445Z"
    }
   },
   "outputs": [
    {
     "name": "stdout",
     "output_type": "stream",
     "text": [
      "`a`="
     ]
    },
    {
     "name": "stdout",
     "output_type": "stream",
     "text": [
      " "
     ]
    },
    {
     "name": "stdout",
     "output_type": "stream",
     "text": [
      "[5 0 3 3 7]\n"
     ]
    }
   ],
   "source": [
    "import numpy as np \n",
    "\n",
    "#! BEGIN EXCLUDE\n",
    "np.random.seed(0)\n",
    "#! END EXCLUDE\n",
    "\n",
    "#! BEGIN ANSWER\n",
    "a = np.random.randint(0,10,5)\n",
    "#! END ANSWER\n",
    "\n",
    "#! BEGIN EXCLUDE\n",
    "print(\"`a`=\", a)\n",
    "#! END EXCLUDE"
   ]
  },
  {
   "cell_type": "markdown",
   "metadata": {},
   "source": [
    "b) Write a function that finds the square of each number in array `a` and then sums them all together. Remember to use the right seed to check your answer!"
   ]
  },
  {
   "cell_type": "code",
   "execution_count": 10,
   "metadata": {
    "execution": {
     "iopub.execute_input": "2023-10-04T08:25:38.304338Z",
     "iopub.status.busy": "2023-10-04T08:25:38.304338Z",
     "iopub.status.idle": "2023-10-04T08:25:38.308930Z",
     "shell.execute_reply": "2023-10-04T08:25:38.308930Z"
    }
   },
   "outputs": [
    {
     "name": "stdout",
     "output_type": "stream",
     "text": [
      "`square_and_sum(a)` =  92\n"
     ]
    }
   ],
   "source": [
    "#! BEGIN ANSWER\n",
    "def square_and_sum(a):\n",
    "    \"\"\"\n",
    "    Squares all elements of the input array 'a' and returns the sum of squared values.\n",
    "    \n",
    "    Parameters:\n",
    "    a (numpy.ndarray): Input array.\n",
    "\n",
    "    Returns:\n",
    "    float: Sum of squared values.\n",
    "    \"\"\"\n",
    "    squared_values = a ** 2  # Square each element of 'a'\n",
    "    sum_of_squares = np.sum(squared_values)  # Calculate the sum of squared values\n",
    "    return sum_of_squares\n",
    "\n",
    "result = square_and_sum(a)\n",
    "print(\"`square_and_sum(a)` = \",square_and_sum(a))  # Output will be the sum of squared values of 'a'\n",
    "#! END ANSWER"
   ]
  },
  {
   "cell_type": "markdown",
   "metadata": {},
   "source": [
    "c) Generate an array of equally spaced values between zero and $2\\pi$. Subsequently, compute the sine and cosine values for each of these values, ssigning the result to `cos_x` and `sin_x`. \n",
    "\n",
    "> Hint: $\\pi$ can be accessed using np.pi"
   ]
  },
  {
   "cell_type": "code",
   "execution_count": 11,
   "metadata": {
    "execution": {
     "iopub.execute_input": "2023-10-04T08:25:38.308930Z",
     "iopub.status.busy": "2023-10-04T08:25:38.308930Z",
     "iopub.status.idle": "2023-10-04T08:25:38.809330Z",
     "shell.execute_reply": "2023-10-04T08:25:38.808045Z"
    }
   },
   "outputs": [
    {
     "data": {
      "image/png": "[encoded data removed]",
      "text/plain": [
       "<Figure size 400x300 with 1 Axes>"
      ]
     },
     "metadata": {},
     "output_type": "display_data"
    }
   ],
   "source": [
    "#! BEGIN ANSWER\n",
    "x = np.linspace(0, 2 * np.pi, 100)\n",
    "\n",
    "# Step 3: Compute sine and cosine values\n",
    "sin_x = np.sin(x)\n",
    "cos_x = np.cos(x)\n",
    "#! END ANSWER\n",
    "\n",
    "# Plotting (optional)\n",
    "import matplotlib.pyplot as plt\n",
    "\n",
    "plt.figure(figsize=(4, 3))\n",
    "plt.plot(x, sin_x, label=\"sin(x)\")\n",
    "plt.plot(x, cos_x, label=\"cos(x)\")\n",
    "plt.legend()\n",
    "plt.title(\"Sine and Cosine Curves\")\n",
    "plt.xlabel(\"x\")\n",
    "plt.ylabel(\"Function Values\")\n",
    "plt.grid(True)\n",
    "plt.show()\n"
   ]
  },
  {
   "cell_type": "markdown",
   "metadata": {},
   "source": [
    "d) Make a function that computes `y` for the linear equation `y = 4x + 3`, where `x` is an array containing values from 0 to 6"
   ]
  },
  {
   "cell_type": "code",
   "execution_count": 12,
   "metadata": {
    "execution": {
     "iopub.execute_input": "2023-10-04T08:25:38.810157Z",
     "iopub.status.busy": "2023-10-04T08:25:38.810157Z",
     "iopub.status.idle": "2023-10-04T08:25:38.942620Z",
     "shell.execute_reply": "2023-10-04T08:25:38.942620Z"
    }
   },
   "outputs": [
    {
     "name": "stdout",
     "output_type": "stream",
     "text": [
      "`y`= [ 5  9 13 17 21 25 29]\n"
     ]
    },
    {
     "data": {
      "image/png": "[encoded data removed]",
      "text/plain": [
       "<Figure size 350x300 with 1 Axes>"
      ]
     },
     "metadata": {},
     "output_type": "display_data"
    }
   ],
   "source": [
    "#! BEGIN ANSWERS\n",
    "def compute_y(x):\n",
    "    return 4 * x + 5\n",
    "\n",
    "# Create an array x with values from 1 to 4\n",
    "x = np.array([0, 1, 2, 3, 4, 5, 6])\n",
    "y = compute_y(x)\n",
    "print(\"`y`=\", y)\n",
    "#! END ANSWER \n",
    "\n",
    "# Plot x against y (Optional) \n",
    "import matplotlib.pyplot as plt\n",
    "plt.figure(figsize=(3.5, 3))\n",
    "plt.plot(x, y, 'o-')\n",
    "plt.xlabel('x')\n",
    "plt.ylabel('y')\n",
    "plt.title('Plot of y = 4x + 5')\n",
    "plt.grid(True)\n",
    "plt.show()\n"
   ]
  },
  {
   "cell_type": "markdown",
   "metadata": {},
   "source": [
    "e) Imagine a scenario where a sailboat is sailing in a lake. It's experiencing two different forces - the wind is pushing it north with a force of 40 N, and the water current is pushing it east with a force of 25 N. Calculate the resultant force acting on the sailboat and determine its magnitude and direction.\n",
    "\n",
    "> Hint: You can use `np.linalg.norm()`  to find the magnitude."
   ]
  },
  {
   "cell_type": "code",
   "execution_count": 13,
   "metadata": {
    "execution": {
     "iopub.execute_input": "2023-10-04T08:25:38.944260Z",
     "iopub.status.busy": "2023-10-04T08:25:38.944260Z",
     "iopub.status.idle": "2023-10-04T08:25:38.953652Z",
     "shell.execute_reply": "2023-10-04T08:25:38.953652Z"
    }
   },
   "outputs": [
    {
     "name": "stdout",
     "output_type": "stream",
     "text": [
      "`magnitude`= 47.16990566028302 N\n",
      "`direction`= 57.9946167919165 deg\n"
     ]
    }
   ],
   "source": [
    "import numpy as np\n",
    "\n",
    "#! BEGIN ANSWER\n",
    "# Given forces\n",
    "wind_force = np.array([0, 40])       # 40 N northward\n",
    "current_force = np.array([25, 0])    # 25 N eastward\n",
    "\n",
    "# Calculate resultant force\n",
    "resultant_force = wind_force + current_force\n",
    "\n",
    "# Calculate magnitude of resultant force\n",
    "magnitude_resultant_force = np.linalg.norm(resultant_force)\n",
    "\n",
    "# Calculate direction of resultant force\n",
    "direction_resultant_force = np.arctan2(resultant_force[1], resultant_force[0])\n",
    "direction_resultant_force_deg = np.degrees(direction_resultant_force)\n",
    "\n",
    "\n",
    "print(\"`magnitude`=\",magnitude_resultant_force,\"N\")\n",
    "print(\"`direction`=\",direction_resultant_force_deg,\"deg\")\n",
    "#! END ANSWER"
   ]
  },
  {
   "cell_type": "markdown",
   "metadata": {},
   "source": [
    "## Exercise 2.2: Higher Dimensional Arrays and the Dot Product\n",
    "\n",
    "To make higher dimensional arrays, one can put a list inside a list. For example, to create a matrix, which is a two-dimensional array you can write the following code:\n",
    "```python\n",
    "matrix = np.array([[1, 2, 3],\n",
    "                   [4, 5, 6], \n",
    "                   [7, 8, 9]])\n",
    "```\n",
    "There is no limit to how many dimensions your matrix can have.\n",
    "\n",
    "To pick values from this matrix, we use `M[i, j]` where i is the row index and j is the column index. To get the first column, use `M[:, 0]`. To get the first row, use `M[0, :]`. Furthermore, you can easily index the last element using -1. \n",
    "```python\n",
    "matrix[0,2] # returns 3\n",
    "matrix[2,-1] # returns 9\n",
    "matrix[:,0] # returns [1, 4, 7]\n",
    "```"
   ]
  },
  {
   "cell_type": "markdown",
   "metadata": {},
   "source": [
    "a) Create the following matrix M using `np.array()`:\n",
    "$$\n",
    "M = \\begin{bmatrix}\n",
    "1 & 4 & 8 & 2\\\\\n",
    "6 & 2 & 1 & 7\\\\\n",
    "3 & 9 & 2 & 4\\\\\n",
    "\\end{bmatrix}\n",
    "$$\n",
    "Reshape matrix M using `np.reshape(arr, (n0,n1,...))` from size 3x4 to 4x3. Pay attention to how the numbers reorganize!"
   ]
  },
  {
   "cell_type": "code",
   "execution_count": 14,
   "metadata": {
    "execution": {
     "iopub.execute_input": "2023-10-04T08:25:38.953652Z",
     "iopub.status.busy": "2023-10-04T08:25:38.953652Z",
     "iopub.status.idle": "2023-10-04T08:25:38.962438Z",
     "shell.execute_reply": "2023-10-04T08:25:38.962438Z"
    }
   },
   "outputs": [
    {
     "name": "stdout",
     "output_type": "stream",
     "text": [
      "[[1 4 8]\n",
      " [2 6 2]\n",
      " [1 7 3]\n",
      " [9 2 4]]\n"
     ]
    }
   ],
   "source": [
    "#! BEGIN ANSWER\n",
    "# Create a 3x4 matrix\n",
    "M = np.array([\n",
    "    [1, 4, 8, 2],\n",
    "    [6, 2, 1, 7],\n",
    "    [3, 9, 2, 4]\n",
    "])\n",
    "\n",
    "print(np.reshape(M,[4,3]))\n",
    "#! END ANSWER"
   ]
  },
  {
   "cell_type": "markdown",
   "metadata": {},
   "source": [
    "b) Create two 2x2 matrices C and D manually. \n",
    "\n",
    "$$\n",
    "C = \\begin{bmatrix}\n",
    "1 & 2 \\\\\n",
    "3 & 4 \\\\\n",
    "\\end{bmatrix}\n",
    "$$\n",
    "\n",
    "$$\n",
    "D = \\begin{bmatrix}\n",
    "3 & 4 \\\\\n",
    "7 & 8 \\\\\n",
    "\\end{bmatrix}\n",
    "$$\n",
    "\n",
    "Perform and print the following operations:\n",
    "- Matrix addition\n",
    "- Matrix subtraction\n",
    "- Element-wise multiplication \n",
    "- Matrix multiplication (dot product between C and D)"
   ]
  },
  {
   "cell_type": "code",
   "execution_count": 15,
   "metadata": {
    "execution": {
     "iopub.execute_input": "2023-10-04T08:25:38.962438Z",
     "iopub.status.busy": "2023-10-04T08:25:38.962438Z",
     "iopub.status.idle": "2023-10-04T08:25:38.970321Z",
     "shell.execute_reply": "2023-10-04T08:25:38.970321Z"
    }
   },
   "outputs": [
    {
     "name": "stdout",
     "output_type": "stream",
     "text": [
      "`C + D`:\n",
      "[[ 6  8]\n",
      " [10 12]]\n",
      "\n",
      "`C - D`:\n",
      "[[-4 -4]\n",
      " [-4 -4]]\n",
      "\n",
      "`C * D` (element-wise):\n",
      "[[ 5 12]\n",
      " [21 32]]\n",
      "\n",
      "`C.dot(D)`:\n",
      "[[19 22]\n",
      " [43 50]]\n"
     ]
    }
   ],
   "source": [
    "#! BEGIN ANSWER\n",
    "C = np.array([[1, 2], [3, 4]])\n",
    "D = np.array([[5, 6], [7, 8]])\n",
    "#! END ANSWER \n",
    "\n",
    "#! BEGIN EXCLUDE\n",
    "print(\"`C + D`:\")\n",
    "print(C + D)\n",
    "\n",
    "print(\"\\n`C - D`:\")\n",
    "print(C - D)\n",
    "\n",
    "print(\"\\n`C * D` (element-wise):\")\n",
    "print(C * D)\n",
    "\n",
    "print(\"\\n`C.dot(D)`:\")\n",
    "print(np.dot(C, D))\n",
    "#! END EXCLUDE"
   ]
  },
  {
   "cell_type": "markdown",
   "metadata": {
    "id": "pV7PbBGDSY0e"
   },
   "source": [
    "\n",
    "c) Write Python code to implement the dot product formula using three nested loops inside the function `dotMatMat(A,B)`.\n",
    "The dot product of two matrices is found using this formula:\n",
    "\n",
    "$$M_{ij} = \\sum_k{A_{ik}B_{kj}}$$\n",
    "\n",
    "> Hint: You can find the number of rows and columns with A.shape and B.shape."
   ]
  },
  {
   "cell_type": "code",
   "execution_count": 16,
   "metadata": {
    "colab": {
     "base_uri": "https://localhost:8080/"
    },
    "execution": {
     "iopub.execute_input": "2023-10-04T08:25:38.970321Z",
     "iopub.status.busy": "2023-10-04T08:25:38.970321Z",
     "iopub.status.idle": "2023-10-04T08:25:38.979228Z",
     "shell.execute_reply": "2023-10-04T08:25:38.979228Z"
    },
    "executionInfo": {
     "elapsed": 7,
     "status": "ok",
     "timestamp": 1690799196957,
     "user": {
      "displayName": "Douwe Orij",
      "userId": "11642343109152016907"
     },
     "user_tz": -120
    },
    "id": "cFCBPUIHWiud",
    "outputId": "e1df2961-d8c0-42a0-cebb-8e0f83fa2aaa"
   },
   "outputs": [
    {
     "name": "stdout",
     "output_type": "stream",
     "text": [
      "[[0.   0.   0.33]\n",
      " [0.36 4.   0.  ]\n",
      " [0.   2.13 2.82]]\n"
     ]
    }
   ],
   "source": [
    "import numpy as np\n",
    "\n",
    "A = np.array([[1, 0, 0],\n",
    "              [0, 2, 0],\n",
    "              [0, 0, 3]])\n",
    "\n",
    "B = np.array([[0, 0, 0.33],\n",
    "              [0.18, 2, 0],\n",
    "              [0, 0.71, 0.94]])\n",
    "\n",
    "def dotMatMat(A,B):\n",
    "    \"\"\" Computes the dot product of matrix A and B and returns the result \"\"\"\n",
    "    # Getting the sizes of each matrix along each axis\n",
    "    Ni = A.shape[0]\n",
    "    Nj = B.shape[1]\n",
    "    Nk = A.shape[1] # = B.shape[0]\n",
    "\n",
    "    # Allocating memory for the resulting matrix\n",
    "    M = np.zeros((Ni,Nj)) # Making an empty matrix to store your resulting matrix\n",
    "\n",
    "    #! BEGIN ANSWER\n",
    "    for i in range(Ni):\n",
    "        for j in range(Nj):\n",
    "            for k in range(Nk):\n",
    "                M[i,j] += A[i,k]*B[k,j]\n",
    "    #! END ANSWER\n",
    "\n",
    "    return M\n",
    "\n",
    "print(dotMatMat(A,B))"
   ]
  },
  {
   "cell_type": "markdown",
   "metadata": {
    "id": "eG_ansHpYHJX"
   },
   "source": [
    "d) Perform this same operation using the `@` operator (dot product operator), `np.dot` and `A.dot(B)`."
   ]
  },
  {
   "cell_type": "code",
   "execution_count": 17,
   "metadata": {
    "colab": {
     "base_uri": "https://localhost:8080/"
    },
    "execution": {
     "iopub.execute_input": "2023-10-04T08:25:38.979228Z",
     "iopub.status.busy": "2023-10-04T08:25:38.979228Z",
     "iopub.status.idle": "2023-10-04T08:25:38.986542Z",
     "shell.execute_reply": "2023-10-04T08:25:38.986542Z"
    },
    "executionInfo": {
     "elapsed": 5,
     "status": "ok",
     "timestamp": 1690799196957,
     "user": {
      "displayName": "Douwe Orij",
      "userId": "11642343109152016907"
     },
     "user_tz": -120
    },
    "id": "rKZaIUmZYNH0",
    "outputId": "54b483c3-3ac4-40de-d4d9-59fc3d5e0f43",
    "scrolled": true
   },
   "outputs": [
    {
     "name": "stdout",
     "output_type": "stream",
     "text": [
      "`A@B = `\n",
      "[[0.   0.   0.33]\n",
      " [0.36 4.   0.  ]\n",
      " [0.   2.13 2.82]]\n",
      "\n",
      "`np.dot(A,B) = `\n",
      "[[0.   0.   0.33]\n",
      " [0.36 4.   0.  ]\n",
      " [0.   2.13 2.82]]\n",
      "\n",
      "`A.dot(B) = `\n",
      "[[0.   0.   0.33]\n",
      " [0.36 4.   0.  ]\n",
      " [0.   2.13 2.82]]\n"
     ]
    }
   ],
   "source": [
    "import numpy as np\n",
    "\n",
    "A = np.array([[1, 0, 0],\n",
    "              [0, 2, 0],\n",
    "              [0, 0, 3]])\n",
    "\n",
    "B = np.array([[0, 0, 0.33],\n",
    "              [0.18, 2, 0],\n",
    "              [0, 0.71, 0.94]])\n",
    "\n",
    "#! BEGIN EXCLUDE\n",
    "print(r\"`A@B = `\")\n",
    "#! END EXCLUDE\n",
    "#! BEGIN ANSWER\n",
    "print(A@B)\n",
    "#! BEGIN EXCLUDE\n",
    "print()\n",
    "print(r\"`np.dot(A,B) = `\")\n",
    "#! END EXCLUDE\n",
    "print(np.dot(A,B))\n",
    "#! BEGIN EXCLUDE\n",
    "print()\n",
    "print(r\"`A.dot(B) = `\")\n",
    "#! END EXCLUDE\n",
    "print(A.dot(B))\n",
    "#! END ANSWER"
   ]
  },
  {
   "cell_type": "markdown",
   "metadata": {},
   "source": [
    "> Now run the cell below to clear all your variables before moving on to the next exercise"
   ]
  },
  {
   "cell_type": "code",
   "execution_count": 18,
   "metadata": {
    "execution": {
     "iopub.execute_input": "2023-10-04T08:25:38.986542Z",
     "iopub.status.busy": "2023-10-04T08:25:38.986542Z",
     "iopub.status.idle": "2023-10-04T08:25:39.079289Z",
     "shell.execute_reply": "2023-10-04T08:25:39.079289Z"
    }
   },
   "outputs": [],
   "source": [
    "%reset -f"
   ]
  },
  {
   "cell_type": "markdown",
   "metadata": {},
   "source": [
    "## EXERCISE 3.1: Logical Indexing and Slicing in Numpy\n",
    "\n",
    "Logical indexing and slicing are powerful features in numpy that allow you to access and modify elements in arrays based on conditions and specific indices.\n",
    "\n",
    "#### Basic indexing\n",
    "Remember how we learned how to use basic indexing to access variables from an array, similarly to accessing elements in a list:\n",
    "\n",
    "```python\n",
    "array = np.array([5, 10, 15, 20])\n",
    "print(array[2])  # Outputs: 15\n",
    "```\n",
    "#### Slicing\n",
    "You can also use slicing to access a range of elements in your array.\n",
    "```python\n",
    "print(array[1:3])  # Outputs: [10 15]\n",
    "```\n",
    "#### Integer Array Indexing\n",
    "Using numpy you can also index arrays with other arrays or lists. This indexing cannot be performed on a list. \n",
    "```python \n",
    "indices = np.array([1, 3])\n",
    "print(array[indices])  # Outputs: [10 20]\n",
    "```\n",
    "#### Logical indexing \n",
    "An advantage of using numpy is that it allow you to use boolean conditions to index arrays.\n",
    "Consider an array `a = np.array([1, 2, 3, 4, 5])`. If we want to select only the even elements, we can use a boolean mask:\n",
    "\n",
    "```python\n",
    "mask = a % 2 == 0 # checks if the remainder of division by two is zero\n",
    "selected_elements = a[mask]\n",
    "```\n",
    "\n",
    "In this example, mask is a boolean array ```[False, True, False, True, False]```, and selected_elements will be  ```[2, 4]```."
   ]
  },
  {
   "cell_type": "markdown",
   "metadata": {},
   "source": [
    "a) Create an array `a` of 15 integers ranging from 1 to 15. Use logical indexing to select and print all even numbers from the array."
   ]
  },
  {
   "cell_type": "code",
   "execution_count": 19,
   "metadata": {
    "execution": {
     "iopub.execute_input": "2023-10-04T08:25:39.079289Z",
     "iopub.status.busy": "2023-10-04T08:25:39.079289Z",
     "iopub.status.idle": "2023-10-04T08:25:39.087379Z",
     "shell.execute_reply": "2023-10-04T08:25:39.087379Z"
    }
   },
   "outputs": [
    {
     "name": "stdout",
     "output_type": "stream",
     "text": [
      "[ 2  4  6  8 10 12 14]\n"
     ]
    }
   ],
   "source": [
    "import numpy as np\n",
    "\n",
    "#! BEGIN ANSWER\n",
    "A = np.arange(1, 16)\n",
    "print(A[A % 2 == 0])\n",
    "#! END ANSWER"
   ]
  },
  {
   "cell_type": "markdown",
   "metadata": {},
   "source": [
    "b) Given an array:\n",
    "\n",
    "```python\n",
    "a = [1, 2, 3, 4, 5, 6]\n",
    "```\n",
    "Use slicing to replace the first three elements from the array `a` with number 9. \n",
    "\n",
    "> Hint: remember that indexing in Python starts at zero.\n",
    "\n"
   ]
  },
  {
   "cell_type": "code",
   "execution_count": 20,
   "metadata": {
    "execution": {
     "iopub.execute_input": "2023-10-04T08:25:39.089462Z",
     "iopub.status.busy": "2023-10-04T08:25:39.089462Z",
     "iopub.status.idle": "2023-10-04T08:25:39.095370Z",
     "shell.execute_reply": "2023-10-04T08:25:39.095370Z"
    }
   },
   "outputs": [
    {
     "name": "stdout",
     "output_type": "stream",
     "text": [
      "[9 9 9 4 5 6]\n"
     ]
    }
   ],
   "source": [
    "a = np.arange(1,7)\n",
    "\n",
    "#! BEGIN ANSWER\n",
    "a[0:3] = 9\n",
    "print(np.array(a))\n",
    "#! END ANSWER"
   ]
  },
  {
   "cell_type": "markdown",
   "metadata": {},
   "source": [
    "c) Consider the following polynomial equation:\n",
    "\n",
    "$y = 3x^3 - 5x^2 + 2x - 7$\n",
    "\n",
    "Given an array of x-values:\n",
    "```python\n",
    "x = np.array([\u22123,\u22122,\u22121, 0, 1, 2, 3, 4])\n",
    "```\n",
    "\n",
    "Use logical indexing to find the `x` values where the corresponding `y` values are smaller than zero in the given polynomial equation."
   ]
  },
  {
   "cell_type": "code",
   "execution_count": 21,
   "metadata": {
    "execution": {
     "iopub.execute_input": "2023-10-04T08:25:39.097412Z",
     "iopub.status.busy": "2023-10-04T08:25:39.097412Z",
     "iopub.status.idle": "2023-10-04T08:25:39.102801Z",
     "shell.execute_reply": "2023-10-04T08:25:39.102801Z"
    }
   },
   "outputs": [
    {
     "name": "stdout",
     "output_type": "stream",
     "text": [
      "`x` =  [-3 -2 -1  0  1]\n"
     ]
    }
   ],
   "source": [
    "# Given x values\n",
    "x = np.array([-3, -2, -1, 0, 1, 2, 3, 4])\n",
    "\n",
    "#! BEGIN ANSWER\n",
    "# Calculate y values based on the polynomial equation\n",
    "y = 3*x**3 - 5*x**2 + 2*x - 7\n",
    "\n",
    "# Use logical indexing to find x where y < 0\n",
    "result_x = x[y < 0]\n",
    "\n",
    "# Output the result\n",
    "print(\"`x` = \",result_x)\n",
    "#! END ANSWER"
   ]
  },
  {
   "cell_type": "markdown",
   "metadata": {},
   "source": [
    "d) Get all items between 5 and 10 from matrix `z`.\n",
    "$$\n",
    "M = \\begin{bmatrix}\n",
    "7 & 3 & 18 & 2\\\\\n",
    "4 & 6 & 12 & 1\\\\\n",
    "6 & 8 & 0 & 14\\\\\n",
    "10 & 3 & 0 & 1\\\\\n",
    "\\end{bmatrix}\n",
    "$$\n",
    "> Hint: For comparing logical numpy arrays, you cannot use the control statements `and`, `or` and `not`, instead you have to use `&`, `|` and `!` respectively. "
   ]
  },
  {
   "cell_type": "code",
   "execution_count": 22,
   "metadata": {
    "execution": {
     "iopub.execute_input": "2023-10-04T08:25:39.102801Z",
     "iopub.status.busy": "2023-10-04T08:25:39.102801Z",
     "iopub.status.idle": "2023-10-04T08:25:39.111268Z",
     "shell.execute_reply": "2023-10-04T08:25:39.111268Z"
    }
   },
   "outputs": [
    {
     "name": "stdout",
     "output_type": "stream",
     "text": [
      "`z` =  [ 7  6  6  8 10]\n"
     ]
    }
   ],
   "source": [
    "#! BEGIN ANSWER\n",
    "z = M = np.array([\n",
    "    [7, 3, 18, 2],\n",
    "    [4, 6, 12, 1],\n",
    "    [6, 8, 0, 14],\n",
    "    [10, 3, 0, 1]\n",
    "])\n",
    "print(\"`z` = \",z[(z >= 5) & (z <= 10)])\n",
    "#! END ANSWER"
   ]
  },
  {
   "cell_type": "markdown",
   "metadata": {
    "id": "x-Abuikq6jsI"
   },
   "source": [
    "> Now run the cell below to clear all your variables before moving on to the next exercise"
   ]
  },
  {
   "cell_type": "code",
   "execution_count": 23,
   "metadata": {
    "execution": {
     "iopub.execute_input": "2023-10-04T08:25:39.111268Z",
     "iopub.status.busy": "2023-10-04T08:25:39.111268Z",
     "iopub.status.idle": "2023-10-04T08:25:39.247343Z",
     "shell.execute_reply": "2023-10-04T08:25:39.247343Z"
    },
    "id": "QAibB7bf6h68"
   },
   "outputs": [],
   "source": [
    "%reset -f"
   ]
  },
  {
   "cell_type": "markdown",
   "metadata": {},
   "source": [
    "# Mixed Exercises"
   ]
  },
  {
   "cell_type": "markdown",
   "metadata": {},
   "source": [
    "## Exercise 4.1 The Birthday Paradox\n",
    "The Birthday Paradox refers to the counter-intuitive probability that in a set of just 23 people, there is a better than even chance that two of them share the same birthday. For 70 people, it\u2019s almost 99.9%.\n",
    "\n",
    "a) Use numpy to simulate a room of `n` people. Assign each person a random birthday (a number from 1 until 365). Then assess whether or not there is a shared birthday.\n",
    "> Hint: Write it as a function, as for the next question, you will repeat the process many times."
   ]
  },
  {
   "cell_type": "code",
   "execution_count": 24,
   "metadata": {
    "execution": {
     "iopub.execute_input": "2023-10-04T08:25:39.250926Z",
     "iopub.status.busy": "2023-10-04T08:25:39.250926Z",
     "iopub.status.idle": "2023-10-04T08:25:39.260051Z",
     "shell.execute_reply": "2023-10-04T08:25:39.259554Z"
    }
   },
   "outputs": [
    {
     "name": "stdout",
     "output_type": "stream",
     "text": [
      "True\n"
     ]
    }
   ],
   "source": [
    "import numpy as np\n",
    "\n",
    "n_people = 100 #number of people\n",
    "\n",
    "#! BEGIN ANSWER\n",
    "def has_shared_birthday(num_people):\n",
    "    # Assign random birthdays (days of the year: 1-365)\n",
    "    birthdays = np.random.randint(1, 366, num_people)\n",
    "    unique_birthdays = np.unique(birthdays)\n",
    "    return len(birthdays) != len(unique_birthdays)\n",
    "\n",
    "print(has_shared_birthday(n_people))\n",
    "\n",
    "#! END ANSWER"
   ]
  },
  {
   "cell_type": "markdown",
   "metadata": {},
   "source": [
    "b) Repeat this process for a large number of trials (e.g., 10,000 times) to get an estimate of the probability that at least two people share a birthday in a room of `n` people."
   ]
  },
  {
   "cell_type": "code",
   "execution_count": 25,
   "metadata": {
    "execution": {
     "iopub.execute_input": "2023-10-04T08:25:39.265201Z",
     "iopub.status.busy": "2023-10-04T08:25:39.264249Z",
     "iopub.status.idle": "2023-10-04T08:25:39.477408Z",
     "shell.execute_reply": "2023-10-04T08:25:39.476370Z"
    }
   },
   "outputs": [
    {
     "name": "stdout",
     "output_type": "stream",
     "text": [
      "`probability` =  1.0\n"
     ]
    }
   ],
   "source": [
    "n_trials = 10000 #number of trials\n",
    "\n",
    "#! BEGIN ANSWER\n",
    "def simulate_probabilty(n_people, n_trials):\n",
    "    count = 0 #initialize\n",
    "    for _ in range(n_trials):\n",
    "        matches = has_shared_birthday(n_people)\n",
    "        if matches == True:\n",
    "            count = count + 1\n",
    "        probability = count / n_trials\n",
    "    return probability\n",
    "    \n",
    "print(\"`probability` = \", simulate_probabilty(n_people, n_trials))\n",
    "\n",
    "#! END ANSWER"
   ]
  },
  {
   "cell_type": "markdown",
   "metadata": {},
   "source": [
    "c) Assess the probability of two people having the same birthday as `n` varies from 1 to 100. It might take some time to compute depending on how many trials you run. Store the probability in `y` and the corresponding number of people in `x`."
   ]
  },
  {
   "cell_type": "code",
   "execution_count": 26,
   "metadata": {
    "execution": {
     "iopub.execute_input": "2023-10-04T08:25:39.477408Z",
     "iopub.status.busy": "2023-10-04T08:25:39.477408Z",
     "iopub.status.idle": "2023-10-04T08:25:53.903902Z",
     "shell.execute_reply": "2023-10-04T08:25:53.903902Z"
    }
   },
   "outputs": [
    {
     "data": {
      "image/png": "[encoded data removed]",
      "text/plain": [
       "<Figure size 350x300 with 1 Axes>"
      ]
     },
     "metadata": {},
     "output_type": "display_data"
    }
   ],
   "source": [
    "#! BEGIN ANSWER\n",
    "y = np.zeros(100) #store the probabilities\n",
    "x = np.arange(1, n_people + 1) # store the number of people\n",
    "\n",
    "for i in range(1, n_people + 1):\n",
    "    y[i-1] = simulate_probabilty(i, n_trials)\n",
    "\n",
    "#! END ANSWER\n",
    "\n",
    "# Plotting (optional)\n",
    "import matplotlib.pyplot as plt\n",
    "\n",
    "plt.figure(figsize=(3.5, 3))    \n",
    "plt.plot(x, y, '-o')\n",
    "plt.xlabel(\"Number of people\")\n",
    "plt.ylabel(\"Probability of shared birthday\")\n",
    "plt.title(f\"Probability of Shared Birthday (over {n_trials} trials)\")\n",
    "plt.grid(True)\n",
    "plt.show()"
   ]
  },
  {
   "cell_type": "markdown",
   "metadata": {},
   "source": [
    "d) Assess if the claim made at the beginning is true. In a set of just 23 people, is there a chance higher than 50% that two of them share the same birthday?"
   ]
  },
  {
   "cell_type": "code",
   "execution_count": 27,
   "metadata": {
    "execution": {
     "iopub.execute_input": "2023-10-04T08:25:53.903902Z",
     "iopub.status.busy": "2023-10-04T08:25:53.903902Z",
     "iopub.status.idle": "2023-10-04T08:25:53.913938Z",
     "shell.execute_reply": "2023-10-04T08:25:53.912695Z"
    }
   },
   "outputs": [
    {
     "name": "stdout",
     "output_type": "stream",
     "text": [
      "[ True]\n"
     ]
    }
   ],
   "source": [
    "#! BEGIN ANSWER\n",
    "index = np.arange(len(x))[x == 23]\n",
    "probability = y[index] >= 0.5\n",
    "print(probability)\n",
    "\n",
    "#! END ANSWER"
   ]
  },
  {
   "cell_type": "markdown",
   "metadata": {},
   "source": [
    "> Now run the cell below to clear all your variables before moving on to the next exercise"
   ]
  },
  {
   "cell_type": "code",
   "execution_count": 28,
   "metadata": {
    "execution": {
     "iopub.execute_input": "2023-10-04T08:25:53.914443Z",
     "iopub.status.busy": "2023-10-04T08:25:53.914443Z",
     "iopub.status.idle": "2023-10-04T08:25:53.992897Z",
     "shell.execute_reply": "2023-10-04T08:25:53.992897Z"
    }
   },
   "outputs": [],
   "source": [
    "%reset -f"
   ]
  },
  {
   "cell_type": "markdown",
   "metadata": {},
   "source": [
    "## Exercise 4.2: Bingo!\n",
    "\n",
    "In this exercise we are playing Bingo. Herein, we use 5x5 numpy arrays as bingo cards and a random list of non-repeating numbers representating the numbers called by the game master. Your task is the write a programme that strikes off the numbers from each card and determines the winner(s).\n",
    "\n",
    "a) For a given Bingo card, you must be able to determine whether or not they have won. One way to do this is by replace all the numbers that have called by -1 on the card. This way, by simply adding up all columns or rows to find a sum of -5, it is possible to determine whether or not this card has Bingo. Make a function that performs this check on a single card."
   ]
  },
  {
   "cell_type": "code",
   "execution_count": 29,
   "metadata": {
    "execution": {
     "iopub.execute_input": "2023-10-04T08:25:53.992897Z",
     "iopub.status.busy": "2023-10-04T08:25:53.992897Z",
     "iopub.status.idle": "2023-10-04T08:25:54.006624Z",
     "shell.execute_reply": "2023-10-04T08:25:54.006624Z"
    }
   },
   "outputs": [],
   "source": [
    "#! BEGIN EXCLUDE\n",
    "\n",
    "#GENERATING THE DATA FOR THE QUESTION\n",
    "\n",
    "import numpy as np\n",
    "import random\n",
    "\n",
    "#set the seed to create the same numbers every time\n",
    "random.seed(69)\n",
    "\n",
    "# Set the range of numbers you want to choose from\n",
    "start_range = 1\n",
    "end_range = 30\n",
    "num_elements = 25  # The number of non-repeating random numbers you want\n",
    "number_of_players = 25\n",
    "\n",
    "def create_bingo_cards(start_range, end_range, num_elements):\n",
    "    # Generate a list of unique random numbers\n",
    "    random_numbers = random.sample(range(start_range, end_range + 1), num_elements)\n",
    "    card = np.reshape(random_numbers,[5,5])\n",
    "    return card\n",
    "\n",
    "bingo_cards = [] #create empty list\n",
    "\n",
    "for _ in range(number_of_players):\n",
    "    bingo_cards.append(create_bingo_cards(start_range, end_range, num_elements))\n",
    "\n",
    "bingo_cards = np.array(bingo_cards) #convert list to array\n",
    "np.save(\"bingo_cards.npy\", bingo_cards)\n",
    "\n",
    "# create list of numbers called\n",
    "numbers_called = random.sample(range(start_range, end_range + 1), end_range-start_range+1)\n",
    "np.save(\"numbers_called.npy\", numbers_called)\n",
    "\n",
    "#! END EXCLUDE"
   ]
  },
  {
   "cell_type": "code",
   "execution_count": 30,
   "metadata": {
    "execution": {
     "iopub.execute_input": "2023-10-04T08:25:54.006624Z",
     "iopub.status.busy": "2023-10-04T08:25:54.006624Z",
     "iopub.status.idle": "2023-10-04T08:25:54.017175Z",
     "shell.execute_reply": "2023-10-04T08:25:54.017175Z"
    }
   },
   "outputs": [],
   "source": [
    "import numpy as np \n",
    "\n",
    "# Loading the data\n",
    "bingo_cards = np.load(\"bingo_cards.npy\")\n",
    "numbers_called = np.load(\"numbers_called.npy\")\n",
    "\n",
    "#! BEGIN ANSWER\n",
    "def check_bingo(bingo_card):\n",
    "    \"this function checks whether or not there is bingo by summing the rows and columns to find a sum of -5\"\n",
    "    rows = bingo_card.sum(0)\n",
    "    columns = bingo_card.sum(1)\n",
    "    return -5 in rows or -5 in columns\n",
    "#! END ANSWER"
   ]
  },
  {
   "cell_type": "markdown",
   "metadata": {},
   "source": [
    "b) Make a function that replaces the called number by -1 in a bingo card."
   ]
  },
  {
   "cell_type": "code",
   "execution_count": 31,
   "metadata": {
    "execution": {
     "iopub.execute_input": "2023-10-04T08:25:54.017175Z",
     "iopub.status.busy": "2023-10-04T08:25:54.017175Z",
     "iopub.status.idle": "2023-10-04T08:25:54.024888Z",
     "shell.execute_reply": "2023-10-04T08:25:54.024888Z"
    }
   },
   "outputs": [],
   "source": [
    "#! BEGIN ANSWER\n",
    "def replace_number(called_number, bingo_card):\n",
    "    \"this function replaces the called number by -1 if it is present on the bingo card\"\n",
    "    bingo_card[bingo_card == called_number] = -1\n",
    "#! END ANSWER"
   ]
  },
  {
   "cell_type": "markdown",
   "metadata": {},
   "source": [
    "c) Now it is time to set up the Bingo game. Keep in mind the order in which the events need to take place. Remember to end the game when at least one person has an entire row or column of their numbers called. \n",
    "> Hint: make sure you check for multiple winners in the same round. However, it is smart to work in steps and only integrate this last."
   ]
  },
  {
   "cell_type": "code",
   "execution_count": 32,
   "metadata": {
    "execution": {
     "iopub.execute_input": "2023-10-04T08:25:54.024888Z",
     "iopub.status.busy": "2023-10-04T08:25:54.024888Z",
     "iopub.status.idle": "2023-10-04T08:25:54.040349Z",
     "shell.execute_reply": "2023-10-04T08:25:54.040349Z"
    }
   },
   "outputs": [
    {
     "name": "stdout",
     "output_type": "stream",
     "text": [
      "The winner is player(s) [12, 24]\n"
     ]
    }
   ],
   "source": [
    "#! BEGIN ANSWER\n",
    "winners = []\n",
    "\n",
    "for n in numbers_called:\n",
    "    for i,card in enumerate(bingo_cards):\n",
    "        replace_number(n, card)\n",
    "        has_won = check_bingo(card)\n",
    "        if has_won:\n",
    "            winners.append(i)\n",
    "    if winners:\n",
    "        break\n",
    "        \n",
    "print(\"The winner is player(s)\", winners)\n",
    "\n",
    "#! END ANSWER"
   ]
  }
 ],
 "metadata": {
  "colab": {
   "provenance": []
  },
  "kernelspec": {
   "display_name": "Python 3 (ipykernel)",
   "language": "python",
   "name": "python3"
  },
  "language_info": {
   "codemirror_mode": {
    "name": "ipython",
    "version": 3
   },
   "file_extension": ".py",
   "mimetype": "text/x-python",
   "name": "python",
   "nbconvert_exporter": "python",
   "pygments_lexer": "ipython3",
   "version": "3.11.4"
  }
 },
 "nbformat": 4,
 "nbformat_minor": 4
}