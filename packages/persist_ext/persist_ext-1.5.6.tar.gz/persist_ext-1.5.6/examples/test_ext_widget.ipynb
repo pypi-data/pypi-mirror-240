{
 "cells": [
  {
   "cell_type": "code",
   "execution_count": 7,
   "id": "9c930f8c-7612-4e28-bc80-439c3cfcd7b4",
   "metadata": {
    "trrack_graph": "໢尭䲠 "
   },
   "outputs": [],
   "source": [
    "##### import pandas as pd\n",
    "import persist_ext as PR\n",
    "from persist_ext import plot\n",
    "import altair as alt\n",
    "from vega_datasets import data\n",
    "import pandas as pd\n",
    "\n",
    "PR.dev.DEV = True "
   ]
  },
  {
   "cell_type": "code",
   "execution_count": 8,
   "id": "865de998-8e43-4643-aa6a-93bc1289f30b",
   "metadata": {
    "trrack_graph": "ᯡ࠽䈌ʀ匦㢠⹰҃Xڂ䂌ϐୠೠ⌠ᘪ䑾䂃¼∤᧵Fจ睯છ壠テ⒴E䨲ࡔⳙժ⭵咂曳嚯ἡ⅂†桠ûᧂẰӁĠנ搬W౐㮨⃎濻倡㜴㔠ʑ㥀ǔÚ䍃Ꭼᳱh㏆ݐ沀倠祐ሹܡ䱏䏥叐Ź梦{భ妬∬挤䍴淤ၹ䐨憪᫠ඎ⺄ޕ䏢Þ䎞獩ᖦ悮沩ǡ᪁㕖o#䦝氃φ痌⇥⼖䞆ᱤ䩽恣ӣ劃㢁⑐暆ഹಯѮ䞁憱࠸琠䨥ڃ場ᐸ偃泋ۺ≩ỉ࠸㉦䙀⁺掐搸㘿ك䡴᜵▀㡼ᚿ䐳ӂ≠֢֔⏛䭆戴㲒佢ォൗ௣᎔児搠 "
   },
   "outputs": [
    {
     "data": {
      "text/html": [
       "<div>\n",
       "<style scoped>\n",
       "    .dataframe tbody tr th:only-of-type {\n",
       "        vertical-align: middle;\n",
       "    }\n",
       "\n",
       "    .dataframe tbody tr th {\n",
       "        vertical-align: top;\n",
       "    }\n",
       "\n",
       "    .dataframe thead th {\n",
       "        text-align: right;\n",
       "    }\n",
       "</style>\n",
       "<table border=\"1\" class=\"dataframe\">\n",
       "  <thead>\n",
       "    <tr style=\"text-align: right;\">\n",
       "      <th></th>\n",
       "      <th>Name</th>\n",
       "      <th>Miles_per_Gallon</th>\n",
       "      <th>Cylinders</th>\n",
       "      <th>Displacement</th>\n",
       "      <th>Horsepower</th>\n",
       "      <th>Weight_in_lbs</th>\n",
       "      <th>Acceleration</th>\n",
       "      <th>Year</th>\n",
       "      <th>Origin</th>\n",
       "    </tr>\n",
       "  </thead>\n",
       "  <tbody>\n",
       "    <tr>\n",
       "      <th>0</th>\n",
       "      <td>chevrolet chevelle malibu</td>\n",
       "      <td>18.0</td>\n",
       "      <td>8</td>\n",
       "      <td>307.0</td>\n",
       "      <td>130.0</td>\n",
       "      <td>3504</td>\n",
       "      <td>12.0</td>\n",
       "      <td>1970-01-01</td>\n",
       "      <td>USA</td>\n",
       "    </tr>\n",
       "    <tr>\n",
       "      <th>1</th>\n",
       "      <td>buick skylark 320</td>\n",
       "      <td>15.0</td>\n",
       "      <td>8</td>\n",
       "      <td>350.0</td>\n",
       "      <td>165.0</td>\n",
       "      <td>3693</td>\n",
       "      <td>11.5</td>\n",
       "      <td>1970-01-01</td>\n",
       "      <td>USA</td>\n",
       "    </tr>\n",
       "    <tr>\n",
       "      <th>2</th>\n",
       "      <td>plymouth satellite</td>\n",
       "      <td>18.0</td>\n",
       "      <td>8</td>\n",
       "      <td>318.0</td>\n",
       "      <td>150.0</td>\n",
       "      <td>3436</td>\n",
       "      <td>11.0</td>\n",
       "      <td>1970-01-01</td>\n",
       "      <td>USA</td>\n",
       "    </tr>\n",
       "    <tr>\n",
       "      <th>3</th>\n",
       "      <td>amc rebel sst</td>\n",
       "      <td>16.0</td>\n",
       "      <td>8</td>\n",
       "      <td>304.0</td>\n",
       "      <td>150.0</td>\n",
       "      <td>3433</td>\n",
       "      <td>12.0</td>\n",
       "      <td>1970-01-01</td>\n",
       "      <td>USA</td>\n",
       "    </tr>\n",
       "    <tr>\n",
       "      <th>4</th>\n",
       "      <td>ford torino</td>\n",
       "      <td>17.0</td>\n",
       "      <td>8</td>\n",
       "      <td>302.0</td>\n",
       "      <td>140.0</td>\n",
       "      <td>3449</td>\n",
       "      <td>10.5</td>\n",
       "      <td>1970-01-01</td>\n",
       "      <td>USA</td>\n",
       "    </tr>\n",
       "  </tbody>\n",
       "</table>\n",
       "</div>"
      ],
      "text/plain": [
       "                        Name  Miles_per_Gallon  Cylinders  Displacement  \\\n",
       "0  chevrolet chevelle malibu              18.0          8         307.0   \n",
       "1          buick skylark 320              15.0          8         350.0   \n",
       "2         plymouth satellite              18.0          8         318.0   \n",
       "3              amc rebel sst              16.0          8         304.0   \n",
       "4                ford torino              17.0          8         302.0   \n",
       "\n",
       "   Horsepower  Weight_in_lbs  Acceleration       Year Origin  \n",
       "0       130.0           3504          12.0 1970-01-01    USA  \n",
       "1       165.0           3693          11.5 1970-01-01    USA  \n",
       "2       150.0           3436          11.0 1970-01-01    USA  \n",
       "3       150.0           3433          12.0 1970-01-01    USA  \n",
       "4       140.0           3449          10.5 1970-01-01    USA  "
      ]
     },
     "execution_count": 8,
     "metadata": {},
     "output_type": "execute_result"
    }
   ],
   "source": [
    "cars = data.cars()\n",
    "cars.head()"
   ]
  },
  {
   "cell_type": "code",
   "execution_count": 9,
   "id": "82f9dab1-06be-481e-9147-845bf7bed257",
   "metadata": {
    "__GENERATED_DATAFRAMES__": "ᯡࠣ䅬Ԁ朤壠ᜣ琢〹夦゠⹰〮⁁䁻қ䚾ኊ㇠നСࠩ瀮晼Ƭ穅5愠៤⠠ ",
    "__has_persist_output": true,
    "trrack_graph": "ᯡ࠽䈌ʀ匦㢠⹰໠ጡ䘦ダ㌴怶䊠าÒཛྷ䃌⴨҅坉҃⩕搦捪㤸栢㢲䀤奢℮䶯Ñᥪ檕ය寔爇恘␠ന;c̸䍲´၀Û璡䀦熦ྑѕ嶧ఠᚃٰG⮲;‫偔᭛䲰,̬࢑囦Ԡ޳ŀĹ屢→ड़⬾ᙼၐ˸憍䛂ႃᡄᛖ晁۬≤స㘠歪熰㟜ᄰؐᨮ宑䘸嬤❴␮˳ߍ堢㰠໋ཟద៓ㄦ᎐㥛్䡀ॉნⒷã乑昰犸䩐湂Ⴃ᠐䑆烐⠾⃧巨捙Ā淖⥒⌥╶凒ṑ¢᭛䵄悐簱੠僈婝ӡヸื௧焤ᄲ‥㤤ⅳ䏣ᄃ犜⥤⛉⒭ʽ卲ⁱ䠠 "
   },
   "outputs": [
    {
     "data": {
      "application/vnd.jupyter.widget-view+json": {
       "model_id": "02495a30e1304f3fa638637931186f28",
       "version_major": 2,
       "version_minor": 0
      },
      "text/plain": [
       "PersistWidget(data_values=[{'__id_column': '1', 'Name': 'chevrolet chevelle malibu', 'Miles_per_Gallon': 18.0,…"
      ]
     },
     "execution_count": 9,
     "metadata": {},
     "output_type": "execute_result"
    }
   ],
   "source": [
    "a = PR.PersistTable(cars)\n",
    "a"
   ]
  }
 ],
 "metadata": {
  "__CATEGORIES__": "{\"categories\":{\"A\":{\"name\":\"A\",\"options\":{\"1\":{\"name\":\"1\"},\"2\":{\"name\":\"2\"},\"3\":{\"name\":\"3\"},\"_None\":{\"name\":\"None\"}}}},\"activeCategoryName\":\"A\"}",
  "__USER_ADDED_CATEGORIES__": "{\"__version\":\"1\",\"categories\":[],\"activeCategoryName\":\"\"}",
  "__persist_nb_uuid__": "15b6440c-b112-4dd1-bff1-41461f6ea5c3",
  "kernelspec": {
   "display_name": "Python 3 (ipykernel)",
   "language": "python",
   "name": "python3"
  },
  "language_info": {
   "codemirror_mode": {
    "name": "ipython",
    "version": 3
   },
   "file_extension": ".py",
   "mimetype": "text/x-python",
   "name": "python",
   "nbconvert_exporter": "python",
   "pygments_lexer": "ipython3",
   "version": "3.8.16"
  }
 },
 "nbformat": 4,
 "nbformat_minor": 5
}
