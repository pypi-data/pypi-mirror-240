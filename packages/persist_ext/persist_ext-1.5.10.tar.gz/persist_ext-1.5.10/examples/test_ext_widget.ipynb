{
 "cells": [
  {
   "cell_type": "code",
   "execution_count": 1,
   "id": "9c930f8c-7612-4e28-bc80-439c3cfcd7b4",
   "metadata": {
    "editable": true,
    "slideshow": {
     "slide_type": ""
    },
    "tags": []
   },
   "outputs": [],
   "source": [
    "##### import pandas as pd\n",
    "import persist_ext as PR\n",
    "from persist_ext import plot\n",
    "import altair as alt\n",
    "from vega_datasets import data\n",
    "import pandas as pd\n",
    "\n",
    "PR.dev.DEV = True "
   ]
  },
  {
   "cell_type": "code",
   "execution_count": 2,
   "id": "865de998-8e43-4643-aa6a-93bc1289f30b",
   "metadata": {
    "editable": true,
    "slideshow": {
     "slide_type": ""
    },
    "tags": []
   },
   "outputs": [
    {
     "data": {
      "text/html": [
       "<div>\n",
       "<style scoped>\n",
       "    .dataframe tbody tr th:only-of-type {\n",
       "        vertical-align: middle;\n",
       "    }\n",
       "\n",
       "    .dataframe tbody tr th {\n",
       "        vertical-align: top;\n",
       "    }\n",
       "\n",
       "    .dataframe thead th {\n",
       "        text-align: right;\n",
       "    }\n",
       "</style>\n",
       "<table border=\"1\" class=\"dataframe\">\n",
       "  <thead>\n",
       "    <tr style=\"text-align: right;\">\n",
       "      <th></th>\n",
       "      <th>Name</th>\n",
       "      <th>Miles_per_Gallon</th>\n",
       "      <th>Cylinders</th>\n",
       "      <th>Displacement</th>\n",
       "      <th>Horsepower</th>\n",
       "      <th>Weight_in_lbs</th>\n",
       "      <th>Acceleration</th>\n",
       "      <th>Year</th>\n",
       "      <th>Origin</th>\n",
       "    </tr>\n",
       "  </thead>\n",
       "  <tbody>\n",
       "    <tr>\n",
       "      <th>0</th>\n",
       "      <td>chevrolet chevelle malibu</td>\n",
       "      <td>18.0</td>\n",
       "      <td>8</td>\n",
       "      <td>307.0</td>\n",
       "      <td>130.0</td>\n",
       "      <td>3504</td>\n",
       "      <td>12.0</td>\n",
       "      <td>1970-01-01</td>\n",
       "      <td>USA</td>\n",
       "    </tr>\n",
       "    <tr>\n",
       "      <th>1</th>\n",
       "      <td>buick skylark 320</td>\n",
       "      <td>15.0</td>\n",
       "      <td>8</td>\n",
       "      <td>350.0</td>\n",
       "      <td>165.0</td>\n",
       "      <td>3693</td>\n",
       "      <td>11.5</td>\n",
       "      <td>1970-01-01</td>\n",
       "      <td>USA</td>\n",
       "    </tr>\n",
       "    <tr>\n",
       "      <th>2</th>\n",
       "      <td>plymouth satellite</td>\n",
       "      <td>18.0</td>\n",
       "      <td>8</td>\n",
       "      <td>318.0</td>\n",
       "      <td>150.0</td>\n",
       "      <td>3436</td>\n",
       "      <td>11.0</td>\n",
       "      <td>1970-01-01</td>\n",
       "      <td>USA</td>\n",
       "    </tr>\n",
       "    <tr>\n",
       "      <th>3</th>\n",
       "      <td>amc rebel sst</td>\n",
       "      <td>16.0</td>\n",
       "      <td>8</td>\n",
       "      <td>304.0</td>\n",
       "      <td>150.0</td>\n",
       "      <td>3433</td>\n",
       "      <td>12.0</td>\n",
       "      <td>1970-01-01</td>\n",
       "      <td>USA</td>\n",
       "    </tr>\n",
       "    <tr>\n",
       "      <th>4</th>\n",
       "      <td>ford torino</td>\n",
       "      <td>17.0</td>\n",
       "      <td>8</td>\n",
       "      <td>302.0</td>\n",
       "      <td>140.0</td>\n",
       "      <td>3449</td>\n",
       "      <td>10.5</td>\n",
       "      <td>1970-01-01</td>\n",
       "      <td>USA</td>\n",
       "    </tr>\n",
       "  </tbody>\n",
       "</table>\n",
       "</div>"
      ],
      "text/plain": [
       "                        Name  Miles_per_Gallon  Cylinders  Displacement  \\\n",
       "0  chevrolet chevelle malibu              18.0          8         307.0   \n",
       "1          buick skylark 320              15.0          8         350.0   \n",
       "2         plymouth satellite              18.0          8         318.0   \n",
       "3              amc rebel sst              16.0          8         304.0   \n",
       "4                ford torino              17.0          8         302.0   \n",
       "\n",
       "   Horsepower  Weight_in_lbs  Acceleration       Year Origin  \n",
       "0       130.0           3504          12.0 1970-01-01    USA  \n",
       "1       165.0           3693          11.5 1970-01-01    USA  \n",
       "2       150.0           3436          11.0 1970-01-01    USA  \n",
       "3       150.0           3433          12.0 1970-01-01    USA  \n",
       "4       140.0           3449          10.5 1970-01-01    USA  "
      ]
     },
     "execution_count": 2,
     "metadata": {},
     "output_type": "execute_result"
    }
   ],
   "source": [
    "cars = data.cars()\n",
    "cars.head()"
   ]
  },
  {
   "cell_type": "code",
   "execution_count": 3,
   "id": "16b569f5-3c51-4f73-b7ba-88aef8731f9e",
   "metadata": {},
   "outputs": [],
   "source": [
    "cars.iloc[0, 1] = \"18.0.\""
   ]
  },
  {
   "cell_type": "code",
   "execution_count": 4,
   "id": "fd3357c8-cfc9-4620-abcc-c9d49494ddc7",
   "metadata": {
    "editable": true,
    "slideshow": {
     "slide_type": ""
    },
    "tags": []
   },
   "outputs": [],
   "source": [
    "import altair as alt\n",
    "from vega_datasets import data\n",
    "\n",
    "source = data.cars()\n",
    "brush = alt.selection_interval(name=\"selector\")\n",
    "\n",
    "chart = alt.Chart(source).mark_bar().encode(\n",
    "    y='count():Q',\n",
    "    x='Miles_per_Gallon:Q',\n",
    "    color=alt.condition(brush, 'Cylinders:O', alt.value('grey')),\n",
    ").add_params(brush)"
   ]
  },
  {
   "cell_type": "code",
   "execution_count": 5,
   "id": "3e1630c0-2ed8-4eb1-8045-c57d1fcdeb56",
   "metadata": {
    "__GENERATED_DATAFRAMES__": "ᯡࠣ䅬Ԁ朤壠ᜣ琢〹夤゠⹰〮⁁䁻қ䚾ኊ㇠നСࠩ瀮晼Ƭ穅5愠៤⠠ ",
    "__has_persist_output": true,
    "trrack_graph": "ᯡ࠽䈌ʀ匦㢠⹰Ǡ⌠ⰸ᦭ːୠ࣠ᦠ両٤〭䇑ᑉ䁑䣔␳ડ洊祱ኤ䨠ዤㄨ㩌岥╈毴㉌曣䮯㽔䇢†桠ùӢᩢ)™+䃨ఠ㜸ㄖ反汝〡㌴㔠ʕ㥀ǔÚ䍃㎹䤠䢊昪勸惀Ēいᨽʢ䯣䡃择椬Ö᡻ᕈ䐪䘩Ӎ妨⅓࠱䌲ච᫴啨ഋޤƝ۝䛒ᕋᛡૹण䁔懋㘠传ς橷曩浸䆩尼乴玄ࠤ䋠䕭䃃厄储咘㊖إਮ䄐ʇ㴰⥞҈Ⴎ䅀䡐⌡慻嘶≧䅨䂣ɘㄢɖ㮺ⓠ焘ㄼ䛂栬ጥ䞂㣼ἠ∰䐩5栶Ю⤬䦯䢑╞᫄ቔኖ䯁द† "
   },
   "outputs": [
    {
     "data": {
      "application/vnd.jupyter.widget-view+json": {
       "model_id": "d0728e84c60c4ac29b4f9741725ff3d6",
       "version_major": 2,
       "version_minor": 0
      },
      "text/plain": [
       "PersistWidget(data_values=[{'__id_column': '1', 'Name': 'chevrolet chevelle malibu', 'Miles_per_Gallon': '18.0…"
      ]
     },
     "execution_count": 5,
     "metadata": {},
     "output_type": "execute_result"
    }
   ],
   "source": [
    "# a = PR.PersistChart(chart, data=source)\n",
    "a = PR.PersistTable(data=cars)\n",
    "a"
   ]
  },
  {
   "cell_type": "code",
   "execution_count": 6,
   "id": "4ed9dcb0-9956-43fc-a183-9842bae1d41e",
   "metadata": {},
   "outputs": [
    {
     "ename": "NameError",
     "evalue": "name 'persist_df_1' is not defined",
     "output_type": "error",
     "traceback": [
      "\u001b[0;31m---------------------------------------------------------------------------\u001b[0m",
      "\u001b[0;31mNameError\u001b[0m                                 Traceback (most recent call last)",
      "Cell \u001b[0;32mIn[6], line 1\u001b[0m\n\u001b[0;32m----> 1\u001b[0m \u001b[43mpersist_df_1\u001b[49m\u001b[38;5;241m.\u001b[39msort_values(\u001b[38;5;124m\"\u001b[39m\u001b[38;5;124mMiles_per_Gallon\u001b[39m\u001b[38;5;124m\"\u001b[39m, ascending\u001b[38;5;241m=\u001b[39m\u001b[38;5;28;01mFalse\u001b[39;00m)\n",
      "\u001b[0;31mNameError\u001b[0m: name 'persist_df_1' is not defined"
     ]
    }
   ],
   "source": [
    "persist_df_1.sort_values(\"Miles_per_Gallon\", ascending=False)"
   ]
  },
  {
   "cell_type": "code",
   "execution_count": null,
   "id": "598f7529-bd58-4cf5-9cda-307fbb4752d3",
   "metadata": {
    "__GENERATED_DATAFRAMES__": "ᯡࠣ䅬Ԁ朤壠ᜣ琢〹夦゠⹰〮⁁䁻қ䚾ኊ㇠നСࠩ瀮晼Ƭ穅5愠៤⠠ ",
    "__has_persist_output": true,
    "trrack_graph": "ᯡ࠽䈌ʀ匦㢠⹰ಀ㌠晳㬤〶䀫.ੑె簤ᬂ圜ᠪ惭℠ᠧブ墠乮ⓀŌ傰䏂懦䁤䲥㕚٭ⷹ㬗爲&䈠۶䀱䘡撠┨ࠠ⺚₀ǘ憣屢֖绪+⢣⠠Ꭻ䤠ව׷根ᳬ䢼紴ろۦԠ޳ł烈Ȣ⩞×ၠӨ⟰˸悍㑂ၺᡄ᫆橁Ӭ⁧疭嘠殒浀㯌Ḱؗ気ᩑ㑈ᬤ㮄␮ӳ׉堢㰠໫睿పᯝㄪᖗ婚槭䡀煩✴挲㧥ڄ惑঑䖼粃ㅁിڦ䋁⃦ᔶ䀰惹ਾ捺㚲≦٫ᛣቔㄢ˶᮪ⓣ゘ᄴ䝂ࢴാ䒃ᢌܧ䐂Ӣɠ֢֔揖断䨄㱲䑭⥩ഥ᷆দ† "
   },
   "outputs": [],
   "source": [
    "# PR.plot.barchart(source, x=\"utcyear(Year):O\", y=\"count():Q\")"
   ]
  },
  {
   "cell_type": "code",
   "execution_count": null,
   "id": "b75ac547-9b19-43eb-a3c4-bfc1646ccc00",
   "metadata": {},
   "outputs": [],
   "source": [
    "A.head()"
   ]
  },
  {
   "cell_type": "code",
   "execution_count": null,
   "id": "173ed668-8a61-4990-97f1-f84640e5df50",
   "metadata": {},
   "outputs": [],
   "source": [
    "persist_df_1.sort_values(\"Miles_per_Gallon\", ascending=True)"
   ]
  },
  {
   "cell_type": "code",
   "execution_count": null,
   "id": "60436dd0-7b38-49bc-be7f-59e3d5d3f0e5",
   "metadata": {},
   "outputs": [],
   "source": []
  },
  {
   "cell_type": "code",
   "execution_count": null,
   "id": "2def3ac5-dd5a-4bdd-8003-9fe860ec7c4e",
   "metadata": {},
   "outputs": [],
   "source": [
    "params = getattr(chart, \"params\", [])\n",
    "pv = filter(lambda x: hasattr(x, \"views\"), params)\n",
    "view_names = map(lambda x: x.views, pv)\n",
    "v = sum(view_names, [])\n",
    "v"
   ]
  },
  {
   "cell_type": "code",
   "execution_count": null,
   "id": "a794d61b-e5cb-4a6a-b647-f96dc24e843a",
   "metadata": {},
   "outputs": [],
   "source": []
  }
 ],
 "metadata": {
  "__persist_keys_record": [
   "__GENERATED_DATAFRAMES__",
   "trrack_graph",
   "__persist_nb_uuid__"
  ],
  "__persist_nb_uuid__": "a9887c4c-7ebc-4792-bfd4-4e9b37363a74",
  "kernelspec": {
   "display_name": "Python 3 (ipykernel)",
   "language": "python",
   "name": "python3"
  },
  "language_info": {
   "codemirror_mode": {
    "name": "ipython",
    "version": 3
   },
   "file_extension": ".py",
   "mimetype": "text/x-python",
   "name": "python",
   "nbconvert_exporter": "python",
   "pygments_lexer": "ipython3",
   "version": "3.8.16"
  }
 },
 "nbformat": 4,
 "nbformat_minor": 5
}
