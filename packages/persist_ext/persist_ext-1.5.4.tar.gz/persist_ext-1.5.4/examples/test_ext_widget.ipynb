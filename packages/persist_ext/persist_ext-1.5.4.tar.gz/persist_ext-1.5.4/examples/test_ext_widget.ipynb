{
 "cells": [
  {
   "cell_type": "code",
   "execution_count": 1,
   "id": "9c930f8c-7612-4e28-bc80-439c3cfcd7b4",
   "metadata": {
    "trrack_graph": "໢尭䲠 "
   },
   "outputs": [],
   "source": [
    "##### import pandas as pd\n",
    "import persist_ext as PR\n",
    "from persist_ext import plot\n",
    "import altair as alt\n",
    "from vega_datasets import data\n",
    "import pandas as pd\n",
    "\n",
    "# PR.dev.DEV = True"
   ]
  },
  {
   "cell_type": "code",
   "execution_count": 2,
   "id": "18ce82e2-afa1-4b98-88da-02057f0a50ef",
   "metadata": {
    "__GENERATED_DATAFRAMES__": "ᯡࠣ䅬Ԁ朤壠ᜣ琢〹夤゠⹰〮⁁䁻қ䚾ኊ㇠നСࠩ瀮晼Ƭ穅5愠៤⠠ ",
    "__has_persist_output": true,
    "trrack_graph": "ᯡ࠽䈌ʀ匦㢠⹰۠⬺Ҁᶠู倶䶠⚕Т惛֤ѐé䔂̸ῠ✠㍚ĺ炵扪2攩њᙜˤ撩⣷劂涽䯏Áဠ㑀粀๨ɰ䂠̇刦;䘸෤့垎堠媨᪠Ԅ牠Έƕ稦ܳሣή䠷⋑䅠Ȅ恨䰴❇ʥ,无恲㣱稠嬸ᖽѤݦҢ啺䑁榨ㄝὅ䀺晷⠒璦䈡㼚㻆潋ૡ۾ण䉔悊嘠传ς痻挪挍Ɫ䖽㜖㩳㈨ᱲ⮧ⓥ㎐傁㓘噚㝅ᜢ䞿⅃䫒姒⤘त䃂绖૽㒳扐≱㈹慃࠿擐屲اߡࣄ㤩◂ᣬᬣ䆠礜₸⎨Î罀⢕㧄瑼䖬⧈岊䁬桩ᴰ搠 "
   },
   "outputs": [
    {
     "data": {
      "application/vnd.jupyter.widget-view+json": {
       "model_id": "72ecc3b682a74e6297307f1af416d227",
       "version_major": 2,
       "version_minor": 0
      },
      "text/plain": [
       "PersistWidget(data_values=[{'__id_column': '1', 'Name': 'chevrolet chevelle malibu', 'Miles_per_Gallon': 18.0,…"
      ]
     },
     "execution_count": 2,
     "metadata": {},
     "output_type": "execute_result"
    }
   ],
   "source": [
    "a = PR.PersistTable(data.cars())\n",
    "a"
   ]
  },
  {
   "cell_type": "code",
   "execution_count": null,
   "id": "50bad02a-7eb6-4451-8099-9fc167915d9d",
   "metadata": {
    "trrack_graph": "ᯡ࠽䈌ʀ匦㢠⹰ૠㆺ͐රʐ怶䀱墴ɒࠥ䀣ጻС撍ᑭ倹䕠瘴嘇䔼䴲⠠䭈⑁棒瀱ፉ⭾䦫ᬶ⻝紧Ҡǁ#〨㙃ࢊ′䈤7㺰ᠠ湐戎Ⴆ寐皠ˬリ$疒‣㐡㨦䎇㦲ڠ暢๕壡‡犀⒒㸾઻$撇ჰ䯨ؠ嬸ⷑ呤ಆҡ囹䑀妨䢣ㄭ䀺慼㈩瞤∡㸦ƶ晑䴶悡檩ǣ᪀痖o#䖃栃͡璌⃤渮➃גТ╌㓣ᎃ䥩Ҕ๖ᕑְ䲈憠炳ෘ氬๠ᇘʴ愇Ⳗ⤲⌡⑶ᇂᙑ¢᭛䵀悐簱੠凈㨣೥ㇸ䴿Bࡤ䒠଄ࢤ✯٥䟩㣅º匲ᨾಳ储⍀  "
   },
   "outputs": [],
   "source": []
  }
 ],
 "metadata": {
  "__CATEGORIES__": "{\"categories\":{\"A\":{\"name\":\"A\",\"options\":{\"1\":{\"name\":\"1\"},\"2\":{\"name\":\"2\"},\"3\":{\"name\":\"3\"},\"_None\":{\"name\":\"None\"}}}},\"activeCategoryName\":\"A\"}",
  "__USER_ADDED_CATEGORIES__": "{\"__version\":\"1\",\"categories\":[],\"activeCategoryName\":\"\"}",
  "__persist_nb_uuid__": "15b6440c-b112-4dd1-bff1-41461f6ea5c3",
  "kernelspec": {
   "display_name": "Python 3 (ipykernel)",
   "language": "python",
   "name": "python3"
  },
  "language_info": {
   "codemirror_mode": {
    "name": "ipython",
    "version": 3
   },
   "file_extension": ".py",
   "mimetype": "text/x-python",
   "name": "python",
   "nbconvert_exporter": "python",
   "pygments_lexer": "ipython3",
   "version": "3.8.16"
  }
 },
 "nbformat": 4,
 "nbformat_minor": 5
}
