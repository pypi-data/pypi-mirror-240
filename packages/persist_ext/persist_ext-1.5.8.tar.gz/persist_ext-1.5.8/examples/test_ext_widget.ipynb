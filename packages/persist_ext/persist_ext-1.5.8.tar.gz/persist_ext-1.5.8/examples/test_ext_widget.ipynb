{
 "cells": [
  {
   "cell_type": "code",
   "execution_count": 1,
   "id": "9c930f8c-7612-4e28-bc80-439c3cfcd7b4",
   "metadata": {
    "trrack_graph": "໢尭䲠 "
   },
   "outputs": [],
   "source": [
    "##### import pandas as pd\n",
    "import persist_ext as PR\n",
    "from persist_ext import plot\n",
    "import altair as alt\n",
    "from vega_datasets import data\n",
    "import pandas as pd\n",
    "\n",
    "PR.dev.DEV = True "
   ]
  },
  {
   "cell_type": "code",
   "execution_count": 2,
   "id": "865de998-8e43-4643-aa6a-93bc1289f30b",
   "metadata": {
    "trrack_graph": "ᯡ࠽䈌ʀ匦㢠⹰҃Xڂ䂌ϐୠೠ⌠ᘪ䑾䂃¼∤᧵Fจ睯છ壠テ⒴E䨲ࡔⳙժ⭵咂曳嚯ἡ⅂†桠ûᧂẰӁĠנ搬W౐㮨⃎濻倡㜴㔠ʑ㥀ǔÚ䍃Ꭼᳱh㏆ݐ沀倠祐ሹܡ䱏䏥叐Ź梦{భ妬∬挤䍴淤ၹ䐨憪᫠ඎ⺄ޕ䏢Þ䎞獩ᖦ悮沩ǡ᪁㕖o#䦝氃φ痌⇥⼖䞆ᱤ䩽恣ӣ劃㢁⑐暆ഹಯѮ䞁憱࠸琠䨥ڃ場ᐸ偃泋ۺ≩ỉ࠸㉦䙀⁺掐搸㘿ك䡴᜵▀㡼ᚿ䐳ӂ≠֢֔⏛䭆戴㲒佢ォൗ௣᎔児搠 "
   },
   "outputs": [
    {
     "data": {
      "text/html": [
       "<div>\n",
       "<style scoped>\n",
       "    .dataframe tbody tr th:only-of-type {\n",
       "        vertical-align: middle;\n",
       "    }\n",
       "\n",
       "    .dataframe tbody tr th {\n",
       "        vertical-align: top;\n",
       "    }\n",
       "\n",
       "    .dataframe thead th {\n",
       "        text-align: right;\n",
       "    }\n",
       "</style>\n",
       "<table border=\"1\" class=\"dataframe\">\n",
       "  <thead>\n",
       "    <tr style=\"text-align: right;\">\n",
       "      <th></th>\n",
       "      <th>Name</th>\n",
       "      <th>Miles_per_Gallon</th>\n",
       "      <th>Cylinders</th>\n",
       "      <th>Displacement</th>\n",
       "      <th>Horsepower</th>\n",
       "      <th>Weight_in_lbs</th>\n",
       "      <th>Acceleration</th>\n",
       "      <th>Year</th>\n",
       "      <th>Origin</th>\n",
       "    </tr>\n",
       "  </thead>\n",
       "  <tbody>\n",
       "    <tr>\n",
       "      <th>0</th>\n",
       "      <td>chevrolet chevelle malibu</td>\n",
       "      <td>18.0</td>\n",
       "      <td>8</td>\n",
       "      <td>307.0</td>\n",
       "      <td>130.0</td>\n",
       "      <td>3504</td>\n",
       "      <td>12.0</td>\n",
       "      <td>1970-01-01</td>\n",
       "      <td>USA</td>\n",
       "    </tr>\n",
       "    <tr>\n",
       "      <th>1</th>\n",
       "      <td>buick skylark 320</td>\n",
       "      <td>15.0</td>\n",
       "      <td>8</td>\n",
       "      <td>350.0</td>\n",
       "      <td>165.0</td>\n",
       "      <td>3693</td>\n",
       "      <td>11.5</td>\n",
       "      <td>1970-01-01</td>\n",
       "      <td>USA</td>\n",
       "    </tr>\n",
       "    <tr>\n",
       "      <th>2</th>\n",
       "      <td>plymouth satellite</td>\n",
       "      <td>18.0</td>\n",
       "      <td>8</td>\n",
       "      <td>318.0</td>\n",
       "      <td>150.0</td>\n",
       "      <td>3436</td>\n",
       "      <td>11.0</td>\n",
       "      <td>1970-01-01</td>\n",
       "      <td>USA</td>\n",
       "    </tr>\n",
       "    <tr>\n",
       "      <th>3</th>\n",
       "      <td>amc rebel sst</td>\n",
       "      <td>16.0</td>\n",
       "      <td>8</td>\n",
       "      <td>304.0</td>\n",
       "      <td>150.0</td>\n",
       "      <td>3433</td>\n",
       "      <td>12.0</td>\n",
       "      <td>1970-01-01</td>\n",
       "      <td>USA</td>\n",
       "    </tr>\n",
       "    <tr>\n",
       "      <th>4</th>\n",
       "      <td>ford torino</td>\n",
       "      <td>17.0</td>\n",
       "      <td>8</td>\n",
       "      <td>302.0</td>\n",
       "      <td>140.0</td>\n",
       "      <td>3449</td>\n",
       "      <td>10.5</td>\n",
       "      <td>1970-01-01</td>\n",
       "      <td>USA</td>\n",
       "    </tr>\n",
       "  </tbody>\n",
       "</table>\n",
       "</div>"
      ],
      "text/plain": [
       "                        Name  Miles_per_Gallon  Cylinders  Displacement  \\\n",
       "0  chevrolet chevelle malibu              18.0          8         307.0   \n",
       "1          buick skylark 320              15.0          8         350.0   \n",
       "2         plymouth satellite              18.0          8         318.0   \n",
       "3              amc rebel sst              16.0          8         304.0   \n",
       "4                ford torino              17.0          8         302.0   \n",
       "\n",
       "   Horsepower  Weight_in_lbs  Acceleration       Year Origin  \n",
       "0       130.0           3504          12.0 1970-01-01    USA  \n",
       "1       165.0           3693          11.5 1970-01-01    USA  \n",
       "2       150.0           3436          11.0 1970-01-01    USA  \n",
       "3       150.0           3433          12.0 1970-01-01    USA  \n",
       "4       140.0           3449          10.5 1970-01-01    USA  "
      ]
     },
     "execution_count": 2,
     "metadata": {},
     "output_type": "execute_result"
    }
   ],
   "source": [
    "cars = data.cars()\n",
    "cars.head()"
   ]
  },
  {
   "cell_type": "code",
   "execution_count": 3,
   "id": "fd3357c8-cfc9-4620-abcc-c9d49494ddc7",
   "metadata": {
    "trrack_graph": "ᯡ࠽䈌ʀ匦㢠⹰ಃ¸ඪȸɐୠΠ㌪Ǹ䐢擌晥煽౤͑妪ϸ၇᭚㬲ⓀŌ傰䇂旨⩢媽͆ᚍᷚ砪ल&䈠۰䘱璠┨ࠠ⸦₀ǘ憣屢֖绪+㣃⠠Ꭻ䤠ව״᤹ᳬ䢸䌴まۦԠ޳ŀĹ夜縠⭞㊦䖶Ⓞ扲డ㙐᭜ᢨ༬ध⧗ࡢ㌰ᆦʋU䫏࠷欯Т紬䎍皆ජ௒ሧ։䁔氡Ḡݵ篏䘥߹墧૛洼礆搰ⓔ当޹䔆ᐄ৫㑔琺⤴­䖳⌃湹㬦ރ硹㶣㛻⒩హᕹ䚨䓤ЫⲎಣǣ烤㤪䗃梬㌵䄁㡜ἰ☲䐩5栶ծ巆ὁ抴粊䑨楩津ៃಠ  "
   },
   "outputs": [],
   "source": [
    "import altair as alt\n",
    "from vega_datasets import data\n",
    "\n",
    "source = data.cars()\n",
    "brush = alt.selection_interval(name=\"selector\")\n",
    "\n",
    "chart = alt.Chart(source).mark_point().encode(\n",
    "    x='Horsepower:Q',\n",
    "    y='Miles_per_Gallon:Q',\n",
    "    color=alt.condition(brush, 'Cylinders:O', alt.value('grey')),\n",
    ").add_params(brush)"
   ]
  },
  {
   "cell_type": "code",
   "execution_count": 4,
   "id": "3e1630c0-2ed8-4eb1-8045-c57d1fcdeb56",
   "metadata": {
    "__GENERATED_DATAFRAMES__": "ᯡࠣ䅬Ԁ朤壠ᜣ琢〹夤゠⹰〮⁁䁻қ䚾ኊ㇠നСࠩ瀮晼Ƭ穅5愠៤⠠ ",
    "__has_persist_output": true,
    "trrack_graph": "ᯡ࠽䈌ʀ匦㢠⹰ڀ↴ހච噽‶䮪8ࠥ䊠☵Щ抹慰ҁ⁓᜗♕⭠ࣻैkᑄᄈ夐ଳᓃ⽩䖱ގ弝ɤ䀡傠Ǔ∳Қ′䈤7ưᠠ湐戎Ⴆ寐瀸怢湄㊠Ś岰ú}↱姼撪⑑窥册ばᠲᶻࣨ旡戫玐咦{్䴬∦䌤䍶淤ჹ䑈憰䛠ඎ⭦ޔ⍂Þ䎞玚߶悮溩ǡ᪁㗖o#䦃瀃Ȗ痌⇤渮❔גвⵅ╅Ⴣゑ⒤犒ྵ᪤䦨∵䄰粜偢⌦ߚ桐㤥嘻㒹ᆢ剫ヱസ䃡ල憰じ㸨䅀⣴ᴡ䚂墺༯䀳ӂበ֖բ⎧䭂戴岒䁫⦩义Ꮐ剠憰  "
   },
   "outputs": [
    {
     "data": {
      "application/vnd.jupyter.widget-view+json": {
       "model_id": "9a7c1252107644a28f84e0aee5c8e59c",
       "version_major": 2,
       "version_minor": 0
      },
      "text/plain": [
       "PersistWidget(data_values=[{'__id_column': '1', 'Name': 'chevrolet chevelle malibu', 'Miles_per_Gallon': 18.0,…"
      ]
     },
     "execution_count": 4,
     "metadata": {},
     "output_type": "execute_result"
    }
   ],
   "source": [
    "# a = PR.PersistChart(chart, data=source) \n",
    "a = PR.PersistTable(data=source) \n",
    "a"
   ]
  },
  {
   "cell_type": "code",
   "execution_count": 5,
   "id": "173ed668-8a61-4990-97f1-f84640e5df50",
   "metadata": {
    "trrack_graph": "ᯡ࠽䈌ʀ匦㢠⹰ೠ⌠昤煠أఠ瀫⑍Ǥƀ໫垂壠ᖩ燘΂䵺ᗊㆠ䱄倡ᙰ䡣厃扊⹿્㵦ᚍᷚ簔ठ͢&怰怨挿≠ኤР᝽ၐüメ湁˛㾟%䒞吠৥撠۰̉瘔了⑼Ởᡐ掃ʠϩ䂰椌ⱌፕ)䚥䑅兑琡㙐᭣エწण⧑ࡢ㌰ᆚ掋U䋐栳欯Т純͍ౣ㸭䄣夲Φ㔫ၠ㘠传Ϊ搷振䈌池䕽皮䎓⫸䉩䮫䷠扳ඨ䳦婊┡㊴䔪㙃≱ᑚ଩䃡塔ỡ完ቤ䘬䤨⍤Ⲃȥ噗ቩ䄀вಡ⃰琦ᦪ悐尾ྠႀ䈤䀪琫ˇ㮪⋦擘䊿๱ঊ⥓⃄ᅠ  "
   },
   "outputs": [
    {
     "ename": "NameError",
     "evalue": "name 'persist_df_1' is not defined",
     "output_type": "error",
     "traceback": [
      "\u001b[0;31m---------------------------------------------------------------------------\u001b[0m",
      "\u001b[0;31mNameError\u001b[0m                                 Traceback (most recent call last)",
      "Cell \u001b[0;32mIn[5], line 1\u001b[0m\n\u001b[0;32m----> 1\u001b[0m \u001b[43mpersist_df_1\u001b[49m\u001b[38;5;241m.\u001b[39msort_values(\u001b[38;5;124m\"\u001b[39m\u001b[38;5;124mMiles_per_Gallon\u001b[39m\u001b[38;5;124m\"\u001b[39m, ascending\u001b[38;5;241m=\u001b[39m\u001b[38;5;28;01mTrue\u001b[39;00m)\n",
      "\u001b[0;31mNameError\u001b[0m: name 'persist_df_1' is not defined"
     ]
    }
   ],
   "source": [
    "persist_df_1.sort_values(\"Miles_per_Gallon\", ascending=True)"
   ]
  },
  {
   "cell_type": "code",
   "execution_count": null,
   "id": "60436dd0-7b38-49bc-be7f-59e3d5d3f0e5",
   "metadata": {
    "trrack_graph": "ᯡ࠽䈌ʀ匦㢠⹲怦Ƭƀᶠ䘡䰥僩䁮㪦㕵㚤ɓ倳ˬǑ滳¦啭䫷ተ¶⡨⃱㈂ᅎ⥺嚣㍪皼㴘怩#℠΅杦྘䁅ШNᵀ〡岁䍼℮㖆素א廈n䝄V䀷⯇埖᥂冕校⹫ఴ>☤䗥㊲䠡Ⳍ吠݉ጠ೪柭栢沁ᚢ搰᜸ሦ妌Ⴃ♂䎔琶շ࿧尲ࠥ笈ٻ硼瑫ȧⱄܬ榢ࢢⰡḠܵ䮷䘽Ϲ墦क़洌屆㫱㣖㞴䪯䓣刳㉙⢴䱦♁Ὂ҈◢ぴ⼠䆣烄⸦惻㜂ᱦh噃ቌㄡ簶㎢↠じĸ䍀堪㴩䆂哼⼿䐲戠⮿䀵ᱼ䤮ፇ搄ᨱ᳃じ㉦䗁ಠ  "
   },
   "outputs": [],
   "source": []
  },
  {
   "cell_type": "code",
   "execution_count": null,
   "id": "2def3ac5-dd5a-4bdd-8003-9fe860ec7c4e",
   "metadata": {
    "trrack_graph": "ᯡ࠽䈌ʀ匦㢠⹰Ǡ㌡䘣ᢀ瘢㢀ୠᆠᆩⲨ˯坈䓍…ㇴ慀ᬺ仨ࢃ)䆥ैkᑄᄉ夒ર勋⽱䖻ގ帣䍤ð䀡娓ᆨ㵀ॢȠநƸᢀ眰䅽忒Ơ˼リ$熒‣㐡㨦䍇ᦲᦠ憢ఁ壡‡犀⑎㹞5䧢⚁⊓熹砦{భ侬∧挤䋴淤ၹ䑨䆹᫠ඉⰂܗ䉂Þ͡歶ྣ΀䔊䒡恺ㄕᬠ➠ǵ㼇熠挖㙁拎潧Ὑ夤्Ꮿᖵ㇈摤㳒⹓ں䡍⒂䊺䧈ᙙ⥡䃐簩฀淖椲⌡╶凂ṑ¢欻䍄悐ɑ๤傈㨣ӥよ䴯࿢ࡤ漦%㤤ⅳ巫ᆂ੼㥠◉䔖஦┉ᓱ䠠 "
   },
   "outputs": [],
   "source": [
    "params = getattr(chart, \"params\", [])\n",
    "pv = filter(lambda x: hasattr(x, \"views\"), params)\n",
    "view_names = map(lambda x: x.views, pv)\n",
    "v = sum(view_names, [])\n",
    "v"
   ]
  },
  {
   "cell_type": "code",
   "execution_count": null,
   "id": "931ac4d8-4e01-45db-aa58-25b4e3add8c1",
   "metadata": {
    "trrack_graph": "ᯡ࠽䈌ʀ匦㢠⹰ࢀܺ⠻Ì琶䊠شƻ瀥䌠䘠䴘ɑ⁛ޝ听㇢儣ᦞ倩栅ҴE咂࢔䳘֩䩱埄櫽䮯㽁ᅀ†汰ᣤᩢ)™+彨ఠ㜸ㄗ反汘瀡㜸㔠ʕ㥀ǔÚͣ㎹䤨䂁昩⋸惀Ēい㔶ၰ⎥䛃卑冉䰦{్䔬⍆Ҧ囻䑁ᦨࢣ̭䀺湲䐪疧䈡㸦㻆椪ζ悦沩Ǣ᪁㗖o#䦚ⰃĂ痌⇤渮✴㧒вↃ䉅攲䡈ഘᰦ㌱ኢ䭡⟣Ⅲ䷸ᑜ෺䕀惄₺䂒嘻ֱᆣቫჱस䂡ල憰ヸḭр䤄ᔮ䒀墌✻䐀Ӣ⼴⁨Î䃐⒖䦄Ɫ䞮⤩㔩ᧇኔ⩨ђ  "
   },
   "outputs": [],
   "source": []
  }
 ],
 "metadata": {
  "__CATEGORIES__": "{\"categories\":{\"A\":{\"name\":\"A\",\"options\":{\"1\":{\"name\":\"1\"},\"2\":{\"name\":\"2\"},\"3\":{\"name\":\"3\"},\"_None\":{\"name\":\"None\"}}}},\"activeCategoryName\":\"A\"}",
  "__USER_ADDED_CATEGORIES__": "{\"__version\":\"1\",\"categories\":[],\"activeCategoryName\":\"\"}",
  "__persist_nb_uuid__": "15b6440c-b112-4dd1-bff1-41461f6ea5c3",
  "kernelspec": {
   "display_name": "Python 3 (ipykernel)",
   "language": "python",
   "name": "python3"
  },
  "language_info": {
   "codemirror_mode": {
    "name": "ipython",
    "version": 3
   },
   "file_extension": ".py",
   "mimetype": "text/x-python",
   "name": "python",
   "nbconvert_exporter": "python",
   "pygments_lexer": "ipython3",
   "version": "3.8.16"
  }
 },
 "nbformat": 4,
 "nbformat_minor": 5
}
