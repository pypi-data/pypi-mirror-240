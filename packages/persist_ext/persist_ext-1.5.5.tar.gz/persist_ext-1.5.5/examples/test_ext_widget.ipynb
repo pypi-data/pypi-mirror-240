{
 "cells": [
  {
   "cell_type": "code",
   "execution_count": 1,
   "id": "9c930f8c-7612-4e28-bc80-439c3cfcd7b4",
   "metadata": {
    "trrack_graph": "໢尭䲠 "
   },
   "outputs": [],
   "source": [
    "##### import pandas as pd\n",
    "import persist_ext as PR\n",
    "from persist_ext import plot\n",
    "import altair as alt\n",
    "from vega_datasets import data\n",
    "import pandas as pd\n",
    "\n",
    "PR.dev.DEV = True "
   ]
  },
  {
   "cell_type": "code",
   "execution_count": 2,
   "id": "865de998-8e43-4643-aa6a-93bc1289f30b",
   "metadata": {
    "trrack_graph": "ᯡ࠽䈌ʀ匦㢠⹰҃Xڂ䂌ϐୠೠ⌠ᘪ䑾䂃¼∤᧵Fจ睯છ壠テ⒴E䨲ࡔⳙժ⭵咂曳嚯ἡ⅂†桠ûᧂẰӁĠנ搬W౐㮨⃎濻倡㜴㔠ʑ㥀ǔÚ䍃Ꭼᳱh㏆ݐ沀倠祐ሹܡ䱏䏥叐Ź梦{భ妬∬挤䍴淤ၹ䐨憪᫠ඎ⺄ޕ䏢Þ䎞獩ᖦ悮沩ǡ᪁㕖o#䦝氃φ痌⇥⼖䞆ᱤ䩽恣ӣ劃㢁⑐暆ഹಯѮ䞁憱࠸琠䨥ڃ場ᐸ偃泋ۺ≩ỉ࠸㉦䙀⁺掐搸㘿ك䡴᜵▀㡼ᚿ䐳ӂ≠֢֔⏛䭆戴㲒佢ォൗ௣᎔児搠 "
   },
   "outputs": [
    {
     "data": {
      "text/html": [
       "<div>\n",
       "<style scoped>\n",
       "    .dataframe tbody tr th:only-of-type {\n",
       "        vertical-align: middle;\n",
       "    }\n",
       "\n",
       "    .dataframe tbody tr th {\n",
       "        vertical-align: top;\n",
       "    }\n",
       "\n",
       "    .dataframe thead th {\n",
       "        text-align: right;\n",
       "    }\n",
       "</style>\n",
       "<table border=\"1\" class=\"dataframe\">\n",
       "  <thead>\n",
       "    <tr style=\"text-align: right;\">\n",
       "      <th></th>\n",
       "      <th>Name</th>\n",
       "      <th>Miles_per_Gallon</th>\n",
       "      <th>Cylinders</th>\n",
       "      <th>Displacement</th>\n",
       "      <th>Horsepower</th>\n",
       "      <th>Weight_in_lbs</th>\n",
       "      <th>Acceleration</th>\n",
       "      <th>Year</th>\n",
       "      <th>Origin</th>\n",
       "    </tr>\n",
       "  </thead>\n",
       "  <tbody>\n",
       "    <tr>\n",
       "      <th>0</th>\n",
       "      <td>chevrolet chevelle malibu</td>\n",
       "      <td>18.0</td>\n",
       "      <td>8</td>\n",
       "      <td>307.0</td>\n",
       "      <td>130.0</td>\n",
       "      <td>3504</td>\n",
       "      <td>12.0</td>\n",
       "      <td>1970-01-01</td>\n",
       "      <td>USA</td>\n",
       "    </tr>\n",
       "    <tr>\n",
       "      <th>1</th>\n",
       "      <td>buick skylark 320</td>\n",
       "      <td>15.0</td>\n",
       "      <td>8</td>\n",
       "      <td>350.0</td>\n",
       "      <td>165.0</td>\n",
       "      <td>3693</td>\n",
       "      <td>11.5</td>\n",
       "      <td>1970-01-01</td>\n",
       "      <td>USA</td>\n",
       "    </tr>\n",
       "    <tr>\n",
       "      <th>2</th>\n",
       "      <td>plymouth satellite</td>\n",
       "      <td>18.0</td>\n",
       "      <td>8</td>\n",
       "      <td>318.0</td>\n",
       "      <td>150.0</td>\n",
       "      <td>3436</td>\n",
       "      <td>11.0</td>\n",
       "      <td>1970-01-01</td>\n",
       "      <td>USA</td>\n",
       "    </tr>\n",
       "    <tr>\n",
       "      <th>3</th>\n",
       "      <td>amc rebel sst</td>\n",
       "      <td>16.0</td>\n",
       "      <td>8</td>\n",
       "      <td>304.0</td>\n",
       "      <td>150.0</td>\n",
       "      <td>3433</td>\n",
       "      <td>12.0</td>\n",
       "      <td>1970-01-01</td>\n",
       "      <td>USA</td>\n",
       "    </tr>\n",
       "    <tr>\n",
       "      <th>4</th>\n",
       "      <td>ford torino</td>\n",
       "      <td>17.0</td>\n",
       "      <td>8</td>\n",
       "      <td>302.0</td>\n",
       "      <td>140.0</td>\n",
       "      <td>3449</td>\n",
       "      <td>10.5</td>\n",
       "      <td>1970-01-01</td>\n",
       "      <td>USA</td>\n",
       "    </tr>\n",
       "  </tbody>\n",
       "</table>\n",
       "</div>"
      ],
      "text/plain": [
       "                        Name  Miles_per_Gallon  Cylinders  Displacement  \\\n",
       "0  chevrolet chevelle malibu              18.0          8         307.0   \n",
       "1          buick skylark 320              15.0          8         350.0   \n",
       "2         plymouth satellite              18.0          8         318.0   \n",
       "3              amc rebel sst              16.0          8         304.0   \n",
       "4                ford torino              17.0          8         302.0   \n",
       "\n",
       "   Horsepower  Weight_in_lbs  Acceleration       Year Origin  \n",
       "0       130.0           3504          12.0 1970-01-01    USA  \n",
       "1       165.0           3693          11.5 1970-01-01    USA  \n",
       "2       150.0           3436          11.0 1970-01-01    USA  \n",
       "3       150.0           3433          12.0 1970-01-01    USA  \n",
       "4       140.0           3449          10.5 1970-01-01    USA  "
      ]
     },
     "execution_count": 2,
     "metadata": {},
     "output_type": "execute_result"
    }
   ],
   "source": [
    "cars = data.cars()\n",
    "cars.head()"
   ]
  },
  {
   "cell_type": "code",
   "execution_count": 3,
   "id": "82f9dab1-06be-481e-9147-845bf7bed257",
   "metadata": {
    "__GENERATED_DATAFRAMES__": "ᯡࠣ䅬Ԁ朤壠ᜣ琢〹夤゠⹰〮⁁䁻қ䚾ኊ㇠നСࠩ瀮晼Ƭ穅5愠៤⠠ ",
    "__has_persist_output": true,
    "trrack_graph": "ᯡ࠽䈌ʀ匦㢠⹰ৢ䇸ѐƠᘢᠢ〫⊳↻෪℣ᦨҋ₃ᑶࠬ性ઍե桫圲⠠䭈⑀棑焵ᝉ⵮冫᭼乜簥Ҩǁ#㓠挰橠ኤРᜰ͐üメ湁˛㾄ᦠָ憴)挄䀦歫ᨑ格璌ݑᦥඤ兠Ǒ奐岉ᑤ猬്ᳫ䖨ˑ匨†崣↳䳩ච㚁ڀ沀倠祐቞݅ண䷆惁笨ؠ嬸ෆᑤদҡ䳹䑀㶨ズ䠣᫠ඁ᳢܏䋊Þͣ䫧ጹ䎀䃺淣 獖o#䘝栃څ沜ၑᗭ牙ᢓᤢh劌آ拱夸ᢡ惡ᡅἭ଱ɔ弬⃁䰢↠掱呲嬭珜彉׊䟔⁳䆰㐃典幈䭅⤬墥䤄礢䣂⯁敪刽ߙ䲸乀䥄⥊ᵉ䮅㤢㾼⦴ᖏᣪぢ†ᡷ恸Ćຠl恡ؠᗢ㌣ഠ㤠৊䔥㜃㊳˚ၛⲮ棌協圦ঠ灊国珴₿峵㖠ᯆᰒ൏㍿搨䌋⛠愚๎ᮺ⃠瀤ब䃁⡔㴩䖃壼⼿䐳Ӿ്儋㫝㽰ㅢ栣ᄫ䒻⛓⑁㉹嫋ڋㇸℛ⇸炛伓ၪ燙湇Ʈ°怠⢧ʭ帎倴ġ⹠୸ᴇ⟓㬔緞ၖ㎃祡炘⨠䁞⤨∖ᨒ潝簂䠠㴻劝ᛍ獕ᛕ厬㞢㟴怱埄穋瞝湇眝䦽玉翛䀣傡䌥⁴䝠烎۠屌ᙁ㐺◁栵ͩᠺ⒀ҭ३㐭旁㡚ߡㄷb䡴䓠偄䋭ᢀ༣冠ĳ㒸!⣾Яޢ୻犠䝰獾⩽掚榬√èᥴ漣䁠₠爆෰ਘ楇ⓜٴ熌徿爢恦恸ᠣ䅨ᤰ寨ዩ⎶唪墈᫻⏶ᄮ㧴朢ఀ䙤Ĥ欯᪙㤸婈㋥≶申⋶ᴡ孔୨Ꮖ磊ቪ㙦⪒շ䭊䊵⤪畴焠  "
   },
   "outputs": [
    {
     "data": {
      "application/vnd.jupyter.widget-view+json": {
       "model_id": "5b5b3efccd86436da005033b2dd29355",
       "version_major": 2,
       "version_minor": 0
      },
      "text/plain": [
       "PersistWidget(data_values=[{'__id_column': '1', 'Name': 'chevrolet chevelle malibu', 'Miles_per_Gallon': 18.0,…"
      ]
     },
     "execution_count": 3,
     "metadata": {},
     "output_type": "execute_result"
    }
   ],
   "source": [
    "a = PR.PersistTable(cars)\n",
    "a"
   ]
  },
  {
   "cell_type": "code",
   "execution_count": 4,
   "id": "6a435cfb-9c8f-4f7b-b775-f5ed8f762850",
   "metadata": {
    "trrack_graph": "ᯡ࠽䈌ʀ匦㢠⹰Ӣ䅸ɗ㴦ᠭ䁍cČíᨰֿ㗚ࠣ䱶䊀ৢ䩬ɓ往ƥ`㌲⠠䭈⑀棐瀱Ⴥ⭾䦫ᔮ⻝粦䒠ǁ#㙉䌸晠ኤРᝣၐüムṁǟ㤗%䉸攠ʓ㥀ǔÚ⎃஥䤠⒋䔮ᇸ惀Ēいཞᾶ侢䠄獱డ㙐㮂㢨᢬थ⯐䡣㌰兦䱻U䳘䰵梬䐢粬絭犂⸽䄭崲Τ㓠欌¾'ጇ忦஥歸䁫崽令䮄࠴䙠⌢ᗡ੓炁Ԅᢂㄭާ䩤慧愒৸尰ᦤ憨ᑕԧ․䝊懑䦲垺∢౱ᆨవ塜夦ඣ您㉅ͣ倸晋׆焘䅐䙂␠垀呄㪘牼ㅠⓉ䔕ಹ恳㪊㤴  "
   },
   "outputs": [],
   "source": [
    "cars.Year = a.data.Year"
   ]
  },
  {
   "cell_type": "code",
   "execution_count": null,
   "id": "fbf9df2a-6f61-48b9-97d3-71ca7bdf4448",
   "metadata": {
    "trrack_graph": "ᯡ࠽䈌ʀ匦㢠⹰ৠବ倻Č⠱䁍.Ƭ˒ࣧ㔢ద㉓傠౐擌宋୾䨲⠠䭁䑁楒瀱Ⴭ⭡始ݎẜʤð䀡寰ɑ䗴䈠ॢȠநຸᢀ㙄⽽央•扗⨠Ꮃ䤠වױ欈ᶬ䢌ᶒ₝૳/ጢ␁ぱ桸Ⲝ੆ⶥπב䅻榤℔と㥵䑢ڸ䌩栺Ⱑ囥窟㭨㑀ః圏嚳槨嘨朐䠼ໆॵ〤砠Ḇዾᢒ㮒戤ⴁ矗傻ၠ拆๦㥃᢫̨╁䏳梉礘嚂3ᝐ䊮␘ᠹ琯䴥ɰ氯ঊ媹照䥂Д࣡䐯牸⹩̭䈀䑒ણ⃠瑢ঢ揑᲎ᒫ搑ȯᲠ˛粡㻢⊲㇒แ⟥ᓤ檬䣆㔐倠 "
   },
   "outputs": [],
   "source": []
  },
  {
   "cell_type": "code",
   "execution_count": 5,
   "id": "969052a8-acab-4a58-8177-2c9ef62ae521",
   "metadata": {
    "trrack_graph": "ᯡ࠽䈌ʀ匦㢠⹰ˠ⌴栣Ìǐ͐ୢ䔢㢰ჯČ∢ᠬ恘呚⿦䁬X㠩挃ҴE䨲࢔䳙ѩ䡱⛇ⓥ䢻ݺ帢䉠ð䀡婷冨㥀ॢȠ௞䠸ᢀ眰䅽忐ಀƊᢅ\"㣙အ娠崣↳䳩֠㜑ٰ沀倠祐ሺ༿俢䏧怶ᦐؠ嬸ළѤ०Ң哺䑀妨䢣㵕䀺晹∪瞤∡㸦㻆䅅᯦悦檩Ǣᮥ䡀ᬠ➠ǩ㈧熦禗噁⋎筧╙妜⥅䆤㎚ᢘ硐∢౅ኤ䚦䏁熑烰䔜㞨࿃梴ᜥ΁ㄖ᫳㒱ዏ⩤Ȼᅃࠨᛑ屲ػߣࣄ㤪䗀ᣬ⬽䔃㒢ケဢ岢ბ漆䢑㥞ᣆ⦩㔦乫煉⑰  "
   },
   "outputs": [
    {
     "ename": "NameError",
     "evalue": "name 'E' is not defined",
     "output_type": "error",
     "traceback": [
      "\u001b[0;31m---------------------------------------------------------------------------\u001b[0m",
      "\u001b[0;31mNameError\u001b[0m                                 Traceback (most recent call last)",
      "Cell \u001b[0;32mIn[5], line 1\u001b[0m\n\u001b[0;32m----> 1\u001b[0m \u001b[43mE\u001b[49m\u001b[38;5;241m.\u001b[39mhead()\n",
      "\u001b[0;31mNameError\u001b[0m: name 'E' is not defined"
     ]
    }
   ],
   "source": [
    "E.head()"
   ]
  },
  {
   "cell_type": "code",
   "execution_count": null,
   "id": "d096bc85-ec23-44ee-bd5c-2792731a2937",
   "metadata": {
    "trrack_graph": "ᯡ࠽䈌ʀ匦㢠⹰ಅŸހ֠ยฐ୮䂆㸠᢮怹䁦♤ɒ㩠㙃ᠩ旻ⴡᡱᡲ矤䨠ዪनᩌ㲤◩⫰㚊懻垠傱ㄠ㑀碸愹䠤傡%戰映ᮬᢛ䑁圌ỨÐ䩒䀡ᵼ䠠洠⻁䣹溄䃄ᣀ䐑㙐⠠㲸म䛥挆懓價Ⓒ屼ɨ6挫㌶₣烡ვ嬩жㄲᢄ懐ͺⰐ䇝炨䁏僰㫳⟡⋸ᅚ兀㠶䱘䐶怩瀠㫌㱱㹐ᑾ囤ɭ搄矠寵⒄ᑐ刴⥎ඦѣ↤⮁棵㤜㙚ࢥ惀₶Ἧ掀ᠪߩ夌㉄吊䢡⌴㲂Ĥ㚗ᙡ䄀҂಩⍱瑦֮抐㱞ڨጩ∿Ԡ˙Ɂ㧯㇤ᔘ犨䭲䦺Շ⇅䓃ဠ "
   },
   "outputs": [],
   "source": [
    "D.head()"
   ]
  },
  {
   "cell_type": "code",
   "execution_count": null,
   "id": "dc4392b5-b799-4e48-9823-4b3647f6dbe6",
   "metadata": {
    "trrack_graph": "ᯡ࠽䈌ʀ匦㢠⹰à㬠春ㅠᘣᡰୣԡ೦瀸暴∤ᧀᎣᇚ㊟⸸㋊ᐠᱩ•ⳁႧ⛧䡤峅൚䙌汙㤓琲&䈠۾䀱䘾䒠┨ࠠ⹚₀ǘ憡屢ƚ盵+ࣝ⠠乮␠㚠᝷⟀煒⃂瓉Ȕ⬸ᐠṬҦ‣ㅑᦑ᥸屆ᨹഠ⯀ב䅻榤℔と㕵䑢ຸ䌭樺Ⱑ圅窟㝨㑀ఋ堎㒃棈嘨眐䠼৆୵〤砠ᶷ⻾ᡊ㞚戤ⴋ㟗劻ၠ戲ᐸ㸵ἠ⦳ɀ惣樈沄ዂ ঳ᙢႸ⨨ᢄᨈ忎Ԣ恰嬺槐䨂㞲∦ೱ冨င塼䥆Πᆨ別ۤ⠸晋໠慘湏࿢ंK忨ଽ⹉Ἳᄲ੺ಲ剳咭຺䔠 "
   },
   "outputs": [],
   "source": [
    "TEst.head()"
   ]
  },
  {
   "cell_type": "code",
   "execution_count": null,
   "id": "c3cddbc4-a619-4f9b-a27b-ecbeec3bd7d4",
   "metadata": {
    "trrack_graph": "ᯡ࠽䈌ʀ匦㢠⹰怶ƹ桃¼吵䁍ܡء堣ᨰ₃f䈠炳૦ϐ晴ሢ㏁䇮撴E䨲ࡔ䳘֫䥵傌櫩䮯ὡ懂†汩棤ẰӁĠפìW౐㮨⃎濹ǀƎᢅ\"㣙အ娠崣↳䳩ৠ㇁Ұ沀倠祐ሯܯٯ䃣ᆁ㈐ؠ嬸ඩ౤ɦҢ哻䑀妨䢣ᵕ䀺晲∪瞤∡㸦㻆䔩ڦ悦檩Ǣ᪀㕖o#䦝栃ǂ痌⇥⻾䜲㧒вⵉ憧⃳儸摐䈪఩Һ䱾抇焷ࢉ羔ᴠ╡℘✻數㛲ት畨䁣Ʉㄡ˶ᮦ⃣゘ᄴ䓃⤘㴩䆁墺⼠∰䓾ഠ֒Ѣ⏛䭄戴Გ侭⢩ൗ੩桉↰  "
   },
   "outputs": [],
   "source": [
    "A.head()"
   ]
  }
 ],
 "metadata": {
  "__CATEGORIES__": "{\"categories\":{\"A\":{\"name\":\"A\",\"options\":{\"1\":{\"name\":\"1\"},\"2\":{\"name\":\"2\"},\"3\":{\"name\":\"3\"},\"_None\":{\"name\":\"None\"}}}},\"activeCategoryName\":\"A\"}",
  "__USER_ADDED_CATEGORIES__": "{\"__version\":\"1\",\"categories\":[],\"activeCategoryName\":\"\"}",
  "__persist_nb_uuid__": "15b6440c-b112-4dd1-bff1-41461f6ea5c3",
  "kernelspec": {
   "display_name": "Python 3 (ipykernel)",
   "language": "python",
   "name": "python3"
  },
  "language_info": {
   "codemirror_mode": {
    "name": "ipython",
    "version": 3
   },
   "file_extension": ".py",
   "mimetype": "text/x-python",
   "name": "python",
   "nbconvert_exporter": "python",
   "pygments_lexer": "ipython3",
   "version": "3.8.16"
  }
 },
 "nbformat": 4,
 "nbformat_minor": 5
}
