{
 "cells": [
  {
   "cell_type": "code",
   "execution_count": null,
   "id": "ced44194-07bd-45db-a6df-56266ce7b2a0",
   "metadata": {},
   "outputs": [],
   "source": [
    "def connectionDB:\n",
    "    try:\n",
    "        conn = sqlite3.connect('data/data.db')\n",
    "        return conn\n",
    "    except:\n",
    "        print(\"Error connecting to database\")\n",
    "        return None\n",
    "    \n",
    "# Create a cursor object\n",
    "def createCursor(conn):\n",
    "    try:\n",
    "        cursor = conn.cursor()\n",
    "        return cursor\n",
    "    except:\n",
    "        print(\"Error creating cursor\")\n",
    "        return None\n",
    "    \n",
    "\n",
    "    "
   ]
  }
 ],
 "metadata": {
  "kernelspec": {
   "display_name": "Python 3 (ipykernel)",
   "language": "python",
   "name": "python3"
  },
  "language_info": {
   "codemirror_mode": {
    "name": "ipython",
    "version": 3
   },
   "file_extension": ".py",
   "mimetype": "text/x-python",
   "name": "python",
   "nbconvert_exporter": "python",
   "pygments_lexer": "ipython3",
   "version": "3.9.18"
  }
 },
 "nbformat": 4,
 "nbformat_minor": 5
}
