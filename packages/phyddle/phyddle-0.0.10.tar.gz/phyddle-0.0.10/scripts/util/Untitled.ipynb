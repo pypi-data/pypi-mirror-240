{
 "cells": [
  {
   "cell_type": "code",
   "execution_count": 1,
   "id": "e4c0b12d-e987-4fc7-a005-8ef707f0f1e1",
   "metadata": {},
   "outputs": [],
   "source": [
    "import dendropy as dp\n",
    "import cProfile\n",
    "import pstats\n",
    "import copy\n",
    "import math\n",
    "import random\n",
    "from pyinstrument import Profiler"
   ]
  },
  {
   "cell_type": "code",
   "execution_count": 6,
   "id": "f6f0facd-e4d0-4b1a-91da-cd55e785c24e",
   "metadata": {},
   "outputs": [],
   "source": [
    "# setup\n",
    "num_taxa = 3000\n",
    "birth_rate = 1.0\n",
    "death_rate = 0.5"
   ]
  },
  {
   "cell_type": "code",
   "execution_count": 7,
   "id": "b2972957-8e16-40ee-bfa1-825c820de4ec",
   "metadata": {},
   "outputs": [],
   "source": [
    "# get tree\n",
    "_phy = dp.simulate.treesim.birth_death_tree(birth_rate=birth_rate,\n",
    "                                         death_rate=death_rate,\n",
    "                                         num_extant_tips=num_taxa)"
   ]
  },
  {
   "cell_type": "code",
   "execution_count": 22,
   "id": "db9232aa-9613-4551-83a2-ab9337a27f75",
   "metadata": {},
   "outputs": [],
   "source": [
    "def prune_tree(phy, max_taxa, method='prune_taxa'):\n",
    "    \n",
    "    num_taxa = len(phy.leaf_nodes())\n",
    "    rand_idx = list(range(num_taxa))\n",
    "    random.shuffle(rand_idx)\n",
    "    \n",
    "    if method == 'prune_taxa':\n",
    "        \n",
    "        drop_taxa = []\n",
    "        for i in rand_idx[max_taxa:]:\n",
    "            drop_taxa.append(phy.taxon_namespace[i])\n",
    "        phy.prune_taxa(drop_taxa)\n",
    "\n",
    "    if method == 'prune_taxa_with_labels':\n",
    "        drop_taxa = []\n",
    "        for i in rand_idx[max_taxa:]:\n",
    "            drop_taxa.append(phy.taxon_namespace[i].label)\n",
    "        phy.prune_taxa_with_labels(drop_taxa)\n",
    "\n",
    "    if method == 'extract_tree':\n",
    "        drop_taxa = []\n",
    "        for i in rand_idx[:max_taxa]:\n",
    "            drop_taxa.append(phy.taxon_namespace[i].label)\n",
    "        phy.extract_tree_without_taxa(drop_taxa)\n",
    "\n",
    "    if method == 'extract_tree_with_taxa':\n",
    "        drop_taxa = []\n",
    "        for i in rand_idx[:max_taxa]:\n",
    "            drop_taxa.append(phy.taxon_namespace[i].label)\n",
    "        phy.extract_tree_without_taxa(drop_taxa)\n",
    "    \n",
    "    return phy\n",
    "    "
   ]
  },
  {
   "cell_type": "code",
   "execution_count": 28,
   "id": "d1040fd2-fc37-4faf-aa81-4780d7a7f17b",
   "metadata": {},
   "outputs": [
    {
     "name": "stdout",
     "output_type": "stream",
     "text": [
      "\n",
      "  _     ._   __/__   _ _  _  _ _/_   Recorded: 16:36:58  Samples:  521\n",
      " /_//_/// /_\\ / //_// / //_'/ //     Duration: 0.570     CPU time: 0.503\n",
      "/   _/                      v4.6.0\n",
      "\n",
      "Program: /Users/mlandis/anaconda3/lib/python3.11/site-packages/ipykernel_launcher.py -f /Users/mlandis/Library/Jupyter/runtime/kernel-f01f1a2b-a23c-4ba4-97f1-2e6349ef734d.json\n",
      "\n",
      "0.569 ZMQInteractiveShell.run_ast_nodes  IPython/core/interactiveshell.py:3349\n",
      "`- 0.568 <module>  ../../../../../var/folders/s3/5zk1rpb13nd8zp4f5j0mn_mh0000gn/T/ipykernel_37323/2156872953.py:1\n",
      "   `- 0.568 prune_tree  ../../../../../var/folders/s3/5zk1rpb13nd8zp4f5j0mn_mh0000gn/T/ipykernel_37323/2569061556.py:1\n",
      "      |- 0.485 Tree.extract_tree_without_taxa  dendropy/datamodel/treemodel/_tree.py:1057\n",
      "      |     [23 frames hidden]  dendropy, <built-in>\n",
      "      |        0.485 Node.extract_subtree  dendropy/datamodel/treemodel/_node.py:1222\n",
      "      |- 0.067 Tree.leaf_nodes  dendropy/datamodel/treemodel/_tree.py:1240\n",
      "      |     [9 frames hidden]  dendropy\n",
      "      `- 0.015 Random.shuffle  random.py:376\n",
      "            [3 frames hidden]  random\n",
      "\n",
      "\n",
      "3000\n"
     ]
    }
   ],
   "source": [
    "# modify tree\n",
    "method = [ 'prune_taxa', 'prune_taxa_with_labels', 'extract_tree', 'extract_tree_with_taxa'  ]\n",
    "phy = copy.deepcopy(_phy)\n",
    "\n",
    "profiler = Profiler()\n",
    "profiler.start()\n",
    "\n",
    "prune_tree(phy, max_taxa=300, method=method[3])\n",
    "\n",
    "profiler.stop()\n",
    "print(profiler.output_text())\n",
    "\n",
    "print(len(phy.leaf_nodes()))"
   ]
  },
  {
   "cell_type": "code",
   "execution_count": 87,
   "id": "c2064712-eae1-4082-98c2-bea4e2287a04",
   "metadata": {},
   "outputs": [
    {
     "ename": "RuntimeError",
     "evalue": "This profiler is not currently running.",
     "output_type": "error",
     "traceback": [
      "\u001b[0;31m---------------------------------------------------------------------------\u001b[0m",
      "\u001b[0;31mRuntimeError\u001b[0m                              Traceback (most recent call last)",
      "Cell \u001b[0;32mIn[87], line 1\u001b[0m\n\u001b[0;32m----> 1\u001b[0m profiler\u001b[38;5;241m.\u001b[39mstop()\n",
      "File \u001b[0;32m~/anaconda3/lib/python3.11/site-packages/pyinstrument/profiler.py:146\u001b[0m, in \u001b[0;36mProfiler.stop\u001b[0;34m(self)\u001b[0m\n\u001b[1;32m    139\u001b[0m \u001b[38;5;250m\u001b[39m\u001b[38;5;124;03m\"\"\"\u001b[39;00m\n\u001b[1;32m    140\u001b[0m \u001b[38;5;124;03mStops the profiler observing, and sets :attr:`last_session`\u001b[39;00m\n\u001b[1;32m    141\u001b[0m \u001b[38;5;124;03mto the captured session.\u001b[39;00m\n\u001b[1;32m    142\u001b[0m \n\u001b[1;32m    143\u001b[0m \u001b[38;5;124;03m:return: The captured session.\u001b[39;00m\n\u001b[1;32m    144\u001b[0m \u001b[38;5;124;03m\"\"\"\u001b[39;00m\n\u001b[1;32m    145\u001b[0m \u001b[38;5;28;01mif\u001b[39;00m \u001b[38;5;129;01mnot\u001b[39;00m \u001b[38;5;28mself\u001b[39m\u001b[38;5;241m.\u001b[39m_active_session:\n\u001b[0;32m--> 146\u001b[0m     \u001b[38;5;28;01mraise\u001b[39;00m \u001b[38;5;167;01mRuntimeError\u001b[39;00m(\u001b[38;5;124m\"\u001b[39m\u001b[38;5;124mThis profiler is not currently running.\u001b[39m\u001b[38;5;124m\"\u001b[39m)\n\u001b[1;32m    148\u001b[0m \u001b[38;5;28;01mtry\u001b[39;00m:\n\u001b[1;32m    149\u001b[0m     get_stack_sampler()\u001b[38;5;241m.\u001b[39munsubscribe(\u001b[38;5;28mself\u001b[39m\u001b[38;5;241m.\u001b[39m_sampler_saw_call_stack)\n",
      "\u001b[0;31mRuntimeError\u001b[0m: This profiler is not currently running."
     ]
    }
   ],
   "source": [
    "profiler.stop()"
   ]
  }
 ],
 "metadata": {
  "kernelspec": {
   "display_name": "Python 3 (ipykernel)",
   "language": "python",
   "name": "python3"
  },
  "language_info": {
   "codemirror_mode": {
    "name": "ipython",
    "version": 3
   },
   "file_extension": ".py",
   "mimetype": "text/x-python",
   "name": "python",
   "nbconvert_exporter": "python",
   "pygments_lexer": "ipython3",
   "version": "3.11.4"
  }
 },
 "nbformat": 4,
 "nbformat_minor": 5
}
