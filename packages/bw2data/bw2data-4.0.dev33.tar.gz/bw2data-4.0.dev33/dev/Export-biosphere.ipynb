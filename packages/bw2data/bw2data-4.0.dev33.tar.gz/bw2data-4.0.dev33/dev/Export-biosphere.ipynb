{
 "cells": [
  {
   "cell_type": "code",
   "execution_count": 4,
   "id": "2c821e37-addd-44bb-a512-de20da1016b2",
   "metadata": {
    "tags": []
   },
   "outputs": [],
   "source": [
    "from pathlib import Path\n",
    "dp = Path(\"/Users/chrismutel/Library/Application Support/EcoinventInterface/cache/ecoinvent 3.6_consequential_ecoSpold02/MasterData\")\n",
    "assert dp.is_dir()"
   ]
  },
  {
   "cell_type": "code",
   "execution_count": 2,
   "id": "2715e50c-6595-44ef-ba02-19297187c1fc",
   "metadata": {
    "tags": []
   },
   "outputs": [],
   "source": [
    "from bw2io.importers.ecospold2_biosphere import *"
   ]
  },
  {
   "cell_type": "code",
   "execution_count": 8,
   "id": "f01aa722-cd97-432e-bc99-d4c479c69476",
   "metadata": {
    "tags": []
   },
   "outputs": [],
   "source": [
    "class Ecospold2BiosphereImporter(LCIImporter):\n",
    "    format = \"Ecoinvent XML\"\n",
    "\n",
    "    def __init__(self, name=\"biosphere3\", version=\"3.9\"):\n",
    "        self.db_name = name\n",
    "        self.strategies = [\n",
    "            normalize_units,\n",
    "            drop_unspecified_subcategories,\n",
    "            ensure_categories_are_tuples,\n",
    "        ]\n",
    "\n",
    "    def extract(self):\n",
    "        def extract_flow_data(o):\n",
    "            ds = {\n",
    "                \"category\": o.compartment.compartment.text,\n",
    "                \"subcategory\": o.compartment.subcompartment.text,\n",
    "                \"uuid\": o.get(\"id\"),\n",
    "                \"CAS number\": o.get(\"casNumber\"),\n",
    "                \"name\": o.name.text,\n",
    "                \"unit\": o.unitName.text,\n",
    "            }\n",
    "            return ds\n",
    "\n",
    "        fp = dp / \"ElementaryExchanges.xml\"\n",
    "        root = objectify.parse(open(fp, encoding=\"utf-8\")).getroot()\n",
    "        flow_data = recursive_str_to_unicode(\n",
    "            [extract_flow_data(ds) for ds in root.iterchildren()]\n",
    "        )\n",
    "\n",
    "        # previous = os.path.join(lci_dirpath, \"previous elementary flows.json\")\n",
    "        # return flow_data + json.load(open(previous))\n",
    "        return flow_data\n",
    "\n",
    "    \n",
    "data = Ecospold2BiosphereImporter().extract()"
   ]
  },
  {
   "cell_type": "code",
   "execution_count": 10,
   "id": "add213aa-dba2-480e-b216-ada3a0466821",
   "metadata": {
    "tags": []
   },
   "outputs": [],
   "source": [
    "import pandas as pd\n",
    "pd.DataFrame(data).to_excel(\"biosphere 3.6.xlsx\")"
   ]
  },
  {
   "cell_type": "code",
   "execution_count": null,
   "id": "b630988b-5937-4142-b890-bb5676f69aab",
   "metadata": {},
   "outputs": [],
   "source": []
  }
 ],
 "metadata": {
  "kernelspec": {
   "display_name": "Python 3 (ipykernel)",
   "language": "python",
   "name": "python3"
  },
  "language_info": {
   "codemirror_mode": {
    "name": "ipython",
    "version": 3
   },
   "file_extension": ".py",
   "mimetype": "text/x-python",
   "name": "python",
   "nbconvert_exporter": "python",
   "pygments_lexer": "ipython3",
   "version": "3.11.3"
  }
 },
 "nbformat": 4,
 "nbformat_minor": 5
}
