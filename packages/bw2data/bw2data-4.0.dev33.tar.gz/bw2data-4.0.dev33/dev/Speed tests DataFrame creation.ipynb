{
 "cells": [
  {
   "cell_type": "code",
   "execution_count": 11,
   "id": "5043e9fd-0df3-494f-8104-feea29aa1264",
   "metadata": {},
   "outputs": [],
   "source": [
    "import wurst\n",
    "import bw2data as bd\n",
    "import pandas as pd"
   ]
  },
  {
   "cell_type": "code",
   "execution_count": 2,
   "id": "0722faf1-a608-4031-b8c0-adff2558d8da",
   "metadata": {},
   "outputs": [],
   "source": [
    "bd.projects.set_current(\"ei 3.8 cutoff\")"
   ]
  },
  {
   "cell_type": "code",
   "execution_count": 3,
   "id": "d4ffb5e5-09f5-4b13-b0ba-d5ba59dd4012",
   "metadata": {},
   "outputs": [
    {
     "name": "stdout",
     "output_type": "stream",
     "text": [
      "Getting activity data\n"
     ]
    },
    {
     "name": "stderr",
     "output_type": "stream",
     "text": [
      "100%|██████████████████████████████████████████| 19565/19565 [00:00<00:00, 122014.46it/s]\n"
     ]
    },
    {
     "name": "stdout",
     "output_type": "stream",
     "text": [
      "Adding exchange data to activities\n"
     ]
    },
    {
     "name": "stderr",
     "output_type": "stream",
     "text": [
      "100%|█████████████████████████████████████████| 629959/629959 [00:46<00:00, 13465.05it/s]\n"
     ]
    },
    {
     "name": "stdout",
     "output_type": "stream",
     "text": [
      "Filling out exchange data\n"
     ]
    },
    {
     "name": "stderr",
     "output_type": "stream",
     "text": [
      "100%|████████████████████████████████████████████| 19565/19565 [00:02<00:00, 6933.41it/s]\n"
     ]
    }
   ],
   "source": [
    "data = wurst.extract_brightway2_databases([\"ecoinvent 3.8 cutoff\"], add_identifiers=True)"
   ]
  },
  {
   "cell_type": "code",
   "execution_count": 4,
   "id": "63016466-d913-4648-bed4-84fcc41301ac",
   "metadata": {},
   "outputs": [
    {
     "data": {
      "text/plain": [
       "{'classifications': [('ISIC rev.4 ecoinvent',\n",
       "   '3510:Electric power generation, transmission and distribution'),\n",
       "  ('CPC', '17100: Electrical energy')],\n",
       " 'comment': 'This dataset changes the names of the (internally used) electricity product of waste incineration and connects it with the external grid and the respective average energy markets (grid electricity).\\nTime period:  The Annual Production volume is valid for the year 2012.',\n",
       " 'location': 'GR',\n",
       " 'database': 'ecoinvent 3.8 cutoff',\n",
       " 'code': '00014e7e2dd160027166b7274d58b7cc',\n",
       " 'name': 'electricity, from municipal waste incineration to generic market for electricity, medium voltage',\n",
       " 'reference product': 'electricity, medium voltage',\n",
       " 'unit': 'kilowatt hour',\n",
       " 'exchanges': [{'uncertainty type': 0,\n",
       "   'loc': 1.0,\n",
       "   'amount': 1.0,\n",
       "   'type': 'production',\n",
       "   'production volume': 60000000.0,\n",
       "   'product': 'electricity, medium voltage',\n",
       "   'name': 'electricity, from municipal waste incineration to generic market for electricity, medium voltage',\n",
       "   'unit': 'kilowatt hour',\n",
       "   'location': 'GR',\n",
       "   'database': 'ecoinvent 3.8 cutoff',\n",
       "   'id': 23785,\n",
       "   'code': '00014e7e2dd160027166b7274d58b7cc'},\n",
       "  {'uncertainty type': 2,\n",
       "   'loc': 0.0,\n",
       "   'scale': 0.044721359549995794,\n",
       "   'amount': 1.0,\n",
       "   'pedigree': {'reliability': 1,\n",
       "    'completeness': 1,\n",
       "    'temporal correlation': 3,\n",
       "    'geographical correlation': 1,\n",
       "    'further technological correlation': 1},\n",
       "   'type': 'technosphere',\n",
       "   'production volume': 0.0,\n",
       "   'product': 'electricity, for reuse in municipal waste incineration only',\n",
       "   'name': 'market for electricity, for reuse in municipal waste incineration only',\n",
       "   'unit': 'kilowatt hour',\n",
       "   'location': 'RoW',\n",
       "   'database': 'ecoinvent 3.8 cutoff',\n",
       "   'id': 18374,\n",
       "   'code': '358b14803d0148cddc4196e2c2454000'}],\n",
       " 'parameters': {},\n",
       " 'parameters full': [],\n",
       " 'id': 23785}"
      ]
     },
     "execution_count": 4,
     "metadata": {},
     "output_type": "execute_result"
    }
   ],
   "source": [
    "data[0]"
   ]
  },
  {
   "cell_type": "code",
   "execution_count": 22,
   "id": "d23e2644-1dc5-45dd-aa68-9021456dcf18",
   "metadata": {},
   "outputs": [],
   "source": [
    "def as_naive_df(data, categorical=True):\n",
    "    result = []\n",
    "    \n",
    "    for target in data:\n",
    "        for edge in target['exchanges']:\n",
    "            result.append({\n",
    "                \"target_id\": target['id'],\n",
    "                \"target_database\": target['database'],\n",
    "                \"target_code\": target['code'],\n",
    "                \"target_activity\": target.get('name'),\n",
    "                \"target_reference_product\": target.get('reference product'),\n",
    "                \"target_location\": target.get('location'),\n",
    "                \"target_unit\": target.get('unit'),\n",
    "                \"target_type\": target.get('type', 'process'),\n",
    "                \"source_id\": edge['id'],\n",
    "                \"source_database\": edge['database'],\n",
    "                \"source_code\": edge['code'],\n",
    "                \"source_activity\": edge.get('name'),\n",
    "                \"source_product\": edge.get('product'),\n",
    "                \"source_location\": edge.get('location'),\n",
    "                \"source_unit\": edge.get('unit'),\n",
    "                \"source_categories\": \"::\".join(edge.get('categories', ('',))),\n",
    "                \"edge_amount\": edge['amount'],\n",
    "                \"edge_type\": edge['type'],\n",
    "            })\n",
    "    \n",
    "    df = pd.DataFrame(result)\n",
    "    \n",
    "    if categorical:\n",
    "        categorical_columns = [\n",
    "            \"target_database\",\n",
    "            \"target_activity\",\n",
    "            \"target_reference_product\",\n",
    "            \"target_location\",\n",
    "            \"target_unit\",\n",
    "            \"target_type\",\n",
    "            \"source_database\",\n",
    "            \"source_code\",\n",
    "            \"source_activity\",\n",
    "            \"source_product\",\n",
    "            \"source_location\",\n",
    "            \"source_unit\",\n",
    "            \"source_categories\",\n",
    "        ]\n",
    "        for column in categorical_columns:\n",
    "            df[column] = df[column].astype(\"category\")  \n",
    "\n",
    "    return df"
   ]
  },
  {
   "cell_type": "code",
   "execution_count": 25,
   "id": "4f4906a9-db5f-42aa-bd26-d6140f97fe48",
   "metadata": {},
   "outputs": [
    {
     "name": "stdout",
     "output_type": "stream",
     "text": [
      "5.85 s ± 79.7 ms per loop (mean ± std. dev. of 7 runs, 1 loop each)\n"
     ]
    }
   ],
   "source": [
    "%timeit as_naive_df(data)"
   ]
  },
  {
   "cell_type": "code",
   "execution_count": 26,
   "id": "8d17c3cc-c709-456b-aaf3-3232f10eacfc",
   "metadata": {},
   "outputs": [
    {
     "name": "stdout",
     "output_type": "stream",
     "text": [
      "3.71 s ± 69.8 ms per loop (mean ± std. dev. of 7 runs, 1 loop each)\n"
     ]
    }
   ],
   "source": [
    "%timeit as_naive_df(data, False)"
   ]
  },
  {
   "cell_type": "code",
   "execution_count": 27,
   "id": "e6f04ac6-c34f-4362-86ed-9f35b827b1da",
   "metadata": {},
   "outputs": [],
   "source": [
    "df_compressed = as_naive_df(data)\n",
    "df_full = as_naive_df(data, False)"
   ]
  },
  {
   "cell_type": "markdown",
   "id": "d3e79afd-0851-4512-ae01-7dd367cb99ca",
   "metadata": {},
   "source": [
    "Memory in MB"
   ]
  },
  {
   "cell_type": "code",
   "execution_count": 28,
   "id": "6e740f9a-4848-4b95-982d-5b0fc43b32f6",
   "metadata": {},
   "outputs": [
    {
     "data": {
      "text/plain": [
       "(37.66990280151367, 86.51182556152344)"
      ]
     },
     "execution_count": 28,
     "metadata": {},
     "output_type": "execute_result"
    }
   ],
   "source": [
    "df_compressed.memory_usage().sum() / 1024 ** 2, df_full.memory_usage().sum() / 1024 ** 2"
   ]
  },
  {
   "cell_type": "code",
   "execution_count": 29,
   "id": "6ab7ca99-3e55-44c3-a7f1-9e4bfb1aaba6",
   "metadata": {},
   "outputs": [
    {
     "data": {
      "text/plain": [
       "target_id                      int64\n",
       "target_database             category\n",
       "target_code                   object\n",
       "target_activity             category\n",
       "target_reference_product    category\n",
       "target_location             category\n",
       "target_unit                 category\n",
       "target_type                 category\n",
       "source_id                      int64\n",
       "source_database             category\n",
       "source_code                 category\n",
       "source_activity             category\n",
       "source_product              category\n",
       "source_location             category\n",
       "source_unit                 category\n",
       "source_categories           category\n",
       "edge_amount                  float64\n",
       "edge_type                     object\n",
       "dtype: object"
      ]
     },
     "execution_count": 29,
     "metadata": {},
     "output_type": "execute_result"
    }
   ],
   "source": [
    "df_compressed.dtypes"
   ]
  }
 ],
 "metadata": {
  "kernelspec": {
   "display_name": "Python 3 (ipykernel)",
   "language": "python",
   "name": "python3"
  },
  "language_info": {
   "codemirror_mode": {
    "name": "ipython",
    "version": 3
   },
   "file_extension": ".py",
   "mimetype": "text/x-python",
   "name": "python",
   "nbconvert_exporter": "python",
   "pygments_lexer": "ipython3",
   "version": "3.10.5"
  }
 },
 "nbformat": 4,
 "nbformat_minor": 5
}
