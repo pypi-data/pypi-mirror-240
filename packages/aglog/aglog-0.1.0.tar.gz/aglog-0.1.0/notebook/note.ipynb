{
 "cells": [
  {
   "cell_type": "code",
   "execution_count": 1,
   "metadata": {},
   "outputs": [
    {
     "name": "stderr",
     "output_type": "stream",
     "text": [
      "{\u001b[37m\u001b[39;49;00m\n",
      "\u001b[37m  \u001b[39;49;00m\u001b[94m\"levelname\"\u001b[39;49;00m:\u001b[37m \u001b[39;49;00m\u001b[33m\"ERROR\"\u001b[39;49;00m,\u001b[37m\u001b[39;49;00m\n",
      "\u001b[37m  \u001b[39;49;00m\u001b[94m\"user\"\u001b[39;49;00m:\u001b[37m \u001b[39;49;00m\u001b[33m\"aglog\"\u001b[39;49;00m,\u001b[37m\u001b[39;49;00m\n",
      "\u001b[37m  \u001b[39;49;00m\u001b[94m\"path\"\u001b[39;49;00m:\u001b[37m \u001b[39;49;00m\u001b[33m\" /var/folders/12/70p0x2553z9drw1kywdgbsch0000gn/T/ipykernel_3574/199545058.py:10\"\u001b[39;49;00m,\u001b[37m\u001b[39;49;00m\n",
      "\u001b[37m  \u001b[39;49;00m\u001b[94m\"exc_info\"\u001b[39;49;00m:\u001b[37m \u001b[39;49;00m[\u001b[37m\u001b[39;49;00m\n",
      "\u001b[37m    \u001b[39;49;00m\u001b[33m\"Traceback (most recent call last):\"\u001b[39;49;00m,\u001b[37m\u001b[39;49;00m\n",
      "\u001b[37m    \u001b[39;49;00m\u001b[33m\"  File \\\"/var/folders/12/70p0x2553z9drw1kywdgbsch0000gn/T/ipykernel_3574/199545058.py\\\", line 8, in <module>\"\u001b[39;49;00m,\u001b[37m\u001b[39;49;00m\n",
      "\u001b[37m    \u001b[39;49;00m\u001b[33m\"    1 / 0\"\u001b[39;49;00m,\u001b[37m\u001b[39;49;00m\n",
      "\u001b[37m    \u001b[39;49;00m\u001b[33m\"ZeroDivisionError: division by zero\"\u001b[39;49;00m\u001b[37m\u001b[39;49;00m\n",
      "\u001b[37m  \u001b[39;49;00m],\u001b[37m\u001b[39;49;00m\n",
      "\u001b[37m  \u001b[39;49;00m\u001b[94m\"stack_info\"\u001b[39;49;00m:\u001b[37m \u001b[39;49;00m\u001b[34mnull\u001b[39;49;00m\u001b[37m\u001b[39;49;00m\n",
      "}\u001b[37m\u001b[39;49;00m\n",
      "{\u001b[37m\u001b[39;49;00m\n",
      "\u001b[37m  \u001b[39;49;00m\u001b[94m\"levelname\"\u001b[39;49;00m:\u001b[37m \u001b[39;49;00m\u001b[33m\"INFO\"\u001b[39;49;00m,\u001b[37m\u001b[39;49;00m\n",
      "\u001b[37m  \u001b[39;49;00m\u001b[94m\"user\"\u001b[39;49;00m:\u001b[37m \u001b[39;49;00m\u001b[33m\"aglog\"\u001b[39;49;00m,\u001b[37m\u001b[39;49;00m\n",
      "\u001b[37m  \u001b[39;49;00m\u001b[94m\"path\"\u001b[39;49;00m:\u001b[37m \u001b[39;49;00m\u001b[33m\" /var/folders/12/70p0x2553z9drw1kywdgbsch0000gn/T/ipykernel_3574/199545058.py:12\"\u001b[39;49;00m,\u001b[37m\u001b[39;49;00m\n",
      "\u001b[37m  \u001b[39;49;00m\u001b[94m\"exc_info\"\u001b[39;49;00m:\u001b[37m \u001b[39;49;00m\u001b[34mnull\u001b[39;49;00m,\u001b[37m\u001b[39;49;00m\n",
      "\u001b[37m  \u001b[39;49;00m\u001b[94m\"stack_info\"\u001b[39;49;00m:\u001b[37m \u001b[39;49;00m[\u001b[37m\u001b[39;49;00m\n",
      "\u001b[37m    \u001b[39;49;00m\u001b[33m\"Stack (most recent call last):\"\u001b[39;49;00m,\u001b[37m\u001b[39;49;00m\n",
      "\u001b[37m    \u001b[39;49;00m\u001b[33m\"  File \\\"/Users/nano/.rye/py/cpython@3.10.13/install/lib/python3.10/runpy.py\\\", line 196, in _run_module_as_main\"\u001b[39;49;00m,\u001b[37m\u001b[39;49;00m\n",
      "\u001b[37m    \u001b[39;49;00m\u001b[33m\"    return _run_code(code, main_globals, None,\"\u001b[39;49;00m,\u001b[37m\u001b[39;49;00m\n",
      "\u001b[37m    \u001b[39;49;00m\u001b[33m\"  File \\\"/Users/nano/.rye/py/cpython@3.10.13/install/lib/python3.10/runpy.py\\\", line 86, in _run_code\"\u001b[39;49;00m,\u001b[37m\u001b[39;49;00m\n",
      "\u001b[37m    \u001b[39;49;00m\u001b[33m\"    exec(code, run_globals)\"\u001b[39;49;00m,\u001b[37m\u001b[39;49;00m\n",
      "\u001b[37m    \u001b[39;49;00m\u001b[33m\"  File \\\"/Users/nano/Work/aglog/.venv/lib/python3.10/site-packages/ipykernel_launcher.py\\\", line 17, in <module>\"\u001b[39;49;00m,\u001b[37m\u001b[39;49;00m\n",
      "\u001b[37m    \u001b[39;49;00m\u001b[33m\"    app.launch_new_instance()\"\u001b[39;49;00m,\u001b[37m\u001b[39;49;00m\n",
      "\u001b[37m    \u001b[39;49;00m\u001b[33m\"  File \\\"/Users/nano/Work/aglog/.venv/lib/python3.10/site-packages/traitlets/config/application.py\\\", line 1053, in launch_instance\"\u001b[39;49;00m,\u001b[37m\u001b[39;49;00m\n",
      "\u001b[37m    \u001b[39;49;00m\u001b[33m\"    app.start()\"\u001b[39;49;00m,\u001b[37m\u001b[39;49;00m\n",
      "\u001b[37m    \u001b[39;49;00m\u001b[33m\"  File \\\"/Users/nano/Work/aglog/.venv/lib/python3.10/site-packages/ipykernel/kernelapp.py\\\", line 737, in start\"\u001b[39;49;00m,\u001b[37m\u001b[39;49;00m\n",
      "\u001b[37m    \u001b[39;49;00m\u001b[33m\"    self.io_loop.start()\"\u001b[39;49;00m,\u001b[37m\u001b[39;49;00m\n",
      "\u001b[37m    \u001b[39;49;00m\u001b[33m\"  File \\\"/Users/nano/Work/aglog/.venv/lib/python3.10/site-packages/tornado/platform/asyncio.py\\\", line 195, in start\"\u001b[39;49;00m,\u001b[37m\u001b[39;49;00m\n",
      "\u001b[37m    \u001b[39;49;00m\u001b[33m\"    self.asyncio_loop.run_forever()\"\u001b[39;49;00m,\u001b[37m\u001b[39;49;00m\n",
      "\u001b[37m    \u001b[39;49;00m\u001b[33m\"  File \\\"/Users/nano/.rye/py/cpython@3.10.13/install/lib/python3.10/asyncio/base_events.py\\\", line 603, in run_forever\"\u001b[39;49;00m,\u001b[37m\u001b[39;49;00m\n",
      "\u001b[37m    \u001b[39;49;00m\u001b[33m\"    self._run_once()\"\u001b[39;49;00m,\u001b[37m\u001b[39;49;00m\n",
      "\u001b[37m    \u001b[39;49;00m\u001b[33m\"  File \\\"/Users/nano/.rye/py/cpython@3.10.13/install/lib/python3.10/asyncio/base_events.py\\\", line 1909, in _run_once\"\u001b[39;49;00m,\u001b[37m\u001b[39;49;00m\n",
      "\u001b[37m    \u001b[39;49;00m\u001b[33m\"    handle._run()\"\u001b[39;49;00m,\u001b[37m\u001b[39;49;00m\n",
      "\u001b[37m    \u001b[39;49;00m\u001b[33m\"  File \\\"/Users/nano/.rye/py/cpython@3.10.13/install/lib/python3.10/asyncio/events.py\\\", line 80, in _run\"\u001b[39;49;00m,\u001b[37m\u001b[39;49;00m\n",
      "\u001b[37m    \u001b[39;49;00m\u001b[33m\"    self._context.run(self._callback, *self._args)\"\u001b[39;49;00m,\u001b[37m\u001b[39;49;00m\n",
      "\u001b[37m    \u001b[39;49;00m\u001b[33m\"  File \\\"/Users/nano/Work/aglog/.venv/lib/python3.10/site-packages/ipykernel/kernelbase.py\\\", line 524, in dispatch_queue\"\u001b[39;49;00m,\u001b[37m\u001b[39;49;00m\n",
      "\u001b[37m    \u001b[39;49;00m\u001b[33m\"    await self.process_one()\"\u001b[39;49;00m,\u001b[37m\u001b[39;49;00m\n",
      "\u001b[37m    \u001b[39;49;00m\u001b[33m\"  File \\\"/Users/nano/Work/aglog/.venv/lib/python3.10/site-packages/ipykernel/kernelbase.py\\\", line 513, in process_one\"\u001b[39;49;00m,\u001b[37m\u001b[39;49;00m\n",
      "\u001b[37m    \u001b[39;49;00m\u001b[33m\"    await dispatch(*args)\"\u001b[39;49;00m,\u001b[37m\u001b[39;49;00m\n",
      "\u001b[37m    \u001b[39;49;00m\u001b[33m\"  File \\\"/Users/nano/Work/aglog/.venv/lib/python3.10/site-packages/ipykernel/kernelbase.py\\\", line 418, in dispatch_shell\"\u001b[39;49;00m,\u001b[37m\u001b[39;49;00m\n",
      "\u001b[37m    \u001b[39;49;00m\u001b[33m\"    await result\"\u001b[39;49;00m,\u001b[37m\u001b[39;49;00m\n",
      "\u001b[37m    \u001b[39;49;00m\u001b[33m\"  File \\\"/Users/nano/Work/aglog/.venv/lib/python3.10/site-packages/ipykernel/kernelbase.py\\\", line 758, in execute_request\"\u001b[39;49;00m,\u001b[37m\u001b[39;49;00m\n",
      "\u001b[37m    \u001b[39;49;00m\u001b[33m\"    reply_content = await reply_content\"\u001b[39;49;00m,\u001b[37m\u001b[39;49;00m\n",
      "\u001b[37m    \u001b[39;49;00m\u001b[33m\"  File \\\"/Users/nano/Work/aglog/.venv/lib/python3.10/site-packages/ipykernel/ipkernel.py\\\", line 426, in do_execute\"\u001b[39;49;00m,\u001b[37m\u001b[39;49;00m\n",
      "\u001b[37m    \u001b[39;49;00m\u001b[33m\"    res = shell.run_cell(\"\u001b[39;49;00m,\u001b[37m\u001b[39;49;00m\n",
      "\u001b[37m    \u001b[39;49;00m\u001b[33m\"  File \\\"/Users/nano/Work/aglog/.venv/lib/python3.10/site-packages/ipykernel/zmqshell.py\\\", line 549, in run_cell\"\u001b[39;49;00m,\u001b[37m\u001b[39;49;00m\n",
      "\u001b[37m    \u001b[39;49;00m\u001b[33m\"    return super().run_cell(*args, **kwargs)\"\u001b[39;49;00m,\u001b[37m\u001b[39;49;00m\n",
      "\u001b[37m    \u001b[39;49;00m\u001b[33m\"  File \\\"/Users/nano/Work/aglog/.venv/lib/python3.10/site-packages/IPython/core/interactiveshell.py\\\", line 3046, in run_cell\"\u001b[39;49;00m,\u001b[37m\u001b[39;49;00m\n",
      "\u001b[37m    \u001b[39;49;00m\u001b[33m\"    result = self._run_cell(\"\u001b[39;49;00m,\u001b[37m\u001b[39;49;00m\n",
      "\u001b[37m    \u001b[39;49;00m\u001b[33m\"  File \\\"/Users/nano/Work/aglog/.venv/lib/python3.10/site-packages/IPython/core/interactiveshell.py\\\", line 3101, in _run_cell\"\u001b[39;49;00m,\u001b[37m\u001b[39;49;00m\n",
      "\u001b[37m    \u001b[39;49;00m\u001b[33m\"    result = runner(coro)\"\u001b[39;49;00m,\u001b[37m\u001b[39;49;00m\n",
      "\u001b[37m    \u001b[39;49;00m\u001b[33m\"  File \\\"/Users/nano/Work/aglog/.venv/lib/python3.10/site-packages/IPython/core/async_helpers.py\\\", line 129, in _pseudo_sync_runner\"\u001b[39;49;00m,\u001b[37m\u001b[39;49;00m\n",
      "\u001b[37m    \u001b[39;49;00m\u001b[33m\"    coro.send(None)\"\u001b[39;49;00m,\u001b[37m\u001b[39;49;00m\n",
      "\u001b[37m    \u001b[39;49;00m\u001b[33m\"  File \\\"/Users/nano/Work/aglog/.venv/lib/python3.10/site-packages/IPython/core/interactiveshell.py\\\", line 3306, in run_cell_async\"\u001b[39;49;00m,\u001b[37m\u001b[39;49;00m\n",
      "\u001b[37m    \u001b[39;49;00m\u001b[33m\"    has_raised = await self.run_ast_nodes(code_ast.body, cell_name,\"\u001b[39;49;00m,\u001b[37m\u001b[39;49;00m\n",
      "\u001b[37m    \u001b[39;49;00m\u001b[33m\"  File \\\"/Users/nano/Work/aglog/.venv/lib/python3.10/site-packages/IPython/core/interactiveshell.py\\\", line 3488, in run_ast_nodes\"\u001b[39;49;00m,\u001b[37m\u001b[39;49;00m\n",
      "\u001b[37m    \u001b[39;49;00m\u001b[33m\"    if await self.run_code(code, result, async_=asy):\"\u001b[39;49;00m,\u001b[37m\u001b[39;49;00m\n",
      "\u001b[37m    \u001b[39;49;00m\u001b[33m\"  File \\\"/Users/nano/Work/aglog/.venv/lib/python3.10/site-packages/IPython/core/interactiveshell.py\\\", line 3548, in run_code\"\u001b[39;49;00m,\u001b[37m\u001b[39;49;00m\n",
      "\u001b[37m    \u001b[39;49;00m\u001b[33m\"    exec(code_obj, self.user_global_ns, self.user_ns)\"\u001b[39;49;00m,\u001b[37m\u001b[39;49;00m\n",
      "\u001b[37m    \u001b[39;49;00m\u001b[33m\"  File \\\"/var/folders/12/70p0x2553z9drw1kywdgbsch0000gn/T/ipykernel_3574/199545058.py\\\", line 12, in <module>\"\u001b[39;49;00m,\u001b[37m\u001b[39;49;00m\n",
      "\u001b[37m    \u001b[39;49;00m\u001b[33m\"    logging.info(\\\"This is a info message\\\", extra={\\\"user\\\": \\\"aglog\\\"}, stack_info=True)\"\u001b[39;49;00m\u001b[37m\u001b[39;49;00m\n",
      "\u001b[37m  \u001b[39;49;00m]\u001b[37m\u001b[39;49;00m\n",
      "}\u001b[37m\u001b[39;49;00m\n"
     ]
    }
   ],
   "source": [
    "import aglog\n",
    "import logging\n",
    "\n",
    "\n",
    "aglog.dict_config_from_yaml(\"./logging_conf.yaml\")\n",
    "\n",
    "try:\n",
    "    1 / 0\n",
    "except:\n",
    "    logging.exception(\"This is a info message\", extra={\"user\": \"aglog\"})\n",
    "\n",
    "logging.info(\"This is a info message\", extra={\"user\": \"aglog\"}, stack_info=True)\n"
   ]
  },
  {
   "cell_type": "code",
   "execution_count": 1,
   "metadata": {},
   "outputs": [
    {
     "name": "stdout",
     "output_type": "stream",
     "text": [
      "\u001b[31mエラーが発生しました:\u001b[0m\n",
      "\u001b[31mdivision by zero\u001b[0m\n"
     ]
    }
   ],
   "source": [
    "from termcolor import colored\n",
    "\n",
    "try:\n",
    "    # ここにエラーが発生するコードを記述します\n",
    "    result = 10 / 0\n",
    "except ZeroDivisionError as e:\n",
    "    # tracebackに色を付けて表示します\n",
    "    print(colored(\"エラーが発生しました:\", \"red\"))\n",
    "    print(colored(str(e), \"red\"))\n"
   ]
  },
  {
   "cell_type": "code",
   "execution_count": 5,
   "metadata": {},
   "outputs": [
    {
     "name": "stdout",
     "output_type": "stream",
     "text": [
      "{\u001b[37m\u001b[39;49;00m\n",
      "\u001b[37m    \u001b[39;49;00m\u001b[94m\"a\"\u001b[39;49;00m:\u001b[37m \u001b[39;49;00m\u001b[34m1\u001b[39;49;00m,\u001b[37m\u001b[39;49;00m\n",
      "\u001b[37m    \u001b[39;49;00m\u001b[94m\"b\"\u001b[39;49;00m:\u001b[37m \u001b[39;49;00m\u001b[34m42.5\u001b[39;49;00m,\u001b[37m\u001b[39;49;00m\n",
      "\u001b[37m    \u001b[39;49;00m\u001b[94m\"c\"\u001b[39;49;00m:\u001b[37m \u001b[39;49;00m\u001b[33m\"cccc\"\u001b[39;49;00m,\u001b[37m\u001b[39;49;00m\n",
      "\u001b[37m    \u001b[39;49;00m\u001b[94m\"xs\"\u001b[39;49;00m:\u001b[37m \u001b[39;49;00m[\u001b[37m\u001b[39;49;00m\n",
      "\u001b[37m        \u001b[39;49;00m\u001b[34m1\u001b[39;49;00m,\u001b[37m\u001b[39;49;00m\n",
      "\u001b[37m        \u001b[39;49;00m\u001b[34m2\u001b[39;49;00m,\u001b[37m\u001b[39;49;00m\n",
      "\u001b[37m        \u001b[39;49;00m\u001b[34m3\u001b[39;49;00m\u001b[37m\u001b[39;49;00m\n",
      "\u001b[37m    \u001b[39;49;00m]\u001b[37m\u001b[39;49;00m\n",
      "}\u001b[37m\u001b[39;49;00m\n",
      "\n"
     ]
    }
   ],
   "source": [
    "import json\n",
    "\n",
    "obj = {\n",
    "    \"a\": 1,\n",
    "    \"b\": 42.5,\n",
    "    \"c\": \"cccc\",\n",
    "    \"xs\": [1, 2, 3],\n",
    "}\n",
    "formatted_json = json.dumps(obj, sort_keys=True, indent=4)\n",
    "\n",
    "from pygments import highlight, lexers, formatters\n",
    "\n",
    "colorful_json = highlight(formatted_json, lexers.JsonLexer(), formatters.TerminalFormatter())\n",
    "\n",
    "print(colorful_json)\n"
   ]
  }
 ],
 "metadata": {
  "kernelspec": {
   "display_name": ".venv",
   "language": "python",
   "name": "python3"
  },
  "language_info": {
   "codemirror_mode": {
    "name": "ipython",
    "version": 3
   },
   "file_extension": ".py",
   "mimetype": "text/x-python",
   "name": "python",
   "nbconvert_exporter": "python",
   "pygments_lexer": "ipython3",
   "version": "3.10.13"
  }
 },
 "nbformat": 4,
 "nbformat_minor": 2
}
