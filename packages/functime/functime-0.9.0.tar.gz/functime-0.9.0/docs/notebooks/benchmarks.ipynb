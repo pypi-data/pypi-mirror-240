{
 "cells": [
  {
   "cell_type": "markdown",
   "metadata": {},
   "source": [
    "# Feature Extraction Benchmarks\n",
    "---\n",
    "\n",
    "This walkthrough serves as a benchmark for comparing `functime` with `tsfresh` feature extraction functions. We begin the analysis by evaluating the speed of feature extraction across time series of three different sizes: 100K, 1M, and 9M. Next, we assess the speed in a groupby and aggregation context, making a performance comparison between functime with polats and tsfresh using pandas."
   ]
  },
  {
   "cell_type": "code",
   "execution_count": 18,
   "metadata": {},
   "outputs": [],
   "source": [
    "%%capture\n",
    "%pip install perfplot\n",
    "%pip install pandas\n",
    "%pip install tsfresh\n",
    "%pip install functime"
   ]
  },
  {
   "cell_type": "code",
   "execution_count": 31,
   "metadata": {},
   "outputs": [],
   "source": [
    "from typing import Callable\n",
    "\n",
    "import pandas as pd\n",
    "import perfplot\n",
    "import polars as pl\n",
    "from tsfresh.feature_extraction import feature_calculators as tsfresh\n",
    "\n",
    "from functime import feature_extractors as fe"
   ]
  },
  {
   "cell_type": "code",
   "execution_count": 59,
   "metadata": {},
   "outputs": [
    {
     "data": {
      "text/plain": [
       "polars.config.Config"
      ]
     },
     "execution_count": 59,
     "metadata": {},
     "output_type": "execute_result"
    }
   ],
   "source": [
    "pl.Config.set_tbl_rows(100)\n",
    "pl.Config.set_fmt_str_lengths(60)\n",
    "pl.Config.set_tbl_hide_column_data_types(True)"
   ]
  },
  {
   "cell_type": "markdown",
   "metadata": {},
   "source": [
    "## 1. Setup for the comparison\n",
    "---\n",
    "We are using the M4 dataset. We create a `pd.DataFrame` and `pl.DataFrame` and we define a list of dictionnary with the following structure:\n",
    "<br>\n",
    "(<br>\n",
    "&emsp;  `<functime_function>`,<br>\n",
    "&emsp;  `<tsfresh_function>`,<br>\n",
    "&emsp;  `<functime_parameters>`,<br>\n",
    "&emsp;   `<tsfresh_parameters>`<br>\n",
    ")<br>"
   ]
  },
  {
   "cell_type": "code",
   "execution_count": 32,
   "metadata": {},
   "outputs": [],
   "source": [
    "_M4_DATASET = \"../../data/m4_1d_train.parquet\"\n",
    "\n",
    "DF_PANDAS = (\n",
    "    pd.melt(pd.read_parquet(_M4_DATASET))\n",
    "    .drop(columns=[\"variable\"])\n",
    "    .dropna()\n",
    "    .reset_index(drop=True)\n",
    ")\n",
    "DF_PL_EAGER = (\n",
    "    pl.read_parquet(_M4_DATASET).drop(\"V1\").melt().drop(\"variable\").drop_nulls()\n",
    ")\n",
    "DF_PL_LAZY = DF_PL_EAGER.lazy()"
   ]
  },
  {
   "cell_type": "code",
   "execution_count": 33,
   "metadata": {},
   "outputs": [],
   "source": [
    "FUNC_PARAMS_BENCH = [\n",
    "    (fe.absolute_energy, tsfresh.abs_energy, {}, {}),\n",
    "    (fe.absolute_maximum, tsfresh.absolute_maximum, {}, {}),\n",
    "    (fe.absolute_sum_of_changes, tsfresh.absolute_sum_of_changes, {}, {}),\n",
    "    (\n",
    "        fe.approximate_entropy,\n",
    "        tsfresh.approximate_entropy,\n",
    "        {\"run_length\": 2, \"filtering_level\": 0.5},\n",
    "        {\"m\": 2, \"r\": 0.5},\n",
    "    ),\n",
    "    # (fe.augmented_dickey_fuller, tsfresh.augmented_dickey_fuller, \"param\")\n",
    "    (fe.autocorrelation, tsfresh.autocorrelation, {\"n_lags\": 4}, {\"lag\": 4}),\n",
    "    (\n",
    "        fe.autoregressive_coefficients,\n",
    "        tsfresh.ar_coefficient,\n",
    "        {\"n_lags\": 4},\n",
    "        {\"param\": [{\"coeff\": i, \"k\": 4}] for i in range(5)},\n",
    "    ),\n",
    "    (fe.benford_correlation2, tsfresh.benford_correlation, {}, {}),\n",
    "    (fe.benford_correlation, tsfresh.benford_correlation, {}, {}),\n",
    "    (fe.binned_entropy, tsfresh.binned_entropy, {\"bin_count\": 10}, {\"max_bins\": 10}),\n",
    "    (fe.c3, tsfresh.c3, {\"n_lags\": 10}, {\"lag\": 10}),\n",
    "    (\n",
    "        fe.change_quantiles,\n",
    "        tsfresh.change_quantiles,\n",
    "        {\"q_low\": 0.1, \"q_high\": 0.9, \"is_abs\": True},\n",
    "        {\"ql\": 0.1, \"qh\": 0.9, \"isabs\": True, \"f_agg\": \"mean\"},\n",
    "    ),\n",
    "    (fe.cid_ce, tsfresh.cid_ce, {\"normalize\": True}, {\"normalize\": True}),\n",
    "    (fe.count_above, tsfresh.count_above, {\"threshold\": 0.0}, {\"t\": 0.0}),\n",
    "    (fe.count_above_mean, tsfresh.count_above_mean, {}, {}),\n",
    "    (fe.count_below, tsfresh.count_below, {\"threshold\": 0.0}, {\"t\": 0.0}),\n",
    "    (fe.count_below_mean, tsfresh.count_below_mean, {}, {}),\n",
    "    # (fe.cwt_coefficients, tsfresh.cwt_coefficients, {\"widths\": (1, 2, 3), \"n_coefficients\": 2},{\"param\": {\"widths\": (1, 2, 3), \"coeff\": 2, \"w\": 1}}),\n",
    "    (\n",
    "        fe.energy_ratios,\n",
    "        tsfresh.energy_ratio_by_chunks,\n",
    "        {\"n_chunks\": 6},\n",
    "        {\"param\": [{\"num_segments\": 6, \"segment_focus\": i} for i in range(6)]},\n",
    "    ),\n",
    "    (fe.first_location_of_maximum, tsfresh.first_location_of_maximum, {}, {}),\n",
    "    (fe.first_location_of_minimum, tsfresh.first_location_of_minimum, {}, {}),\n",
    "    # (fe.fourier_entropy, tsfresh.fourier_entropy, {\"n_bins\": 10}, {\"bins\": 10}),\n",
    "    # (fe.friedrich_coefficients, tsfresh.friedrich_coefficients, {\"polynomial_order\": 3, \"n_quantiles\": 30}, {\"params\": [{\"m\": 3, \"r\": 30}]}),\n",
    "    (fe.has_duplicate, tsfresh.has_duplicate, {}, {}),\n",
    "    (fe.has_duplicate_max, tsfresh.has_duplicate_max, {}, {}),\n",
    "    (fe.has_duplicate_min, tsfresh.has_duplicate_min, {}, {}),\n",
    "    (\n",
    "        fe.index_mass_quantile,\n",
    "        tsfresh.index_mass_quantile,\n",
    "        {\"q\": 0.5},\n",
    "        {\"param\": [{\"q\": 0.5}]},\n",
    "    ),\n",
    "    (\n",
    "        fe.large_standard_deviation,\n",
    "        tsfresh.large_standard_deviation,\n",
    "        {\"ratio\": 0.25},\n",
    "        {\"r\": 0.25},\n",
    "    ),\n",
    "    (fe.last_location_of_maximum, tsfresh.last_location_of_maximum, {}, {}),\n",
    "    (fe.last_location_of_minimum, tsfresh.last_location_of_minimum, {}, {}),\n",
    "    # (fe.lempel_ziv_complexity, tsfresh.lempel_ziv_complexity, {\"n_bins\": 5}, {\"bins\": 5}),\n",
    "    (\n",
    "        fe.linear_trend,\n",
    "        tsfresh.linear_trend,\n",
    "        {},\n",
    "        {\n",
    "            \"param\": [\n",
    "                {\"attr\": \"pvalue\"},\n",
    "                {\"attr\": \"rvalue\"},\n",
    "                {\"attr\": \"intercept\"},\n",
    "                {\"attr\": \"slope\"},\n",
    "                {\"attr\": \"stderr\"},\n",
    "            ]\n",
    "        },\n",
    "    ),\n",
    "    (fe.longest_streak_above_mean, tsfresh.longest_strike_above_mean, {}, {}),\n",
    "    (fe.longest_streak_below_mean, tsfresh.longest_strike_below_mean, {}, {}),\n",
    "    (fe.mean_abs_change, tsfresh.mean_abs_change, {}, {}),\n",
    "    (fe.mean_change, tsfresh.mean_change, {}, {}),\n",
    "    (\n",
    "        fe.mean_n_absolute_max,\n",
    "        tsfresh.mean_n_absolute_max,\n",
    "        {\"n_maxima\": 20},\n",
    "        {\"number_of_maxima\": 20},\n",
    "    ),\n",
    "    (\n",
    "        fe.mean_second_derivative_central,\n",
    "        tsfresh.mean_second_derivative_central,\n",
    "        {},\n",
    "        {},\n",
    "    ),\n",
    "    (\n",
    "        fe.number_crossings,\n",
    "        tsfresh.number_crossing_m,\n",
    "        {\"crossing_value\": 0.0},\n",
    "        {\"m\": 0.0},\n",
    "    ),\n",
    "    (fe.number_cwt_peaks, tsfresh.number_cwt_peaks, {\"max_width\": 5}, {\"n\": 5}),\n",
    "    (fe.number_peaks, tsfresh.number_peaks, {\"support\": 5}, {\"n\": 5}),\n",
    "    # (fe.partial_autocorrelation, tsfresh.partial_autocorrelation, \"param\"),\n",
    "    (\n",
    "        fe.percent_reoccurring_values,\n",
    "        tsfresh.percentage_of_reoccurring_values_to_all_values,\n",
    "        {},\n",
    "        {},\n",
    "    ),\n",
    "    (\n",
    "        fe.percent_reoccurring_points,\n",
    "        tsfresh.percentage_of_reoccurring_datapoints_to_all_datapoints,\n",
    "        {},\n",
    "        {},\n",
    "    ),\n",
    "    (\n",
    "        fe.permutation_entropy,\n",
    "        tsfresh.permutation_entropy,\n",
    "        {\"tau\": 1, \"n_dims\": 3},\n",
    "        {\"tau\": 1, \"dimension\": 3},\n",
    "    ),\n",
    "    (\n",
    "        fe.range_count,\n",
    "        tsfresh.range_count,\n",
    "        {\"lower\": 0, \"upper\": 9, \"closed\": \"none\"},\n",
    "        {\"min\": 0, \"max\": 9},\n",
    "    ),\n",
    "    (fe.ratio_beyond_r_sigma, tsfresh.ratio_beyond_r_sigma, {\"ratio\": 2}, {\"r\": 2}),\n",
    "    (\n",
    "        fe.ratio_n_unique_to_length,\n",
    "        tsfresh.ratio_value_number_to_time_series_length,\n",
    "        {},\n",
    "        {},\n",
    "    ),\n",
    "    (fe.root_mean_square, tsfresh.root_mean_square, {}, {}),\n",
    "    (fe.sample_entropy, tsfresh.sample_entropy, {}, {}),\n",
    "    (\n",
    "        fe.spkt_welch_density,\n",
    "        tsfresh.spkt_welch_density,\n",
    "        {\"n_coeffs\": 10},\n",
    "        {\"param\": [{\"coeff\": i} for i in range(10)]},\n",
    "    ),\n",
    "    (fe.sum_reoccurring_points, tsfresh.sum_of_reoccurring_data_points, {}, {}),\n",
    "    (fe.sum_reoccurring_values, tsfresh.sum_of_reoccurring_values, {}, {}),\n",
    "    (\n",
    "        fe.symmetry_looking,\n",
    "        tsfresh.symmetry_looking,\n",
    "        {\"ratio\": 0.25},\n",
    "        {\"param\": [{\"r\": 0.25}]},\n",
    "    ),\n",
    "    (\n",
    "        fe.time_reversal_asymmetry_statistic,\n",
    "        tsfresh.time_reversal_asymmetry_statistic,\n",
    "        {\"n_lags\": 3},\n",
    "        {\"lag\": 3},\n",
    "    ),\n",
    "    (fe.variation_coefficient, tsfresh.variation_coefficient, {}, {}),\n",
    "    (fe.var_gt_std, tsfresh.variance_larger_than_standard_deviation, {}, {}),\n",
    "]"
   ]
  },
  {
   "cell_type": "markdown",
   "metadata": {},
   "source": [
    "## 2 Benchmark core functions\n",
    "---\n",
    "Benchmark core function for time series' length of 100_000, 1_000_000 and 9_000_000. (Except 10_000 for `approximate_entropy` and 10_000/100_000 for `number_cwt_peaks` and `sample_entropy`). `all_benchmarks()` iterates through the elements in the `FUNC_PARAMS_BENCH` list and invoke `benchmark()` for each function."
   ]
  },
  {
   "cell_type": "code",
   "execution_count": 34,
   "metadata": {},
   "outputs": [],
   "source": [
    "def benchmark(\n",
    "    f_feat: Callable, ts_feat: Callable, f_params: dict, ts_params: dict, is_expr: bool\n",
    "):\n",
    "    if f_feat.__name__ == \"approximate_entropy\":\n",
    "        n_range = [10_000]\n",
    "    elif f_feat.__name__ in (\"number_cwt_peaks\", \"sample_entropy\"):\n",
    "        n_range = [10_000, 100_000]\n",
    "    else:\n",
    "        n_range = [10_000, 100_000, 1_000_000, 9_000_000]\n",
    "    benchmark = perfplot.bench(\n",
    "        setup=lambda n: (DF_PL_EAGER.head(n), DF_PANDAS.head(n)),\n",
    "        kernels=[\n",
    "            lambda x, _y: f_feat(x[\"value\"], **f_params)\n",
    "            if not is_expr\n",
    "            else x.select(f_feat(pl.col(\"value\"), **f_params)),\n",
    "            lambda _x, y: ts_feat(y[\"value\"], **ts_params),\n",
    "        ],\n",
    "        n_range=n_range,\n",
    "        equality_check=False,\n",
    "        labels=[\"functime\", \"tsfresh\"],\n",
    "    )\n",
    "    return benchmark"
   ]
  },
  {
   "cell_type": "code",
   "execution_count": 35,
   "metadata": {},
   "outputs": [],
   "source": [
    "def all_benchmarks(params: list[tuple], is_expr: bool) -> list:\n",
    "    bench_df = pl.DataFrame(\n",
    "        schema={\n",
    "            \"Feature name\": pl.Utf8,\n",
    "            \"n\": pl.Int64,\n",
    "            \"functime (ms)\": pl.Float64,\n",
    "            \"tfresh (ms)\": pl.Float64,\n",
    "            \"diff (ms)\": pl.Float64,\n",
    "            \"diff %\": pl.Float64,\n",
    "            \"speedup\": pl.Float64,\n",
    "        }\n",
    "    )\n",
    "    for x in params:\n",
    "        try:\n",
    "            f_feat = x[0]\n",
    "            print(f\"Feature: {f_feat.__name__}\")\n",
    "            bench = benchmark(\n",
    "                f_feat=f_feat,\n",
    "                ts_feat=x[1],\n",
    "                f_params=x[2],\n",
    "                ts_params=x[3],\n",
    "                is_expr=is_expr,\n",
    "            )\n",
    "            bench_df = pl.concat(\n",
    "                [\n",
    "                    pl.DataFrame(\n",
    "                        {\n",
    "                            \"Feature name\": [x[0].__name__] * len(bench.n_range),\n",
    "                            \"n\": bench.n_range,\n",
    "                            \"functime (ms)\": bench.timings_s[0] * 1_000,\n",
    "                            \"tfresh (ms)\": bench.timings_s[1] * 1_000,\n",
    "                            \"diff (ms)\": (bench.timings_s[0] - bench.timings_s[1])\n",
    "                            * 1_000,\n",
    "                            \"diff %\": 100\n",
    "                            * (bench.timings_s[0] - bench.timings_s[1])\n",
    "                            / bench.timings_s[1],\n",
    "                            \"speedup\": bench.timings_s[1] / bench.timings_s[0],\n",
    "                        }\n",
    "                    ),\n",
    "                    bench_df,\n",
    "                ]\n",
    "            )\n",
    "        except ValueError:\n",
    "            print(f\"Failed to compute feature {x[0].__name__}\")\n",
    "        except ImportError:\n",
    "            print(f\"Failed to import feature {x[0].__name__}\")\n",
    "    return bench_df"
   ]
  },
  {
   "cell_type": "markdown",
   "metadata": {},
   "source": [
    "## 3. Run benchmarks\n",
    "---"
   ]
  },
  {
   "cell_type": "code",
   "execution_count": null,
   "metadata": {},
   "outputs": [],
   "source": [
    "# Code to prettify benchmark results\n",
    "def table_prettifier(df: pl.DataFrame, n: int):\n",
    "    table = (\n",
    "        df.filter(pl.col(\"n\") == n)\n",
    "        .drop(\"n\")\n",
    "        .sort(\"speedup\", descending=True)\n",
    "        .with_columns(\n",
    "            pl.when(pl.exclude(\"Feature name\").abs() < 0.1)\n",
    "            .then(pl.exclude(\"Feature name\").round(4))\n",
    "            .when(pl.exclude(\"Feature name\").abs() < 1)\n",
    "            .then(pl.exclude(\"Feature name\").round(2))\n",
    "            .when(pl.exclude(\"Feature name\").abs() < 30)\n",
    "            .then(pl.exclude(\"Feature name\").round(1))\n",
    "            .otherwise(pl.exclude(\"Feature name\").round(1))\n",
    "        )\n",
    "        .with_columns(speedup=\"x \" + pl.col(\"speedup\").cast(pl.Utf8))\n",
    "    )\n",
    "    return table"
   ]
  },
  {
   "cell_type": "code",
   "execution_count": 36,
   "metadata": {},
   "outputs": [
    {
     "name": "stderr",
     "output_type": "stream",
     "text": [
      "INFO:functime.feature_extraction.tsfresh:Expression version of approximate_entropy is not yet implemented due to technical difficulty regarding Polars Expression Plugins.\n",
      "INFO:functime.feature_extraction.tsfresh:Expression version of autoregressive_coefficients is not yet implemented due to technical difficulty regarding Polars Expression Plugins.\n",
      "INFO:functime.feature_extraction.tsfresh:Expression version of sample_entropy is not yet implemented due to technical difficulty regarding Polars Expression Plugins.\n",
      "INFO:functime.feature_extraction.tsfresh:Expression version of spkt_welch_density is not yet implemented due to technical difficulty regarding Polars Expression Plugins.\n"
     ]
    }
   ],
   "source": [
    "%%capture\n",
    "bench_expr = all_benchmarks(params = FUNC_PARAMS_BENCH ,expr = True)\n",
    "bench_series = all_benchmarks(params = FUNC_PARAMS_BENCH, expr = False)\n",
    "\n",
    "# Lazy benchmarks\n",
    "df_expr_10k = table_prettifier(bench_expr, n=10_000)\n",
    "df_expr_100k = table_prettifier(bench_expr, n=100_000)\n",
    "df_expr_1m = table_prettifier(bench_expr, n=1_000_000)\n",
    "df_expr_9m = table_prettifier(bench_expr, n=9_000_000)\n",
    "\n",
    "# Eager benchmarks\n",
    "df_series_10k = table_prettifier(bench_series, n=10_000)\n",
    "df_series_100k = table_prettifier(bench_series, n=100_000)\n",
    "df_series_1m = table_prettifier(bench_series, n=1_000_000)\n",
    "df_series_9m = table_prettifier(bench_series, n=9_000_000)"
   ]
  },
  {
   "cell_type": "markdown",
   "metadata": {},
   "source": [
    "## 4. Benchmark results\n",
    "---\n",
    "\n",
    "Display 8 tables:\n",
    "- For `pl.Series`: 10k, 100k, 1M and 9M rows\n",
    "- For `pl.Expr`: 10k, 100k, 1M and 9M rows\n",
    "\n",
    "Each table contains the execution time (ms) for tsfresh and functime, the difference, the difference in % and the speedup:"
   ]
  },
  {
   "cell_type": "markdown",
   "metadata": {},
   "source": [
    "### 4.1 Results for `pl.Expr`"
   ]
  },
  {
   "cell_type": "markdown",
   "metadata": {},
   "source": [
    "#### 10k expr"
   ]
  },
  {
   "cell_type": "code",
   "execution_count": 41,
   "metadata": {},
   "outputs": [
    {
     "data": {
      "text/html": [
       "<div><style>\n",
       ".dataframe > thead > tr > th,\n",
       ".dataframe > tbody > tr > td {\n",
       "  text-align: right;\n",
       "  white-space: pre-wrap;\n",
       "}\n",
       "</style>\n",
       "<small>shape: (46, 6)</small><table border=\"1\" class=\"dataframe\"><thead><tr><th>Feature name</th><th>functime (ms)</th><th>tfresh (ms)</th><th>diff (ms)</th><th>diff %</th><th>speedup</th></tr></thead><tbody><tr><td>&quot;benford_correlation2&quot;</td><td>0.32</td><td>5.8</td><td>-5.4</td><td>-94.4</td><td>&quot;x 17.9&quot;</td></tr><tr><td>&quot;benford_correlation&quot;</td><td>0.56</td><td>5.7</td><td>-5.1</td><td>-90.1</td><td>&quot;x 10.1&quot;</td></tr><tr><td>&quot;mean_n_absolute_max&quot;</td><td>0.0393</td><td>0.39</td><td>-0.35</td><td>-89.9</td><td>&quot;x 9.9&quot;</td></tr><tr><td>&quot;energy_ratios&quot;</td><td>0.16</td><td>1.0</td><td>-0.88</td><td>-84.4</td><td>&quot;x 6.4&quot;</td></tr><tr><td>&quot;longest_streak_below_mean&quot;</td><td>0.15</td><td>0.61</td><td>-0.46</td><td>-75.0</td><td>&quot;x 4.0&quot;</td></tr><tr><td>&quot;large_standard_deviation&quot;</td><td>0.0192</td><td>0.0703</td><td>-0.0512</td><td>-72.8</td><td>&quot;x 3.7&quot;</td></tr><tr><td>&quot;range_count&quot;</td><td>0.018</td><td>0.0657</td><td>-0.0478</td><td>-72.7</td><td>&quot;x 3.7&quot;</td></tr><tr><td>&quot;longest_streak_above_mean&quot;</td><td>0.17</td><td>0.59</td><td>-0.42</td><td>-70.7</td><td>&quot;x 3.4&quot;</td></tr><tr><td>&quot;change_quantiles&quot;</td><td>0.17</td><td>0.5</td><td>-0.32</td><td>-64.9</td><td>&quot;x 2.8&quot;</td></tr><tr><td>&quot;var_gt_std&quot;</td><td>0.0132</td><td>0.0368</td><td>-0.0236</td><td>-64.2</td><td>&quot;x 2.8&quot;</td></tr><tr><td>&quot;ratio_beyond_r_sigma&quot;</td><td>0.044</td><td>0.12</td><td>-0.0788</td><td>-64.2</td><td>&quot;x 2.8&quot;</td></tr><tr><td>&quot;number_peaks&quot;</td><td>0.2</td><td>0.44</td><td>-0.24</td><td>-54.8</td><td>&quot;x 2.2&quot;</td></tr><tr><td>&quot;variation_coefficient&quot;</td><td>0.0276</td><td>0.0503</td><td>-0.0227</td><td>-45.1</td><td>&quot;x 1.8&quot;</td></tr><tr><td>&quot;symmetry_looking&quot;</td><td>0.071</td><td>0.13</td><td>-0.0557</td><td>-44.0</td><td>&quot;x 1.8&quot;</td></tr><tr><td>&quot;count_below_mean&quot;</td><td>0.0239</td><td>0.0422</td><td>-0.0183</td><td>-43.4</td><td>&quot;x 1.8&quot;</td></tr><tr><td>&quot;count_below&quot;</td><td>0.0169</td><td>0.0286</td><td>-0.0117</td><td>-41.0</td><td>&quot;x 1.7&quot;</td></tr><tr><td>&quot;count_above&quot;</td><td>0.0171</td><td>0.0285</td><td>-0.0114</td><td>-40.1</td><td>&quot;x 1.7&quot;</td></tr><tr><td>&quot;count_above_mean&quot;</td><td>0.0256</td><td>0.0419</td><td>-0.0162</td><td>-38.8</td><td>&quot;x 1.6&quot;</td></tr><tr><td>&quot;has_duplicate_min&quot;</td><td>0.0305</td><td>0.046</td><td>-0.0155</td><td>-33.7</td><td>&quot;x 1.5&quot;</td></tr><tr><td>&quot;absolute_maximum&quot;</td><td>0.0202</td><td>0.0291</td><td>-0.0089</td><td>-30.6</td><td>&quot;x 1.4&quot;</td></tr><tr><td>&quot;ratio_n_unique_to_length&quot;</td><td>0.27</td><td>0.39</td><td>-0.12</td><td>-30.2</td><td>&quot;x 1.4&quot;</td></tr><tr><td>&quot;has_duplicate_max&quot;</td><td>0.0323</td><td>0.0457</td><td>-0.0134</td><td>-29.4</td><td>&quot;x 1.4&quot;</td></tr><tr><td>&quot;has_duplicate&quot;</td><td>0.32</td><td>0.39</td><td>-0.0752</td><td>-19.2</td><td>&quot;x 1.2&quot;</td></tr><tr><td>&quot;binned_entropy&quot;</td><td>0.0977</td><td>0.12</td><td>-0.0198</td><td>-16.8</td><td>&quot;x 1.2&quot;</td></tr><tr><td>&quot;sum_reoccurring_points&quot;</td><td>0.36</td><td>0.43</td><td>-0.07</td><td>-16.2</td><td>&quot;x 1.2&quot;</td></tr><tr><td>&quot;percent_reoccurring_values&quot;</td><td>0.36</td><td>0.42</td><td>-0.0621</td><td>-14.9</td><td>&quot;x 1.2&quot;</td></tr><tr><td>&quot;percent_reoccurring_points&quot;</td><td>0.37</td><td>0.4</td><td>-0.0315</td><td>-7.8</td><td>&quot;x 1.1&quot;</td></tr><tr><td>&quot;c3&quot;</td><td>0.0599</td><td>0.0618</td><td>-0.0019</td><td>-3.1</td><td>&quot;x 1.0&quot;</td></tr><tr><td>&quot;root_mean_square&quot;</td><td>0.0345</td><td>0.0338</td><td>0.0008</td><td>2.2</td><td>&quot;x 0.98&quot;</td></tr><tr><td>&quot;mean_abs_change&quot;</td><td>0.0134</td><td>0.0128</td><td>0.0005</td><td>4.2</td><td>&quot;x 0.96&quot;</td></tr><tr><td>&quot;absolute_sum_of_changes&quot;</td><td>0.0128</td><td>0.0111</td><td>0.0017</td><td>15.0</td><td>&quot;x 0.87&quot;</td></tr><tr><td>&quot;number_crossings&quot;</td><td>0.028</td><td>0.0229</td><td>0.0051</td><td>22.2</td><td>&quot;x 0.82&quot;</td></tr><tr><td>&quot;absolute_energy&quot;</td><td>0.0159</td><td>0.012</td><td>0.0038</td><td>31.8</td><td>&quot;x 0.76&quot;</td></tr><tr><td>&quot;permutation_entropy&quot;</td><td>5.7</td><td>4.2</td><td>1.4</td><td>33.7</td><td>&quot;x 0.75&quot;</td></tr><tr><td>&quot;linear_trend&quot;</td><td>0.51</td><td>0.36</td><td>0.15</td><td>43.0</td><td>&quot;x 0.7&quot;</td></tr><tr><td>&quot;sum_reoccurring_values&quot;</td><td>0.71</td><td>0.45</td><td>0.26</td><td>57.9</td><td>&quot;x 0.63&quot;</td></tr><tr><td>&quot;cid_ce&quot;</td><td>0.17</td><td>0.11</td><td>0.0683</td><td>64.3</td><td>&quot;x 0.61&quot;</td></tr><tr><td>&quot;index_mass_quantile&quot;</td><td>0.0934</td><td>0.0491</td><td>0.0443</td><td>90.2</td><td>&quot;x 0.53&quot;</td></tr><tr><td>&quot;autocorrelation&quot;</td><td>0.0749</td><td>0.0381</td><td>0.0368</td><td>96.5</td><td>&quot;x 0.51&quot;</td></tr><tr><td>&quot;first_location_of_minimum&quot;</td><td>0.027</td><td>0.0123</td><td>0.0147</td><td>120.1</td><td>&quot;x 0.45&quot;</td></tr><tr><td>&quot;first_location_of_maximum&quot;</td><td>0.0276</td><td>0.0122</td><td>0.0154</td><td>125.9</td><td>&quot;x 0.44&quot;</td></tr><tr><td>&quot;last_location_of_minimum&quot;</td><td>0.0332</td><td>0.0095</td><td>0.0237</td><td>248.1</td><td>&quot;x 0.29&quot;</td></tr><tr><td>&quot;last_location_of_maximum&quot;</td><td>0.0353</td><td>0.0094</td><td>0.0258</td><td>274.3</td><td>&quot;x 0.27&quot;</td></tr><tr><td>&quot;time_reversal_asymmetry_statistic&quot;</td><td>0.0997</td><td>0.0235</td><td>0.0762</td><td>324.3</td><td>&quot;x 0.24&quot;</td></tr><tr><td>&quot;mean_change&quot;</td><td>0.0481</td><td>0.0027</td><td>0.0454</td><td>1677.1</td><td>&quot;x 0.0563&quot;</td></tr><tr><td>&quot;mean_second_derivative_central&quot;</td><td>0.0737</td><td>0.0028</td><td>0.0708</td><td>2500.3</td><td>&quot;x 0.0385&quot;</td></tr></tbody></table></div>"
      ],
      "text/plain": [
       "shape: (46, 6)\n",
       "┌───────────────────────────────────┬───────────────┬─────────────┬───────────┬────────┬──────────┐\n",
       "│ Feature name                      ┆ functime (ms) ┆ tfresh (ms) ┆ diff (ms) ┆ diff % ┆ speedup  │\n",
       "╞═══════════════════════════════════╪═══════════════╪═════════════╪═══════════╪════════╪══════════╡\n",
       "│ benford_correlation2              ┆ 0.32          ┆ 5.8         ┆ -5.4      ┆ -94.4  ┆ x 17.9   │\n",
       "│ benford_correlation               ┆ 0.56          ┆ 5.7         ┆ -5.1      ┆ -90.1  ┆ x 10.1   │\n",
       "│ mean_n_absolute_max               ┆ 0.0393        ┆ 0.39        ┆ -0.35     ┆ -89.9  ┆ x 9.9    │\n",
       "│ energy_ratios                     ┆ 0.16          ┆ 1.0         ┆ -0.88     ┆ -84.4  ┆ x 6.4    │\n",
       "│ longest_streak_below_mean         ┆ 0.15          ┆ 0.61        ┆ -0.46     ┆ -75.0  ┆ x 4.0    │\n",
       "│ large_standard_deviation          ┆ 0.0192        ┆ 0.0703      ┆ -0.0512   ┆ -72.8  ┆ x 3.7    │\n",
       "│ range_count                       ┆ 0.018         ┆ 0.0657      ┆ -0.0478   ┆ -72.7  ┆ x 3.7    │\n",
       "│ longest_streak_above_mean         ┆ 0.17          ┆ 0.59        ┆ -0.42     ┆ -70.7  ┆ x 3.4    │\n",
       "│ change_quantiles                  ┆ 0.17          ┆ 0.5         ┆ -0.32     ┆ -64.9  ┆ x 2.8    │\n",
       "│ var_gt_std                        ┆ 0.0132        ┆ 0.0368      ┆ -0.0236   ┆ -64.2  ┆ x 2.8    │\n",
       "│ ratio_beyond_r_sigma              ┆ 0.044         ┆ 0.12        ┆ -0.0788   ┆ -64.2  ┆ x 2.8    │\n",
       "│ number_peaks                      ┆ 0.2           ┆ 0.44        ┆ -0.24     ┆ -54.8  ┆ x 2.2    │\n",
       "│ variation_coefficient             ┆ 0.0276        ┆ 0.0503      ┆ -0.0227   ┆ -45.1  ┆ x 1.8    │\n",
       "│ symmetry_looking                  ┆ 0.071         ┆ 0.13        ┆ -0.0557   ┆ -44.0  ┆ x 1.8    │\n",
       "│ count_below_mean                  ┆ 0.0239        ┆ 0.0422      ┆ -0.0183   ┆ -43.4  ┆ x 1.8    │\n",
       "│ count_below                       ┆ 0.0169        ┆ 0.0286      ┆ -0.0117   ┆ -41.0  ┆ x 1.7    │\n",
       "│ count_above                       ┆ 0.0171        ┆ 0.0285      ┆ -0.0114   ┆ -40.1  ┆ x 1.7    │\n",
       "│ count_above_mean                  ┆ 0.0256        ┆ 0.0419      ┆ -0.0162   ┆ -38.8  ┆ x 1.6    │\n",
       "│ has_duplicate_min                 ┆ 0.0305        ┆ 0.046       ┆ -0.0155   ┆ -33.7  ┆ x 1.5    │\n",
       "│ absolute_maximum                  ┆ 0.0202        ┆ 0.0291      ┆ -0.0089   ┆ -30.6  ┆ x 1.4    │\n",
       "│ ratio_n_unique_to_length          ┆ 0.27          ┆ 0.39        ┆ -0.12     ┆ -30.2  ┆ x 1.4    │\n",
       "│ has_duplicate_max                 ┆ 0.0323        ┆ 0.0457      ┆ -0.0134   ┆ -29.4  ┆ x 1.4    │\n",
       "│ has_duplicate                     ┆ 0.32          ┆ 0.39        ┆ -0.0752   ┆ -19.2  ┆ x 1.2    │\n",
       "│ binned_entropy                    ┆ 0.0977        ┆ 0.12        ┆ -0.0198   ┆ -16.8  ┆ x 1.2    │\n",
       "│ sum_reoccurring_points            ┆ 0.36          ┆ 0.43        ┆ -0.07     ┆ -16.2  ┆ x 1.2    │\n",
       "│ percent_reoccurring_values        ┆ 0.36          ┆ 0.42        ┆ -0.0621   ┆ -14.9  ┆ x 1.2    │\n",
       "│ percent_reoccurring_points        ┆ 0.37          ┆ 0.4         ┆ -0.0315   ┆ -7.8   ┆ x 1.1    │\n",
       "│ c3                                ┆ 0.0599        ┆ 0.0618      ┆ -0.0019   ┆ -3.1   ┆ x 1.0    │\n",
       "│ root_mean_square                  ┆ 0.0345        ┆ 0.0338      ┆ 0.0008    ┆ 2.2    ┆ x 0.98   │\n",
       "│ mean_abs_change                   ┆ 0.0134        ┆ 0.0128      ┆ 0.0005    ┆ 4.2    ┆ x 0.96   │\n",
       "│ absolute_sum_of_changes           ┆ 0.0128        ┆ 0.0111      ┆ 0.0017    ┆ 15.0   ┆ x 0.87   │\n",
       "│ number_crossings                  ┆ 0.028         ┆ 0.0229      ┆ 0.0051    ┆ 22.2   ┆ x 0.82   │\n",
       "│ absolute_energy                   ┆ 0.0159        ┆ 0.012       ┆ 0.0038    ┆ 31.8   ┆ x 0.76   │\n",
       "│ permutation_entropy               ┆ 5.7           ┆ 4.2         ┆ 1.4       ┆ 33.7   ┆ x 0.75   │\n",
       "│ linear_trend                      ┆ 0.51          ┆ 0.36        ┆ 0.15      ┆ 43.0   ┆ x 0.7    │\n",
       "│ sum_reoccurring_values            ┆ 0.71          ┆ 0.45        ┆ 0.26      ┆ 57.9   ┆ x 0.63   │\n",
       "│ cid_ce                            ┆ 0.17          ┆ 0.11        ┆ 0.0683    ┆ 64.3   ┆ x 0.61   │\n",
       "│ index_mass_quantile               ┆ 0.0934        ┆ 0.0491      ┆ 0.0443    ┆ 90.2   ┆ x 0.53   │\n",
       "│ autocorrelation                   ┆ 0.0749        ┆ 0.0381      ┆ 0.0368    ┆ 96.5   ┆ x 0.51   │\n",
       "│ first_location_of_minimum         ┆ 0.027         ┆ 0.0123      ┆ 0.0147    ┆ 120.1  ┆ x 0.45   │\n",
       "│ first_location_of_maximum         ┆ 0.0276        ┆ 0.0122      ┆ 0.0154    ┆ 125.9  ┆ x 0.44   │\n",
       "│ last_location_of_minimum          ┆ 0.0332        ┆ 0.0095      ┆ 0.0237    ┆ 248.1  ┆ x 0.29   │\n",
       "│ last_location_of_maximum          ┆ 0.0353        ┆ 0.0094      ┆ 0.0258    ┆ 274.3  ┆ x 0.27   │\n",
       "│ time_reversal_asymmetry_statistic ┆ 0.0997        ┆ 0.0235      ┆ 0.0762    ┆ 324.3  ┆ x 0.24   │\n",
       "│ mean_change                       ┆ 0.0481        ┆ 0.0027      ┆ 0.0454    ┆ 1677.1 ┆ x 0.0563 │\n",
       "│ mean_second_derivative_central    ┆ 0.0737        ┆ 0.0028      ┆ 0.0708    ┆ 2500.3 ┆ x 0.0385 │\n",
       "└───────────────────────────────────┴───────────────┴─────────────┴───────────┴────────┴──────────┘"
      ]
     },
     "execution_count": 41,
     "metadata": {},
     "output_type": "execute_result"
    }
   ],
   "source": [
    "df_expr_10k"
   ]
  },
  {
   "cell_type": "markdown",
   "metadata": {},
   "source": [
    "#### 100k expr"
   ]
  },
  {
   "cell_type": "code",
   "execution_count": 42,
   "metadata": {},
   "outputs": [
    {
     "data": {
      "text/html": [
       "<div><style>\n",
       ".dataframe > thead > tr > th,\n",
       ".dataframe > tbody > tr > td {\n",
       "  text-align: right;\n",
       "  white-space: pre-wrap;\n",
       "}\n",
       "</style>\n",
       "<small>shape: (46, 6)</small><table border=\"1\" class=\"dataframe\"><thead><tr><th>Feature name</th><th>functime (ms)</th><th>tfresh (ms)</th><th>diff (ms)</th><th>diff %</th><th>speedup</th></tr></thead><tbody><tr><td>&quot;mean_n_absolute_max&quot;</td><td>0.19</td><td>5.2</td><td>-5.0</td><td>-96.4</td><td>&quot;x 27.6&quot;</td></tr><tr><td>&quot;benford_correlation2&quot;</td><td>2.2</td><td>58.4</td><td>-56.3</td><td>-96.3</td><td>&quot;x 27.1&quot;</td></tr><tr><td>&quot;benford_correlation&quot;</td><td>5.0</td><td>57.6</td><td>-52.6</td><td>-91.3</td><td>&quot;x 11.5&quot;</td></tr><tr><td>&quot;var_gt_std&quot;</td><td>0.0438</td><td>0.29</td><td>-0.25</td><td>-85.1</td><td>&quot;x 6.7&quot;</td></tr><tr><td>&quot;variation_coefficient&quot;</td><td>0.0571</td><td>0.35</td><td>-0.29</td><td>-83.6</td><td>&quot;x 6.1&quot;</td></tr><tr><td>&quot;longest_streak_below_mean&quot;</td><td>1.2</td><td>5.9</td><td>-4.7</td><td>-80.0</td><td>&quot;x 5.0&quot;</td></tr><tr><td>&quot;longest_streak_above_mean&quot;</td><td>1.2</td><td>5.9</td><td>-4.7</td><td>-79.9</td><td>&quot;x 5.0&quot;</td></tr><tr><td>&quot;change_quantiles&quot;</td><td>0.75</td><td>3.5</td><td>-2.7</td><td>-78.3</td><td>&quot;x 4.6&quot;</td></tr><tr><td>&quot;large_standard_deviation&quot;</td><td>0.15</td><td>0.53</td><td>-0.39</td><td>-72.7</td><td>&quot;x 3.7&quot;</td></tr><tr><td>&quot;energy_ratios&quot;</td><td>0.37</td><td>1.3</td><td>-0.9</td><td>-70.8</td><td>&quot;x 3.4&quot;</td></tr><tr><td>&quot;absolute_maximum&quot;</td><td>0.044</td><td>0.15</td><td>-0.1</td><td>-69.9</td><td>&quot;x 3.3&quot;</td></tr><tr><td>&quot;linear_trend&quot;</td><td>1.3</td><td>3.4</td><td>-2.1</td><td>-61.6</td><td>&quot;x 2.6&quot;</td></tr><tr><td>&quot;count_below_mean&quot;</td><td>0.0576</td><td>0.15</td><td>-0.0893</td><td>-60.8</td><td>&quot;x 2.5&quot;</td></tr><tr><td>&quot;ratio_beyond_r_sigma&quot;</td><td>0.21</td><td>0.52</td><td>-0.31</td><td>-60.1</td><td>&quot;x 2.5&quot;</td></tr><tr><td>&quot;number_peaks&quot;</td><td>0.41</td><td>1.0</td><td>-0.59</td><td>-59.1</td><td>&quot;x 2.4&quot;</td></tr><tr><td>&quot;ratio_n_unique_to_length&quot;</td><td>2.4</td><td>5.6</td><td>-3.2</td><td>-57.6</td><td>&quot;x 2.4&quot;</td></tr><tr><td>&quot;symmetry_looking&quot;</td><td>0.49</td><td>1.1</td><td>-0.62</td><td>-55.6</td><td>&quot;x 2.3&quot;</td></tr><tr><td>&quot;count_above_mean&quot;</td><td>0.0701</td><td>0.15</td><td>-0.0773</td><td>-52.4</td><td>&quot;x 2.1&quot;</td></tr><tr><td>&quot;sum_reoccurring_points&quot;</td><td>3.1</td><td>5.9</td><td>-2.8</td><td>-46.8</td><td>&quot;x 1.9&quot;</td></tr><tr><td>&quot;percent_reoccurring_values&quot;</td><td>3.0</td><td>5.7</td><td>-2.7</td><td>-46.7</td><td>&quot;x 1.9&quot;</td></tr><tr><td>&quot;has_duplicate&quot;</td><td>3.1</td><td>5.6</td><td>-2.5</td><td>-45.0</td><td>&quot;x 1.8&quot;</td></tr><tr><td>&quot;has_duplicate_max&quot;</td><td>0.1</td><td>0.17</td><td>-0.0704</td><td>-40.6</td><td>&quot;x 1.7&quot;</td></tr><tr><td>&quot;has_duplicate_min&quot;</td><td>0.11</td><td>0.17</td><td>-0.0625</td><td>-36.0</td><td>&quot;x 1.6&quot;</td></tr><tr><td>&quot;index_mass_quantile&quot;</td><td>0.33</td><td>0.41</td><td>-0.0743</td><td>-18.2</td><td>&quot;x 1.2&quot;</td></tr><tr><td>&quot;permutation_entropy&quot;</td><td>46.7</td><td>55.1</td><td>-8.5</td><td>-15.3</td><td>&quot;x 1.2&quot;</td></tr><tr><td>&quot;root_mean_square&quot;</td><td>0.0757</td><td>0.0856</td><td>-0.01</td><td>-11.6</td><td>&quot;x 1.1&quot;</td></tr><tr><td>&quot;absolute_sum_of_changes&quot;</td><td>0.047</td><td>0.052</td><td>-0.0049</td><td>-9.5</td><td>&quot;x 1.1&quot;</td></tr><tr><td>&quot;binned_entropy&quot;</td><td>0.69</td><td>0.76</td><td>-0.0703</td><td>-9.3</td><td>&quot;x 1.1&quot;</td></tr><tr><td>&quot;mean_abs_change&quot;</td><td>0.0508</td><td>0.0559</td><td>-0.0051</td><td>-9.1</td><td>&quot;x 1.1&quot;</td></tr><tr><td>&quot;sum_reoccurring_values&quot;</td><td>5.7</td><td>6.1</td><td>-0.41</td><td>-6.8</td><td>&quot;x 1.1&quot;</td></tr><tr><td>&quot;autocorrelation&quot;</td><td>0.18</td><td>0.18</td><td>-0.0056</td><td>-3.1</td><td>&quot;x 1.0&quot;</td></tr><tr><td>&quot;range_count&quot;</td><td>0.1</td><td>0.1</td><td>-0.0019</td><td>-1.8</td><td>&quot;x 1.0&quot;</td></tr><tr><td>&quot;count_below&quot;</td><td>0.0542</td><td>0.0534</td><td>0.0008</td><td>1.4</td><td>&quot;x 0.99&quot;</td></tr><tr><td>&quot;percent_reoccurring_points&quot;</td><td>3.2</td><td>3.1</td><td>0.13</td><td>4.3</td><td>&quot;x 0.96&quot;</td></tr><tr><td>&quot;time_reversal_asymmetry_statistic&quot;</td><td>0.27</td><td>0.24</td><td>0.0319</td><td>13.3</td><td>&quot;x 0.88&quot;</td></tr><tr><td>&quot;c3&quot;</td><td>0.18</td><td>0.16</td><td>0.0227</td><td>14.4</td><td>&quot;x 0.87&quot;</td></tr><tr><td>&quot;absolute_energy&quot;</td><td>0.063</td><td>0.0508</td><td>0.0123</td><td>24.1</td><td>&quot;x 0.81&quot;</td></tr><tr><td>&quot;count_above&quot;</td><td>0.0661</td><td>0.0532</td><td>0.0129</td><td>24.3</td><td>&quot;x 0.8&quot;</td></tr><tr><td>&quot;cid_ce&quot;</td><td>0.63</td><td>0.49</td><td>0.14</td><td>29.0</td><td>&quot;x 0.78&quot;</td></tr><tr><td>&quot;last_location_of_maximum&quot;</td><td>0.11</td><td>0.0554</td><td>0.057</td><td>102.8</td><td>&quot;x 0.49&quot;</td></tr><tr><td>&quot;last_location_of_minimum&quot;</td><td>0.12</td><td>0.0556</td><td>0.0614</td><td>110.4</td><td>&quot;x 0.48&quot;</td></tr><tr><td>&quot;first_location_of_minimum&quot;</td><td>0.094</td><td>0.042</td><td>0.052</td><td>123.6</td><td>&quot;x 0.45&quot;</td></tr><tr><td>&quot;first_location_of_maximum&quot;</td><td>0.0943</td><td>0.0421</td><td>0.0522</td><td>123.8</td><td>&quot;x 0.45&quot;</td></tr><tr><td>&quot;number_crossings&quot;</td><td>0.0828</td><td>0.0368</td><td>0.046</td><td>125.3</td><td>&quot;x 0.44&quot;</td></tr><tr><td>&quot;mean_change&quot;</td><td>0.045</td><td>0.0027</td><td>0.0423</td><td>1587.3</td><td>&quot;x 0.0593&quot;</td></tr><tr><td>&quot;mean_second_derivative_central&quot;</td><td>0.0733</td><td>0.0028</td><td>0.0705</td><td>2525.0</td><td>&quot;x 0.0381&quot;</td></tr></tbody></table></div>"
      ],
      "text/plain": [
       "shape: (46, 6)\n",
       "┌───────────────────────────────────┬───────────────┬─────────────┬───────────┬────────┬──────────┐\n",
       "│ Feature name                      ┆ functime (ms) ┆ tfresh (ms) ┆ diff (ms) ┆ diff % ┆ speedup  │\n",
       "╞═══════════════════════════════════╪═══════════════╪═════════════╪═══════════╪════════╪══════════╡\n",
       "│ mean_n_absolute_max               ┆ 0.19          ┆ 5.2         ┆ -5.0      ┆ -96.4  ┆ x 27.6   │\n",
       "│ benford_correlation2              ┆ 2.2           ┆ 58.4        ┆ -56.3     ┆ -96.3  ┆ x 27.1   │\n",
       "│ benford_correlation               ┆ 5.0           ┆ 57.6        ┆ -52.6     ┆ -91.3  ┆ x 11.5   │\n",
       "│ var_gt_std                        ┆ 0.0438        ┆ 0.29        ┆ -0.25     ┆ -85.1  ┆ x 6.7    │\n",
       "│ variation_coefficient             ┆ 0.0571        ┆ 0.35        ┆ -0.29     ┆ -83.6  ┆ x 6.1    │\n",
       "│ longest_streak_below_mean         ┆ 1.2           ┆ 5.9         ┆ -4.7      ┆ -80.0  ┆ x 5.0    │\n",
       "│ longest_streak_above_mean         ┆ 1.2           ┆ 5.9         ┆ -4.7      ┆ -79.9  ┆ x 5.0    │\n",
       "│ change_quantiles                  ┆ 0.75          ┆ 3.5         ┆ -2.7      ┆ -78.3  ┆ x 4.6    │\n",
       "│ large_standard_deviation          ┆ 0.15          ┆ 0.53        ┆ -0.39     ┆ -72.7  ┆ x 3.7    │\n",
       "│ energy_ratios                     ┆ 0.37          ┆ 1.3         ┆ -0.9      ┆ -70.8  ┆ x 3.4    │\n",
       "│ absolute_maximum                  ┆ 0.044         ┆ 0.15        ┆ -0.1      ┆ -69.9  ┆ x 3.3    │\n",
       "│ linear_trend                      ┆ 1.3           ┆ 3.4         ┆ -2.1      ┆ -61.6  ┆ x 2.6    │\n",
       "│ count_below_mean                  ┆ 0.0576        ┆ 0.15        ┆ -0.0893   ┆ -60.8  ┆ x 2.5    │\n",
       "│ ratio_beyond_r_sigma              ┆ 0.21          ┆ 0.52        ┆ -0.31     ┆ -60.1  ┆ x 2.5    │\n",
       "│ number_peaks                      ┆ 0.41          ┆ 1.0         ┆ -0.59     ┆ -59.1  ┆ x 2.4    │\n",
       "│ ratio_n_unique_to_length          ┆ 2.4           ┆ 5.6         ┆ -3.2      ┆ -57.6  ┆ x 2.4    │\n",
       "│ symmetry_looking                  ┆ 0.49          ┆ 1.1         ┆ -0.62     ┆ -55.6  ┆ x 2.3    │\n",
       "│ count_above_mean                  ┆ 0.0701        ┆ 0.15        ┆ -0.0773   ┆ -52.4  ┆ x 2.1    │\n",
       "│ sum_reoccurring_points            ┆ 3.1           ┆ 5.9         ┆ -2.8      ┆ -46.8  ┆ x 1.9    │\n",
       "│ percent_reoccurring_values        ┆ 3.0           ┆ 5.7         ┆ -2.7      ┆ -46.7  ┆ x 1.9    │\n",
       "│ has_duplicate                     ┆ 3.1           ┆ 5.6         ┆ -2.5      ┆ -45.0  ┆ x 1.8    │\n",
       "│ has_duplicate_max                 ┆ 0.1           ┆ 0.17        ┆ -0.0704   ┆ -40.6  ┆ x 1.7    │\n",
       "│ has_duplicate_min                 ┆ 0.11          ┆ 0.17        ┆ -0.0625   ┆ -36.0  ┆ x 1.6    │\n",
       "│ index_mass_quantile               ┆ 0.33          ┆ 0.41        ┆ -0.0743   ┆ -18.2  ┆ x 1.2    │\n",
       "│ permutation_entropy               ┆ 46.7          ┆ 55.1        ┆ -8.5      ┆ -15.3  ┆ x 1.2    │\n",
       "│ root_mean_square                  ┆ 0.0757        ┆ 0.0856      ┆ -0.01     ┆ -11.6  ┆ x 1.1    │\n",
       "│ absolute_sum_of_changes           ┆ 0.047         ┆ 0.052       ┆ -0.0049   ┆ -9.5   ┆ x 1.1    │\n",
       "│ binned_entropy                    ┆ 0.69          ┆ 0.76        ┆ -0.0703   ┆ -9.3   ┆ x 1.1    │\n",
       "│ mean_abs_change                   ┆ 0.0508        ┆ 0.0559      ┆ -0.0051   ┆ -9.1   ┆ x 1.1    │\n",
       "│ sum_reoccurring_values            ┆ 5.7           ┆ 6.1         ┆ -0.41     ┆ -6.8   ┆ x 1.1    │\n",
       "│ autocorrelation                   ┆ 0.18          ┆ 0.18        ┆ -0.0056   ┆ -3.1   ┆ x 1.0    │\n",
       "│ range_count                       ┆ 0.1           ┆ 0.1         ┆ -0.0019   ┆ -1.8   ┆ x 1.0    │\n",
       "│ count_below                       ┆ 0.0542        ┆ 0.0534      ┆ 0.0008    ┆ 1.4    ┆ x 0.99   │\n",
       "│ percent_reoccurring_points        ┆ 3.2           ┆ 3.1         ┆ 0.13      ┆ 4.3    ┆ x 0.96   │\n",
       "│ time_reversal_asymmetry_statistic ┆ 0.27          ┆ 0.24        ┆ 0.0319    ┆ 13.3   ┆ x 0.88   │\n",
       "│ c3                                ┆ 0.18          ┆ 0.16        ┆ 0.0227    ┆ 14.4   ┆ x 0.87   │\n",
       "│ absolute_energy                   ┆ 0.063         ┆ 0.0508      ┆ 0.0123    ┆ 24.1   ┆ x 0.81   │\n",
       "│ count_above                       ┆ 0.0661        ┆ 0.0532      ┆ 0.0129    ┆ 24.3   ┆ x 0.8    │\n",
       "│ cid_ce                            ┆ 0.63          ┆ 0.49        ┆ 0.14      ┆ 29.0   ┆ x 0.78   │\n",
       "│ last_location_of_maximum          ┆ 0.11          ┆ 0.0554      ┆ 0.057     ┆ 102.8  ┆ x 0.49   │\n",
       "│ last_location_of_minimum          ┆ 0.12          ┆ 0.0556      ┆ 0.0614    ┆ 110.4  ┆ x 0.48   │\n",
       "│ first_location_of_minimum         ┆ 0.094         ┆ 0.042       ┆ 0.052     ┆ 123.6  ┆ x 0.45   │\n",
       "│ first_location_of_maximum         ┆ 0.0943        ┆ 0.0421      ┆ 0.0522    ┆ 123.8  ┆ x 0.45   │\n",
       "│ number_crossings                  ┆ 0.0828        ┆ 0.0368      ┆ 0.046     ┆ 125.3  ┆ x 0.44   │\n",
       "│ mean_change                       ┆ 0.045         ┆ 0.0027      ┆ 0.0423    ┆ 1587.3 ┆ x 0.0593 │\n",
       "│ mean_second_derivative_central    ┆ 0.0733        ┆ 0.0028      ┆ 0.0705    ┆ 2525.0 ┆ x 0.0381 │\n",
       "└───────────────────────────────────┴───────────────┴─────────────┴───────────┴────────┴──────────┘"
      ]
     },
     "execution_count": 42,
     "metadata": {},
     "output_type": "execute_result"
    }
   ],
   "source": [
    "df_expr_100k"
   ]
  },
  {
   "cell_type": "markdown",
   "metadata": {},
   "source": [
    "#### 1M expr"
   ]
  },
  {
   "cell_type": "code",
   "execution_count": 43,
   "metadata": {},
   "outputs": [
    {
     "data": {
      "text/html": [
       "<div><style>\n",
       ".dataframe > thead > tr > th,\n",
       ".dataframe > tbody > tr > td {\n",
       "  text-align: right;\n",
       "  white-space: pre-wrap;\n",
       "}\n",
       "</style>\n",
       "<small>shape: (46, 6)</small><table border=\"1\" class=\"dataframe\"><thead><tr><th>Feature name</th><th>functime (ms)</th><th>tfresh (ms)</th><th>diff (ms)</th><th>diff %</th><th>speedup</th></tr></thead><tbody><tr><td>&quot;benford_correlation2&quot;</td><td>21.3</td><td>588.6</td><td>-567.3</td><td>-96.4</td><td>&quot;x 27.6&quot;</td></tr><tr><td>&quot;mean_n_absolute_max&quot;</td><td>2.5</td><td>61.5</td><td>-59.0</td><td>-96.0</td><td>&quot;x 24.7&quot;</td></tr><tr><td>&quot;absolute_maximum&quot;</td><td>0.0792</td><td>1.6</td><td>-1.5</td><td>-95.0</td><td>&quot;x 19.9&quot;</td></tr><tr><td>&quot;benford_correlation&quot;</td><td>51.3</td><td>592.9</td><td>-541.6</td><td>-91.3</td><td>&quot;x 11.6&quot;</td></tr><tr><td>&quot;large_standard_deviation&quot;</td><td>0.5</td><td>5.2</td><td>-4.7</td><td>-90.4</td><td>&quot;x 10.4&quot;</td></tr><tr><td>&quot;variation_coefficient&quot;</td><td>0.35</td><td>3.3</td><td>-3.0</td><td>-89.3</td><td>&quot;x 9.4&quot;</td></tr><tr><td>&quot;var_gt_std&quot;</td><td>0.36</td><td>2.9</td><td>-2.5</td><td>-87.4</td><td>&quot;x 7.9&quot;</td></tr><tr><td>&quot;has_duplicate_min&quot;</td><td>0.24</td><td>1.4</td><td>-1.2</td><td>-83.7</td><td>&quot;x 6.1&quot;</td></tr><tr><td>&quot;has_duplicate_max&quot;</td><td>0.25</td><td>1.4</td><td>-1.2</td><td>-82.6</td><td>&quot;x 5.8&quot;</td></tr><tr><td>&quot;longest_streak_above_mean&quot;</td><td>11.2</td><td>59.6</td><td>-48.3</td><td>-81.1</td><td>&quot;x 5.3&quot;</td></tr><tr><td>&quot;longest_streak_below_mean&quot;</td><td>11.6</td><td>60.6</td><td>-49.0</td><td>-80.8</td><td>&quot;x 5.2&quot;</td></tr><tr><td>&quot;number_peaks&quot;</td><td>1.9</td><td>9.1</td><td>-7.3</td><td>-79.7</td><td>&quot;x 4.9&quot;</td></tr><tr><td>&quot;change_quantiles&quot;</td><td>7.2</td><td>34.4</td><td>-27.2</td><td>-79.0</td><td>&quot;x 4.8&quot;</td></tr><tr><td>&quot;count_above_mean&quot;</td><td>0.3</td><td>1.4</td><td>-1.1</td><td>-78.1</td><td>&quot;x 4.6&quot;</td></tr><tr><td>&quot;count_below_mean&quot;</td><td>0.31</td><td>1.4</td><td>-1.1</td><td>-77.8</td><td>&quot;x 4.5&quot;</td></tr><tr><td>&quot;linear_trend&quot;</td><td>8.9</td><td>38.1</td><td>-29.2</td><td>-76.7</td><td>&quot;x 4.3&quot;</td></tr><tr><td>&quot;ratio_beyond_r_sigma&quot;</td><td>1.2</td><td>4.8</td><td>-3.6</td><td>-75.2</td><td>&quot;x 4.0&quot;</td></tr><tr><td>&quot;ratio_n_unique_to_length&quot;</td><td>15.9</td><td>63.8</td><td>-47.9</td><td>-75.1</td><td>&quot;x 4.0&quot;</td></tr><tr><td>&quot;symmetry_looking&quot;</td><td>3.4</td><td>13.1</td><td>-9.7</td><td>-74.1</td><td>&quot;x 3.9&quot;</td></tr><tr><td>&quot;energy_ratios&quot;</td><td>2.4</td><td>7.5</td><td>-5.1</td><td>-67.6</td><td>&quot;x 3.1&quot;</td></tr><tr><td>&quot;has_duplicate&quot;</td><td>21.5</td><td>63.5</td><td>-42.0</td><td>-66.1</td><td>&quot;x 3.0&quot;</td></tr><tr><td>&quot;sum_reoccurring_points&quot;</td><td>23.1</td><td>66.1</td><td>-43.0</td><td>-65.1</td><td>&quot;x 2.9&quot;</td></tr><tr><td>&quot;percent_reoccurring_values&quot;</td><td>24.3</td><td>65.2</td><td>-40.9</td><td>-62.8</td><td>&quot;x 2.7&quot;</td></tr><tr><td>&quot;root_mean_square&quot;</td><td>0.35</td><td>0.93</td><td>-0.59</td><td>-62.7</td><td>&quot;x 2.7&quot;</td></tr><tr><td>&quot;c3&quot;</td><td>0.99</td><td>2.2</td><td>-1.2</td><td>-55.0</td><td>&quot;x 2.2&quot;</td></tr><tr><td>&quot;absolute_sum_of_changes&quot;</td><td>0.53</td><td>1.1</td><td>-0.6</td><td>-52.8</td><td>&quot;x 2.1&quot;</td></tr><tr><td>&quot;mean_abs_change&quot;</td><td>0.47</td><td>0.94</td><td>-0.48</td><td>-50.4</td><td>&quot;x 2.0&quot;</td></tr><tr><td>&quot;autocorrelation&quot;</td><td>1.4</td><td>2.6</td><td>-1.2</td><td>-47.4</td><td>&quot;x 1.9&quot;</td></tr><tr><td>&quot;range_count&quot;</td><td>0.27</td><td>0.51</td><td>-0.24</td><td>-46.8</td><td>&quot;x 1.9&quot;</td></tr><tr><td>&quot;count_below&quot;</td><td>0.17</td><td>0.3</td><td>-0.13</td><td>-42.9</td><td>&quot;x 1.8&quot;</td></tr><tr><td>&quot;count_above&quot;</td><td>0.17</td><td>0.3</td><td>-0.12</td><td>-41.3</td><td>&quot;x 1.7&quot;</td></tr><tr><td>&quot;index_mass_quantile&quot;</td><td>2.9</td><td>4.7</td><td>-1.8</td><td>-38.3</td><td>&quot;x 1.6&quot;</td></tr><tr><td>&quot;sum_reoccurring_values&quot;</td><td>44.9</td><td>66.7</td><td>-21.8</td><td>-32.7</td><td>&quot;x 1.5&quot;</td></tr><tr><td>&quot;time_reversal_asymmetry_statistic&quot;</td><td>2.1</td><td>3.1</td><td>-0.96</td><td>-31.2</td><td>&quot;x 1.5&quot;</td></tr><tr><td>&quot;permutation_entropy&quot;</td><td>471.5</td><td>670.1</td><td>-198.6</td><td>-29.6</td><td>&quot;x 1.4&quot;</td></tr><tr><td>&quot;absolute_energy&quot;</td><td>0.32</td><td>0.44</td><td>-0.12</td><td>-27.4</td><td>&quot;x 1.4&quot;</td></tr><tr><td>&quot;cid_ce&quot;</td><td>4.4</td><td>5.5</td><td>-1.1</td><td>-19.4</td><td>&quot;x 1.2&quot;</td></tr><tr><td>&quot;binned_entropy&quot;</td><td>5.3</td><td>6.6</td><td>-1.2</td><td>-19.0</td><td>&quot;x 1.2&quot;</td></tr><tr><td>&quot;last_location_of_minimum&quot;</td><td>0.75</td><td>0.79</td><td>-0.0394</td><td>-5.0</td><td>&quot;x 1.1&quot;</td></tr><tr><td>&quot;last_location_of_maximum&quot;</td><td>0.75</td><td>0.79</td><td>-0.0385</td><td>-4.9</td><td>&quot;x 1.1&quot;</td></tr><tr><td>&quot;percent_reoccurring_points&quot;</td><td>22.1</td><td>21.2</td><td>0.95</td><td>4.5</td><td>&quot;x 0.96&quot;</td></tr><tr><td>&quot;first_location_of_maximum&quot;</td><td>0.61</td><td>0.34</td><td>0.27</td><td>80.1</td><td>&quot;x 0.56&quot;</td></tr><tr><td>&quot;first_location_of_minimum&quot;</td><td>0.61</td><td>0.34</td><td>0.28</td><td>81.7</td><td>&quot;x 0.55&quot;</td></tr><tr><td>&quot;number_crossings&quot;</td><td>0.37</td><td>0.17</td><td>0.2</td><td>121.4</td><td>&quot;x 0.45&quot;</td></tr><tr><td>&quot;mean_change&quot;</td><td>0.0425</td><td>0.0027</td><td>0.0398</td><td>1494.1</td><td>&quot;x 0.0627&quot;</td></tr><tr><td>&quot;mean_second_derivative_central&quot;</td><td>0.066</td><td>0.0028</td><td>0.0632</td><td>2263.2</td><td>&quot;x 0.0423&quot;</td></tr></tbody></table></div>"
      ],
      "text/plain": [
       "shape: (46, 6)\n",
       "┌───────────────────────────────────┬───────────────┬─────────────┬───────────┬────────┬──────────┐\n",
       "│ Feature name                      ┆ functime (ms) ┆ tfresh (ms) ┆ diff (ms) ┆ diff % ┆ speedup  │\n",
       "╞═══════════════════════════════════╪═══════════════╪═════════════╪═══════════╪════════╪══════════╡\n",
       "│ benford_correlation2              ┆ 21.3          ┆ 588.6       ┆ -567.3    ┆ -96.4  ┆ x 27.6   │\n",
       "│ mean_n_absolute_max               ┆ 2.5           ┆ 61.5        ┆ -59.0     ┆ -96.0  ┆ x 24.7   │\n",
       "│ absolute_maximum                  ┆ 0.0792        ┆ 1.6         ┆ -1.5      ┆ -95.0  ┆ x 19.9   │\n",
       "│ benford_correlation               ┆ 51.3          ┆ 592.9       ┆ -541.6    ┆ -91.3  ┆ x 11.6   │\n",
       "│ large_standard_deviation          ┆ 0.5           ┆ 5.2         ┆ -4.7      ┆ -90.4  ┆ x 10.4   │\n",
       "│ variation_coefficient             ┆ 0.35          ┆ 3.3         ┆ -3.0      ┆ -89.3  ┆ x 9.4    │\n",
       "│ var_gt_std                        ┆ 0.36          ┆ 2.9         ┆ -2.5      ┆ -87.4  ┆ x 7.9    │\n",
       "│ has_duplicate_min                 ┆ 0.24          ┆ 1.4         ┆ -1.2      ┆ -83.7  ┆ x 6.1    │\n",
       "│ has_duplicate_max                 ┆ 0.25          ┆ 1.4         ┆ -1.2      ┆ -82.6  ┆ x 5.8    │\n",
       "│ longest_streak_above_mean         ┆ 11.2          ┆ 59.6        ┆ -48.3     ┆ -81.1  ┆ x 5.3    │\n",
       "│ longest_streak_below_mean         ┆ 11.6          ┆ 60.6        ┆ -49.0     ┆ -80.8  ┆ x 5.2    │\n",
       "│ number_peaks                      ┆ 1.9           ┆ 9.1         ┆ -7.3      ┆ -79.7  ┆ x 4.9    │\n",
       "│ change_quantiles                  ┆ 7.2           ┆ 34.4        ┆ -27.2     ┆ -79.0  ┆ x 4.8    │\n",
       "│ count_above_mean                  ┆ 0.3           ┆ 1.4         ┆ -1.1      ┆ -78.1  ┆ x 4.6    │\n",
       "│ count_below_mean                  ┆ 0.31          ┆ 1.4         ┆ -1.1      ┆ -77.8  ┆ x 4.5    │\n",
       "│ linear_trend                      ┆ 8.9           ┆ 38.1        ┆ -29.2     ┆ -76.7  ┆ x 4.3    │\n",
       "│ ratio_beyond_r_sigma              ┆ 1.2           ┆ 4.8         ┆ -3.6      ┆ -75.2  ┆ x 4.0    │\n",
       "│ ratio_n_unique_to_length          ┆ 15.9          ┆ 63.8        ┆ -47.9     ┆ -75.1  ┆ x 4.0    │\n",
       "│ symmetry_looking                  ┆ 3.4           ┆ 13.1        ┆ -9.7      ┆ -74.1  ┆ x 3.9    │\n",
       "│ energy_ratios                     ┆ 2.4           ┆ 7.5         ┆ -5.1      ┆ -67.6  ┆ x 3.1    │\n",
       "│ has_duplicate                     ┆ 21.5          ┆ 63.5        ┆ -42.0     ┆ -66.1  ┆ x 3.0    │\n",
       "│ sum_reoccurring_points            ┆ 23.1          ┆ 66.1        ┆ -43.0     ┆ -65.1  ┆ x 2.9    │\n",
       "│ percent_reoccurring_values        ┆ 24.3          ┆ 65.2        ┆ -40.9     ┆ -62.8  ┆ x 2.7    │\n",
       "│ root_mean_square                  ┆ 0.35          ┆ 0.93        ┆ -0.59     ┆ -62.7  ┆ x 2.7    │\n",
       "│ c3                                ┆ 0.99          ┆ 2.2         ┆ -1.2      ┆ -55.0  ┆ x 2.2    │\n",
       "│ absolute_sum_of_changes           ┆ 0.53          ┆ 1.1         ┆ -0.6      ┆ -52.8  ┆ x 2.1    │\n",
       "│ mean_abs_change                   ┆ 0.47          ┆ 0.94        ┆ -0.48     ┆ -50.4  ┆ x 2.0    │\n",
       "│ autocorrelation                   ┆ 1.4           ┆ 2.6         ┆ -1.2      ┆ -47.4  ┆ x 1.9    │\n",
       "│ range_count                       ┆ 0.27          ┆ 0.51        ┆ -0.24     ┆ -46.8  ┆ x 1.9    │\n",
       "│ count_below                       ┆ 0.17          ┆ 0.3         ┆ -0.13     ┆ -42.9  ┆ x 1.8    │\n",
       "│ count_above                       ┆ 0.17          ┆ 0.3         ┆ -0.12     ┆ -41.3  ┆ x 1.7    │\n",
       "│ index_mass_quantile               ┆ 2.9           ┆ 4.7         ┆ -1.8      ┆ -38.3  ┆ x 1.6    │\n",
       "│ sum_reoccurring_values            ┆ 44.9          ┆ 66.7        ┆ -21.8     ┆ -32.7  ┆ x 1.5    │\n",
       "│ time_reversal_asymmetry_statistic ┆ 2.1           ┆ 3.1         ┆ -0.96     ┆ -31.2  ┆ x 1.5    │\n",
       "│ permutation_entropy               ┆ 471.5         ┆ 670.1       ┆ -198.6    ┆ -29.6  ┆ x 1.4    │\n",
       "│ absolute_energy                   ┆ 0.32          ┆ 0.44        ┆ -0.12     ┆ -27.4  ┆ x 1.4    │\n",
       "│ cid_ce                            ┆ 4.4           ┆ 5.5         ┆ -1.1      ┆ -19.4  ┆ x 1.2    │\n",
       "│ binned_entropy                    ┆ 5.3           ┆ 6.6         ┆ -1.2      ┆ -19.0  ┆ x 1.2    │\n",
       "│ last_location_of_minimum          ┆ 0.75          ┆ 0.79        ┆ -0.0394   ┆ -5.0   ┆ x 1.1    │\n",
       "│ last_location_of_maximum          ┆ 0.75          ┆ 0.79        ┆ -0.0385   ┆ -4.9   ┆ x 1.1    │\n",
       "│ percent_reoccurring_points        ┆ 22.1          ┆ 21.2        ┆ 0.95      ┆ 4.5    ┆ x 0.96   │\n",
       "│ first_location_of_maximum         ┆ 0.61          ┆ 0.34        ┆ 0.27      ┆ 80.1   ┆ x 0.56   │\n",
       "│ first_location_of_minimum         ┆ 0.61          ┆ 0.34        ┆ 0.28      ┆ 81.7   ┆ x 0.55   │\n",
       "│ number_crossings                  ┆ 0.37          ┆ 0.17        ┆ 0.2       ┆ 121.4  ┆ x 0.45   │\n",
       "│ mean_change                       ┆ 0.0425        ┆ 0.0027      ┆ 0.0398    ┆ 1494.1 ┆ x 0.0627 │\n",
       "│ mean_second_derivative_central    ┆ 0.066         ┆ 0.0028      ┆ 0.0632    ┆ 2263.2 ┆ x 0.0423 │\n",
       "└───────────────────────────────────┴───────────────┴─────────────┴───────────┴────────┴──────────┘"
      ]
     },
     "execution_count": 43,
     "metadata": {},
     "output_type": "execute_result"
    }
   ],
   "source": [
    "df_expr_1m"
   ]
  },
  {
   "cell_type": "markdown",
   "metadata": {},
   "source": [
    "#### 9M expr"
   ]
  },
  {
   "cell_type": "code",
   "execution_count": 44,
   "metadata": {},
   "outputs": [
    {
     "data": {
      "text/html": [
       "<div><style>\n",
       ".dataframe > thead > tr > th,\n",
       ".dataframe > tbody > tr > td {\n",
       "  text-align: right;\n",
       "  white-space: pre-wrap;\n",
       "}\n",
       "</style>\n",
       "<small>shape: (46, 6)</small><table border=\"1\" class=\"dataframe\"><thead><tr><th>Feature name</th><th>functime (ms)</th><th>tfresh (ms)</th><th>diff (ms)</th><th>diff %</th><th>speedup</th></tr></thead><tbody><tr><td>&quot;mean_n_absolute_max&quot;</td><td>16.1</td><td>601.7</td><td>-585.6</td><td>-97.3</td><td>&quot;x 37.4&quot;</td></tr><tr><td>&quot;benford_correlation2&quot;</td><td>201.0</td><td>5350.0</td><td>-5149.0</td><td>-96.2</td><td>&quot;x 26.6&quot;</td></tr><tr><td>&quot;absolute_maximum&quot;</td><td>0.97</td><td>16.6</td><td>-15.6</td><td>-94.1</td><td>&quot;x 17.1&quot;</td></tr><tr><td>&quot;benford_correlation&quot;</td><td>458.0</td><td>5365.4</td><td>-4907.4</td><td>-91.5</td><td>&quot;x 11.7&quot;</td></tr><tr><td>&quot;large_standard_deviation&quot;</td><td>5.4</td><td>47.2</td><td>-41.8</td><td>-88.5</td><td>&quot;x 8.7&quot;</td></tr><tr><td>&quot;variation_coefficient&quot;</td><td>4.2</td><td>31.6</td><td>-27.3</td><td>-86.6</td><td>&quot;x 7.5&quot;</td></tr><tr><td>&quot;number_peaks&quot;</td><td>15.0</td><td>102.0</td><td>-87.0</td><td>-85.3</td><td>&quot;x 6.8&quot;</td></tr><tr><td>&quot;has_duplicate_min&quot;</td><td>2.1</td><td>14.0</td><td>-11.9</td><td>-85.2</td><td>&quot;x 6.8&quot;</td></tr><tr><td>&quot;has_duplicate_max&quot;</td><td>2.1</td><td>13.9</td><td>-11.9</td><td>-85.1</td><td>&quot;x 6.7&quot;</td></tr><tr><td>&quot;var_gt_std&quot;</td><td>4.0</td><td>26.0</td><td>-22.1</td><td>-84.8</td><td>&quot;x 6.6&quot;</td></tr><tr><td>&quot;ratio_n_unique_to_length&quot;</td><td>94.8</td><td>612.3</td><td>-517.5</td><td>-84.5</td><td>&quot;x 6.5&quot;</td></tr><tr><td>&quot;change_quantiles&quot;</td><td>52.7</td><td>305.8</td><td>-253.0</td><td>-82.8</td><td>&quot;x 5.8&quot;</td></tr><tr><td>&quot;longest_streak_below_mean&quot;</td><td>95.4</td><td>543.3</td><td>-447.9</td><td>-82.4</td><td>&quot;x 5.7&quot;</td></tr><tr><td>&quot;count_below_mean&quot;</td><td>2.6</td><td>15.0</td><td>-12.4</td><td>-82.4</td><td>&quot;x 5.7&quot;</td></tr><tr><td>&quot;longest_streak_above_mean&quot;</td><td>95.3</td><td>541.5</td><td>-446.1</td><td>-82.4</td><td>&quot;x 5.7&quot;</td></tr><tr><td>&quot;count_above_mean&quot;</td><td>2.7</td><td>14.9</td><td>-12.3</td><td>-82.2</td><td>&quot;x 5.6&quot;</td></tr><tr><td>&quot;root_mean_square&quot;</td><td>2.4</td><td>11.2</td><td>-8.8</td><td>-78.7</td><td>&quot;x 4.7&quot;</td></tr><tr><td>&quot;linear_trend&quot;</td><td>77.2</td><td>352.2</td><td>-275.0</td><td>-78.1</td><td>&quot;x 4.6&quot;</td></tr><tr><td>&quot;has_duplicate&quot;</td><td>157.8</td><td>608.2</td><td>-450.4</td><td>-74.1</td><td>&quot;x 3.9&quot;</td></tr><tr><td>&quot;sum_reoccurring_points&quot;</td><td>165.5</td><td>620.4</td><td>-454.9</td><td>-73.3</td><td>&quot;x 3.7&quot;</td></tr><tr><td>&quot;ratio_beyond_r_sigma&quot;</td><td>13.4</td><td>47.9</td><td>-34.5</td><td>-72.0</td><td>&quot;x 3.6&quot;</td></tr><tr><td>&quot;absolute_sum_of_changes&quot;</td><td>3.9</td><td>13.9</td><td>-10.0</td><td>-71.6</td><td>&quot;x 3.5&quot;</td></tr><tr><td>&quot;symmetry_looking&quot;</td><td>30.3</td><td>105.5</td><td>-75.2</td><td>-71.3</td><td>&quot;x 3.5&quot;</td></tr><tr><td>&quot;range_count&quot;</td><td>2.6</td><td>7.9</td><td>-5.3</td><td>-67.0</td><td>&quot;x 3.0&quot;</td></tr><tr><td>&quot;mean_abs_change&quot;</td><td>4.5</td><td>13.2</td><td>-8.7</td><td>-66.1</td><td>&quot;x 2.9&quot;</td></tr><tr><td>&quot;c3&quot;</td><td>8.6</td><td>24.1</td><td>-15.5</td><td>-64.3</td><td>&quot;x 2.8&quot;</td></tr><tr><td>&quot;count_below&quot;</td><td>1.4</td><td>3.5</td><td>-2.2</td><td>-61.4</td><td>&quot;x 2.6&quot;</td></tr><tr><td>&quot;count_above&quot;</td><td>1.4</td><td>3.6</td><td>-2.2</td><td>-61.2</td><td>&quot;x 2.6&quot;</td></tr><tr><td>&quot;percent_reoccurring_values&quot;</td><td>251.4</td><td>617.6</td><td>-366.1</td><td>-59.3</td><td>&quot;x 2.5&quot;</td></tr><tr><td>&quot;autocorrelation&quot;</td><td>12.9</td><td>29.0</td><td>-16.1</td><td>-55.5</td><td>&quot;x 2.2&quot;</td></tr><tr><td>&quot;energy_ratios&quot;</td><td>32.7</td><td>69.5</td><td>-36.8</td><td>-52.9</td><td>&quot;x 2.1&quot;</td></tr><tr><td>&quot;sum_reoccurring_values&quot;</td><td>342.7</td><td>624.1</td><td>-281.5</td><td>-45.1</td><td>&quot;x 1.8&quot;</td></tr><tr><td>&quot;permutation_entropy&quot;</td><td>4250.8</td><td>7068.9</td><td>-2818.2</td><td>-39.9</td><td>&quot;x 1.7&quot;</td></tr><tr><td>&quot;absolute_energy&quot;</td><td>2.4</td><td>3.9</td><td>-1.5</td><td>-38.5</td><td>&quot;x 1.6&quot;</td></tr><tr><td>&quot;time_reversal_asymmetry_statistic&quot;</td><td>20.1</td><td>30.9</td><td>-10.7</td><td>-34.7</td><td>&quot;x 1.5&quot;</td></tr><tr><td>&quot;index_mass_quantile&quot;</td><td>33.7</td><td>46.0</td><td>-12.2</td><td>-26.6</td><td>&quot;x 1.4&quot;</td></tr><tr><td>&quot;percent_reoccurring_points&quot;</td><td>159.9</td><td>211.8</td><td>-51.9</td><td>-24.5</td><td>&quot;x 1.3&quot;</td></tr><tr><td>&quot;binned_entropy&quot;</td><td>47.6</td><td>62.5</td><td>-14.8</td><td>-23.8</td><td>&quot;x 1.3&quot;</td></tr><tr><td>&quot;last_location_of_maximum&quot;</td><td>6.8</td><td>8.7</td><td>-1.9</td><td>-22.0</td><td>&quot;x 1.3&quot;</td></tr><tr><td>&quot;last_location_of_minimum&quot;</td><td>6.8</td><td>8.6</td><td>-1.8</td><td>-21.2</td><td>&quot;x 1.3&quot;</td></tr><tr><td>&quot;cid_ce&quot;</td><td>51.5</td><td>55.7</td><td>-4.3</td><td>-7.6</td><td>&quot;x 1.1&quot;</td></tr><tr><td>&quot;number_crossings&quot;</td><td>2.9</td><td>2.9</td><td>0.046</td><td>1.6</td><td>&quot;x 0.98&quot;</td></tr><tr><td>&quot;first_location_of_minimum&quot;</td><td>5.2</td><td>4.1</td><td>1.2</td><td>28.9</td><td>&quot;x 0.78&quot;</td></tr><tr><td>&quot;first_location_of_maximum&quot;</td><td>5.2</td><td>4.0</td><td>1.2</td><td>30.6</td><td>&quot;x 0.77&quot;</td></tr><tr><td>&quot;mean_change&quot;</td><td>0.0421</td><td>0.0027</td><td>0.0394</td><td>1478.0</td><td>&quot;x 0.0634&quot;</td></tr><tr><td>&quot;mean_second_derivative_central&quot;</td><td>0.0669</td><td>0.0028</td><td>0.0641</td><td>2262.1</td><td>&quot;x 0.0423&quot;</td></tr></tbody></table></div>"
      ],
      "text/plain": [
       "shape: (46, 6)\n",
       "┌───────────────────────────────────┬───────────────┬─────────────┬───────────┬────────┬──────────┐\n",
       "│ Feature name                      ┆ functime (ms) ┆ tfresh (ms) ┆ diff (ms) ┆ diff % ┆ speedup  │\n",
       "╞═══════════════════════════════════╪═══════════════╪═════════════╪═══════════╪════════╪══════════╡\n",
       "│ mean_n_absolute_max               ┆ 16.1          ┆ 601.7       ┆ -585.6    ┆ -97.3  ┆ x 37.4   │\n",
       "│ benford_correlation2              ┆ 201.0         ┆ 5350.0      ┆ -5149.0   ┆ -96.2  ┆ x 26.6   │\n",
       "│ absolute_maximum                  ┆ 0.97          ┆ 16.6        ┆ -15.6     ┆ -94.1  ┆ x 17.1   │\n",
       "│ benford_correlation               ┆ 458.0         ┆ 5365.4      ┆ -4907.4   ┆ -91.5  ┆ x 11.7   │\n",
       "│ large_standard_deviation          ┆ 5.4           ┆ 47.2        ┆ -41.8     ┆ -88.5  ┆ x 8.7    │\n",
       "│ variation_coefficient             ┆ 4.2           ┆ 31.6        ┆ -27.3     ┆ -86.6  ┆ x 7.5    │\n",
       "│ number_peaks                      ┆ 15.0          ┆ 102.0       ┆ -87.0     ┆ -85.3  ┆ x 6.8    │\n",
       "│ has_duplicate_min                 ┆ 2.1           ┆ 14.0        ┆ -11.9     ┆ -85.2  ┆ x 6.8    │\n",
       "│ has_duplicate_max                 ┆ 2.1           ┆ 13.9        ┆ -11.9     ┆ -85.1  ┆ x 6.7    │\n",
       "│ var_gt_std                        ┆ 4.0           ┆ 26.0        ┆ -22.1     ┆ -84.8  ┆ x 6.6    │\n",
       "│ ratio_n_unique_to_length          ┆ 94.8          ┆ 612.3       ┆ -517.5    ┆ -84.5  ┆ x 6.5    │\n",
       "│ change_quantiles                  ┆ 52.7          ┆ 305.8       ┆ -253.0    ┆ -82.8  ┆ x 5.8    │\n",
       "│ longest_streak_below_mean         ┆ 95.4          ┆ 543.3       ┆ -447.9    ┆ -82.4  ┆ x 5.7    │\n",
       "│ count_below_mean                  ┆ 2.6           ┆ 15.0        ┆ -12.4     ┆ -82.4  ┆ x 5.7    │\n",
       "│ longest_streak_above_mean         ┆ 95.3          ┆ 541.5       ┆ -446.1    ┆ -82.4  ┆ x 5.7    │\n",
       "│ count_above_mean                  ┆ 2.7           ┆ 14.9        ┆ -12.3     ┆ -82.2  ┆ x 5.6    │\n",
       "│ root_mean_square                  ┆ 2.4           ┆ 11.2        ┆ -8.8      ┆ -78.7  ┆ x 4.7    │\n",
       "│ linear_trend                      ┆ 77.2          ┆ 352.2       ┆ -275.0    ┆ -78.1  ┆ x 4.6    │\n",
       "│ has_duplicate                     ┆ 157.8         ┆ 608.2       ┆ -450.4    ┆ -74.1  ┆ x 3.9    │\n",
       "│ sum_reoccurring_points            ┆ 165.5         ┆ 620.4       ┆ -454.9    ┆ -73.3  ┆ x 3.7    │\n",
       "│ ratio_beyond_r_sigma              ┆ 13.4          ┆ 47.9        ┆ -34.5     ┆ -72.0  ┆ x 3.6    │\n",
       "│ absolute_sum_of_changes           ┆ 3.9           ┆ 13.9        ┆ -10.0     ┆ -71.6  ┆ x 3.5    │\n",
       "│ symmetry_looking                  ┆ 30.3          ┆ 105.5       ┆ -75.2     ┆ -71.3  ┆ x 3.5    │\n",
       "│ range_count                       ┆ 2.6           ┆ 7.9         ┆ -5.3      ┆ -67.0  ┆ x 3.0    │\n",
       "│ mean_abs_change                   ┆ 4.5           ┆ 13.2        ┆ -8.7      ┆ -66.1  ┆ x 2.9    │\n",
       "│ c3                                ┆ 8.6           ┆ 24.1        ┆ -15.5     ┆ -64.3  ┆ x 2.8    │\n",
       "│ count_below                       ┆ 1.4           ┆ 3.5         ┆ -2.2      ┆ -61.4  ┆ x 2.6    │\n",
       "│ count_above                       ┆ 1.4           ┆ 3.6         ┆ -2.2      ┆ -61.2  ┆ x 2.6    │\n",
       "│ percent_reoccurring_values        ┆ 251.4         ┆ 617.6       ┆ -366.1    ┆ -59.3  ┆ x 2.5    │\n",
       "│ autocorrelation                   ┆ 12.9          ┆ 29.0        ┆ -16.1     ┆ -55.5  ┆ x 2.2    │\n",
       "│ energy_ratios                     ┆ 32.7          ┆ 69.5        ┆ -36.8     ┆ -52.9  ┆ x 2.1    │\n",
       "│ sum_reoccurring_values            ┆ 342.7         ┆ 624.1       ┆ -281.5    ┆ -45.1  ┆ x 1.8    │\n",
       "│ permutation_entropy               ┆ 4250.8        ┆ 7068.9      ┆ -2818.2   ┆ -39.9  ┆ x 1.7    │\n",
       "│ absolute_energy                   ┆ 2.4           ┆ 3.9         ┆ -1.5      ┆ -38.5  ┆ x 1.6    │\n",
       "│ time_reversal_asymmetry_statistic ┆ 20.1          ┆ 30.9        ┆ -10.7     ┆ -34.7  ┆ x 1.5    │\n",
       "│ index_mass_quantile               ┆ 33.7          ┆ 46.0        ┆ -12.2     ┆ -26.6  ┆ x 1.4    │\n",
       "│ percent_reoccurring_points        ┆ 159.9         ┆ 211.8       ┆ -51.9     ┆ -24.5  ┆ x 1.3    │\n",
       "│ binned_entropy                    ┆ 47.6          ┆ 62.5        ┆ -14.8     ┆ -23.8  ┆ x 1.3    │\n",
       "│ last_location_of_maximum          ┆ 6.8           ┆ 8.7         ┆ -1.9      ┆ -22.0  ┆ x 1.3    │\n",
       "│ last_location_of_minimum          ┆ 6.8           ┆ 8.6         ┆ -1.8      ┆ -21.2  ┆ x 1.3    │\n",
       "│ cid_ce                            ┆ 51.5          ┆ 55.7        ┆ -4.3      ┆ -7.6   ┆ x 1.1    │\n",
       "│ number_crossings                  ┆ 2.9           ┆ 2.9         ┆ 0.046     ┆ 1.6    ┆ x 0.98   │\n",
       "│ first_location_of_minimum         ┆ 5.2           ┆ 4.1         ┆ 1.2       ┆ 28.9   ┆ x 0.78   │\n",
       "│ first_location_of_maximum         ┆ 5.2           ┆ 4.0         ┆ 1.2       ┆ 30.6   ┆ x 0.77   │\n",
       "│ mean_change                       ┆ 0.0421        ┆ 0.0027      ┆ 0.0394    ┆ 1478.0 ┆ x 0.0634 │\n",
       "│ mean_second_derivative_central    ┆ 0.0669        ┆ 0.0028      ┆ 0.0641    ┆ 2262.1 ┆ x 0.0423 │\n",
       "└───────────────────────────────────┴───────────────┴─────────────┴───────────┴────────┴──────────┘"
      ]
     },
     "execution_count": 44,
     "metadata": {},
     "output_type": "execute_result"
    }
   ],
   "source": [
    "df_expr_9m"
   ]
  },
  {
   "cell_type": "markdown",
   "metadata": {},
   "source": [
    "### 4.2 Results for `pl.Series`"
   ]
  },
  {
   "cell_type": "markdown",
   "metadata": {},
   "source": [
    "#### 10k series"
   ]
  },
  {
   "cell_type": "code",
   "execution_count": 45,
   "metadata": {},
   "outputs": [
    {
     "data": {
      "text/html": [
       "<div><style>\n",
       ".dataframe > thead > tr > th,\n",
       ".dataframe > tbody > tr > td {\n",
       "  text-align: right;\n",
       "  white-space: pre-wrap;\n",
       "}\n",
       "</style>\n",
       "<small>shape: (50, 6)</small><table border=\"1\" class=\"dataframe\"><thead><tr><th>Feature name</th><th>functime (ms)</th><th>tfresh (ms)</th><th>diff (ms)</th><th>diff %</th><th>speedup</th></tr></thead><tbody><tr><td>&quot;approximate_entropy&quot;</td><td>43.1</td><td>5688.4</td><td>-5645.2</td><td>-99.2</td><td>&quot;x 131.9&quot;</td></tr><tr><td>&quot;sample_entropy&quot;</td><td>35.1</td><td>3294.3</td><td>-3259.2</td><td>-98.9</td><td>&quot;x 93.8&quot;</td></tr><tr><td>&quot;benford_correlation2&quot;</td><td>0.1</td><td>5.8</td><td>-5.7</td><td>-98.2</td><td>&quot;x 56.3&quot;</td></tr><tr><td>&quot;energy_ratios&quot;</td><td>0.0865</td><td>1.0</td><td>-0.96</td><td>-91.7</td><td>&quot;x 12.1&quot;</td></tr><tr><td>&quot;benford_correlation&quot;</td><td>0.62</td><td>5.9</td><td>-5.3</td><td>-89.5</td><td>&quot;x 9.5&quot;</td></tr><tr><td>&quot;mean_n_absolute_max&quot;</td><td>0.0515</td><td>0.38</td><td>-0.33</td><td>-86.5</td><td>&quot;x 7.4&quot;</td></tr><tr><td>&quot;has_duplicate_min&quot;</td><td>0.0067</td><td>0.0473</td><td>-0.0405</td><td>-85.8</td><td>&quot;x 7.0&quot;</td></tr><tr><td>&quot;has_duplicate_max&quot;</td><td>0.0067</td><td>0.047</td><td>-0.0403</td><td>-85.7</td><td>&quot;x 7.0&quot;</td></tr><tr><td>&quot;count_below_mean&quot;</td><td>0.0065</td><td>0.0425</td><td>-0.036</td><td>-84.6</td><td>&quot;x 6.5&quot;</td></tr><tr><td>&quot;count_above_mean&quot;</td><td>0.0065</td><td>0.0421</td><td>-0.0355</td><td>-84.5</td><td>&quot;x 6.4&quot;</td></tr><tr><td>&quot;absolute_maximum&quot;</td><td>0.0055</td><td>0.03</td><td>-0.0246</td><td>-81.8</td><td>&quot;x 5.5&quot;</td></tr><tr><td>&quot;count_above&quot;</td><td>0.0059</td><td>0.0321</td><td>-0.0262</td><td>-81.6</td><td>&quot;x 5.4&quot;</td></tr><tr><td>&quot;count_below&quot;</td><td>0.006</td><td>0.029</td><td>-0.023</td><td>-79.2</td><td>&quot;x 4.8&quot;</td></tr><tr><td>&quot;longest_streak_below_mean&quot;</td><td>0.13</td><td>0.6</td><td>-0.47</td><td>-79.0</td><td>&quot;x 4.8&quot;</td></tr><tr><td>&quot;longest_streak_above_mean&quot;</td><td>0.13</td><td>0.6</td><td>-0.48</td><td>-79.0</td><td>&quot;x 4.8&quot;</td></tr><tr><td>&quot;large_standard_deviation&quot;</td><td>0.0157</td><td>0.0704</td><td>-0.0547</td><td>-77.7</td><td>&quot;x 4.5&quot;</td></tr><tr><td>&quot;symmetry_looking&quot;</td><td>0.0278</td><td>0.12</td><td>-0.0948</td><td>-77.3</td><td>&quot;x 4.4&quot;</td></tr><tr><td>&quot;linear_trend&quot;</td><td>0.0869</td><td>0.36</td><td>-0.27</td><td>-75.9</td><td>&quot;x 4.1&quot;</td></tr><tr><td>&quot;range_count&quot;</td><td>0.0188</td><td>0.0644</td><td>-0.0457</td><td>-70.9</td><td>&quot;x 3.4&quot;</td></tr><tr><td>&quot;variation_coefficient&quot;</td><td>0.0153</td><td>0.0501</td><td>-0.0348</td><td>-69.5</td><td>&quot;x 3.3&quot;</td></tr><tr><td>&quot;absolute_energy&quot;</td><td>0.0044</td><td>0.0125</td><td>-0.0081</td><td>-65.0</td><td>&quot;x 2.9&quot;</td></tr><tr><td>&quot;var_gt_std&quot;</td><td>0.0132</td><td>0.0369</td><td>-0.0237</td><td>-64.3</td><td>&quot;x 2.8&quot;</td></tr><tr><td>&quot;cid_ce&quot;</td><td>0.0403</td><td>0.11</td><td>-0.0674</td><td>-62.6</td><td>&quot;x 2.7&quot;</td></tr><tr><td>&quot;change_quantiles&quot;</td><td>0.19</td><td>0.5</td><td>-0.31</td><td>-61.9</td><td>&quot;x 2.6&quot;</td></tr><tr><td>&quot;number_peaks&quot;</td><td>0.19</td><td>0.44</td><td>-0.24</td><td>-55.4</td><td>&quot;x 2.2&quot;</td></tr><tr><td>&quot;first_location_of_minimum&quot;</td><td>0.0066</td><td>0.0126</td><td>-0.006</td><td>-47.7</td><td>&quot;x 1.9&quot;</td></tr><tr><td>&quot;first_location_of_maximum&quot;</td><td>0.0065</td><td>0.0123</td><td>-0.0057</td><td>-46.6</td><td>&quot;x 1.9&quot;</td></tr><tr><td>&quot;ratio_beyond_r_sigma&quot;</td><td>0.066</td><td>0.12</td><td>-0.0535</td><td>-44.8</td><td>&quot;x 1.8&quot;</td></tr><tr><td>&quot;ratio_n_unique_to_length&quot;</td><td>0.23</td><td>0.4</td><td>-0.17</td><td>-42.3</td><td>&quot;x 1.7&quot;</td></tr><tr><td>&quot;mean_change&quot;</td><td>0.0017</td><td>0.0027</td><td>-0.001</td><td>-38.4</td><td>&quot;x 1.6&quot;</td></tr><tr><td>&quot;percent_reoccurring_values&quot;</td><td>0.31</td><td>0.43</td><td>-0.12</td><td>-27.8</td><td>&quot;x 1.4&quot;</td></tr><tr><td>&quot;root_mean_square&quot;</td><td>0.0248</td><td>0.0338</td><td>-0.009</td><td>-26.6</td><td>&quot;x 1.4&quot;</td></tr><tr><td>&quot;sum_reoccurring_points&quot;</td><td>0.33</td><td>0.45</td><td>-0.12</td><td>-26.3</td><td>&quot;x 1.4&quot;</td></tr><tr><td>&quot;mean_second_derivative_central&quot;</td><td>0.0021</td><td>0.0028</td><td>-0.0007</td><td>-23.9</td><td>&quot;x 1.3&quot;</td></tr><tr><td>&quot;percent_reoccurring_points&quot;</td><td>0.32</td><td>0.4</td><td>-0.0793</td><td>-19.9</td><td>&quot;x 1.2&quot;</td></tr><tr><td>&quot;sum_reoccurring_values&quot;</td><td>0.37</td><td>0.45</td><td>-0.0714</td><td>-16.0</td><td>&quot;x 1.2&quot;</td></tr><tr><td>&quot;binned_entropy&quot;</td><td>0.0997</td><td>0.12</td><td>-0.0185</td><td>-15.6</td><td>&quot;x 1.2&quot;</td></tr><tr><td>&quot;has_duplicate&quot;</td><td>0.33</td><td>0.39</td><td>-0.061</td><td>-15.5</td><td>&quot;x 1.2&quot;</td></tr><tr><td>&quot;spkt_welch_density&quot;</td><td>0.15</td><td>0.15</td><td>-0.002</td><td>-1.3</td><td>&quot;x 1.0&quot;</td></tr><tr><td>&quot;number_cwt_peaks&quot;</td><td>206.7</td><td>205.9</td><td>0.83</td><td>0.4</td><td>&quot;x 1.0&quot;</td></tr><tr><td>&quot;c3&quot;</td><td>0.0679</td><td>0.0621</td><td>0.0058</td><td>9.3</td><td>&quot;x 0.92&quot;</td></tr><tr><td>&quot;permutation_entropy&quot;</td><td>5.7</td><td>4.2</td><td>1.5</td><td>35.0</td><td>&quot;x 0.74&quot;</td></tr><tr><td>&quot;index_mass_quantile&quot;</td><td>0.0841</td><td>0.049</td><td>0.035</td><td>71.5</td><td>&quot;x 0.58&quot;</td></tr><tr><td>&quot;last_location_of_minimum&quot;</td><td>0.0167</td><td>0.0097</td><td>0.007</td><td>72.9</td><td>&quot;x 0.58&quot;</td></tr><tr><td>&quot;last_location_of_maximum&quot;</td><td>0.0167</td><td>0.0095</td><td>0.0071</td><td>74.7</td><td>&quot;x 0.57&quot;</td></tr><tr><td>&quot;mean_abs_change&quot;</td><td>0.0226</td><td>0.0126</td><td>0.01</td><td>79.8</td><td>&quot;x 0.56&quot;</td></tr><tr><td>&quot;number_crossings&quot;</td><td>0.0413</td><td>0.0227</td><td>0.0186</td><td>82.2</td><td>&quot;x 0.55&quot;</td></tr><tr><td>&quot;absolute_sum_of_changes&quot;</td><td>0.0231</td><td>0.0116</td><td>0.0115</td><td>99.3</td><td>&quot;x 0.5&quot;</td></tr><tr><td>&quot;autocorrelation&quot;</td><td>0.0948</td><td>0.0386</td><td>0.0561</td><td>145.3</td><td>&quot;x 0.41&quot;</td></tr><tr><td>&quot;time_reversal_asymmetry_statistic&quot;</td><td>0.0772</td><td>0.0232</td><td>0.054</td><td>232.5</td><td>&quot;x 0.3&quot;</td></tr></tbody></table></div>"
      ],
      "text/plain": [
       "shape: (50, 6)\n",
       "┌───────────────────────────────────┬───────────────┬─────────────┬───────────┬────────┬─────────┐\n",
       "│ Feature name                      ┆ functime (ms) ┆ tfresh (ms) ┆ diff (ms) ┆ diff % ┆ speedup │\n",
       "╞═══════════════════════════════════╪═══════════════╪═════════════╪═══════════╪════════╪═════════╡\n",
       "│ approximate_entropy               ┆ 43.1          ┆ 5688.4      ┆ -5645.2   ┆ -99.2  ┆ x 131.9 │\n",
       "│ sample_entropy                    ┆ 35.1          ┆ 3294.3      ┆ -3259.2   ┆ -98.9  ┆ x 93.8  │\n",
       "│ benford_correlation2              ┆ 0.1           ┆ 5.8         ┆ -5.7      ┆ -98.2  ┆ x 56.3  │\n",
       "│ energy_ratios                     ┆ 0.0865        ┆ 1.0         ┆ -0.96     ┆ -91.7  ┆ x 12.1  │\n",
       "│ benford_correlation               ┆ 0.62          ┆ 5.9         ┆ -5.3      ┆ -89.5  ┆ x 9.5   │\n",
       "│ mean_n_absolute_max               ┆ 0.0515        ┆ 0.38        ┆ -0.33     ┆ -86.5  ┆ x 7.4   │\n",
       "│ has_duplicate_min                 ┆ 0.0067        ┆ 0.0473      ┆ -0.0405   ┆ -85.8  ┆ x 7.0   │\n",
       "│ has_duplicate_max                 ┆ 0.0067        ┆ 0.047       ┆ -0.0403   ┆ -85.7  ┆ x 7.0   │\n",
       "│ count_below_mean                  ┆ 0.0065        ┆ 0.0425      ┆ -0.036    ┆ -84.6  ┆ x 6.5   │\n",
       "│ count_above_mean                  ┆ 0.0065        ┆ 0.0421      ┆ -0.0355   ┆ -84.5  ┆ x 6.4   │\n",
       "│ absolute_maximum                  ┆ 0.0055        ┆ 0.03        ┆ -0.0246   ┆ -81.8  ┆ x 5.5   │\n",
       "│ count_above                       ┆ 0.0059        ┆ 0.0321      ┆ -0.0262   ┆ -81.6  ┆ x 5.4   │\n",
       "│ count_below                       ┆ 0.006         ┆ 0.029       ┆ -0.023    ┆ -79.2  ┆ x 4.8   │\n",
       "│ longest_streak_below_mean         ┆ 0.13          ┆ 0.6         ┆ -0.47     ┆ -79.0  ┆ x 4.8   │\n",
       "│ longest_streak_above_mean         ┆ 0.13          ┆ 0.6         ┆ -0.48     ┆ -79.0  ┆ x 4.8   │\n",
       "│ large_standard_deviation          ┆ 0.0157        ┆ 0.0704      ┆ -0.0547   ┆ -77.7  ┆ x 4.5   │\n",
       "│ symmetry_looking                  ┆ 0.0278        ┆ 0.12        ┆ -0.0948   ┆ -77.3  ┆ x 4.4   │\n",
       "│ linear_trend                      ┆ 0.0869        ┆ 0.36        ┆ -0.27     ┆ -75.9  ┆ x 4.1   │\n",
       "│ range_count                       ┆ 0.0188        ┆ 0.0644      ┆ -0.0457   ┆ -70.9  ┆ x 3.4   │\n",
       "│ variation_coefficient             ┆ 0.0153        ┆ 0.0501      ┆ -0.0348   ┆ -69.5  ┆ x 3.3   │\n",
       "│ absolute_energy                   ┆ 0.0044        ┆ 0.0125      ┆ -0.0081   ┆ -65.0  ┆ x 2.9   │\n",
       "│ var_gt_std                        ┆ 0.0132        ┆ 0.0369      ┆ -0.0237   ┆ -64.3  ┆ x 2.8   │\n",
       "│ cid_ce                            ┆ 0.0403        ┆ 0.11        ┆ -0.0674   ┆ -62.6  ┆ x 2.7   │\n",
       "│ change_quantiles                  ┆ 0.19          ┆ 0.5         ┆ -0.31     ┆ -61.9  ┆ x 2.6   │\n",
       "│ number_peaks                      ┆ 0.19          ┆ 0.44        ┆ -0.24     ┆ -55.4  ┆ x 2.2   │\n",
       "│ first_location_of_minimum         ┆ 0.0066        ┆ 0.0126      ┆ -0.006    ┆ -47.7  ┆ x 1.9   │\n",
       "│ first_location_of_maximum         ┆ 0.0065        ┆ 0.0123      ┆ -0.0057   ┆ -46.6  ┆ x 1.9   │\n",
       "│ ratio_beyond_r_sigma              ┆ 0.066         ┆ 0.12        ┆ -0.0535   ┆ -44.8  ┆ x 1.8   │\n",
       "│ ratio_n_unique_to_length          ┆ 0.23          ┆ 0.4         ┆ -0.17     ┆ -42.3  ┆ x 1.7   │\n",
       "│ mean_change                       ┆ 0.0017        ┆ 0.0027      ┆ -0.001    ┆ -38.4  ┆ x 1.6   │\n",
       "│ percent_reoccurring_values        ┆ 0.31          ┆ 0.43        ┆ -0.12     ┆ -27.8  ┆ x 1.4   │\n",
       "│ root_mean_square                  ┆ 0.0248        ┆ 0.0338      ┆ -0.009    ┆ -26.6  ┆ x 1.4   │\n",
       "│ sum_reoccurring_points            ┆ 0.33          ┆ 0.45        ┆ -0.12     ┆ -26.3  ┆ x 1.4   │\n",
       "│ mean_second_derivative_central    ┆ 0.0021        ┆ 0.0028      ┆ -0.0007   ┆ -23.9  ┆ x 1.3   │\n",
       "│ percent_reoccurring_points        ┆ 0.32          ┆ 0.4         ┆ -0.0793   ┆ -19.9  ┆ x 1.2   │\n",
       "│ sum_reoccurring_values            ┆ 0.37          ┆ 0.45        ┆ -0.0714   ┆ -16.0  ┆ x 1.2   │\n",
       "│ binned_entropy                    ┆ 0.0997        ┆ 0.12        ┆ -0.0185   ┆ -15.6  ┆ x 1.2   │\n",
       "│ has_duplicate                     ┆ 0.33          ┆ 0.39        ┆ -0.061    ┆ -15.5  ┆ x 1.2   │\n",
       "│ spkt_welch_density                ┆ 0.15          ┆ 0.15        ┆ -0.002    ┆ -1.3   ┆ x 1.0   │\n",
       "│ number_cwt_peaks                  ┆ 206.7         ┆ 205.9       ┆ 0.83      ┆ 0.4    ┆ x 1.0   │\n",
       "│ c3                                ┆ 0.0679        ┆ 0.0621      ┆ 0.0058    ┆ 9.3    ┆ x 0.92  │\n",
       "│ permutation_entropy               ┆ 5.7           ┆ 4.2         ┆ 1.5       ┆ 35.0   ┆ x 0.74  │\n",
       "│ index_mass_quantile               ┆ 0.0841        ┆ 0.049       ┆ 0.035     ┆ 71.5   ┆ x 0.58  │\n",
       "│ last_location_of_minimum          ┆ 0.0167        ┆ 0.0097      ┆ 0.007     ┆ 72.9   ┆ x 0.58  │\n",
       "│ last_location_of_maximum          ┆ 0.0167        ┆ 0.0095      ┆ 0.0071    ┆ 74.7   ┆ x 0.57  │\n",
       "│ mean_abs_change                   ┆ 0.0226        ┆ 0.0126      ┆ 0.01      ┆ 79.8   ┆ x 0.56  │\n",
       "│ number_crossings                  ┆ 0.0413        ┆ 0.0227      ┆ 0.0186    ┆ 82.2   ┆ x 0.55  │\n",
       "│ absolute_sum_of_changes           ┆ 0.0231        ┆ 0.0116      ┆ 0.0115    ┆ 99.3   ┆ x 0.5   │\n",
       "│ autocorrelation                   ┆ 0.0948        ┆ 0.0386      ┆ 0.0561    ┆ 145.3  ┆ x 0.41  │\n",
       "│ time_reversal_asymmetry_statistic ┆ 0.0772        ┆ 0.0232      ┆ 0.054     ┆ 232.5  ┆ x 0.3   │\n",
       "└───────────────────────────────────┴───────────────┴─────────────┴───────────┴────────┴─────────┘"
      ]
     },
     "execution_count": 45,
     "metadata": {},
     "output_type": "execute_result"
    }
   ],
   "source": [
    "df_series_10k"
   ]
  },
  {
   "cell_type": "markdown",
   "metadata": {},
   "source": [
    "#### 100k series"
   ]
  },
  {
   "cell_type": "code",
   "execution_count": 46,
   "metadata": {},
   "outputs": [
    {
     "data": {
      "text/html": [
       "<div><style>\n",
       ".dataframe > thead > tr > th,\n",
       ".dataframe > tbody > tr > td {\n",
       "  text-align: right;\n",
       "  white-space: pre-wrap;\n",
       "}\n",
       "</style>\n",
       "<small>shape: (49, 6)</small><table border=\"1\" class=\"dataframe\"><thead><tr><th>Feature name</th><th>functime (ms)</th><th>tfresh (ms)</th><th>diff (ms)</th><th>diff %</th><th>speedup</th></tr></thead><tbody><tr><td>&quot;sample_entropy&quot;</td><td>511.1</td><td>347925.6</td><td>-347414.5</td><td>-99.9</td><td>&quot;x 680.8&quot;</td></tr><tr><td>&quot;benford_correlation2&quot;</td><td>0.4</td><td>58.0</td><td>-57.6</td><td>-99.3</td><td>&quot;x 146.4&quot;</td></tr><tr><td>&quot;mean_n_absolute_max&quot;</td><td>0.19</td><td>5.2</td><td>-5.0</td><td>-96.3</td><td>&quot;x 27.4&quot;</td></tr><tr><td>&quot;benford_correlation&quot;</td><td>5.0</td><td>58.2</td><td>-53.2</td><td>-91.4</td><td>&quot;x 11.7&quot;</td></tr><tr><td>&quot;large_standard_deviation&quot;</td><td>0.0621</td><td>0.53</td><td>-0.47</td><td>-88.3</td><td>&quot;x 8.6&quot;</td></tr><tr><td>&quot;has_duplicate_max&quot;</td><td>0.0232</td><td>0.17</td><td>-0.15</td><td>-86.6</td><td>&quot;x 7.5&quot;</td></tr><tr><td>&quot;has_duplicate_min&quot;</td><td>0.0233</td><td>0.17</td><td>-0.15</td><td>-86.6</td><td>&quot;x 7.5&quot;</td></tr><tr><td>&quot;linear_trend&quot;</td><td>0.46</td><td>3.4</td><td>-3.0</td><td>-86.5</td><td>&quot;x 7.4&quot;</td></tr><tr><td>&quot;energy_ratios&quot;</td><td>0.19</td><td>1.3</td><td>-1.1</td><td>-85.5</td><td>&quot;x 6.9&quot;</td></tr><tr><td>&quot;absolute_maximum&quot;</td><td>0.0213</td><td>0.15</td><td>-0.12</td><td>-85.4</td><td>&quot;x 6.9&quot;</td></tr><tr><td>&quot;var_gt_std&quot;</td><td>0.0434</td><td>0.29</td><td>-0.25</td><td>-85.2</td><td>&quot;x 6.8&quot;</td></tr><tr><td>&quot;variation_coefficient&quot;</td><td>0.054</td><td>0.35</td><td>-0.29</td><td>-84.5</td><td>&quot;x 6.5&quot;</td></tr><tr><td>&quot;count_above_mean&quot;</td><td>0.0234</td><td>0.15</td><td>-0.13</td><td>-84.4</td><td>&quot;x 6.4&quot;</td></tr><tr><td>&quot;count_below_mean&quot;</td><td>0.024</td><td>0.15</td><td>-0.12</td><td>-83.7</td><td>&quot;x 6.1&quot;</td></tr><tr><td>&quot;longest_streak_above_mean&quot;</td><td>1.1</td><td>5.8</td><td>-4.7</td><td>-81.2</td><td>&quot;x 5.3&quot;</td></tr><tr><td>&quot;longest_streak_below_mean&quot;</td><td>1.1</td><td>5.9</td><td>-4.8</td><td>-81.2</td><td>&quot;x 5.3&quot;</td></tr><tr><td>&quot;change_quantiles&quot;</td><td>0.75</td><td>3.5</td><td>-2.7</td><td>-78.3</td><td>&quot;x 4.6&quot;</td></tr><tr><td>&quot;symmetry_looking&quot;</td><td>0.27</td><td>1.1</td><td>-0.84</td><td>-75.6</td><td>&quot;x 4.1&quot;</td></tr><tr><td>&quot;count_above&quot;</td><td>0.0144</td><td>0.0545</td><td>-0.0401</td><td>-73.6</td><td>&quot;x 3.8&quot;</td></tr><tr><td>&quot;count_below&quot;</td><td>0.0148</td><td>0.0548</td><td>-0.0401</td><td>-73.1</td><td>&quot;x 3.7&quot;</td></tr><tr><td>&quot;ratio_beyond_r_sigma&quot;</td><td>0.16</td><td>0.52</td><td>-0.36</td><td>-68.6</td><td>&quot;x 3.2&quot;</td></tr><tr><td>&quot;cid_ce&quot;</td><td>0.16</td><td>0.49</td><td>-0.33</td><td>-67.3</td><td>&quot;x 3.1&quot;</td></tr><tr><td>&quot;range_count&quot;</td><td>0.0358</td><td>0.1</td><td>-0.0672</td><td>-65.3</td><td>&quot;x 2.9&quot;</td></tr><tr><td>&quot;ratio_n_unique_to_length&quot;</td><td>2.3</td><td>5.6</td><td>-3.3</td><td>-59.4</td><td>&quot;x 2.5&quot;</td></tr><tr><td>&quot;percent_reoccurring_values&quot;</td><td>2.9</td><td>5.7</td><td>-2.8</td><td>-49.2</td><td>&quot;x 2.0&quot;</td></tr><tr><td>&quot;sum_reoccurring_points&quot;</td><td>3.1</td><td>5.9</td><td>-2.8</td><td>-47.7</td><td>&quot;x 1.9&quot;</td></tr><tr><td>&quot;absolute_energy&quot;</td><td>0.0269</td><td>0.0508</td><td>-0.024</td><td>-47.1</td><td>&quot;x 1.9&quot;</td></tr><tr><td>&quot;has_duplicate&quot;</td><td>3.1</td><td>5.6</td><td>-2.4</td><td>-44.0</td><td>&quot;x 1.8&quot;</td></tr><tr><td>&quot;number_peaks&quot;</td><td>0.48</td><td>0.84</td><td>-0.36</td><td>-42.4</td><td>&quot;x 1.7&quot;</td></tr><tr><td>&quot;sum_reoccurring_values&quot;</td><td>3.6</td><td>6.1</td><td>-2.5</td><td>-41.6</td><td>&quot;x 1.7&quot;</td></tr><tr><td>&quot;mean_change&quot;</td><td>0.0017</td><td>0.0027</td><td>-0.001</td><td>-36.9</td><td>&quot;x 1.6&quot;</td></tr><tr><td>&quot;root_mean_square&quot;</td><td>0.0634</td><td>0.0892</td><td>-0.0258</td><td>-28.9</td><td>&quot;x 1.4&quot;</td></tr><tr><td>&quot;mean_second_derivative_central&quot;</td><td>0.0022</td><td>0.0028</td><td>-0.0006</td><td>-22.4</td><td>&quot;x 1.3&quot;</td></tr><tr><td>&quot;index_mass_quantile&quot;</td><td>0.33</td><td>0.4</td><td>-0.0741</td><td>-18.3</td><td>&quot;x 1.2&quot;</td></tr><tr><td>&quot;time_reversal_asymmetry_statistic&quot;</td><td>0.18</td><td>0.21</td><td>-0.0371</td><td>-17.4</td><td>&quot;x 1.2&quot;</td></tr><tr><td>&quot;permutation_entropy&quot;</td><td>47.0</td><td>54.9</td><td>-7.9</td><td>-14.5</td><td>&quot;x 1.2&quot;</td></tr><tr><td>&quot;c3&quot;</td><td>0.14</td><td>0.16</td><td>-0.0198</td><td>-12.5</td><td>&quot;x 1.1&quot;</td></tr><tr><td>&quot;binned_entropy&quot;</td><td>0.72</td><td>0.77</td><td>-0.0468</td><td>-6.1</td><td>&quot;x 1.1&quot;</td></tr><tr><td>&quot;number_cwt_peaks&quot;</td><td>21119.7</td><td>21740.8</td><td>-621.0</td><td>-2.9</td><td>&quot;x 1.0&quot;</td></tr><tr><td>&quot;percent_reoccurring_points&quot;</td><td>3.1</td><td>3.1</td><td>-0.0895</td><td>-2.8</td><td>&quot;x 1.0&quot;</td></tr><tr><td>&quot;spkt_welch_density&quot;</td><td>1.2</td><td>1.2</td><td>0.0001</td><td>0.0108</td><td>&quot;x 1.0&quot;</td></tr><tr><td>&quot;mean_abs_change&quot;</td><td>0.058</td><td>0.0558</td><td>0.0022</td><td>3.9</td><td>&quot;x 0.96&quot;</td></tr><tr><td>&quot;autocorrelation&quot;</td><td>0.19</td><td>0.18</td><td>0.0148</td><td>8.4</td><td>&quot;x 0.92&quot;</td></tr><tr><td>&quot;absolute_sum_of_changes&quot;</td><td>0.0608</td><td>0.052</td><td>0.0088</td><td>16.9</td><td>&quot;x 0.86&quot;</td></tr><tr><td>&quot;first_location_of_minimum&quot;</td><td>0.0582</td><td>0.0421</td><td>0.016</td><td>38.1</td><td>&quot;x 0.72&quot;</td></tr><tr><td>&quot;first_location_of_maximum&quot;</td><td>0.0582</td><td>0.042</td><td>0.0162</td><td>38.5</td><td>&quot;x 0.72&quot;</td></tr><tr><td>&quot;number_crossings&quot;</td><td>0.0516</td><td>0.0359</td><td>0.0157</td><td>43.6</td><td>&quot;x 0.7&quot;</td></tr><tr><td>&quot;last_location_of_minimum&quot;</td><td>0.0822</td><td>0.0558</td><td>0.0263</td><td>47.2</td><td>&quot;x 0.68&quot;</td></tr><tr><td>&quot;last_location_of_maximum&quot;</td><td>0.0822</td><td>0.0555</td><td>0.0267</td><td>48.2</td><td>&quot;x 0.67&quot;</td></tr></tbody></table></div>"
      ],
      "text/plain": [
       "shape: (49, 6)\n",
       "┌───────────────────────────────────┬───────────────┬─────────────┬───────────┬────────┬─────────┐\n",
       "│ Feature name                      ┆ functime (ms) ┆ tfresh (ms) ┆ diff (ms) ┆ diff % ┆ speedup │\n",
       "╞═══════════════════════════════════╪═══════════════╪═════════════╪═══════════╪════════╪═════════╡\n",
       "│ sample_entropy                    ┆ 511.1         ┆ 347925.6    ┆ -347414.5 ┆ -99.9  ┆ x 680.8 │\n",
       "│ benford_correlation2              ┆ 0.4           ┆ 58.0        ┆ -57.6     ┆ -99.3  ┆ x 146.4 │\n",
       "│ mean_n_absolute_max               ┆ 0.19          ┆ 5.2         ┆ -5.0      ┆ -96.3  ┆ x 27.4  │\n",
       "│ benford_correlation               ┆ 5.0           ┆ 58.2        ┆ -53.2     ┆ -91.4  ┆ x 11.7  │\n",
       "│ large_standard_deviation          ┆ 0.0621        ┆ 0.53        ┆ -0.47     ┆ -88.3  ┆ x 8.6   │\n",
       "│ has_duplicate_max                 ┆ 0.0232        ┆ 0.17        ┆ -0.15     ┆ -86.6  ┆ x 7.5   │\n",
       "│ has_duplicate_min                 ┆ 0.0233        ┆ 0.17        ┆ -0.15     ┆ -86.6  ┆ x 7.5   │\n",
       "│ linear_trend                      ┆ 0.46          ┆ 3.4         ┆ -3.0      ┆ -86.5  ┆ x 7.4   │\n",
       "│ energy_ratios                     ┆ 0.19          ┆ 1.3         ┆ -1.1      ┆ -85.5  ┆ x 6.9   │\n",
       "│ absolute_maximum                  ┆ 0.0213        ┆ 0.15        ┆ -0.12     ┆ -85.4  ┆ x 6.9   │\n",
       "│ var_gt_std                        ┆ 0.0434        ┆ 0.29        ┆ -0.25     ┆ -85.2  ┆ x 6.8   │\n",
       "│ variation_coefficient             ┆ 0.054         ┆ 0.35        ┆ -0.29     ┆ -84.5  ┆ x 6.5   │\n",
       "│ count_above_mean                  ┆ 0.0234        ┆ 0.15        ┆ -0.13     ┆ -84.4  ┆ x 6.4   │\n",
       "│ count_below_mean                  ┆ 0.024         ┆ 0.15        ┆ -0.12     ┆ -83.7  ┆ x 6.1   │\n",
       "│ longest_streak_above_mean         ┆ 1.1           ┆ 5.8         ┆ -4.7      ┆ -81.2  ┆ x 5.3   │\n",
       "│ longest_streak_below_mean         ┆ 1.1           ┆ 5.9         ┆ -4.8      ┆ -81.2  ┆ x 5.3   │\n",
       "│ change_quantiles                  ┆ 0.75          ┆ 3.5         ┆ -2.7      ┆ -78.3  ┆ x 4.6   │\n",
       "│ symmetry_looking                  ┆ 0.27          ┆ 1.1         ┆ -0.84     ┆ -75.6  ┆ x 4.1   │\n",
       "│ count_above                       ┆ 0.0144        ┆ 0.0545      ┆ -0.0401   ┆ -73.6  ┆ x 3.8   │\n",
       "│ count_below                       ┆ 0.0148        ┆ 0.0548      ┆ -0.0401   ┆ -73.1  ┆ x 3.7   │\n",
       "│ ratio_beyond_r_sigma              ┆ 0.16          ┆ 0.52        ┆ -0.36     ┆ -68.6  ┆ x 3.2   │\n",
       "│ cid_ce                            ┆ 0.16          ┆ 0.49        ┆ -0.33     ┆ -67.3  ┆ x 3.1   │\n",
       "│ range_count                       ┆ 0.0358        ┆ 0.1         ┆ -0.0672   ┆ -65.3  ┆ x 2.9   │\n",
       "│ ratio_n_unique_to_length          ┆ 2.3           ┆ 5.6         ┆ -3.3      ┆ -59.4  ┆ x 2.5   │\n",
       "│ percent_reoccurring_values        ┆ 2.9           ┆ 5.7         ┆ -2.8      ┆ -49.2  ┆ x 2.0   │\n",
       "│ sum_reoccurring_points            ┆ 3.1           ┆ 5.9         ┆ -2.8      ┆ -47.7  ┆ x 1.9   │\n",
       "│ absolute_energy                   ┆ 0.0269        ┆ 0.0508      ┆ -0.024    ┆ -47.1  ┆ x 1.9   │\n",
       "│ has_duplicate                     ┆ 3.1           ┆ 5.6         ┆ -2.4      ┆ -44.0  ┆ x 1.8   │\n",
       "│ number_peaks                      ┆ 0.48          ┆ 0.84        ┆ -0.36     ┆ -42.4  ┆ x 1.7   │\n",
       "│ sum_reoccurring_values            ┆ 3.6           ┆ 6.1         ┆ -2.5      ┆ -41.6  ┆ x 1.7   │\n",
       "│ mean_change                       ┆ 0.0017        ┆ 0.0027      ┆ -0.001    ┆ -36.9  ┆ x 1.6   │\n",
       "│ root_mean_square                  ┆ 0.0634        ┆ 0.0892      ┆ -0.0258   ┆ -28.9  ┆ x 1.4   │\n",
       "│ mean_second_derivative_central    ┆ 0.0022        ┆ 0.0028      ┆ -0.0006   ┆ -22.4  ┆ x 1.3   │\n",
       "│ index_mass_quantile               ┆ 0.33          ┆ 0.4         ┆ -0.0741   ┆ -18.3  ┆ x 1.2   │\n",
       "│ time_reversal_asymmetry_statistic ┆ 0.18          ┆ 0.21        ┆ -0.0371   ┆ -17.4  ┆ x 1.2   │\n",
       "│ permutation_entropy               ┆ 47.0          ┆ 54.9        ┆ -7.9      ┆ -14.5  ┆ x 1.2   │\n",
       "│ c3                                ┆ 0.14          ┆ 0.16        ┆ -0.0198   ┆ -12.5  ┆ x 1.1   │\n",
       "│ binned_entropy                    ┆ 0.72          ┆ 0.77        ┆ -0.0468   ┆ -6.1   ┆ x 1.1   │\n",
       "│ number_cwt_peaks                  ┆ 21119.7       ┆ 21740.8     ┆ -621.0    ┆ -2.9   ┆ x 1.0   │\n",
       "│ percent_reoccurring_points        ┆ 3.1           ┆ 3.1         ┆ -0.0895   ┆ -2.8   ┆ x 1.0   │\n",
       "│ spkt_welch_density                ┆ 1.2           ┆ 1.2         ┆ 0.0001    ┆ 0.0108 ┆ x 1.0   │\n",
       "│ mean_abs_change                   ┆ 0.058         ┆ 0.0558      ┆ 0.0022    ┆ 3.9    ┆ x 0.96  │\n",
       "│ autocorrelation                   ┆ 0.19          ┆ 0.18        ┆ 0.0148    ┆ 8.4    ┆ x 0.92  │\n",
       "│ absolute_sum_of_changes           ┆ 0.0608        ┆ 0.052       ┆ 0.0088    ┆ 16.9   ┆ x 0.86  │\n",
       "│ first_location_of_minimum         ┆ 0.0582        ┆ 0.0421      ┆ 0.016     ┆ 38.1   ┆ x 0.72  │\n",
       "│ first_location_of_maximum         ┆ 0.0582        ┆ 0.042       ┆ 0.0162    ┆ 38.5   ┆ x 0.72  │\n",
       "│ number_crossings                  ┆ 0.0516        ┆ 0.0359      ┆ 0.0157    ┆ 43.6   ┆ x 0.7   │\n",
       "│ last_location_of_minimum          ┆ 0.0822        ┆ 0.0558      ┆ 0.0263    ┆ 47.2   ┆ x 0.68  │\n",
       "│ last_location_of_maximum          ┆ 0.0822        ┆ 0.0555      ┆ 0.0267    ┆ 48.2   ┆ x 0.67  │\n",
       "└───────────────────────────────────┴───────────────┴─────────────┴───────────┴────────┴─────────┘"
      ]
     },
     "execution_count": 46,
     "metadata": {},
     "output_type": "execute_result"
    }
   ],
   "source": [
    "df_series_100k"
   ]
  },
  {
   "cell_type": "markdown",
   "metadata": {},
   "source": [
    "#### 1M series"
   ]
  },
  {
   "cell_type": "code",
   "execution_count": 47,
   "metadata": {},
   "outputs": [
    {
     "data": {
      "text/html": [
       "<div><style>\n",
       ".dataframe > thead > tr > th,\n",
       ".dataframe > tbody > tr > td {\n",
       "  text-align: right;\n",
       "  white-space: pre-wrap;\n",
       "}\n",
       "</style>\n",
       "<small>shape: (47, 6)</small><table border=\"1\" class=\"dataframe\"><thead><tr><th>Feature name</th><th>functime (ms)</th><th>tfresh (ms)</th><th>diff (ms)</th><th>diff %</th><th>speedup</th></tr></thead><tbody><tr><td>&quot;benford_correlation2&quot;</td><td>3.4</td><td>588.9</td><td>-585.5</td><td>-99.4</td><td>&quot;x 172.4&quot;</td></tr><tr><td>&quot;mean_n_absolute_max&quot;</td><td>2.6</td><td>61.2</td><td>-58.6</td><td>-95.8</td><td>&quot;x 23.7&quot;</td></tr><tr><td>&quot;benford_correlation&quot;</td><td>51.0</td><td>589.7</td><td>-538.7</td><td>-91.4</td><td>&quot;x 11.6&quot;</td></tr><tr><td>&quot;large_standard_deviation&quot;</td><td>0.55</td><td>5.2</td><td>-4.6</td><td>-89.3</td><td>&quot;x 9.3&quot;</td></tr><tr><td>&quot;var_gt_std&quot;</td><td>0.35</td><td>2.9</td><td>-2.5</td><td>-87.9</td><td>&quot;x 8.3&quot;</td></tr><tr><td>&quot;absolute_maximum&quot;</td><td>0.18</td><td>1.4</td><td>-1.2</td><td>-87.2</td><td>&quot;x 7.8&quot;</td></tr><tr><td>&quot;has_duplicate_max&quot;</td><td>0.19</td><td>1.4</td><td>-1.3</td><td>-87.1</td><td>&quot;x 7.8&quot;</td></tr><tr><td>&quot;has_duplicate_min&quot;</td><td>0.19</td><td>1.4</td><td>-1.3</td><td>-87.1</td><td>&quot;x 7.8&quot;</td></tr><tr><td>&quot;linear_trend&quot;</td><td>5.0</td><td>38.3</td><td>-33.3</td><td>-87.0</td><td>&quot;x 7.7&quot;</td></tr><tr><td>&quot;count_below_mean&quot;</td><td>0.2</td><td>1.4</td><td>-1.2</td><td>-86.3</td><td>&quot;x 7.3&quot;</td></tr><tr><td>&quot;variation_coefficient&quot;</td><td>0.46</td><td>3.3</td><td>-2.9</td><td>-86.3</td><td>&quot;x 7.3&quot;</td></tr><tr><td>&quot;count_above_mean&quot;</td><td>0.19</td><td>1.4</td><td>-1.2</td><td>-86.2</td><td>&quot;x 7.2&quot;</td></tr><tr><td>&quot;longest_streak_below_mean&quot;</td><td>11.0</td><td>60.6</td><td>-49.5</td><td>-81.8</td><td>&quot;x 5.5&quot;</td></tr><tr><td>&quot;longest_streak_above_mean&quot;</td><td>10.9</td><td>59.4</td><td>-48.5</td><td>-81.7</td><td>&quot;x 5.5&quot;</td></tr><tr><td>&quot;energy_ratios&quot;</td><td>1.3</td><td>7.1</td><td>-5.8</td><td>-81.5</td><td>&quot;x 5.4&quot;</td></tr><tr><td>&quot;number_peaks&quot;</td><td>1.9</td><td>9.6</td><td>-7.8</td><td>-80.5</td><td>&quot;x 5.1&quot;</td></tr><tr><td>&quot;change_quantiles&quot;</td><td>7.2</td><td>33.8</td><td>-26.6</td><td>-78.7</td><td>&quot;x 4.7&quot;</td></tr><tr><td>&quot;ratio_beyond_r_sigma&quot;</td><td>1.2</td><td>4.8</td><td>-3.6</td><td>-75.3</td><td>&quot;x 4.1&quot;</td></tr><tr><td>&quot;symmetry_looking&quot;</td><td>3.3</td><td>13.1</td><td>-9.9</td><td>-75.2</td><td>&quot;x 4.0&quot;</td></tr><tr><td>&quot;ratio_n_unique_to_length&quot;</td><td>16.0</td><td>64.0</td><td>-48.0</td><td>-74.9</td><td>&quot;x 4.0&quot;</td></tr><tr><td>&quot;count_above&quot;</td><td>0.1</td><td>0.31</td><td>-0.2</td><td>-66.6</td><td>&quot;x 3.0&quot;</td></tr><tr><td>&quot;count_below&quot;</td><td>0.1</td><td>0.3</td><td>-0.2</td><td>-66.3</td><td>&quot;x 3.0&quot;</td></tr><tr><td>&quot;cid_ce&quot;</td><td>1.8</td><td>5.5</td><td>-3.6</td><td>-66.3</td><td>&quot;x 3.0&quot;</td></tr><tr><td>&quot;sum_reoccurring_points&quot;</td><td>23.0</td><td>65.7</td><td>-42.7</td><td>-65.0</td><td>&quot;x 2.9&quot;</td></tr><tr><td>&quot;has_duplicate&quot;</td><td>22.6</td><td>64.0</td><td>-41.4</td><td>-64.7</td><td>&quot;x 2.8&quot;</td></tr><tr><td>&quot;percent_reoccurring_values&quot;</td><td>23.0</td><td>65.2</td><td>-42.2</td><td>-64.7</td><td>&quot;x 2.8&quot;</td></tr><tr><td>&quot;range_count&quot;</td><td>0.21</td><td>0.53</td><td>-0.33</td><td>-61.0</td><td>&quot;x 2.6&quot;</td></tr><tr><td>&quot;c3&quot;</td><td>0.88</td><td>2.1</td><td>-1.3</td><td>-59.3</td><td>&quot;x 2.5&quot;</td></tr><tr><td>&quot;absolute_sum_of_changes&quot;</td><td>0.48</td><td>1.1</td><td>-0.66</td><td>-58.1</td><td>&quot;x 2.4&quot;</td></tr><tr><td>&quot;mean_abs_change&quot;</td><td>0.47</td><td>1.0</td><td>-0.54</td><td>-53.2</td><td>&quot;x 2.1&quot;</td></tr><tr><td>&quot;sum_reoccurring_values&quot;</td><td>33.8</td><td>66.4</td><td>-32.6</td><td>-49.0</td><td>&quot;x 2.0&quot;</td></tr><tr><td>&quot;time_reversal_asymmetry_statistic&quot;</td><td>1.6</td><td>3.0</td><td>-1.5</td><td>-48.4</td><td>&quot;x 1.9&quot;</td></tr><tr><td>&quot;autocorrelation&quot;</td><td>1.3</td><td>2.4</td><td>-1.1</td><td>-47.1</td><td>&quot;x 1.9&quot;</td></tr><tr><td>&quot;root_mean_square&quot;</td><td>0.45</td><td>0.83</td><td>-0.38</td><td>-45.9</td><td>&quot;x 1.8&quot;</td></tr><tr><td>&quot;index_mass_quantile&quot;</td><td>2.8</td><td>4.7</td><td>-1.9</td><td>-39.8</td><td>&quot;x 1.7&quot;</td></tr><tr><td>&quot;mean_change&quot;</td><td>0.0017</td><td>0.0027</td><td>-0.001</td><td>-36.0</td><td>&quot;x 1.6&quot;</td></tr><tr><td>&quot;permutation_entropy&quot;</td><td>470.2</td><td>675.4</td><td>-205.2</td><td>-30.4</td><td>&quot;x 1.4&quot;</td></tr><tr><td>&quot;mean_second_derivative_central&quot;</td><td>0.0022</td><td>0.0028</td><td>-0.0006</td><td>-21.2</td><td>&quot;x 1.3&quot;</td></tr><tr><td>&quot;binned_entropy&quot;</td><td>6.4</td><td>6.8</td><td>-0.41</td><td>-6.0</td><td>&quot;x 1.1&quot;</td></tr><tr><td>&quot;number_crossings&quot;</td><td>0.17</td><td>0.17</td><td>-0.0009</td><td>-0.54</td><td>&quot;x 1.0&quot;</td></tr><tr><td>&quot;spkt_welch_density&quot;</td><td>12.3</td><td>12.1</td><td>0.2</td><td>1.7</td><td>&quot;x 0.98&quot;</td></tr><tr><td>&quot;absolute_energy&quot;</td><td>0.45</td><td>0.44</td><td>0.0122</td><td>2.8</td><td>&quot;x 0.97&quot;</td></tr><tr><td>&quot;percent_reoccurring_points&quot;</td><td>22.0</td><td>20.7</td><td>1.3</td><td>6.5</td><td>&quot;x 0.94&quot;</td></tr><tr><td>&quot;last_location_of_maximum&quot;</td><td>0.74</td><td>0.69</td><td>0.049</td><td>7.1</td><td>&quot;x 0.93&quot;</td></tr><tr><td>&quot;last_location_of_minimum&quot;</td><td>0.74</td><td>0.68</td><td>0.0622</td><td>9.2</td><td>&quot;x 0.92&quot;</td></tr><tr><td>&quot;first_location_of_minimum&quot;</td><td>0.57</td><td>0.34</td><td>0.23</td><td>69.2</td><td>&quot;x 0.59&quot;</td></tr><tr><td>&quot;first_location_of_maximum&quot;</td><td>0.57</td><td>0.34</td><td>0.23</td><td>69.2</td><td>&quot;x 0.59&quot;</td></tr></tbody></table></div>"
      ],
      "text/plain": [
       "shape: (47, 6)\n",
       "┌───────────────────────────────────┬───────────────┬─────────────┬───────────┬────────┬─────────┐\n",
       "│ Feature name                      ┆ functime (ms) ┆ tfresh (ms) ┆ diff (ms) ┆ diff % ┆ speedup │\n",
       "╞═══════════════════════════════════╪═══════════════╪═════════════╪═══════════╪════════╪═════════╡\n",
       "│ benford_correlation2              ┆ 3.4           ┆ 588.9       ┆ -585.5    ┆ -99.4  ┆ x 172.4 │\n",
       "│ mean_n_absolute_max               ┆ 2.6           ┆ 61.2        ┆ -58.6     ┆ -95.8  ┆ x 23.7  │\n",
       "│ benford_correlation               ┆ 51.0          ┆ 589.7       ┆ -538.7    ┆ -91.4  ┆ x 11.6  │\n",
       "│ large_standard_deviation          ┆ 0.55          ┆ 5.2         ┆ -4.6      ┆ -89.3  ┆ x 9.3   │\n",
       "│ var_gt_std                        ┆ 0.35          ┆ 2.9         ┆ -2.5      ┆ -87.9  ┆ x 8.3   │\n",
       "│ absolute_maximum                  ┆ 0.18          ┆ 1.4         ┆ -1.2      ┆ -87.2  ┆ x 7.8   │\n",
       "│ has_duplicate_max                 ┆ 0.19          ┆ 1.4         ┆ -1.3      ┆ -87.1  ┆ x 7.8   │\n",
       "│ has_duplicate_min                 ┆ 0.19          ┆ 1.4         ┆ -1.3      ┆ -87.1  ┆ x 7.8   │\n",
       "│ linear_trend                      ┆ 5.0           ┆ 38.3        ┆ -33.3     ┆ -87.0  ┆ x 7.7   │\n",
       "│ count_below_mean                  ┆ 0.2           ┆ 1.4         ┆ -1.2      ┆ -86.3  ┆ x 7.3   │\n",
       "│ variation_coefficient             ┆ 0.46          ┆ 3.3         ┆ -2.9      ┆ -86.3  ┆ x 7.3   │\n",
       "│ count_above_mean                  ┆ 0.19          ┆ 1.4         ┆ -1.2      ┆ -86.2  ┆ x 7.2   │\n",
       "│ longest_streak_below_mean         ┆ 11.0          ┆ 60.6        ┆ -49.5     ┆ -81.8  ┆ x 5.5   │\n",
       "│ longest_streak_above_mean         ┆ 10.9          ┆ 59.4        ┆ -48.5     ┆ -81.7  ┆ x 5.5   │\n",
       "│ energy_ratios                     ┆ 1.3           ┆ 7.1         ┆ -5.8      ┆ -81.5  ┆ x 5.4   │\n",
       "│ number_peaks                      ┆ 1.9           ┆ 9.6         ┆ -7.8      ┆ -80.5  ┆ x 5.1   │\n",
       "│ change_quantiles                  ┆ 7.2           ┆ 33.8        ┆ -26.6     ┆ -78.7  ┆ x 4.7   │\n",
       "│ ratio_beyond_r_sigma              ┆ 1.2           ┆ 4.8         ┆ -3.6      ┆ -75.3  ┆ x 4.1   │\n",
       "│ symmetry_looking                  ┆ 3.3           ┆ 13.1        ┆ -9.9      ┆ -75.2  ┆ x 4.0   │\n",
       "│ ratio_n_unique_to_length          ┆ 16.0          ┆ 64.0        ┆ -48.0     ┆ -74.9  ┆ x 4.0   │\n",
       "│ count_above                       ┆ 0.1           ┆ 0.31        ┆ -0.2      ┆ -66.6  ┆ x 3.0   │\n",
       "│ count_below                       ┆ 0.1           ┆ 0.3         ┆ -0.2      ┆ -66.3  ┆ x 3.0   │\n",
       "│ cid_ce                            ┆ 1.8           ┆ 5.5         ┆ -3.6      ┆ -66.3  ┆ x 3.0   │\n",
       "│ sum_reoccurring_points            ┆ 23.0          ┆ 65.7        ┆ -42.7     ┆ -65.0  ┆ x 2.9   │\n",
       "│ has_duplicate                     ┆ 22.6          ┆ 64.0        ┆ -41.4     ┆ -64.7  ┆ x 2.8   │\n",
       "│ percent_reoccurring_values        ┆ 23.0          ┆ 65.2        ┆ -42.2     ┆ -64.7  ┆ x 2.8   │\n",
       "│ range_count                       ┆ 0.21          ┆ 0.53        ┆ -0.33     ┆ -61.0  ┆ x 2.6   │\n",
       "│ c3                                ┆ 0.88          ┆ 2.1         ┆ -1.3      ┆ -59.3  ┆ x 2.5   │\n",
       "│ absolute_sum_of_changes           ┆ 0.48          ┆ 1.1         ┆ -0.66     ┆ -58.1  ┆ x 2.4   │\n",
       "│ mean_abs_change                   ┆ 0.47          ┆ 1.0         ┆ -0.54     ┆ -53.2  ┆ x 2.1   │\n",
       "│ sum_reoccurring_values            ┆ 33.8          ┆ 66.4        ┆ -32.6     ┆ -49.0  ┆ x 2.0   │\n",
       "│ time_reversal_asymmetry_statistic ┆ 1.6           ┆ 3.0         ┆ -1.5      ┆ -48.4  ┆ x 1.9   │\n",
       "│ autocorrelation                   ┆ 1.3           ┆ 2.4         ┆ -1.1      ┆ -47.1  ┆ x 1.9   │\n",
       "│ root_mean_square                  ┆ 0.45          ┆ 0.83        ┆ -0.38     ┆ -45.9  ┆ x 1.8   │\n",
       "│ index_mass_quantile               ┆ 2.8           ┆ 4.7         ┆ -1.9      ┆ -39.8  ┆ x 1.7   │\n",
       "│ mean_change                       ┆ 0.0017        ┆ 0.0027      ┆ -0.001    ┆ -36.0  ┆ x 1.6   │\n",
       "│ permutation_entropy               ┆ 470.2         ┆ 675.4       ┆ -205.2    ┆ -30.4  ┆ x 1.4   │\n",
       "│ mean_second_derivative_central    ┆ 0.0022        ┆ 0.0028      ┆ -0.0006   ┆ -21.2  ┆ x 1.3   │\n",
       "│ binned_entropy                    ┆ 6.4           ┆ 6.8         ┆ -0.41     ┆ -6.0   ┆ x 1.1   │\n",
       "│ number_crossings                  ┆ 0.17          ┆ 0.17        ┆ -0.0009   ┆ -0.54  ┆ x 1.0   │\n",
       "│ spkt_welch_density                ┆ 12.3          ┆ 12.1        ┆ 0.2       ┆ 1.7    ┆ x 0.98  │\n",
       "│ absolute_energy                   ┆ 0.45          ┆ 0.44        ┆ 0.0122    ┆ 2.8    ┆ x 0.97  │\n",
       "│ percent_reoccurring_points        ┆ 22.0          ┆ 20.7        ┆ 1.3       ┆ 6.5    ┆ x 0.94  │\n",
       "│ last_location_of_maximum          ┆ 0.74          ┆ 0.69        ┆ 0.049     ┆ 7.1    ┆ x 0.93  │\n",
       "│ last_location_of_minimum          ┆ 0.74          ┆ 0.68        ┆ 0.0622    ┆ 9.2    ┆ x 0.92  │\n",
       "│ first_location_of_minimum         ┆ 0.57          ┆ 0.34        ┆ 0.23      ┆ 69.2   ┆ x 0.59  │\n",
       "│ first_location_of_maximum         ┆ 0.57          ┆ 0.34        ┆ 0.23      ┆ 69.2   ┆ x 0.59  │\n",
       "└───────────────────────────────────┴───────────────┴─────────────┴───────────┴────────┴─────────┘"
      ]
     },
     "execution_count": 47,
     "metadata": {},
     "output_type": "execute_result"
    }
   ],
   "source": [
    "df_series_1m"
   ]
  },
  {
   "cell_type": "markdown",
   "metadata": {},
   "source": [
    "#### 9M series"
   ]
  },
  {
   "cell_type": "code",
   "execution_count": 48,
   "metadata": {},
   "outputs": [
    {
     "data": {
      "text/html": [
       "<div><style>\n",
       ".dataframe > thead > tr > th,\n",
       ".dataframe > tbody > tr > td {\n",
       "  text-align: right;\n",
       "  white-space: pre-wrap;\n",
       "}\n",
       "</style>\n",
       "<small>shape: (47, 6)</small><table border=\"1\" class=\"dataframe\"><thead><tr><th>Feature name</th><th>functime (ms)</th><th>tfresh (ms)</th><th>diff (ms)</th><th>diff %</th><th>speedup</th></tr></thead><tbody><tr><td>&quot;benford_correlation2&quot;</td><td>31.4</td><td>5368.5</td><td>-5337.1</td><td>-99.4</td><td>&quot;x 171.2&quot;</td></tr><tr><td>&quot;mean_n_absolute_max&quot;</td><td>13.6</td><td>599.5</td><td>-585.9</td><td>-97.7</td><td>&quot;x 44.0&quot;</td></tr><tr><td>&quot;benford_correlation&quot;</td><td>511.1</td><td>5381.9</td><td>-4870.7</td><td>-90.5</td><td>&quot;x 10.5&quot;</td></tr><tr><td>&quot;large_standard_deviation&quot;</td><td>6.4</td><td>47.1</td><td>-40.6</td><td>-86.4</td><td>&quot;x 7.3&quot;</td></tr><tr><td>&quot;linear_trend&quot;</td><td>50.5</td><td>368.1</td><td>-317.6</td><td>-86.3</td><td>&quot;x 7.3&quot;</td></tr><tr><td>&quot;absolute_maximum&quot;</td><td>2.3</td><td>16.1</td><td>-13.8</td><td>-85.7</td><td>&quot;x 7.0&quot;</td></tr><tr><td>&quot;number_peaks&quot;</td><td>15.1</td><td>102.9</td><td>-87.7</td><td>-85.3</td><td>&quot;x 6.8&quot;</td></tr><tr><td>&quot;var_gt_std&quot;</td><td>3.9</td><td>26.1</td><td>-22.2</td><td>-85.0</td><td>&quot;x 6.7&quot;</td></tr><tr><td>&quot;ratio_n_unique_to_length&quot;</td><td>94.0</td><td>610.2</td><td>-516.2</td><td>-84.6</td><td>&quot;x 6.5&quot;</td></tr><tr><td>&quot;energy_ratios&quot;</td><td>11.0</td><td>70.1</td><td>-59.1</td><td>-84.3</td><td>&quot;x 6.4&quot;</td></tr><tr><td>&quot;count_below_mean&quot;</td><td>2.4</td><td>15.0</td><td>-12.7</td><td>-84.3</td><td>&quot;x 6.4&quot;</td></tr><tr><td>&quot;count_above_mean&quot;</td><td>2.4</td><td>14.8</td><td>-12.4</td><td>-83.9</td><td>&quot;x 6.2&quot;</td></tr><tr><td>&quot;variation_coefficient&quot;</td><td>5.1</td><td>31.1</td><td>-25.9</td><td>-83.5</td><td>&quot;x 6.1&quot;</td></tr><tr><td>&quot;has_duplicate_min&quot;</td><td>2.4</td><td>14.0</td><td>-11.7</td><td>-83.2</td><td>&quot;x 5.9&quot;</td></tr><tr><td>&quot;has_duplicate_max&quot;</td><td>2.4</td><td>13.9</td><td>-11.6</td><td>-83.0</td><td>&quot;x 5.9&quot;</td></tr><tr><td>&quot;longest_streak_below_mean&quot;</td><td>92.6</td><td>542.3</td><td>-449.7</td><td>-82.9</td><td>&quot;x 5.9&quot;</td></tr><tr><td>&quot;longest_streak_above_mean&quot;</td><td>93.3</td><td>541.4</td><td>-448.1</td><td>-82.8</td><td>&quot;x 5.8&quot;</td></tr><tr><td>&quot;change_quantiles&quot;</td><td>52.8</td><td>297.3</td><td>-244.5</td><td>-82.2</td><td>&quot;x 5.6&quot;</td></tr><tr><td>&quot;sum_reoccurring_points&quot;</td><td>165.0</td><td>617.7</td><td>-452.8</td><td>-73.3</td><td>&quot;x 3.7&quot;</td></tr><tr><td>&quot;has_duplicate&quot;</td><td>162.8</td><td>609.0</td><td>-446.2</td><td>-73.3</td><td>&quot;x 3.7&quot;</td></tr><tr><td>&quot;ratio_beyond_r_sigma&quot;</td><td>13.5</td><td>48.1</td><td>-34.6</td><td>-71.9</td><td>&quot;x 3.6&quot;</td></tr><tr><td>&quot;c3&quot;</td><td>6.9</td><td>23.7</td><td>-16.8</td><td>-70.8</td><td>&quot;x 3.4&quot;</td></tr><tr><td>&quot;symmetry_looking&quot;</td><td>31.4</td><td>105.5</td><td>-74.1</td><td>-70.2</td><td>&quot;x 3.4&quot;</td></tr><tr><td>&quot;range_count&quot;</td><td>2.5</td><td>7.8</td><td>-5.3</td><td>-68.6</td><td>&quot;x 3.2&quot;</td></tr><tr><td>&quot;absolute_sum_of_changes&quot;</td><td>4.5</td><td>13.3</td><td>-8.8</td><td>-66.0</td><td>&quot;x 2.9&quot;</td></tr><tr><td>&quot;count_above&quot;</td><td>1.2</td><td>3.5</td><td>-2.3</td><td>-65.7</td><td>&quot;x 2.9&quot;</td></tr><tr><td>&quot;mean_abs_change&quot;</td><td>4.5</td><td>13.2</td><td>-8.7</td><td>-65.7</td><td>&quot;x 2.9&quot;</td></tr><tr><td>&quot;count_below&quot;</td><td>1.2</td><td>3.5</td><td>-2.3</td><td>-65.4</td><td>&quot;x 2.9&quot;</td></tr><tr><td>&quot;cid_ce&quot;</td><td>18.9</td><td>53.7</td><td>-34.8</td><td>-64.7</td><td>&quot;x 2.8&quot;</td></tr><tr><td>&quot;root_mean_square&quot;</td><td>3.9</td><td>11.0</td><td>-7.1</td><td>-64.3</td><td>&quot;x 2.8&quot;</td></tr><tr><td>&quot;percent_reoccurring_values&quot;</td><td>235.3</td><td>619.4</td><td>-384.1</td><td>-62.0</td><td>&quot;x 2.6&quot;</td></tr><tr><td>&quot;time_reversal_asymmetry_statistic&quot;</td><td>12.1</td><td>29.5</td><td>-17.4</td><td>-58.9</td><td>&quot;x 2.4&quot;</td></tr><tr><td>&quot;autocorrelation&quot;</td><td>12.3</td><td>28.7</td><td>-16.4</td><td>-57.2</td><td>&quot;x 2.3&quot;</td></tr><tr><td>&quot;sum_reoccurring_values&quot;</td><td>278.0</td><td>623.7</td><td>-345.7</td><td>-55.4</td><td>&quot;x 2.2&quot;</td></tr><tr><td>&quot;number_crossings&quot;</td><td>1.6</td><td>2.9</td><td>-1.3</td><td>-45.2</td><td>&quot;x 1.8&quot;</td></tr><tr><td>&quot;permutation_entropy&quot;</td><td>4204.1</td><td>7104.6</td><td>-2900.5</td><td>-40.8</td><td>&quot;x 1.7&quot;</td></tr><tr><td>&quot;index_mass_quantile&quot;</td><td>27.3</td><td>45.8</td><td>-18.5</td><td>-40.4</td><td>&quot;x 1.7&quot;</td></tr><tr><td>&quot;mean_change&quot;</td><td>0.0017</td><td>0.0027</td><td>-0.001</td><td>-37.5</td><td>&quot;x 1.6&quot;</td></tr><tr><td>&quot;percent_reoccurring_points&quot;</td><td>161.6</td><td>212.9</td><td>-51.3</td><td>-24.1</td><td>&quot;x 1.3&quot;</td></tr><tr><td>&quot;last_location_of_maximum&quot;</td><td>6.7</td><td>8.6</td><td>-1.9</td><td>-21.8</td><td>&quot;x 1.3&quot;</td></tr><tr><td>&quot;last_location_of_minimum&quot;</td><td>6.8</td><td>8.6</td><td>-1.8</td><td>-21.2</td><td>&quot;x 1.3&quot;</td></tr><tr><td>&quot;mean_second_derivative_central&quot;</td><td>0.0022</td><td>0.0028</td><td>-0.0006</td><td>-20.9</td><td>&quot;x 1.3&quot;</td></tr><tr><td>&quot;binned_entropy&quot;</td><td>59.7</td><td>61.8</td><td>-2.1</td><td>-3.4</td><td>&quot;x 1.0&quot;</td></tr><tr><td>&quot;spkt_welch_density&quot;</td><td>117.5</td><td>116.8</td><td>0.7</td><td>0.6</td><td>&quot;x 0.99&quot;</td></tr><tr><td>&quot;absolute_energy&quot;</td><td>3.9</td><td>3.9</td><td>0.0373</td><td>0.96</td><td>&quot;x 0.99&quot;</td></tr><tr><td>&quot;first_location_of_minimum&quot;</td><td>5.2</td><td>4.0</td><td>1.1</td><td>28.2</td><td>&quot;x 0.78&quot;</td></tr><tr><td>&quot;first_location_of_maximum&quot;</td><td>5.2</td><td>4.0</td><td>1.2</td><td>28.9</td><td>&quot;x 0.78&quot;</td></tr></tbody></table></div>"
      ],
      "text/plain": [
       "shape: (47, 6)\n",
       "┌───────────────────────────────────┬───────────────┬─────────────┬───────────┬────────┬─────────┐\n",
       "│ Feature name                      ┆ functime (ms) ┆ tfresh (ms) ┆ diff (ms) ┆ diff % ┆ speedup │\n",
       "╞═══════════════════════════════════╪═══════════════╪═════════════╪═══════════╪════════╪═════════╡\n",
       "│ benford_correlation2              ┆ 31.4          ┆ 5368.5      ┆ -5337.1   ┆ -99.4  ┆ x 171.2 │\n",
       "│ mean_n_absolute_max               ┆ 13.6          ┆ 599.5       ┆ -585.9    ┆ -97.7  ┆ x 44.0  │\n",
       "│ benford_correlation               ┆ 511.1         ┆ 5381.9      ┆ -4870.7   ┆ -90.5  ┆ x 10.5  │\n",
       "│ large_standard_deviation          ┆ 6.4           ┆ 47.1        ┆ -40.6     ┆ -86.4  ┆ x 7.3   │\n",
       "│ linear_trend                      ┆ 50.5          ┆ 368.1       ┆ -317.6    ┆ -86.3  ┆ x 7.3   │\n",
       "│ absolute_maximum                  ┆ 2.3           ┆ 16.1        ┆ -13.8     ┆ -85.7  ┆ x 7.0   │\n",
       "│ number_peaks                      ┆ 15.1          ┆ 102.9       ┆ -87.7     ┆ -85.3  ┆ x 6.8   │\n",
       "│ var_gt_std                        ┆ 3.9           ┆ 26.1        ┆ -22.2     ┆ -85.0  ┆ x 6.7   │\n",
       "│ ratio_n_unique_to_length          ┆ 94.0          ┆ 610.2       ┆ -516.2    ┆ -84.6  ┆ x 6.5   │\n",
       "│ energy_ratios                     ┆ 11.0          ┆ 70.1        ┆ -59.1     ┆ -84.3  ┆ x 6.4   │\n",
       "│ count_below_mean                  ┆ 2.4           ┆ 15.0        ┆ -12.7     ┆ -84.3  ┆ x 6.4   │\n",
       "│ count_above_mean                  ┆ 2.4           ┆ 14.8        ┆ -12.4     ┆ -83.9  ┆ x 6.2   │\n",
       "│ variation_coefficient             ┆ 5.1           ┆ 31.1        ┆ -25.9     ┆ -83.5  ┆ x 6.1   │\n",
       "│ has_duplicate_min                 ┆ 2.4           ┆ 14.0        ┆ -11.7     ┆ -83.2  ┆ x 5.9   │\n",
       "│ has_duplicate_max                 ┆ 2.4           ┆ 13.9        ┆ -11.6     ┆ -83.0  ┆ x 5.9   │\n",
       "│ longest_streak_below_mean         ┆ 92.6          ┆ 542.3       ┆ -449.7    ┆ -82.9  ┆ x 5.9   │\n",
       "│ longest_streak_above_mean         ┆ 93.3          ┆ 541.4       ┆ -448.1    ┆ -82.8  ┆ x 5.8   │\n",
       "│ change_quantiles                  ┆ 52.8          ┆ 297.3       ┆ -244.5    ┆ -82.2  ┆ x 5.6   │\n",
       "│ sum_reoccurring_points            ┆ 165.0         ┆ 617.7       ┆ -452.8    ┆ -73.3  ┆ x 3.7   │\n",
       "│ has_duplicate                     ┆ 162.8         ┆ 609.0       ┆ -446.2    ┆ -73.3  ┆ x 3.7   │\n",
       "│ ratio_beyond_r_sigma              ┆ 13.5          ┆ 48.1        ┆ -34.6     ┆ -71.9  ┆ x 3.6   │\n",
       "│ c3                                ┆ 6.9           ┆ 23.7        ┆ -16.8     ┆ -70.8  ┆ x 3.4   │\n",
       "│ symmetry_looking                  ┆ 31.4          ┆ 105.5       ┆ -74.1     ┆ -70.2  ┆ x 3.4   │\n",
       "│ range_count                       ┆ 2.5           ┆ 7.8         ┆ -5.3      ┆ -68.6  ┆ x 3.2   │\n",
       "│ absolute_sum_of_changes           ┆ 4.5           ┆ 13.3        ┆ -8.8      ┆ -66.0  ┆ x 2.9   │\n",
       "│ count_above                       ┆ 1.2           ┆ 3.5         ┆ -2.3      ┆ -65.7  ┆ x 2.9   │\n",
       "│ mean_abs_change                   ┆ 4.5           ┆ 13.2        ┆ -8.7      ┆ -65.7  ┆ x 2.9   │\n",
       "│ count_below                       ┆ 1.2           ┆ 3.5         ┆ -2.3      ┆ -65.4  ┆ x 2.9   │\n",
       "│ cid_ce                            ┆ 18.9          ┆ 53.7        ┆ -34.8     ┆ -64.7  ┆ x 2.8   │\n",
       "│ root_mean_square                  ┆ 3.9           ┆ 11.0        ┆ -7.1      ┆ -64.3  ┆ x 2.8   │\n",
       "│ percent_reoccurring_values        ┆ 235.3         ┆ 619.4       ┆ -384.1    ┆ -62.0  ┆ x 2.6   │\n",
       "│ time_reversal_asymmetry_statistic ┆ 12.1          ┆ 29.5        ┆ -17.4     ┆ -58.9  ┆ x 2.4   │\n",
       "│ autocorrelation                   ┆ 12.3          ┆ 28.7        ┆ -16.4     ┆ -57.2  ┆ x 2.3   │\n",
       "│ sum_reoccurring_values            ┆ 278.0         ┆ 623.7       ┆ -345.7    ┆ -55.4  ┆ x 2.2   │\n",
       "│ number_crossings                  ┆ 1.6           ┆ 2.9         ┆ -1.3      ┆ -45.2  ┆ x 1.8   │\n",
       "│ permutation_entropy               ┆ 4204.1        ┆ 7104.6      ┆ -2900.5   ┆ -40.8  ┆ x 1.7   │\n",
       "│ index_mass_quantile               ┆ 27.3          ┆ 45.8        ┆ -18.5     ┆ -40.4  ┆ x 1.7   │\n",
       "│ mean_change                       ┆ 0.0017        ┆ 0.0027      ┆ -0.001    ┆ -37.5  ┆ x 1.6   │\n",
       "│ percent_reoccurring_points        ┆ 161.6         ┆ 212.9       ┆ -51.3     ┆ -24.1  ┆ x 1.3   │\n",
       "│ last_location_of_maximum          ┆ 6.7           ┆ 8.6         ┆ -1.9      ┆ -21.8  ┆ x 1.3   │\n",
       "│ last_location_of_minimum          ┆ 6.8           ┆ 8.6         ┆ -1.8      ┆ -21.2  ┆ x 1.3   │\n",
       "│ mean_second_derivative_central    ┆ 0.0022        ┆ 0.0028      ┆ -0.0006   ┆ -20.9  ┆ x 1.3   │\n",
       "│ binned_entropy                    ┆ 59.7          ┆ 61.8        ┆ -2.1      ┆ -3.4   ┆ x 1.0   │\n",
       "│ spkt_welch_density                ┆ 117.5         ┆ 116.8       ┆ 0.7       ┆ 0.6    ┆ x 0.99  │\n",
       "│ absolute_energy                   ┆ 3.9           ┆ 3.9         ┆ 0.0373    ┆ 0.96   ┆ x 0.99  │\n",
       "│ first_location_of_minimum         ┆ 5.2           ┆ 4.0         ┆ 1.1       ┆ 28.2   ┆ x 0.78  │\n",
       "│ first_location_of_maximum         ┆ 5.2           ┆ 4.0         ┆ 1.2       ┆ 28.9   ┆ x 0.78  │\n",
       "└───────────────────────────────────┴───────────────┴─────────────┴───────────┴────────┴─────────┘"
      ]
     },
     "execution_count": 48,
     "metadata": {},
     "output_type": "execute_result"
    }
   ],
   "source": [
    "df_series_9m"
   ]
  },
  {
   "cell_type": "markdown",
   "metadata": {},
   "source": [
    "## 5. Benchmark `Group by / Aggregation` context\n",
    "\n",
    "Benchmark combining functime's feature extraction and polars' `Group by / Aggregation` context."
   ]
  },
  {
   "cell_type": "code",
   "execution_count": 49,
   "metadata": {},
   "outputs": [],
   "source": [
    "_SP500_DATASET = \"../../data/sp500.parquet\"\n",
    "\n",
    "SP500_PANDAS = pd.read_parquet(_SP500_DATASET)\n",
    "SP500_PL_EAGER = pl.read_parquet(_SP500_DATASET)"
   ]
  },
  {
   "cell_type": "code",
   "execution_count": 50,
   "metadata": {},
   "outputs": [
    {
     "data": {
      "text/html": [
       "<div>\n",
       "<style scoped>\n",
       "    .dataframe tbody tr th:only-of-type {\n",
       "        vertical-align: middle;\n",
       "    }\n",
       "\n",
       "    .dataframe tbody tr th {\n",
       "        vertical-align: top;\n",
       "    }\n",
       "\n",
       "    .dataframe thead th {\n",
       "        text-align: right;\n",
       "    }\n",
       "</style>\n",
       "<table border=\"1\" class=\"dataframe\">\n",
       "  <thead>\n",
       "    <tr style=\"text-align: right;\">\n",
       "      <th></th>\n",
       "      <th>ticker</th>\n",
       "      <th>time</th>\n",
       "      <th>price</th>\n",
       "    </tr>\n",
       "  </thead>\n",
       "  <tbody>\n",
       "    <tr>\n",
       "      <th>0</th>\n",
       "      <td>A</td>\n",
       "      <td>2022-06-01</td>\n",
       "      <td>122.278214</td>\n",
       "    </tr>\n",
       "    <tr>\n",
       "      <th>1</th>\n",
       "      <td>A</td>\n",
       "      <td>2022-06-02</td>\n",
       "      <td>128.248581</td>\n",
       "    </tr>\n",
       "    <tr>\n",
       "      <th>2</th>\n",
       "      <td>A</td>\n",
       "      <td>2022-06-03</td>\n",
       "      <td>127.642609</td>\n",
       "    </tr>\n",
       "    <tr>\n",
       "      <th>3</th>\n",
       "      <td>A</td>\n",
       "      <td>2022-06-06</td>\n",
       "      <td>126.788277</td>\n",
       "    </tr>\n",
       "    <tr>\n",
       "      <th>4</th>\n",
       "      <td>A</td>\n",
       "      <td>2022-06-07</td>\n",
       "      <td>128.049881</td>\n",
       "    </tr>\n",
       "    <tr>\n",
       "      <th>...</th>\n",
       "      <td>...</td>\n",
       "      <td>...</td>\n",
       "      <td>...</td>\n",
       "    </tr>\n",
       "    <tr>\n",
       "      <th>126248</th>\n",
       "      <td>ZTS</td>\n",
       "      <td>2023-05-24</td>\n",
       "      <td>169.139999</td>\n",
       "    </tr>\n",
       "    <tr>\n",
       "      <th>126249</th>\n",
       "      <td>ZTS</td>\n",
       "      <td>2023-05-25</td>\n",
       "      <td>165.240005</td>\n",
       "    </tr>\n",
       "    <tr>\n",
       "      <th>126250</th>\n",
       "      <td>ZTS</td>\n",
       "      <td>2023-05-26</td>\n",
       "      <td>164.740005</td>\n",
       "    </tr>\n",
       "    <tr>\n",
       "      <th>126251</th>\n",
       "      <td>ZTS</td>\n",
       "      <td>2023-05-30</td>\n",
       "      <td>160.940002</td>\n",
       "    </tr>\n",
       "    <tr>\n",
       "      <th>126252</th>\n",
       "      <td>ZTS</td>\n",
       "      <td>2023-05-31</td>\n",
       "      <td>163.009995</td>\n",
       "    </tr>\n",
       "  </tbody>\n",
       "</table>\n",
       "<p>126253 rows × 3 columns</p>\n",
       "</div>"
      ],
      "text/plain": [
       "       ticker       time       price\n",
       "0           A 2022-06-01  122.278214\n",
       "1           A 2022-06-02  128.248581\n",
       "2           A 2022-06-03  127.642609\n",
       "3           A 2022-06-06  126.788277\n",
       "4           A 2022-06-07  128.049881\n",
       "...       ...        ...         ...\n",
       "126248    ZTS 2023-05-24  169.139999\n",
       "126249    ZTS 2023-05-25  165.240005\n",
       "126250    ZTS 2023-05-26  164.740005\n",
       "126251    ZTS 2023-05-30  160.940002\n",
       "126252    ZTS 2023-05-31  163.009995\n",
       "\n",
       "[126253 rows x 3 columns]"
      ]
     },
     "execution_count": 50,
     "metadata": {},
     "output_type": "execute_result"
    }
   ],
   "source": [
    "SP500_PANDAS"
   ]
  },
  {
   "cell_type": "markdown",
   "metadata": {},
   "source": [
    "We want to compare `tsfresh` using `pandas' groupby`  with  `functime` using `polars' groupby` such as:"
   ]
  },
  {
   "cell_type": "code",
   "execution_count": 51,
   "metadata": {},
   "outputs": [
    {
     "name": "stdout",
     "output_type": "stream",
     "text": [
      "209 ms ± 673 µs per loop (mean ± std. dev. of 7 runs, 1 loop each)\n"
     ]
    }
   ],
   "source": [
    "%%timeit\n",
    "SP500_PANDAS.groupby(\n",
    "    by = \"ticker\"\n",
    ")[\"price\"].agg(\n",
    "    tsfresh.number_peaks,\n",
    "    n = 5\n",
    ")"
   ]
  },
  {
   "cell_type": "code",
   "execution_count": 52,
   "metadata": {},
   "outputs": [
    {
     "name": "stdout",
     "output_type": "stream",
     "text": [
      "22.1 ms ± 522 µs per loop (mean ± std. dev. of 7 runs, 10 loops each)\n"
     ]
    }
   ],
   "source": [
    "%%timeit\n",
    "SP500_PL_EAGER.group_by(\n",
    "    pl.col(\"ticker\")\n",
    ").agg(\n",
    "    pl.col(\"price\").ts.number_peaks(support = 5)\n",
    ")"
   ]
  },
  {
   "cell_type": "markdown",
   "metadata": {},
   "source": [
    "If we examine the previous benchmark, we can see that the `number_peaks` operation is approximately **2.5** times faster when using `functime` compared to `tsfresh`.\n",
    "\n",
    "In the `groupby` context, it's **10** times faster!"
   ]
  },
  {
   "cell_type": "code",
   "execution_count": 53,
   "metadata": {},
   "outputs": [],
   "source": [
    "def benchmark_groupby_context(\n",
    "    f_feat: Callable, ts_feat: Callable, f_params: dict, ts_params: dict\n",
    "):\n",
    "    benchmark = perfplot.bench(\n",
    "        setup=lambda _n: (SP500_PL_EAGER, SP500_PANDAS),\n",
    "        kernels=[\n",
    "            lambda x, _y: x.group_by(pl.col(\"ticker\")).agg(\n",
    "                f_feat(pl.col(\"price\"), **f_params)\n",
    "            ),  # functime + polars groupby\n",
    "            lambda _x, y: y.groupby(\"ticker\")[\"price\"].agg(\n",
    "                ts_feat, **ts_params\n",
    "            ),  # tsfresh + pandas groupby\n",
    "        ],\n",
    "        n_range=[1],\n",
    "        equality_check=False,\n",
    "        labels=[\"functime\", \"tsfresh\"],\n",
    "    )\n",
    "    return benchmark"
   ]
  },
  {
   "cell_type": "code",
   "execution_count": 54,
   "metadata": {},
   "outputs": [],
   "source": [
    "def all_benchmarks_groupby(params: list[tuple]) -> list:\n",
    "    bench_df = pl.DataFrame(\n",
    "        schema={\n",
    "            \"Feature name\": pl.Utf8,\n",
    "            \"n\": pl.Int64,\n",
    "            \"functime + pl groupby (ms)\": pl.Float64,\n",
    "            \"tfresh + pd groupby (ms)\": pl.Float64,\n",
    "            \"diff (ms)\": pl.Float64,\n",
    "            \"diff %\": pl.Float64,\n",
    "            \"speedup\": pl.Float64,\n",
    "        }\n",
    "    )\n",
    "    for x in params:\n",
    "        try:\n",
    "            print(f\"Feature: {x[0].__name__}\")\n",
    "            bench = benchmark_groupby_context(\n",
    "                f_feat=x[0], ts_feat=x[1], f_params=x[2], ts_params=x[3]\n",
    "            )\n",
    "            bench_df = pl.concat(\n",
    "                [\n",
    "                    pl.DataFrame(\n",
    "                        {\n",
    "                            \"Feature name\": [x[0].__name__] * len(bench.n_range),\n",
    "                            \"n\": bench.n_range,\n",
    "                            \"functime + pl groupby (ms)\": bench.timings_s[0] * 1_000,\n",
    "                            \"tfresh + pd groupby (ms)\": bench.timings_s[1] * 1_000,\n",
    "                            \"diff (ms)\": (bench.timings_s[0] - bench.timings_s[1])\n",
    "                            * 1_000,\n",
    "                            \"diff %\": 100\n",
    "                            * (bench.timings_s[0] - bench.timings_s[1])\n",
    "                            / bench.timings_s[1],\n",
    "                            \"speedup\": bench.timings_s[1] / bench.timings_s[0],\n",
    "                        }\n",
    "                    ),\n",
    "                    bench_df,\n",
    "                ]\n",
    "            )\n",
    "        except ValueError:\n",
    "            print(f\"Failed to compute feature {x[0].__name__}\")\n",
    "        except ImportError:\n",
    "            print(f\"Failed to import feature {x[0].__name__}\")\n",
    "    return bench_df"
   ]
  },
  {
   "cell_type": "code",
   "execution_count": 58,
   "metadata": {},
   "outputs": [
    {
     "name": "stderr",
     "output_type": "stream",
     "text": [
      "INFO:functime.feature_extraction.tsfresh:Expression version of approximate_entropy is not yet implemented due to technical difficulty regarding Polars Expression Plugins.\n",
      "INFO:functime.feature_extraction.tsfresh:Expression version of autoregressive_coefficients is not yet implemented due to technical difficulty regarding Polars Expression Plugins.\n",
      "The predicate '[(col(\"price\").abs()) == (1000.0)]' in 'when->then->otherwise' is not a valid aggregation and might produce a different number of rows than the group_by operation would. This behavior is experimental and may be subject to change\n",
      "INFO:functime.feature_extraction.tsfresh:Expression version of sample_entropy is not yet implemented due to technical difficulty regarding Polars Expression Plugins.\n",
      "INFO:functime.feature_extraction.tsfresh:Expression version of spkt_welch_density is not yet implemented due to technical difficulty regarding Polars Expression Plugins.\n"
     ]
    }
   ],
   "source": [
    "%%capture\n",
    "bench_groupby = all_benchmarks_groupby(params=FUNC_PARAMS_BENCH)\n",
    "df_groupby = table_prettifier(df=bench_groupby, n=1)"
   ]
  },
  {
   "cell_type": "markdown",
   "metadata": {},
   "source": [
    "#### S&P500 groupby"
   ]
  },
  {
   "cell_type": "code",
   "execution_count": 57,
   "metadata": {},
   "outputs": [
    {
     "data": {
      "text/html": [
       "<div><style>\n",
       ".dataframe > thead > tr > th,\n",
       ".dataframe > tbody > tr > td {\n",
       "  text-align: right;\n",
       "  white-space: pre-wrap;\n",
       "}\n",
       "</style>\n",
       "<small>shape: (45, 6)</small><table border=\"1\" class=\"dataframe\"><thead><tr><th>Feature name</th><th>functime + pl groupby (ms)</th><th>tfresh + pd groupby (ms)</th><th>diff (ms)</th><th>diff %</th><th>speedup</th></tr></thead><tbody><tr><td>&quot;energy_ratios&quot;</td><td>2.7</td><td>634.9</td><td>-632.3</td><td>-99.6</td><td>&quot;x 238.8&quot;</td></tr><tr><td>&quot;range_count&quot;</td><td>1.1</td><td>38.9</td><td>-37.8</td><td>-97.2</td><td>&quot;x 35.4&quot;</td></tr><tr><td>&quot;percent_reoccurring_points&quot;</td><td>2.6</td><td>64.4</td><td>-61.9</td><td>-96.0</td><td>&quot;x 25.1&quot;</td></tr><tr><td>&quot;root_mean_square&quot;</td><td>0.91</td><td>22.5</td><td>-21.6</td><td>-96.0</td><td>&quot;x 24.7&quot;</td></tr><tr><td>&quot;symmetry_looking&quot;</td><td>1.1</td><td>25.3</td><td>-24.3</td><td>-95.8</td><td>&quot;x 23.7&quot;</td></tr><tr><td>&quot;ratio_beyond_r_sigma&quot;</td><td>2.2</td><td>50.7</td><td>-48.5</td><td>-95.7</td><td>&quot;x 23.2&quot;</td></tr><tr><td>&quot;count_above&quot;</td><td>0.9</td><td>19.2</td><td>-18.3</td><td>-95.3</td><td>&quot;x 21.3&quot;</td></tr><tr><td>&quot;change_quantiles&quot;</td><td>5.7</td><td>114.9</td><td>-109.2</td><td>-95.0</td><td>&quot;x 20.0&quot;</td></tr><tr><td>&quot;count_below&quot;</td><td>0.95</td><td>19.0</td><td>-18.1</td><td>-95.0</td><td>&quot;x 20.0&quot;</td></tr><tr><td>&quot;cid_ce&quot;</td><td>2.3</td><td>40.9</td><td>-38.6</td><td>-94.4</td><td>&quot;x 17.9&quot;</td></tr><tr><td>&quot;absolute_maximum&quot;</td><td>0.88</td><td>14.3</td><td>-13.4</td><td>-93.9</td><td>&quot;x 16.3&quot;</td></tr><tr><td>&quot;variation_coefficient&quot;</td><td>0.95</td><td>15.1</td><td>-14.2</td><td>-93.7</td><td>&quot;x 15.9&quot;</td></tr><tr><td>&quot;large_standard_deviation&quot;</td><td>1.0</td><td>16.3</td><td>-15.2</td><td>-93.6</td><td>&quot;x 15.5&quot;</td></tr><tr><td>&quot;c3&quot;</td><td>2.1</td><td>31.9</td><td>-29.8</td><td>-93.5</td><td>&quot;x 15.4&quot;</td></tr><tr><td>&quot;number_peaks&quot;</td><td>17.2</td><td>239.0</td><td>-221.8</td><td>-92.8</td><td>&quot;x 13.9&quot;</td></tr><tr><td>&quot;benford_correlation&quot;</td><td>9.2</td><td>124.6</td><td>-115.4</td><td>-92.6</td><td>&quot;x 13.5&quot;</td></tr><tr><td>&quot;autocorrelation&quot;</td><td>1.5</td><td>18.4</td><td>-16.9</td><td>-91.9</td><td>&quot;x 12.3&quot;</td></tr><tr><td>&quot;has_duplicate_max&quot;</td><td>1.9</td><td>22.5</td><td>-20.5</td><td>-91.4</td><td>&quot;x 11.6&quot;</td></tr><tr><td>&quot;has_duplicate_min&quot;</td><td>2.0</td><td>22.8</td><td>-20.8</td><td>-91.3</td><td>&quot;x 11.6&quot;</td></tr><tr><td>&quot;binned_entropy&quot;</td><td>3.2</td><td>35.2</td><td>-32.0</td><td>-91.0</td><td>&quot;x 11.1&quot;</td></tr><tr><td>&quot;var_gt_std&quot;</td><td>0.99</td><td>10.9</td><td>-9.9</td><td>-90.9</td><td>&quot;x 11.0&quot;</td></tr><tr><td>&quot;count_below_mean&quot;</td><td>2.0</td><td>21.3</td><td>-19.3</td><td>-90.8</td><td>&quot;x 10.8&quot;</td></tr><tr><td>&quot;count_above_mean&quot;</td><td>2.0</td><td>21.5</td><td>-19.4</td><td>-90.6</td><td>&quot;x 10.6&quot;</td></tr><tr><td>&quot;ratio_n_unique_to_length&quot;</td><td>1.2</td><td>12.5</td><td>-11.3</td><td>-90.1</td><td>&quot;x 10.1&quot;</td></tr><tr><td>&quot;mean_change&quot;</td><td>0.77</td><td>7.3</td><td>-6.6</td><td>-89.5</td><td>&quot;x 9.5&quot;</td></tr><tr><td>&quot;mean_n_absolute_max&quot;</td><td>1.9</td><td>17.0</td><td>-15.1</td><td>-88.9</td><td>&quot;x 9.0&quot;</td></tr><tr><td>&quot;first_location_of_maximum&quot;</td><td>1.2</td><td>10.3</td><td>-9.1</td><td>-88.7</td><td>&quot;x 8.8&quot;</td></tr><tr><td>&quot;absolute_energy&quot;</td><td>1.1</td><td>9.5</td><td>-8.5</td><td>-88.6</td><td>&quot;x 8.8&quot;</td></tr><tr><td>&quot;first_location_of_minimum&quot;</td><td>1.2</td><td>10.3</td><td>-9.1</td><td>-88.5</td><td>&quot;x 8.7&quot;</td></tr><tr><td>&quot;longest_streak_above_mean&quot;</td><td>4.2</td><td>30.3</td><td>-26.1</td><td>-86.1</td><td>&quot;x 7.2&quot;</td></tr><tr><td>&quot;longest_streak_below_mean&quot;</td><td>4.2</td><td>29.7</td><td>-25.5</td><td>-85.8</td><td>&quot;x 7.0&quot;</td></tr><tr><td>&quot;linear_trend&quot;</td><td>4.2</td><td>26.4</td><td>-22.2</td><td>-84.1</td><td>&quot;x 6.3&quot;</td></tr><tr><td>&quot;percent_reoccurring_values&quot;</td><td>2.7</td><td>15.4</td><td>-12.7</td><td>-82.6</td><td>&quot;x 5.7&quot;</td></tr><tr><td>&quot;sum_reoccurring_points&quot;</td><td>2.8</td><td>15.6</td><td>-12.8</td><td>-82.2</td><td>&quot;x 5.6&quot;</td></tr><tr><td>&quot;mean_abs_change&quot;</td><td>1.8</td><td>9.9</td><td>-8.1</td><td>-82.2</td><td>&quot;x 5.6&quot;</td></tr><tr><td>&quot;absolute_sum_of_changes&quot;</td><td>1.7</td><td>8.9</td><td>-7.3</td><td>-81.1</td><td>&quot;x 5.3&quot;</td></tr><tr><td>&quot;last_location_of_maximum&quot;</td><td>1.6</td><td>7.9</td><td>-6.3</td><td>-80.1</td><td>&quot;x 5.0&quot;</td></tr><tr><td>&quot;index_mass_quantile&quot;</td><td>2.1</td><td>10.7</td><td>-8.5</td><td>-80.0</td><td>&quot;x 5.0&quot;</td></tr><tr><td>&quot;time_reversal_asymmetry_statistic&quot;</td><td>2.2</td><td>11.1</td><td>-8.9</td><td>-79.8</td><td>&quot;x 4.9&quot;</td></tr><tr><td>&quot;last_location_of_minimum&quot;</td><td>1.7</td><td>8.0</td><td>-6.3</td><td>-78.5</td><td>&quot;x 4.6&quot;</td></tr><tr><td>&quot;has_duplicate&quot;</td><td>2.7</td><td>11.7</td><td>-9.0</td><td>-77.3</td><td>&quot;x 4.4&quot;</td></tr><tr><td>&quot;mean_second_derivative_central&quot;</td><td>1.6</td><td>7.2</td><td>-5.6</td><td>-77.1</td><td>&quot;x 4.4&quot;</td></tr><tr><td>&quot;number_crossings&quot;</td><td>4.4</td><td>16.9</td><td>-12.4</td><td>-73.7</td><td>&quot;x 3.8&quot;</td></tr><tr><td>&quot;sum_reoccurring_values&quot;</td><td>5.4</td><td>16.1</td><td>-10.8</td><td>-66.8</td><td>&quot;x 3.0&quot;</td></tr><tr><td>&quot;permutation_entropy&quot;</td><td>66.4</td><td>56.2</td><td>10.2</td><td>18.2</td><td>&quot;x 0.85&quot;</td></tr></tbody></table></div>"
      ],
      "text/plain": [
       "shape: (45, 6)\n",
       "┌─────────────────────────────┬───────────────┬─────────────────────┬───────────┬────────┬─────────┐\n",
       "│ Feature name                ┆ functime + pl ┆ tfresh + pd groupby ┆ diff (ms) ┆ diff % ┆ speedup │\n",
       "│                             ┆ groupby (ms)  ┆ (ms)                ┆           ┆        ┆         │\n",
       "╞═════════════════════════════╪═══════════════╪═════════════════════╪═══════════╪════════╪═════════╡\n",
       "│ energy_ratios               ┆ 2.7           ┆ 634.9               ┆ -632.3    ┆ -99.6  ┆ x 238.8 │\n",
       "│ range_count                 ┆ 1.1           ┆ 38.9                ┆ -37.8     ┆ -97.2  ┆ x 35.4  │\n",
       "│ percent_reoccurring_points  ┆ 2.6           ┆ 64.4                ┆ -61.9     ┆ -96.0  ┆ x 25.1  │\n",
       "│ root_mean_square            ┆ 0.91          ┆ 22.5                ┆ -21.6     ┆ -96.0  ┆ x 24.7  │\n",
       "│ symmetry_looking            ┆ 1.1           ┆ 25.3                ┆ -24.3     ┆ -95.8  ┆ x 23.7  │\n",
       "│ ratio_beyond_r_sigma        ┆ 2.2           ┆ 50.7                ┆ -48.5     ┆ -95.7  ┆ x 23.2  │\n",
       "│ count_above                 ┆ 0.9           ┆ 19.2                ┆ -18.3     ┆ -95.3  ┆ x 21.3  │\n",
       "│ change_quantiles            ┆ 5.7           ┆ 114.9               ┆ -109.2    ┆ -95.0  ┆ x 20.0  │\n",
       "│ count_below                 ┆ 0.95          ┆ 19.0                ┆ -18.1     ┆ -95.0  ┆ x 20.0  │\n",
       "│ cid_ce                      ┆ 2.3           ┆ 40.9                ┆ -38.6     ┆ -94.4  ┆ x 17.9  │\n",
       "│ absolute_maximum            ┆ 0.88          ┆ 14.3                ┆ -13.4     ┆ -93.9  ┆ x 16.3  │\n",
       "│ variation_coefficient       ┆ 0.95          ┆ 15.1                ┆ -14.2     ┆ -93.7  ┆ x 15.9  │\n",
       "│ large_standard_deviation    ┆ 1.0           ┆ 16.3                ┆ -15.2     ┆ -93.6  ┆ x 15.5  │\n",
       "│ c3                          ┆ 2.1           ┆ 31.9                ┆ -29.8     ┆ -93.5  ┆ x 15.4  │\n",
       "│ number_peaks                ┆ 17.2          ┆ 239.0               ┆ -221.8    ┆ -92.8  ┆ x 13.9  │\n",
       "│ benford_correlation         ┆ 9.2           ┆ 124.6               ┆ -115.4    ┆ -92.6  ┆ x 13.5  │\n",
       "│ autocorrelation             ┆ 1.5           ┆ 18.4                ┆ -16.9     ┆ -91.9  ┆ x 12.3  │\n",
       "│ has_duplicate_max           ┆ 1.9           ┆ 22.5                ┆ -20.5     ┆ -91.4  ┆ x 11.6  │\n",
       "│ has_duplicate_min           ┆ 2.0           ┆ 22.8                ┆ -20.8     ┆ -91.3  ┆ x 11.6  │\n",
       "│ binned_entropy              ┆ 3.2           ┆ 35.2                ┆ -32.0     ┆ -91.0  ┆ x 11.1  │\n",
       "│ var_gt_std                  ┆ 0.99          ┆ 10.9                ┆ -9.9      ┆ -90.9  ┆ x 11.0  │\n",
       "│ count_below_mean            ┆ 2.0           ┆ 21.3                ┆ -19.3     ┆ -90.8  ┆ x 10.8  │\n",
       "│ count_above_mean            ┆ 2.0           ┆ 21.5                ┆ -19.4     ┆ -90.6  ┆ x 10.6  │\n",
       "│ ratio_n_unique_to_length    ┆ 1.2           ┆ 12.5                ┆ -11.3     ┆ -90.1  ┆ x 10.1  │\n",
       "│ mean_change                 ┆ 0.77          ┆ 7.3                 ┆ -6.6      ┆ -89.5  ┆ x 9.5   │\n",
       "│ mean_n_absolute_max         ┆ 1.9           ┆ 17.0                ┆ -15.1     ┆ -88.9  ┆ x 9.0   │\n",
       "│ first_location_of_maximum   ┆ 1.2           ┆ 10.3                ┆ -9.1      ┆ -88.7  ┆ x 8.8   │\n",
       "│ absolute_energy             ┆ 1.1           ┆ 9.5                 ┆ -8.5      ┆ -88.6  ┆ x 8.8   │\n",
       "│ first_location_of_minimum   ┆ 1.2           ┆ 10.3                ┆ -9.1      ┆ -88.5  ┆ x 8.7   │\n",
       "│ longest_streak_above_mean   ┆ 4.2           ┆ 30.3                ┆ -26.1     ┆ -86.1  ┆ x 7.2   │\n",
       "│ longest_streak_below_mean   ┆ 4.2           ┆ 29.7                ┆ -25.5     ┆ -85.8  ┆ x 7.0   │\n",
       "│ linear_trend                ┆ 4.2           ┆ 26.4                ┆ -22.2     ┆ -84.1  ┆ x 6.3   │\n",
       "│ percent_reoccurring_values  ┆ 2.7           ┆ 15.4                ┆ -12.7     ┆ -82.6  ┆ x 5.7   │\n",
       "│ sum_reoccurring_points      ┆ 2.8           ┆ 15.6                ┆ -12.8     ┆ -82.2  ┆ x 5.6   │\n",
       "│ mean_abs_change             ┆ 1.8           ┆ 9.9                 ┆ -8.1      ┆ -82.2  ┆ x 5.6   │\n",
       "│ absolute_sum_of_changes     ┆ 1.7           ┆ 8.9                 ┆ -7.3      ┆ -81.1  ┆ x 5.3   │\n",
       "│ last_location_of_maximum    ┆ 1.6           ┆ 7.9                 ┆ -6.3      ┆ -80.1  ┆ x 5.0   │\n",
       "│ index_mass_quantile         ┆ 2.1           ┆ 10.7                ┆ -8.5      ┆ -80.0  ┆ x 5.0   │\n",
       "│ time_reversal_asymmetry_sta ┆ 2.2           ┆ 11.1                ┆ -8.9      ┆ -79.8  ┆ x 4.9   │\n",
       "│ tistic                      ┆               ┆                     ┆           ┆        ┆         │\n",
       "│ last_location_of_minimum    ┆ 1.7           ┆ 8.0                 ┆ -6.3      ┆ -78.5  ┆ x 4.6   │\n",
       "│ has_duplicate               ┆ 2.7           ┆ 11.7                ┆ -9.0      ┆ -77.3  ┆ x 4.4   │\n",
       "│ mean_second_derivative_cent ┆ 1.6           ┆ 7.2                 ┆ -5.6      ┆ -77.1  ┆ x 4.4   │\n",
       "│ ral                         ┆               ┆                     ┆           ┆        ┆         │\n",
       "│ number_crossings            ┆ 4.4           ┆ 16.9                ┆ -12.4     ┆ -73.7  ┆ x 3.8   │\n",
       "│ sum_reoccurring_values      ┆ 5.4           ┆ 16.1                ┆ -10.8     ┆ -66.8  ┆ x 3.0   │\n",
       "│ permutation_entropy         ┆ 66.4          ┆ 56.2                ┆ 10.2      ┆ 18.2   ┆ x 0.85  │\n",
       "└─────────────────────────────┴───────────────┴─────────────────────┴───────────┴────────┴─────────┘"
      ]
     },
     "execution_count": 57,
     "metadata": {},
     "output_type": "execute_result"
    }
   ],
   "source": [
    "df_groupby"
   ]
  }
 ],
 "metadata": {
  "kernelspec": {
   "display_name": ".venv",
   "language": "python",
   "name": "python3"
  },
  "language_info": {
   "codemirror_mode": {
    "name": "ipython",
    "version": 3
   },
   "file_extension": ".py",
   "mimetype": "text/x-python",
   "name": "python",
   "nbconvert_exporter": "python",
   "pygments_lexer": "ipython3",
   "version": "3.10.12"
  },
  "orig_nbformat": 4
 },
 "nbformat": 4,
 "nbformat_minor": 2
}
