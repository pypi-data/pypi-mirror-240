{
 "cells": [
  {
   "cell_type": "markdown",
   "source": [
    "# Quickstart\n",
    "\n",
    "First, import the necessary functionality."
   ],
   "metadata": {
    "collapsed": false
   },
   "id": "fcedd1911254a80c"
  },
  {
   "cell_type": "code",
   "execution_count": 1,
   "id": "initial_id",
   "metadata": {
    "collapsed": true,
    "ExecuteTime": {
     "end_time": "2023-10-25T11:20:48.308714267Z",
     "start_time": "2023-10-25T11:20:48.257550261Z"
    }
   },
   "outputs": [],
   "source": [
    "from random_events.variables import Symbolic, Integer, Continuous\n",
    "from random_events.events import Event, EncodedEvent\n",
    "import portion"
   ]
  },
  {
   "cell_type": "markdown",
   "source": [
    "Next, create a variable of each type and inspect those objects."
   ],
   "metadata": {
    "collapsed": false
   },
   "id": "38c6e9a87d07bf4c"
  },
  {
   "cell_type": "code",
   "execution_count": 2,
   "outputs": [
    {
     "data": {
      "text/plain": "(Symbolic(name='symbol'), Integer(name='integer'), Continuous(name='real'))"
     },
     "execution_count": 2,
     "metadata": {},
     "output_type": "execute_result"
    }
   ],
   "source": [
    "symbol = Symbolic(\"symbol\", {\"Apple\", \"Dog\", \"Rain\"})\n",
    "integer = Integer(\"integer\", {1, 2, 5, 6})\n",
    "real = Continuous(\"real\")\n",
    "symbol, integer, real"
   ],
   "metadata": {
    "collapsed": false,
    "ExecuteTime": {
     "end_time": "2023-10-25T11:20:48.354538469Z",
     "start_time": "2023-10-25T11:20:48.311715019Z"
    }
   },
   "id": "49b07deb8aecb5d0"
  },
  {
   "cell_type": "markdown",
   "source": [
    "The variables can be easily serialized using the pydantic way of converting objects to json and creating them from a json string."
   ],
   "metadata": {
    "collapsed": false
   },
   "id": "1f9c1dc6a4cf5c6d"
  },
  {
   "cell_type": "code",
   "execution_count": 3,
   "outputs": [
    {
     "name": "stdout",
     "output_type": "stream",
     "text": [
      "{\"name\":\"symbol\",\"domain\":[\"Apple\",\"Dog\",\"Rain\"]}\n",
      "name='symbol'\n",
      "{\"name\":\"integer\",\"domain\":[1,2,5,6]}\n",
      "name='integer'\n",
      "{\"name\":\"real\",\"domain\":\"[[false, -Infinity, Infinity, false]]\"}\n",
      "name='real'\n"
     ]
    }
   ],
   "source": [
    "print(symbol.model_dump_json())\n",
    "print(Symbolic.model_validate_json(symbol.model_dump_json()))\n",
    "print(integer.model_dump_json())\n",
    "print(Integer.model_validate_json(integer.model_dump_json()))\n",
    "print(real.model_dump_json())\n",
    "print(Continuous.model_validate_json(real.model_dump_json()))"
   ],
   "metadata": {
    "collapsed": false,
    "ExecuteTime": {
     "end_time": "2023-10-25T11:20:48.354722087Z",
     "start_time": "2023-10-25T11:20:48.354270523Z"
    }
   },
   "id": "a3aed36278dab281"
  },
  {
   "cell_type": "markdown",
   "source": [
    "Events can be composed from assignments to variables using a dictionary interface."
   ],
   "metadata": {
    "collapsed": false
   },
   "id": "ffb5c36e4b0cdc61"
  },
  {
   "cell_type": "code",
   "execution_count": 4,
   "outputs": [
    {
     "data": {
      "text/plain": "{Symbolic(name='symbol'): ('Rain',), Continuous(name='real'): (-inf,2)}"
     },
     "execution_count": 4,
     "metadata": {},
     "output_type": "execute_result"
    }
   ],
   "source": [
    "event = Event({symbol: \"Rain\", real: portion.open(-portion.inf, 2)})\n",
    "event"
   ],
   "metadata": {
    "collapsed": false,
    "ExecuteTime": {
     "end_time": "2023-10-25T11:20:48.354846585Z",
     "start_time": "2023-10-25T11:20:48.354366985Z"
    }
   },
   "id": "a81cd22d80129c04"
  },
  {
   "cell_type": "markdown",
   "source": [
    "The created event describes a world where symbol has the value rain and real is lesser than 2. \n",
    "Events and generally VariableMaps can be accessed via the variable itself or its name."
   ],
   "metadata": {
    "collapsed": false
   },
   "id": "ad6b1850e128d4e1"
  },
  {
   "cell_type": "code",
   "execution_count": 5,
   "outputs": [
    {
     "name": "stdout",
     "output_type": "stream",
     "text": [
      "(-inf,2)\n",
      "(-inf,2)\n"
     ]
    }
   ],
   "source": [
    "print(event[\"real\"])\n",
    "print(event[real])"
   ],
   "metadata": {
    "collapsed": false,
    "ExecuteTime": {
     "end_time": "2023-10-25T11:20:48.355103739Z",
     "start_time": "2023-10-25T11:20:48.354405117Z"
    }
   },
   "id": "4975045ed9540d52"
  },
  {
   "cell_type": "markdown",
   "source": [
    "Events can also be intersected with another event using the intersection method or `&` operator."
   ],
   "metadata": {
    "collapsed": false
   },
   "id": "6c1f81ed4da86454"
  },
  {
   "cell_type": "code",
   "execution_count": 6,
   "outputs": [
    {
     "name": "stdout",
     "output_type": "stream",
     "text": [
      "{Continuous(name='real'): (1,2), Symbolic(name='symbol'): ('Rain',)}\n",
      "{Continuous(name='real'): (1,2), Symbolic(name='symbol'): ('Rain',)}\n"
     ]
    }
   ],
   "source": [
    "second_event = Event({symbol: (\"Rain\", \"Apple\"), real: portion.open(1, 4)})\n",
    "print(event.intersection(second_event))\n",
    "print(event & second_event)"
   ],
   "metadata": {
    "collapsed": false,
    "ExecuteTime": {
     "end_time": "2023-10-25T11:20:48.355218483Z",
     "start_time": "2023-10-25T11:20:48.354440779Z"
    }
   },
   "id": "b4da0a20e367a1c0"
  },
  {
   "cell_type": "markdown",
   "source": [
    "Similar, for unions, differences and complements:"
   ],
   "metadata": {
    "collapsed": false
   },
   "id": "154cff93a65fa0a4"
  },
  {
   "cell_type": "code",
   "execution_count": 7,
   "outputs": [
    {
     "name": "stdout",
     "output_type": "stream",
     "text": [
      "{Continuous(name='real'): (-inf,4), Symbolic(name='symbol'): ('Apple', 'Rain')}\n",
      "{Continuous(name='real'): [2,4), Symbolic(name='symbol'): ('Apple',)}\n",
      "{Continuous(name='real'): [2,+inf), Symbolic(name='symbol'): ('Apple', 'Dog')}\n"
     ]
    }
   ],
   "source": [
    "print(event | second_event) # or event.union(second_event)\n",
    "print(second_event - event) # or second_event.difference(event)\n",
    "print(~event) # or event.complement"
   ],
   "metadata": {
    "collapsed": false,
    "ExecuteTime": {
     "end_time": "2023-10-25T11:20:48.355332510Z",
     "start_time": "2023-10-25T11:20:48.354502686Z"
    }
   },
   "id": "e8bb102d6d36e9a8"
  },
  {
   "cell_type": "markdown",
   "source": [
    "At last the EncodedEvent converts from value assignments to indexed assignments. These can be easily used for array indexing and similar things. For continuous variables, the encoding does not change anything. "
   ],
   "metadata": {
    "collapsed": false
   },
   "id": "d7b67ceb54bc41ac"
  },
  {
   "cell_type": "code",
   "execution_count": 8,
   "outputs": [
    {
     "name": "stdout",
     "output_type": "stream",
     "text": [
      "{Symbolic(name='symbol'): (2,), Continuous(name='real'): (-inf,2)}\n",
      "{Symbolic(name='symbol'): (0, 2), Continuous(name='real'): (1,4)}\n"
     ]
    }
   ],
   "source": [
    "print(event.encode())\n",
    "print(second_event.encode())"
   ],
   "metadata": {
    "collapsed": false,
    "ExecuteTime": {
     "end_time": "2023-10-25T11:20:48.355539342Z",
     "start_time": "2023-10-25T11:20:48.354614193Z"
    }
   },
   "id": "1463b40805ebaddd"
  }
 ],
 "metadata": {
  "kernelspec": {
   "display_name": "Python 3",
   "language": "python",
   "name": "python3"
  },
  "language_info": {
   "codemirror_mode": {
    "name": "ipython",
    "version": 2
   },
   "file_extension": ".py",
   "mimetype": "text/x-python",
   "name": "python",
   "nbconvert_exporter": "python",
   "pygments_lexer": "ipython2",
   "version": "2.7.6"
  }
 },
 "nbformat": 4,
 "nbformat_minor": 5
}
