{
 "cells": [
  {
   "cell_type": "code",
   "execution_count": 1,
   "metadata": {},
   "outputs": [],
   "source": [
    "from guerrilla.device import Device\n",
    "import time\n",
    "import ipaddress"
   ]
  },
  {
   "cell_type": "code",
   "execution_count": 2,
   "metadata": {},
   "outputs": [
    {
     "name": "stdout",
     "output_type": "stream",
     "text": [
      "\u001b[32m2023-11-07 11:13:58.218\u001b[0m | \u001b[1mINFO    \u001b[0m | \u001b[36mguerrilla.connection.ssh\u001b[0m:\u001b[36m_establish_connection\u001b[0m:\u001b[36m36\u001b[0m - \u001b[1mCreated EDR-G9010's SSH session to 192.168.127.254:22\u001b[0m\n",
      "\u001b[32m2023-11-07 11:13:58.560\u001b[0m | \u001b[32m\u001b[1mSUCCESS \u001b[0m | \u001b[36mguerrilla.connection.ssh\u001b[0m:\u001b[36m_establish_connection\u001b[0m:\u001b[36m49\u001b[0m - \u001b[32m\u001b[1mConnected to admin 192.168.127.254:22\u001b[0m\n",
      "\u001b[32m2023-11-07 11:14:02.317\u001b[0m | \u001b[1mINFO    \u001b[0m | \u001b[36mguerrilla.connection.session\u001b[0m:\u001b[36mset_base_prompt\u001b[0m:\u001b[36m656\u001b[0m - \u001b[1mDefault Prompt:Firewall/VPN Router 00000\u001b[0m\n",
      "\u001b[32m2023-11-07 11:14:02.328\u001b[0m | \u001b[1mINFO    \u001b[0m | \u001b[36mguerrilla.device.router.router\u001b[0m:\u001b[36mdisable_paging\u001b[0m:\u001b[36m73\u001b[0m - \u001b[1mDisable Paging Default\u001b[0m\n"
     ]
    }
   ],
   "source": [
    "config = {\n",
    "    \"name\": \"EDR-G9010\",\n",
    "    \"type\": \"router\",\n",
    "    \"host\": \"192.168.127.254\",\n",
    "    \"username\": \"admin\",\n",
    "    \"password\": \"moxa\",\n",
    "    \"protocol\": \"ssh\",\n",
    "}\n",
    "device = Device(config)\n",
    "device.connect()\n",
    "\n",
    "device.config.set_hostname(\"testabc123\")"
   ]
  },
  {
   "cell_type": "code",
   "execution_count": 3,
   "metadata": {},
   "outputs": [
    {
     "name": "stdout",
     "output_type": "stream",
     "text": [
      "\u001b[32m2023-11-07 11:14:02.333\u001b[0m | \u001b[1mINFO    \u001b[0m | \u001b[36mguerrilla.utils.decorator\u001b[0m:\u001b[36mdecorated\u001b[0m:\u001b[36m18\u001b[0m - \u001b[1mFrom \u001b[95mEDR-G9010\u001b[0m     \u001b[91msent command:\u001b[0m reload factory-default\u001b[0m\n",
      "\u001b[32m2023-11-07 11:14:04.534\u001b[0m | \u001b[1mINFO    \u001b[0m | \u001b[36mguerrilla.utils.decorator\u001b[0m:\u001b[36mdecorated\u001b[0m:\u001b[36m22\u001b[0m - \u001b[1mFrom \u001b[95mEDR-G9010\u001b[0m \u001b[92mreceived  output:\u001b[0m # reload factory-default\n",
      "Proceed with reload to factory default? [Y/n]\u001b[0m\n",
      "\u001b[32m2023-11-07 11:14:04.535\u001b[0m | \u001b[1mINFO    \u001b[0m | \u001b[36mguerrilla.utils.decorator\u001b[0m:\u001b[36mdecorated\u001b[0m:\u001b[36m18\u001b[0m - \u001b[1mFrom \u001b[95mEDR-G9010\u001b[0m     \u001b[91msent command:\u001b[0m Y\u001b[0m\n",
      "\u001b[32m2023-11-07 11:14:06.736\u001b[0m | \u001b[1mINFO    \u001b[0m | \u001b[36mguerrilla.utils.decorator\u001b[0m:\u001b[36mdecorated\u001b[0m:\u001b[36m22\u001b[0m - \u001b[1mFrom \u001b[95mEDR-G9010\u001b[0m \u001b[92mreceived  output:\u001b[0m \n",
      "Y\n",
      "Firewall/VPN Router 00000# \u001b[0m\n",
      "\u001b[32m2023-11-07 11:14:06.736\u001b[0m | \u001b[1mINFO    \u001b[0m | \u001b[36mguerrilla.connection.ssh\u001b[0m:\u001b[36mdisconnect\u001b[0m:\u001b[36m67\u001b[0m - \u001b[1mClosed connection to 192.168.127.254:22\u001b[0m\n",
      "\u001b[32m2023-11-07 11:14:36.737\u001b[0m | \u001b[1mINFO    \u001b[0m | \u001b[36mguerrilla.connection.ssh\u001b[0m:\u001b[36m_establish_connection\u001b[0m:\u001b[36m36\u001b[0m - \u001b[1mCreated EDR-G9010's SSH session to 192.168.127.254:22\u001b[0m\n",
      "\u001b[32m2023-11-07 11:14:37.082\u001b[0m | \u001b[32m\u001b[1mSUCCESS \u001b[0m | \u001b[36mguerrilla.connection.ssh\u001b[0m:\u001b[36m_establish_connection\u001b[0m:\u001b[36m49\u001b[0m - \u001b[32m\u001b[1mConnected to admin 192.168.127.254:22\u001b[0m\n",
      "\u001b[32m2023-11-07 11:14:40.842\u001b[0m | \u001b[1mINFO    \u001b[0m | \u001b[36mguerrilla.connection.session\u001b[0m:\u001b[36mset_base_prompt\u001b[0m:\u001b[36m656\u001b[0m - \u001b[1mDefault Prompt:Firewall/VPN Router 00000\u001b[0m\n",
      "\u001b[32m2023-11-07 11:14:40.853\u001b[0m | \u001b[1mINFO    \u001b[0m | \u001b[36mguerrilla.device.router.router\u001b[0m:\u001b[36mdisable_paging\u001b[0m:\u001b[36m73\u001b[0m - \u001b[1mDisable Paging Default\u001b[0m\n"
     ]
    }
   ],
   "source": [
    "device.run_timing('reload factory-default')\n",
    "device.run_timing('Y')\n",
    "device.disconnect()\n",
    "time.sleep(30)\n",
    "device.connect()"
   ]
  },
  {
   "cell_type": "code",
   "execution_count": 4,
   "metadata": {},
   "outputs": [
    {
     "name": "stdout",
     "output_type": "stream",
     "text": [
      "\u001b[32m2023-11-07 11:14:40.859\u001b[0m | \u001b[1mINFO    \u001b[0m | \u001b[36mguerrilla.connection.ssh\u001b[0m:\u001b[36m_establish_connection\u001b[0m:\u001b[36m36\u001b[0m - \u001b[1mCreated HOST A's SSH session to 192.168.121.88:22\u001b[0m\n",
      "\u001b[32m2023-11-07 11:14:41.059\u001b[0m | \u001b[32m\u001b[1mSUCCESS \u001b[0m | \u001b[36mguerrilla.connection.ssh\u001b[0m:\u001b[36m_establish_connection\u001b[0m:\u001b[36m49\u001b[0m - \u001b[32m\u001b[1mConnected to root 192.168.121.88:22\u001b[0m\n",
      "\u001b[32m2023-11-07 11:14:44.837\u001b[0m | \u001b[1mINFO    \u001b[0m | \u001b[36mguerrilla.connection.session\u001b[0m:\u001b[36mset_base_prompt\u001b[0m:\u001b[36m656\u001b[0m - \u001b[1mDefault Prompt:\u001b[?1l\u001b\u001b[0m\n",
      "\u001b[32m2023-11-07 11:14:44.837\u001b[0m | \u001b[1mINFO    \u001b[0m | \u001b[36mguerrilla.utils.decorator\u001b[0m:\u001b[36mdecorated\u001b[0m:\u001b[36m18\u001b[0m - \u001b[1mFrom \u001b[95mHOST A\u001b[0m     \u001b[91msent command:\u001b[0m ip addr flush dev eth1\u001b[0m\n",
      "\u001b[32m2023-11-07 11:14:45.314\u001b[0m | \u001b[1mINFO    \u001b[0m | \u001b[36mguerrilla.utils.decorator\u001b[0m:\u001b[36mdecorated\u001b[0m:\u001b[36m22\u001b[0m - \u001b[1mFrom \u001b[95mHOST A\u001b[0m \u001b[92mreceived  output:\u001b[0m iip addr flush dev eth1\u001b[?1l\u001b>\u001b[?2004l\n",
      "                                                                                                                                                                                                                                                                                                                                                                                                                                                                                                                               \n",
      "\n",
      "\u001b[0m\u0000\u0000\u0000\u0000\u0000\u0000\u0000\u0000\u001b[m\u0000\u0000\u0000\u0000\u0000\u0000\u0000\u0000\u001b[m\u0000\u0000\u0000\u0000\u0000\u0000\u0000\u0000\u001b[J\u0000\u0000\u0000\u0000\u0000\u0000\u0000\u0000\u0000\u0000\u0000\u0000\u0000\u0000\u0000\u0000\u0000\u0000\u0000\u0000\u0000\u0000\u0000\u0000\u0000\u0000\u0000\u0000\u0000\u0000\u0000\u0000\u0000\u0000\u0000\u0000\u0000\u0000\u0000\u0000\u0000\u0000\u0000\u0000\u0000\u0000\u0000\u0000\u0000\u0000\u0000\u0000\u0000\u0000\u0000\u0000\u0000\u0000\u0000\u0000\u0000\u0000\u0000\u0000\u0000\u0000\u0000\u0000\u0000\u0000\u0000\u0000\u0000\u0000\u0000\u0000\u0000\u0000\u0000\u0000\u0000\u0000\u0000\u0000\u0000\u0000\u0000\u0000\u0000\u0000\u0000\u0000\u0000\u0000\u0000\u0000\u0000\u0000\u0000\u0000\u0000\u0000\u0000\u0000\u0000\u0000\u0000\u0000\u0000\u0000\u0000\u0000\u0000\u0000\u0000\u0000\u0000\u0000\u0000\u0000\u0000\u0000\u0000\u0000\u0000\u0000\u0000\u0000\u0000\u0000\u0000\u0000\u0000\u0000\u0000\u0000\u0000\u0000\u0000\u0000\u0000\u0000\u0000\u0000\u0000\u0000\u0000\u0000\u0000\u0000\u0000\u0000\u0000\u0000\u0000\u0000\u0000\u0000\u0000\u0000\u0000\u0000\u0000\u0000\u0000\u0000\u0000\u0000\u0000\u0000\u0000\u0000\u0000\u0000\u0000\u0000\u0000\u0000\u0000\u0000\u0000\u0000\u0000\u0000\u0000\u0000\u0000\u0000\u0000\u0000\u0000\u0000\u0000\u0000\u0000\u0000\u0000\u0000\u0000\u0000\u0000\u0000\u0000\u0000\u0000\u0000\u0000\u0000\u0000\u0000\u0000\u0000\u0000root@guerrilla-host-1:~# \u001b[K\u0000\u0000\u0000\u0000\u0000\u0000\u0000\u0000\u0000\u0000\u0000\u0000\u001b[?1h\u001b=\u001b[?2004h\u001b[0m\n",
      "\u001b[32m2023-11-07 11:14:45.315\u001b[0m | \u001b[1mINFO    \u001b[0m | \u001b[36mguerrilla.utils.decorator\u001b[0m:\u001b[36mdecorated\u001b[0m:\u001b[36m18\u001b[0m - \u001b[1mFrom \u001b[95mHOST A\u001b[0m     \u001b[91msent command:\u001b[0m echo \"source-directory /etc/network/interfaces.d\" > /etc/network/interfaces\u001b[0m\n",
      "\u001b[32m2023-11-07 11:14:47.516\u001b[0m | \u001b[1mINFO    \u001b[0m | \u001b[36mguerrilla.utils.decorator\u001b[0m:\u001b[36mdecorated\u001b[0m:\u001b[36m22\u001b[0m - \u001b[1mFrom \u001b[95mHOST A\u001b[0m \u001b[92mreceived  output:\u001b[0m eecho \"source-directory /etc/network/interfaces.d\" > /etc/network/interfaces\u001b[?1l\u001b>\u001b[?2004l\n",
      "                                                                                                                                                                                                                                                                                                                                                                                                                                                                                                                               \n",
      "\n",
      "\u001b[0m\u0000\u0000\u0000\u0000\u0000\u0000\u0000\u0000\u001b[m\u0000\u0000\u0000\u0000\u0000\u0000\u0000\u0000\u001b[m\u0000\u0000\u0000\u0000\u0000\u0000\u0000\u0000\u001b[J\u0000\u0000\u0000\u0000\u0000\u0000\u0000\u0000\u0000\u0000\u0000\u0000\u0000\u0000\u0000\u0000\u0000\u0000\u0000\u0000\u0000\u0000\u0000\u0000\u0000\u0000\u0000\u0000\u0000\u0000\u0000\u0000\u0000\u0000\u0000\u0000\u0000\u0000\u0000\u0000\u0000\u0000\u0000\u0000\u0000\u0000\u0000\u0000\u0000\u0000\u0000\u0000\u0000\u0000\u0000\u0000\u0000\u0000\u0000\u0000\u0000\u0000\u0000\u0000\u0000\u0000\u0000\u0000\u0000\u0000\u0000\u0000\u0000\u0000\u0000\u0000\u0000\u0000\u0000\u0000\u0000\u0000\u0000\u0000\u0000\u0000\u0000\u0000\u0000\u0000\u0000\u0000\u0000\u0000\u0000\u0000\u0000\u0000\u0000\u0000\u0000\u0000\u0000\u0000\u0000\u0000\u0000\u0000\u0000\u0000\u0000\u0000\u0000\u0000\u0000\u0000\u0000\u0000\u0000\u0000\u0000\u0000\u0000\u0000\u0000\u0000\u0000\u0000\u0000\u0000\u0000\u0000\u0000\u0000\u0000\u0000\u0000\u0000\u0000\u0000\u0000\u0000\u0000\u0000\u0000\u0000\u0000\u0000\u0000\u0000\u0000\u0000\u0000\u0000\u0000\u0000\u0000\u0000\u0000\u0000\u0000\u0000\u0000\u0000\u0000\u0000\u0000\u0000\u0000\u0000\u0000\u0000\u0000\u0000\u0000\u0000\u0000\u0000\u0000\u0000\u0000\u0000\u0000\u0000\u0000\u0000\u0000\u0000\u0000\u0000\u0000\u0000\u0000\u0000\u0000\u0000\u0000\u0000\u0000\u0000\u0000\u0000\u0000\u0000\u0000\u0000\u0000\u0000\u0000\u0000\u0000\u0000\u0000root@guerrilla-host-1:~# \u001b[K\u0000\u0000\u0000\u0000\u0000\u0000\u0000\u0000\u0000\u0000\u0000\u0000\u001b[?1h\u001b=\u001b[?2004h\u001b[0m\n",
      "\u001b[32m2023-11-07 11:14:47.517\u001b[0m | \u001b[1mINFO    \u001b[0m | \u001b[36mguerrilla.utils.decorator\u001b[0m:\u001b[36mdecorated\u001b[0m:\u001b[36m18\u001b[0m - \u001b[1mFrom \u001b[95mHOST A\u001b[0m     \u001b[91msent command:\u001b[0m echo \"auto eth1\n",
      "iface eth1 inet static\n",
      "address 192.168.127.94\n",
      "netmask 255.255.255.0\" > /etc/network/interfaces.d/eth1\u001b[0m\n",
      "\u001b[32m2023-11-07 11:14:49.718\u001b[0m | \u001b[1mINFO    \u001b[0m | \u001b[36mguerrilla.utils.decorator\u001b[0m:\u001b[36mdecorated\u001b[0m:\u001b[36m22\u001b[0m - \u001b[1mFrom \u001b[95mHOST A\u001b[0m \u001b[92mreceived  output:\u001b[0m eecho \"auto eth1\u001b[?1l\u001b>\u001b[?2004l\n",
      "\n",
      "\u001b[0m\u0000\u0000\u0000\u0000\u0000\u0000\u0000\u0000\u001b[m\u0000\u0000\u0000\u0000\u0000\u0000\u0000\u0000\u001b[m\u0000\u0000\u0000\u0000\u0000\u0000\u0000\u0000\u001b[J\u0000\u0000\u0000\u0000\u0000\u0000\u0000\u0000\u0000\u0000\u0000\u0000\u0000\u0000\u0000\u0000\u0000\u0000\u0000\u0000\u0000\u0000\u0000\u0000\u0000\u0000\u0000\u0000\u0000\u0000\u0000\u0000\u0000\u0000\u0000\u0000\u0000\u0000\u0000\u0000\u0000\u0000\u0000\u0000\u0000\u0000\u0000\u0000\u0000\u0000\u0000\u0000\u0000\u0000\u0000\u0000\u0000\u0000\u0000\u0000\u0000\u0000\u0000\u0000\u0000\u0000\u0000\u0000\u0000\u0000\u0000\u0000\u0000\u0000\u0000\u0000\u0000\u0000\u0000\u0000\u0000\u0000\u0000\u0000\u0000\u0000\u0000\u0000\u0000\u0000\u0000\u0000\u0000\u0000\u0000\u0000\u0000\u0000\u0000\u0000\u0000\u0000\u0000\u0000\u0000\u0000\u0000\u0000\u0000\u0000\u0000\u0000\u0000\u0000\u0000\u0000\u0000\u0000\u0000\u0000\u0000\u0000\u0000\u0000\u0000\u0000\u0000\u0000\u0000\u0000\u0000\u0000\u0000\u0000\u0000\u0000\u0000\u0000\u0000\u0000\u0000\u0000\u0000\u0000\u0000\u0000\u0000\u0000\u0000\u0000\u0000\u0000\u0000\u0000\u0000\u0000\u0000\u0000\u0000\u0000\u0000\u0000\u0000\u0000\u0000\u0000\u0000\u0000\u0000\u0000\u0000\u0000\u0000\u0000\u0000\u0000\u0000\u0000\u0000\u0000\u0000\u0000\u0000\u0000\u0000\u0000\u0000\u0000\u0000\u0000\u0000\u0000\u0000\u0000\u0000\u0000\u0000\u0000\u0000\u0000\u0000\u0000\u0000\u0000\u0000\u0000\u0000\u0000\u0000\u0000\u0000\u0000\u0000dquote> \u001b[K\u0000\u0000\u0000\u0000\u0000\u0000\u0000\u0000\u0000\u0000\u0000\u0000\u001b[?1h\u001b=\u001b[?2004hiiface eth1 inet static\u001b[?1l\u001b>\u001b[?2004l\n",
      "\n",
      "\u001b[0m\u0000\u0000\u0000\u0000\u0000\u0000\u0000\u0000\u001b[m\u0000\u0000\u0000\u0000\u0000\u0000\u0000\u0000\u001b[m\u0000\u0000\u0000\u0000\u0000\u0000\u0000\u0000\u001b[J\u0000\u0000\u0000\u0000\u0000\u0000\u0000\u0000\u0000\u0000\u0000\u0000\u0000\u0000\u0000\u0000\u0000\u0000\u0000\u0000\u0000\u0000\u0000\u0000\u0000\u0000\u0000\u0000\u0000\u0000\u0000\u0000\u0000\u0000\u0000\u0000\u0000\u0000\u0000\u0000\u0000\u0000\u0000\u0000\u0000\u0000\u0000\u0000\u0000\u0000\u0000\u0000\u0000\u0000\u0000\u0000\u0000\u0000\u0000\u0000\u0000\u0000\u0000\u0000\u0000\u0000\u0000\u0000\u0000\u0000\u0000\u0000\u0000\u0000\u0000\u0000\u0000\u0000\u0000\u0000\u0000\u0000\u0000\u0000\u0000\u0000\u0000\u0000\u0000\u0000\u0000\u0000\u0000\u0000\u0000\u0000\u0000\u0000\u0000\u0000\u0000\u0000\u0000\u0000\u0000\u0000\u0000\u0000\u0000\u0000\u0000\u0000\u0000\u0000\u0000\u0000\u0000\u0000\u0000\u0000\u0000\u0000\u0000\u0000\u0000\u0000\u0000\u0000\u0000\u0000\u0000\u0000\u0000\u0000\u0000\u0000\u0000\u0000\u0000\u0000\u0000\u0000\u0000\u0000\u0000\u0000\u0000\u0000\u0000\u0000\u0000\u0000\u0000\u0000\u0000\u0000\u0000\u0000\u0000\u0000\u0000\u0000\u0000\u0000\u0000\u0000\u0000\u0000\u0000\u0000\u0000\u0000\u0000\u0000\u0000\u0000\u0000\u0000\u0000\u0000\u0000\u0000\u0000\u0000\u0000\u0000\u0000\u0000\u0000\u0000\u0000\u0000\u0000\u0000\u0000\u0000\u0000\u0000\u0000\u0000\u0000\u0000\u0000\u0000\u0000\u0000\u0000\u0000\u0000\u0000\u0000\u0000\u0000dquote> \u001b[K\u0000\u0000\u0000\u0000\u0000\u0000\u0000\u0000\u0000\u0000\u0000\u0000\u001b[?1h\u001b=\u001b[?2004haaddress 192.168.127.94\u001b[?1l\u001b>\u001b[?2004l\n",
      "\n",
      "\u001b[0m\u0000\u0000\u0000\u0000\u0000\u0000\u0000\u0000\u001b[m\u0000\u0000\u0000\u0000\u0000\u0000\u0000\u0000\u001b[m\u0000\u0000\u0000\u0000\u0000\u0000\u0000\u0000\u001b[J\u0000\u0000\u0000\u0000\u0000\u0000\u0000\u0000\u0000\u0000\u0000\u0000\u0000\u0000\u0000\u0000\u0000\u0000\u0000\u0000\u0000\u0000\u0000\u0000\u0000\u0000\u0000\u0000\u0000\u0000\u0000\u0000\u0000\u0000\u0000\u0000\u0000\u0000\u0000\u0000\u0000\u0000\u0000\u0000\u0000\u0000\u0000\u0000\u0000\u0000\u0000\u0000\u0000\u0000\u0000\u0000\u0000\u0000\u0000\u0000\u0000\u0000\u0000\u0000\u0000\u0000\u0000\u0000\u0000\u0000\u0000\u0000\u0000\u0000\u0000\u0000\u0000\u0000\u0000\u0000\u0000\u0000\u0000\u0000\u0000\u0000\u0000\u0000\u0000\u0000\u0000\u0000\u0000\u0000\u0000\u0000\u0000\u0000\u0000\u0000\u0000\u0000\u0000\u0000\u0000\u0000\u0000\u0000\u0000\u0000\u0000\u0000\u0000\u0000\u0000\u0000\u0000\u0000\u0000\u0000\u0000\u0000\u0000\u0000\u0000\u0000\u0000\u0000\u0000\u0000\u0000\u0000\u0000\u0000\u0000\u0000\u0000\u0000\u0000\u0000\u0000\u0000\u0000\u0000\u0000\u0000\u0000\u0000\u0000\u0000\u0000\u0000\u0000\u0000\u0000\u0000\u0000\u0000\u0000\u0000\u0000\u0000\u0000\u0000\u0000\u0000\u0000\u0000\u0000\u0000\u0000\u0000\u0000\u0000\u0000\u0000\u0000\u0000\u0000\u0000\u0000\u0000\u0000\u0000\u0000\u0000\u0000\u0000\u0000\u0000\u0000\u0000\u0000\u0000\u0000\u0000\u0000\u0000\u0000\u0000\u0000\u0000\u0000\u0000\u0000\u0000\u0000\u0000\u0000\u0000\u0000\u0000\u0000dquote> \u001b[K\u0000\u0000\u0000\u0000\u0000\u0000\u0000\u0000\u0000\u0000\u0000\u0000\u001b[?1h\u001b=\u001b[?2004hnnetmask 255.255.255.0\" > /etc/network/interfaces.d/eth1\u001b[?1l\u001b>\u001b[?2004l\n",
      "                                                                                                                                                                                                                                                                                                                                                                                                                                                                                                                               \n",
      "\n",
      "\u001b[0m\u0000\u0000\u0000\u0000\u0000\u0000\u0000\u0000\u001b[m\u0000\u0000\u0000\u0000\u0000\u0000\u0000\u0000\u001b[m\u0000\u0000\u0000\u0000\u0000\u0000\u0000\u0000\u001b[J\u0000\u0000\u0000\u0000\u0000\u0000\u0000\u0000\u0000\u0000\u0000\u0000\u0000\u0000\u0000\u0000\u0000\u0000\u0000\u0000\u0000\u0000\u0000\u0000\u0000\u0000\u0000\u0000\u0000\u0000\u0000\u0000\u0000\u0000\u0000\u0000\u0000\u0000\u0000\u0000\u0000\u0000\u0000\u0000\u0000\u0000\u0000\u0000\u0000\u0000\u0000\u0000\u0000\u0000\u0000\u0000\u0000\u0000\u0000\u0000\u0000\u0000\u0000\u0000\u0000\u0000\u0000\u0000\u0000\u0000\u0000\u0000\u0000\u0000\u0000\u0000\u0000\u0000\u0000\u0000\u0000\u0000\u0000\u0000\u0000\u0000\u0000\u0000\u0000\u0000\u0000\u0000\u0000\u0000\u0000\u0000\u0000\u0000\u0000\u0000\u0000\u0000\u0000\u0000\u0000\u0000\u0000\u0000\u0000\u0000\u0000\u0000\u0000\u0000\u0000\u0000\u0000\u0000\u0000\u0000\u0000\u0000\u0000\u0000\u0000\u0000\u0000\u0000\u0000\u0000\u0000\u0000\u0000\u0000\u0000\u0000\u0000\u0000\u0000\u0000\u0000\u0000\u0000\u0000\u0000\u0000\u0000\u0000\u0000\u0000\u0000\u0000\u0000\u0000\u0000\u0000\u0000\u0000\u0000\u0000\u0000\u0000\u0000\u0000\u0000\u0000\u0000\u0000\u0000\u0000\u0000\u0000\u0000\u0000\u0000\u0000\u0000\u0000\u0000\u0000\u0000\u0000\u0000\u0000\u0000\u0000\u0000\u0000\u0000\u0000\u0000\u0000\u0000\u0000\u0000\u0000\u0000\u0000\u0000\u0000\u0000\u0000\u0000\u0000\u0000\u0000\u0000\u0000\u0000\u0000\u0000\u0000\u0000root@guerrilla-host-1:~# \u001b[K\u0000\u0000\u0000\u0000\u0000\u0000\u0000\u0000\u0000\u0000\u0000\u0000\u001b[?1h\u001b=\u001b[?2004h\u001b[0m\n"
     ]
    }
   ],
   "source": [
    "config = {\n",
    "    \"name\": \"HOST A\",\n",
    "    \"type\": \"linux\",\n",
    "    \"protocol\": \"ssh\",\n",
    "    \"host\": \"192.168.121.88\",\n",
    "    \"username\": \"root\",\n",
    "    \"password\": \"vagrant\",\n",
    "}\n",
    "host_a = Device(config)\n",
    "host_a.connect()\n",
    "\n",
    "dev = 'eth1'\n",
    "ip = ['192.168.127.94']\n",
    "mask = ['255.255.255.0']\n",
    "host_a.set_networks(dev, ip, mask)"
   ]
  },
  {
   "cell_type": "code",
   "execution_count": 5,
   "metadata": {},
   "outputs": [
    {
     "name": "stdout",
     "output_type": "stream",
     "text": [
      "\u001b[32m2023-11-07 11:14:49.723\u001b[0m | \u001b[1mINFO    \u001b[0m | \u001b[36mguerrilla.connection.ssh\u001b[0m:\u001b[36m_establish_connection\u001b[0m:\u001b[36m36\u001b[0m - \u001b[1mCreated HOST B's SSH session to 192.168.121.134:22\u001b[0m\n",
      "\u001b[32m2023-11-07 11:14:49.921\u001b[0m | \u001b[32m\u001b[1mSUCCESS \u001b[0m | \u001b[36mguerrilla.connection.ssh\u001b[0m:\u001b[36m_establish_connection\u001b[0m:\u001b[36m49\u001b[0m - \u001b[32m\u001b[1mConnected to root 192.168.121.134:22\u001b[0m\n",
      "\u001b[32m2023-11-07 11:14:53.693\u001b[0m | \u001b[1mINFO    \u001b[0m | \u001b[36mguerrilla.connection.session\u001b[0m:\u001b[36mset_base_prompt\u001b[0m:\u001b[36m656\u001b[0m - \u001b[1mDefault Prompt:\u001b[?1l\u001b\u001b[0m\n",
      "\u001b[32m2023-11-07 11:14:53.694\u001b[0m | \u001b[1mINFO    \u001b[0m | \u001b[36mguerrilla.utils.decorator\u001b[0m:\u001b[36mdecorated\u001b[0m:\u001b[36m18\u001b[0m - \u001b[1mFrom \u001b[95mHOST B\u001b[0m     \u001b[91msent command:\u001b[0m ip addr flush dev eth1\u001b[0m\n",
      "\u001b[32m2023-11-07 11:14:54.171\u001b[0m | \u001b[1mINFO    \u001b[0m | \u001b[36mguerrilla.utils.decorator\u001b[0m:\u001b[36mdecorated\u001b[0m:\u001b[36m22\u001b[0m - \u001b[1mFrom \u001b[95mHOST B\u001b[0m \u001b[92mreceived  output:\u001b[0m iip addr flush dev eth1\u001b[?1l\u001b>\u001b[?2004l\n",
      "                                                                                                                                                                                                                                                                                                                                                                                                                                                                                                                               \n",
      "\n",
      "\u001b[0m\u0000\u0000\u0000\u0000\u0000\u0000\u0000\u0000\u001b[m\u0000\u0000\u0000\u0000\u0000\u0000\u0000\u0000\u001b[m\u0000\u0000\u0000\u0000\u0000\u0000\u0000\u0000\u001b[J\u0000\u0000\u0000\u0000\u0000\u0000\u0000\u0000\u0000\u0000\u0000\u0000\u0000\u0000\u0000\u0000\u0000\u0000\u0000\u0000\u0000\u0000\u0000\u0000\u0000\u0000\u0000\u0000\u0000\u0000\u0000\u0000\u0000\u0000\u0000\u0000\u0000\u0000\u0000\u0000\u0000\u0000\u0000\u0000\u0000\u0000\u0000\u0000\u0000\u0000\u0000\u0000\u0000\u0000\u0000\u0000\u0000\u0000\u0000\u0000\u0000\u0000\u0000\u0000\u0000\u0000\u0000\u0000\u0000\u0000\u0000\u0000\u0000\u0000\u0000\u0000\u0000\u0000\u0000\u0000\u0000\u0000\u0000\u0000\u0000\u0000\u0000\u0000\u0000\u0000\u0000\u0000\u0000\u0000\u0000\u0000\u0000\u0000\u0000\u0000\u0000\u0000\u0000\u0000\u0000\u0000\u0000\u0000\u0000\u0000\u0000\u0000\u0000\u0000\u0000\u0000\u0000\u0000\u0000\u0000\u0000\u0000\u0000\u0000\u0000\u0000\u0000\u0000\u0000\u0000\u0000\u0000\u0000\u0000\u0000\u0000\u0000\u0000\u0000\u0000\u0000\u0000\u0000\u0000\u0000\u0000\u0000\u0000\u0000\u0000\u0000\u0000\u0000\u0000\u0000\u0000\u0000\u0000\u0000\u0000\u0000\u0000\u0000\u0000\u0000\u0000\u0000\u0000\u0000\u0000\u0000\u0000\u0000\u0000\u0000\u0000\u0000\u0000\u0000\u0000\u0000\u0000\u0000\u0000\u0000\u0000\u0000\u0000\u0000\u0000\u0000\u0000\u0000\u0000\u0000\u0000\u0000\u0000\u0000\u0000\u0000\u0000\u0000\u0000\u0000\u0000\u0000\u0000\u0000\u0000\u0000\u0000\u0000root@guerrilla-host-2:~# \u001b[K\u0000\u0000\u0000\u0000\u0000\u0000\u0000\u0000\u0000\u0000\u0000\u0000\u001b[?1h\u001b=\u001b[?2004h\u001b[0m\n",
      "\u001b[32m2023-11-07 11:14:54.171\u001b[0m | \u001b[1mINFO    \u001b[0m | \u001b[36mguerrilla.utils.decorator\u001b[0m:\u001b[36mdecorated\u001b[0m:\u001b[36m18\u001b[0m - \u001b[1mFrom \u001b[95mHOST B\u001b[0m     \u001b[91msent command:\u001b[0m echo \"source-directory /etc/network/interfaces.d\" > /etc/network/interfaces\u001b[0m\n",
      "\u001b[32m2023-11-07 11:14:56.372\u001b[0m | \u001b[1mINFO    \u001b[0m | \u001b[36mguerrilla.utils.decorator\u001b[0m:\u001b[36mdecorated\u001b[0m:\u001b[36m22\u001b[0m - \u001b[1mFrom \u001b[95mHOST B\u001b[0m \u001b[92mreceived  output:\u001b[0m eecho \"source-directory /etc/network/interfaces.d\" > /etc/network/interfaces\u001b[?1l\u001b>\u001b[?2004l\n",
      "                                                                                                                                                                                                                                                                                                                                                                                                                                                                                                                               \n",
      "\n",
      "\u001b[0m\u0000\u0000\u0000\u0000\u0000\u0000\u0000\u0000\u001b[m\u0000\u0000\u0000\u0000\u0000\u0000\u0000\u0000\u001b[m\u0000\u0000\u0000\u0000\u0000\u0000\u0000\u0000\u001b[J\u0000\u0000\u0000\u0000\u0000\u0000\u0000\u0000\u0000\u0000\u0000\u0000\u0000\u0000\u0000\u0000\u0000\u0000\u0000\u0000\u0000\u0000\u0000\u0000\u0000\u0000\u0000\u0000\u0000\u0000\u0000\u0000\u0000\u0000\u0000\u0000\u0000\u0000\u0000\u0000\u0000\u0000\u0000\u0000\u0000\u0000\u0000\u0000\u0000\u0000\u0000\u0000\u0000\u0000\u0000\u0000\u0000\u0000\u0000\u0000\u0000\u0000\u0000\u0000\u0000\u0000\u0000\u0000\u0000\u0000\u0000\u0000\u0000\u0000\u0000\u0000\u0000\u0000\u0000\u0000\u0000\u0000\u0000\u0000\u0000\u0000\u0000\u0000\u0000\u0000\u0000\u0000\u0000\u0000\u0000\u0000\u0000\u0000\u0000\u0000\u0000\u0000\u0000\u0000\u0000\u0000\u0000\u0000\u0000\u0000\u0000\u0000\u0000\u0000\u0000\u0000\u0000\u0000\u0000\u0000\u0000\u0000\u0000\u0000\u0000\u0000\u0000\u0000\u0000\u0000\u0000\u0000\u0000\u0000\u0000\u0000\u0000\u0000\u0000\u0000\u0000\u0000\u0000\u0000\u0000\u0000\u0000\u0000\u0000\u0000\u0000\u0000\u0000\u0000\u0000\u0000\u0000\u0000\u0000\u0000\u0000\u0000\u0000\u0000\u0000\u0000\u0000\u0000\u0000\u0000\u0000\u0000\u0000\u0000\u0000\u0000\u0000\u0000\u0000\u0000\u0000\u0000\u0000\u0000\u0000\u0000\u0000\u0000\u0000\u0000\u0000\u0000\u0000\u0000\u0000\u0000\u0000\u0000\u0000\u0000\u0000\u0000\u0000\u0000\u0000\u0000\u0000\u0000\u0000\u0000\u0000\u0000\u0000root@guerrilla-host-2:~# \u001b[K\u0000\u0000\u0000\u0000\u0000\u0000\u0000\u0000\u0000\u0000\u0000\u0000\u001b[?1h\u001b=\u001b[?2004h\u001b[0m\n",
      "\u001b[32m2023-11-07 11:14:56.372\u001b[0m | \u001b[1mINFO    \u001b[0m | \u001b[36mguerrilla.utils.decorator\u001b[0m:\u001b[36mdecorated\u001b[0m:\u001b[36m18\u001b[0m - \u001b[1mFrom \u001b[95mHOST B\u001b[0m     \u001b[91msent command:\u001b[0m echo \"auto eth1\n",
      "iface eth1 inet static\n",
      "address 192.168.127.93\n",
      "netmask 255.255.255.0\" > /etc/network/interfaces.d/eth1\u001b[0m\n",
      "\u001b[32m2023-11-07 11:14:58.573\u001b[0m | \u001b[1mINFO    \u001b[0m | \u001b[36mguerrilla.utils.decorator\u001b[0m:\u001b[36mdecorated\u001b[0m:\u001b[36m22\u001b[0m - \u001b[1mFrom \u001b[95mHOST B\u001b[0m \u001b[92mreceived  output:\u001b[0m eecho \"auto eth1\u001b[?1l\u001b>\u001b[?2004l\n",
      "\n",
      "\u001b[0m\u0000\u0000\u0000\u0000\u0000\u0000\u0000\u0000\u001b[m\u0000\u0000\u0000\u0000\u0000\u0000\u0000\u0000\u001b[m\u0000\u0000\u0000\u0000\u0000\u0000\u0000\u0000\u001b[J\u0000\u0000\u0000\u0000\u0000\u0000\u0000\u0000\u0000\u0000\u0000\u0000\u0000\u0000\u0000\u0000\u0000\u0000\u0000\u0000\u0000\u0000\u0000\u0000\u0000\u0000\u0000\u0000\u0000\u0000\u0000\u0000\u0000\u0000\u0000\u0000\u0000\u0000\u0000\u0000\u0000\u0000\u0000\u0000\u0000\u0000\u0000\u0000\u0000\u0000\u0000\u0000\u0000\u0000\u0000\u0000\u0000\u0000\u0000\u0000\u0000\u0000\u0000\u0000\u0000\u0000\u0000\u0000\u0000\u0000\u0000\u0000\u0000\u0000\u0000\u0000\u0000\u0000\u0000\u0000\u0000\u0000\u0000\u0000\u0000\u0000\u0000\u0000\u0000\u0000\u0000\u0000\u0000\u0000\u0000\u0000\u0000\u0000\u0000\u0000\u0000\u0000\u0000\u0000\u0000\u0000\u0000\u0000\u0000\u0000\u0000\u0000\u0000\u0000\u0000\u0000\u0000\u0000\u0000\u0000\u0000\u0000\u0000\u0000\u0000\u0000\u0000\u0000\u0000\u0000\u0000\u0000\u0000\u0000\u0000\u0000\u0000\u0000\u0000\u0000\u0000\u0000\u0000\u0000\u0000\u0000\u0000\u0000\u0000\u0000\u0000\u0000\u0000\u0000\u0000\u0000\u0000\u0000\u0000\u0000\u0000\u0000\u0000\u0000\u0000\u0000\u0000\u0000\u0000\u0000\u0000\u0000\u0000\u0000\u0000\u0000\u0000\u0000\u0000\u0000\u0000\u0000\u0000\u0000\u0000\u0000\u0000\u0000\u0000\u0000\u0000\u0000\u0000\u0000\u0000\u0000\u0000\u0000\u0000\u0000\u0000\u0000\u0000\u0000\u0000\u0000\u0000\u0000\u0000\u0000\u0000\u0000\u0000dquote> \u001b[K\u0000\u0000\u0000\u0000\u0000\u0000\u0000\u0000\u0000\u0000\u0000\u0000\u001b[?1h\u001b=\u001b[?2004hiiface eth1 inet static\u001b[?1l\u001b>\u001b[?2004l\n",
      "\n",
      "\u001b[0m\u0000\u0000\u0000\u0000\u0000\u0000\u0000\u0000\u001b[m\u0000\u0000\u0000\u0000\u0000\u0000\u0000\u0000\u001b[m\u0000\u0000\u0000\u0000\u0000\u0000\u0000\u0000\u001b[J\u0000\u0000\u0000\u0000\u0000\u0000\u0000\u0000\u0000\u0000\u0000\u0000\u0000\u0000\u0000\u0000\u0000\u0000\u0000\u0000\u0000\u0000\u0000\u0000\u0000\u0000\u0000\u0000\u0000\u0000\u0000\u0000\u0000\u0000\u0000\u0000\u0000\u0000\u0000\u0000\u0000\u0000\u0000\u0000\u0000\u0000\u0000\u0000\u0000\u0000\u0000\u0000\u0000\u0000\u0000\u0000\u0000\u0000\u0000\u0000\u0000\u0000\u0000\u0000\u0000\u0000\u0000\u0000\u0000\u0000\u0000\u0000\u0000\u0000\u0000\u0000\u0000\u0000\u0000\u0000\u0000\u0000\u0000\u0000\u0000\u0000\u0000\u0000\u0000\u0000\u0000\u0000\u0000\u0000\u0000\u0000\u0000\u0000\u0000\u0000\u0000\u0000\u0000\u0000\u0000\u0000\u0000\u0000\u0000\u0000\u0000\u0000\u0000\u0000\u0000\u0000\u0000\u0000\u0000\u0000\u0000\u0000\u0000\u0000\u0000\u0000\u0000\u0000\u0000\u0000\u0000\u0000\u0000\u0000\u0000\u0000\u0000\u0000\u0000\u0000\u0000\u0000\u0000\u0000\u0000\u0000\u0000\u0000\u0000\u0000\u0000\u0000\u0000\u0000\u0000\u0000\u0000\u0000\u0000\u0000\u0000\u0000\u0000\u0000\u0000\u0000\u0000\u0000\u0000\u0000\u0000\u0000\u0000\u0000\u0000\u0000\u0000\u0000\u0000\u0000\u0000\u0000\u0000\u0000\u0000\u0000\u0000\u0000\u0000\u0000\u0000\u0000\u0000\u0000\u0000\u0000\u0000\u0000\u0000\u0000\u0000\u0000\u0000\u0000\u0000\u0000\u0000\u0000\u0000\u0000\u0000\u0000\u0000dquote> \u001b[K\u0000\u0000\u0000\u0000\u0000\u0000\u0000\u0000\u0000\u0000\u0000\u0000\u001b[?1h\u001b=\u001b[?2004haaddress 192.168.127.93\u001b[?1l\u001b>\u001b[?2004l\n",
      "\n",
      "\u001b[0m\u0000\u0000\u0000\u0000\u0000\u0000\u0000\u0000\u001b[m\u0000\u0000\u0000\u0000\u0000\u0000\u0000\u0000\u001b[m\u0000\u0000\u0000\u0000\u0000\u0000\u0000\u0000\u001b[J\u0000\u0000\u0000\u0000\u0000\u0000\u0000\u0000\u0000\u0000\u0000\u0000\u0000\u0000\u0000\u0000\u0000\u0000\u0000\u0000\u0000\u0000\u0000\u0000\u0000\u0000\u0000\u0000\u0000\u0000\u0000\u0000\u0000\u0000\u0000\u0000\u0000\u0000\u0000\u0000\u0000\u0000\u0000\u0000\u0000\u0000\u0000\u0000\u0000\u0000\u0000\u0000\u0000\u0000\u0000\u0000\u0000\u0000\u0000\u0000\u0000\u0000\u0000\u0000\u0000\u0000\u0000\u0000\u0000\u0000\u0000\u0000\u0000\u0000\u0000\u0000\u0000\u0000\u0000\u0000\u0000\u0000\u0000\u0000\u0000\u0000\u0000\u0000\u0000\u0000\u0000\u0000\u0000\u0000\u0000\u0000\u0000\u0000\u0000\u0000\u0000\u0000\u0000\u0000\u0000\u0000\u0000\u0000\u0000\u0000\u0000\u0000\u0000\u0000\u0000\u0000\u0000\u0000\u0000\u0000\u0000\u0000\u0000\u0000\u0000\u0000\u0000\u0000\u0000\u0000\u0000\u0000\u0000\u0000\u0000\u0000\u0000\u0000\u0000\u0000\u0000\u0000\u0000\u0000\u0000\u0000\u0000\u0000\u0000\u0000\u0000\u0000\u0000\u0000\u0000\u0000\u0000\u0000\u0000\u0000\u0000\u0000\u0000\u0000\u0000\u0000\u0000\u0000\u0000\u0000\u0000\u0000\u0000\u0000\u0000\u0000\u0000\u0000\u0000\u0000\u0000\u0000\u0000\u0000\u0000\u0000\u0000\u0000\u0000\u0000\u0000\u0000\u0000\u0000\u0000\u0000\u0000\u0000\u0000\u0000\u0000\u0000\u0000\u0000\u0000\u0000\u0000\u0000\u0000\u0000\u0000\u0000\u0000dquote> \u001b[K\u0000\u0000\u0000\u0000\u0000\u0000\u0000\u0000\u0000\u0000\u0000\u0000\u001b[?1h\u001b=\u001b[?2004hnnetmask 255.255.255.0\" > /etc/network/interfaces.d/eth1\u001b[?1l\u001b>\u001b[?2004l\n",
      "                                                                                                                                                                                                                                                                                                                                                                                                                                                                                                                               \n",
      "\n",
      "\u001b[0m\u0000\u0000\u0000\u0000\u0000\u0000\u0000\u0000\u001b[m\u0000\u0000\u0000\u0000\u0000\u0000\u0000\u0000\u001b[m\u0000\u0000\u0000\u0000\u0000\u0000\u0000\u0000\u001b[J\u0000\u0000\u0000\u0000\u0000\u0000\u0000\u0000\u0000\u0000\u0000\u0000\u0000\u0000\u0000\u0000\u0000\u0000\u0000\u0000\u0000\u0000\u0000\u0000\u0000\u0000\u0000\u0000\u0000\u0000\u0000\u0000\u0000\u0000\u0000\u0000\u0000\u0000\u0000\u0000\u0000\u0000\u0000\u0000\u0000\u0000\u0000\u0000\u0000\u0000\u0000\u0000\u0000\u0000\u0000\u0000\u0000\u0000\u0000\u0000\u0000\u0000\u0000\u0000\u0000\u0000\u0000\u0000\u0000\u0000\u0000\u0000\u0000\u0000\u0000\u0000\u0000\u0000\u0000\u0000\u0000\u0000\u0000\u0000\u0000\u0000\u0000\u0000\u0000\u0000\u0000\u0000\u0000\u0000\u0000\u0000\u0000\u0000\u0000\u0000\u0000\u0000\u0000\u0000\u0000\u0000\u0000\u0000\u0000\u0000\u0000\u0000\u0000\u0000\u0000\u0000\u0000\u0000\u0000\u0000\u0000\u0000\u0000\u0000\u0000\u0000\u0000\u0000\u0000\u0000\u0000\u0000\u0000\u0000\u0000\u0000\u0000\u0000\u0000\u0000\u0000\u0000\u0000\u0000\u0000\u0000\u0000\u0000\u0000\u0000\u0000\u0000\u0000\u0000\u0000\u0000\u0000\u0000\u0000\u0000\u0000\u0000\u0000\u0000\u0000\u0000\u0000\u0000\u0000\u0000\u0000\u0000\u0000\u0000\u0000\u0000\u0000\u0000\u0000\u0000\u0000\u0000\u0000\u0000\u0000\u0000\u0000\u0000\u0000\u0000\u0000\u0000\u0000\u0000\u0000\u0000\u0000\u0000\u0000\u0000\u0000\u0000\u0000\u0000\u0000\u0000\u0000\u0000\u0000\u0000\u0000\u0000\u0000root@guerrilla-host-2:~# \u001b[K\u0000\u0000\u0000\u0000\u0000\u0000\u0000\u0000\u0000\u0000\u0000\u0000\u001b[?1h\u001b=\u001b[?2004h\u001b[0m\n"
     ]
    }
   ],
   "source": [
    "config = {\n",
    "    \"name\": \"HOST B\",\n",
    "    \"type\": \"linux\",\n",
    "    \"protocol\": \"ssh\",\n",
    "    \"host\": \"192.168.121.134\",\n",
    "    \"username\": \"root\",\n",
    "    \"password\": \"vagrant\",   \n",
    "}\n",
    "host_b = Device(config)\n",
    "host_b.connect()\n",
    "\n",
    "dev = 'eth1'\n",
    "ip = ['192.168.127.93']\n",
    "mask = ['255.255.255.0']\n",
    "\n",
    "# set networks\n",
    "host_b.set_networks(dev, ip, mask)"
   ]
  },
  {
   "cell_type": "code",
   "execution_count": 6,
   "metadata": {},
   "outputs": [
    {
     "name": "stdout",
     "output_type": "stream",
     "text": [
      "\u001b[32m2023-11-07 11:14:58.578\u001b[0m | \u001b[1mINFO    \u001b[0m | \u001b[36mguerrilla.utils.decorator\u001b[0m:\u001b[36mdecorated\u001b[0m:\u001b[36m18\u001b[0m - \u001b[1mFrom \u001b[95mEDR-G9010\u001b[0m     \u001b[91msent command:\u001b[0m configure\u001b[0m\n",
      "\u001b[32m2023-11-07 11:15:01.191\u001b[0m | \u001b[1mINFO    \u001b[0m | \u001b[36mguerrilla.connection.session\u001b[0m:\u001b[36mset_base_prompt\u001b[0m:\u001b[36m656\u001b[0m - \u001b[1mDefault Prompt:Firewall/VPN Router 00000(config)\u001b[0m\n",
      "\u001b[32m2023-11-07 11:15:01.191\u001b[0m | \u001b[1mINFO    \u001b[0m | \u001b[36mguerrilla.utils.decorator\u001b[0m:\u001b[36mdecorated\u001b[0m:\u001b[36m22\u001b[0m - \u001b[1mFrom \u001b[95mEDR-G9010\u001b[0m \u001b[92mreceived  output:\u001b[0m # configure\u001b[0m\n",
      "\u001b[32m2023-11-07 11:15:01.192\u001b[0m | \u001b[1mINFO    \u001b[0m | \u001b[36mguerrilla.utils.decorator\u001b[0m:\u001b[36mdecorated\u001b[0m:\u001b[36m18\u001b[0m - \u001b[1mFrom \u001b[95mEDR-G9010\u001b[0m     \u001b[91msent command:\u001b[0m vlan create 2\u001b[0m\n",
      "\u001b[32m2023-11-07 11:15:01.869\u001b[0m | \u001b[1mINFO    \u001b[0m | \u001b[36mguerrilla.utils.decorator\u001b[0m:\u001b[36mdecorated\u001b[0m:\u001b[36m22\u001b[0m - \u001b[1mFrom \u001b[95mEDR-G9010\u001b[0m \u001b[92mreceived  output:\u001b[0m % create vlan id:2\u001b[0m\n",
      "\u001b[32m2023-11-07 11:15:01.870\u001b[0m | \u001b[1mINFO    \u001b[0m | \u001b[36mguerrilla.utils.decorator\u001b[0m:\u001b[36mdecorated\u001b[0m:\u001b[36m18\u001b[0m - \u001b[1mFrom \u001b[95mEDR-G9010\u001b[0m     \u001b[91msent command:\u001b[0m interface ethernet 1/8\u001b[0m\n",
      "\u001b[32m2023-11-07 11:15:04.071\u001b[0m | \u001b[1mINFO    \u001b[0m | \u001b[36mguerrilla.utils.decorator\u001b[0m:\u001b[36mdecorated\u001b[0m:\u001b[36m22\u001b[0m - \u001b[1mFrom \u001b[95mEDR-G9010\u001b[0m \u001b[92mreceived  output:\u001b[0m Firewall/VPN Router 00000(config-if)# \u001b[0m\n",
      "\u001b[32m2023-11-07 11:15:04.072\u001b[0m | \u001b[1mINFO    \u001b[0m | \u001b[36mguerrilla.utils.decorator\u001b[0m:\u001b[36mdecorated\u001b[0m:\u001b[36m18\u001b[0m - \u001b[1mFrom \u001b[95mEDR-G9010\u001b[0m     \u001b[91msent command:\u001b[0m switchport access vlan 2\u001b[0m\n",
      "\u001b[32m2023-11-07 11:15:08.374\u001b[0m | \u001b[1mINFO    \u001b[0m | \u001b[36mguerrilla.utils.decorator\u001b[0m:\u001b[36mdecorated\u001b[0m:\u001b[36m22\u001b[0m - \u001b[1mFrom \u001b[95mEDR-G9010\u001b[0m \u001b[92mreceived  output:\u001b[0m Firewall/VPN Router 00000(config-if)# \u001b[0m\n",
      "\u001b[32m2023-11-07 11:15:08.375\u001b[0m | \u001b[1mINFO    \u001b[0m | \u001b[36mguerrilla.utils.decorator\u001b[0m:\u001b[36mdecorated\u001b[0m:\u001b[36m18\u001b[0m - \u001b[1mFrom \u001b[95mEDR-G9010\u001b[0m     \u001b[91msent command:\u001b[0m exit\u001b[0m\n"
     ]
    },
    {
     "ename": "TimeoutError",
     "evalue": "\n\nread_channel_timing's absolute timer expired.\n\nThe network device was continually outputting data for longer than 30.0\nseconds.\n\nIf this is expected i.e. the command you are executing is continually emitting\ndata for a long period of time, then you can set 'read_timeout=x' seconds. If\nyou want Netmiko to keep reading indefinitely (i.e. to only stop when there is\nno new data), then you can set 'read_timeout=0'.\n\nYou can look at the Netmiko session_log or debug log for more information.\n\n",
     "output_type": "error",
     "traceback": [
      "\u001b[0;31m---------------------------------------------------------------------------\u001b[0m",
      "\u001b[0;31mTimeoutError\u001b[0m                              Traceback (most recent call last)",
      "\u001b[1;32m/home/kane/Projects/guerrilla/src/guerrilla/device/test_guerrilla.ipynb Cell 6\u001b[0m line \u001b[0;36m1\n\u001b[1;32m     <a href='vscode-notebook-cell:/home/kane/Projects/guerrilla/src/guerrilla/device/test_guerrilla.ipynb#W5sZmlsZQ%3D%3D?line=10'>11</a>\u001b[0m device\u001b[39m.\u001b[39mrun_timing(\u001b[39mf\u001b[39m\u001b[39m'\u001b[39m\u001b[39minterface ethernet 1/\u001b[39m\u001b[39m{\u001b[39;00mdut_iface_port\u001b[39m}\u001b[39;00m\u001b[39m'\u001b[39m) \u001b[39m# config-if\u001b[39;00m\n\u001b[1;32m     <a href='vscode-notebook-cell:/home/kane/Projects/guerrilla/src/guerrilla/device/test_guerrilla.ipynb#W5sZmlsZQ%3D%3D?line=11'>12</a>\u001b[0m device\u001b[39m.\u001b[39mrun_timing(\u001b[39mf\u001b[39m\u001b[39m'\u001b[39m\u001b[39mswitchport access vlan \u001b[39m\u001b[39m{\u001b[39;00mdut_iface_vlan\u001b[39m}\u001b[39;00m\u001b[39m'\u001b[39m) \n\u001b[0;32m---> <a href='vscode-notebook-cell:/home/kane/Projects/guerrilla/src/guerrilla/device/test_guerrilla.ipynb#W5sZmlsZQ%3D%3D?line=13'>14</a>\u001b[0m device\u001b[39m.\u001b[39;49mrun_timing(\u001b[39m'\u001b[39;49m\u001b[39mexit\u001b[39;49m\u001b[39m'\u001b[39;49m) \u001b[39m# return config\u001b[39;00m\n\u001b[1;32m     <a href='vscode-notebook-cell:/home/kane/Projects/guerrilla/src/guerrilla/device/test_guerrilla.ipynb#W5sZmlsZQ%3D%3D?line=14'>15</a>\u001b[0m device\u001b[39m.\u001b[39mrun_timing(\u001b[39m'\u001b[39m\u001b[39minterface wan\u001b[39m\u001b[39m'\u001b[39m) \u001b[39m# config-if wan\u001b[39;00m\n\u001b[1;32m     <a href='vscode-notebook-cell:/home/kane/Projects/guerrilla/src/guerrilla/device/test_guerrilla.ipynb#W5sZmlsZQ%3D%3D?line=15'>16</a>\u001b[0m device\u001b[39m.\u001b[39mrun(\u001b[39mf\u001b[39m\u001b[39m'\u001b[39m\u001b[39mbind vlan \u001b[39m\u001b[39m{\u001b[39;00mdut_iface_vlan\u001b[39m}\u001b[39;00m\u001b[39m'\u001b[39m)\n",
      "File \u001b[0;32m~/Projects/guerrilla/src/guerrilla/utils/decorator.py:20\u001b[0m, in \u001b[0;36mlog.<locals>.decorated\u001b[0;34m(self, *args, **kwargs)\u001b[0m\n\u001b[1;32m     17\u001b[0m     log_message \u001b[39m+\u001b[39m\u001b[39m=\u001b[39m \u001b[39mf\u001b[39m\u001b[39m\"\u001b[39m\u001b[39m \u001b[39m\u001b[39m{\u001b[39;00mCOLOR\u001b[39m.\u001b[39myellow(\u001b[39m'\u001b[39m\u001b[39mexpecting:\u001b[39m\u001b[39m'\u001b[39m)\u001b[39m}\u001b[39;00m\u001b[39m \u001b[39m\u001b[39m{\u001b[39;00mexpect_string\u001b[39m}\u001b[39;00m\u001b[39m\"\u001b[39m\n\u001b[1;32m     18\u001b[0m logger\u001b[39m.\u001b[39minfo(log_message)\n\u001b[0;32m---> 20\u001b[0m result \u001b[39m=\u001b[39m f(\u001b[39mself\u001b[39;49m, \u001b[39m*\u001b[39;49margs, \u001b[39m*\u001b[39;49m\u001b[39m*\u001b[39;49mkwargs)\n\u001b[1;32m     22\u001b[0m logger\u001b[39m.\u001b[39minfo(\n\u001b[1;32m     23\u001b[0m     \u001b[39mf\u001b[39m\u001b[39m\"\u001b[39m\u001b[39mFrom \u001b[39m\u001b[39m{\u001b[39;00mCOLOR\u001b[39m.\u001b[39mmagenta(name)\u001b[39m:\u001b[39;00m\u001b[39m<\u001b[39m\u001b[39m{\u001b[39;00m\u001b[39m10\u001b[39m\u001b[39m}\u001b[39;00m\u001b[39m}\u001b[39;00m\u001b[39m \u001b[39m\u001b[39m{\u001b[39;00mCOLOR\u001b[39m.\u001b[39mgreen(\u001b[39m'\u001b[39m\u001b[39mreceived  output:\u001b[39m\u001b[39m'\u001b[39m)\u001b[39m}\u001b[39;00m\u001b[39m \u001b[39m\u001b[39m{\u001b[39;00mresult\u001b[39m}\u001b[39;00m\u001b[39m\"\u001b[39m\n\u001b[1;32m     24\u001b[0m )\n\u001b[1;32m     26\u001b[0m \u001b[39mreturn\u001b[39;00m result\n",
      "File \u001b[0;32m~/Projects/guerrilla/src/guerrilla/device/base.py:31\u001b[0m, in \u001b[0;36mBaseDevice.run_timing\u001b[0;34m(self, command, last_read)\u001b[0m\n\u001b[1;32m     29\u001b[0m \u001b[39m@log\u001b[39m\n\u001b[1;32m     30\u001b[0m \u001b[39mdef\u001b[39;00m \u001b[39mrun_timing\u001b[39m(\u001b[39mself\u001b[39m, command: \u001b[39mstr\u001b[39m, last_read: \u001b[39mint\u001b[39m \u001b[39m=\u001b[39m \u001b[39m2\u001b[39m) \u001b[39m-\u001b[39m\u001b[39m>\u001b[39m \u001b[39mstr\u001b[39m:\n\u001b[0;32m---> 31\u001b[0m     \u001b[39mreturn\u001b[39;00m \u001b[39mself\u001b[39;49m\u001b[39m.\u001b[39;49msession\u001b[39m.\u001b[39;49mrun_timing(command, last_read)\n",
      "File \u001b[0;32m~/Projects/guerrilla/src/guerrilla/connection/session.py:960\u001b[0m, in \u001b[0;36mBaseSession.run_timing\u001b[0;34m(self, command_string, last_read, read_timeout, strip_prompt, strip_command, normalize, use_textfsm, textfsm_template, cmd_verify)\u001b[0m\n\u001b[1;32m    958\u001b[0m     new_data \u001b[39m=\u001b[39m \u001b[39mself\u001b[39m\u001b[39m.\u001b[39mcommand_echo_read(cmd\u001b[39m=\u001b[39mcmd, read_timeout\u001b[39m=\u001b[39m\u001b[39m10\u001b[39m)\n\u001b[1;32m    959\u001b[0m     output \u001b[39m+\u001b[39m\u001b[39m=\u001b[39m new_data\n\u001b[0;32m--> 960\u001b[0m output \u001b[39m+\u001b[39m\u001b[39m=\u001b[39m \u001b[39mself\u001b[39;49m\u001b[39m.\u001b[39;49mread_channel_timing(\n\u001b[1;32m    961\u001b[0m     last_read\u001b[39m=\u001b[39;49mlast_read, read_timeout\u001b[39m=\u001b[39;49mread_timeout\n\u001b[1;32m    962\u001b[0m )\n\u001b[1;32m    964\u001b[0m output \u001b[39m=\u001b[39m \u001b[39mself\u001b[39m\u001b[39m.\u001b[39m_sanitize_output(\n\u001b[1;32m    965\u001b[0m     output,\n\u001b[1;32m    966\u001b[0m     strip_command\u001b[39m=\u001b[39mstrip_command,\n\u001b[1;32m    967\u001b[0m     command_string\u001b[39m=\u001b[39mcommand_string,\n\u001b[1;32m    968\u001b[0m     strip_prompt\u001b[39m=\u001b[39mstrip_prompt,\n\u001b[1;32m    969\u001b[0m )\n\u001b[1;32m    970\u001b[0m return_data \u001b[39m=\u001b[39m structured_data_converter(\n\u001b[1;32m    971\u001b[0m     command\u001b[39m=\u001b[39mcommand_string,\n\u001b[1;32m    972\u001b[0m     raw_data\u001b[39m=\u001b[39moutput,\n\u001b[0;32m   (...)\u001b[0m\n\u001b[1;32m    975\u001b[0m     textfsm_template\u001b[39m=\u001b[39mtextfsm_template,\n\u001b[1;32m    976\u001b[0m )\n",
      "File \u001b[0;32m~/Projects/guerrilla/src/guerrilla/connection/session.py:569\u001b[0m, in \u001b[0;36mBaseSession.read_channel_timing\u001b[0;34m(self, last_read, read_timeout)\u001b[0m\n\u001b[1;32m    554\u001b[0m         \u001b[39melse\u001b[39;00m:\n\u001b[1;32m    555\u001b[0m             msg \u001b[39m=\u001b[39m \u001b[39mf\u001b[39m\u001b[39m\"\"\"\u001b[39m\u001b[39m\\n\u001b[39;00m\n\u001b[1;32m    556\u001b[0m \u001b[39mread_channel_timing\u001b[39m\u001b[39m'\u001b[39m\u001b[39ms absolute timer expired.\u001b[39m\n\u001b[1;32m    557\u001b[0m \n\u001b[0;32m   (...)\u001b[0m\n\u001b[1;32m    567\u001b[0m \n\u001b[1;32m    568\u001b[0m \u001b[39m\"\"\"\u001b[39m\n\u001b[0;32m--> 569\u001b[0m             \u001b[39mraise\u001b[39;00m \u001b[39mTimeoutError\u001b[39;00m(msg)\n\u001b[1;32m    570\u001b[0m         \u001b[39mreturn\u001b[39;00m channel_data\n",
      "\u001b[0;31mTimeoutError\u001b[0m: \n\nread_channel_timing's absolute timer expired.\n\nThe network device was continually outputting data for longer than 30.0\nseconds.\n\nIf this is expected i.e. the command you are executing is continually emitting\ndata for a long period of time, then you can set 'read_timeout=x' seconds. If\nyou want Netmiko to keep reading indefinitely (i.e. to only stop when there is\nno new data), then you can set 'read_timeout=0'.\n\nYou can look at the Netmiko session_log or debug log for more information.\n\n"
     ]
    }
   ],
   "source": [
    "dut_iface_ip = '192.168.128.254'\n",
    "dut_iface_vlan = '2'\n",
    "dut_iface_port = '8'\n",
    "dut_iface_mask = '255.255.255.0'\n",
    "\n",
    "# context.device.run('configure') # config\n",
    "device.run('configure', change_prompt=True) # config\n",
    "device.run(f'vlan create {dut_iface_vlan}')\n",
    "# device.create_vlan(dut_iface_vlan)\n",
    "\n",
    "device.run_timing(f'interface ethernet 1/{dut_iface_port}') # config-if\n",
    "device.run_timing(f'switchport access vlan {dut_iface_vlan}') \n",
    "\n",
    "device.run_timing('exit') # return config\n",
    "device.run_timing('interface wan') # config-if wan\n",
    "device.run(f'bind vlan {dut_iface_vlan}')\n",
    "device.run(f'ip address static {dut_iface_ip} {dut_iface_mask}')\n",
    "\n",
    "device.run_timing('exit') # return config\n",
    "device.run_timing('exit') # return main\n",
    "\n",
    "ret = device.run('show interfaces wan')\n",
    "assert dut_iface_ip in ret, f'WAN interface IP is not {dut_iface_ip}'"
   ]
  },
  {
   "cell_type": "code",
   "execution_count": null,
   "metadata": {},
   "outputs": [],
   "source": [
    "dut_iface_ip = '192.168.127.254'\n",
    "dut_iface_vlan = '1'\n",
    "dut_iface_port = '1'\n",
    "dut_iface_mask = '255.255.255.0'\n",
    "\n",
    "device.run('configure', change_prompt=True)\n",
    "device.run(f'interface ethernet 1/{dut_iface_port}', change_prompt=True)\n",
    "device.run(f'switchport access vlan {dut_iface_vlan}')\n",
    "\n",
    "device.run_timing('exit') # return config\n",
    "device.run_timing('interface lan')\n",
    "device.run(f'bind vlan {dut_iface_vlan}')\n",
    "device.run(f'ip address static {dut_iface_ip} {dut_iface_mask}')\n",
    "\n",
    "device.run_timing('exit') # return config\n",
    "device.run_timing('exit') # return main\n",
    "\n",
    "ret = device.run('show interface lan')\n",
    "assert dut_iface_ip in ret, f'LAN interface IP is not {dut_iface_ip}'"
   ]
  },
  {
   "cell_type": "code",
   "execution_count": null,
   "metadata": {},
   "outputs": [],
   "source": [
    "# IP Address\n",
    "host_testbed_ip = '192.168.128.10'\n",
    "\n",
    "\n",
    "# Subnet Mask\n",
    "host_testbed_mask = '255.255.255.0'\n",
    "\n",
    "# Network name (subnet)\n",
    "host_testbed_subnet = str(\n",
    "    ipaddress.ip_network(f'{host_testbed_ip}/{host_testbed_mask}',\n",
    "                            strict=False)).split('/')[0]\n",
    "\n",
    "# Gateway IP\n",
    "host_testbed_gw = '192.168.128.254'\n",
    "\n",
    "# context.host_info[host][\"testbed\"][\"cur_host\"] = host_testbed_ip\n",
    "# context.host_info[host][\"testbed\"][\"cur_subnet\"] = host_testbed_subnet\n",
    "# context.host_info[host][\"testbed\"][\"cur_gw\"] = host_testbed_gw\n",
    "\n",
    "# set network\n",
    "dev = 'eth1'\n",
    "config=f\"auto {dev}\\niface {dev} inet static\\naddress {host_testbed_ip}\\nnetmask {host_testbed_mask}\"\n",
    "host_a.run(f'ip addr flush {dev}')\n",
    "host_a.run('echo \"source-directory /etc/network/interfaces.d\" > /etc/network/interfaces')\n",
    "host_a.run(f'echo \"{config}\" > /etc/network/interfaces.d/{dev}')\n",
    "\n",
    "host_a.run(f\"ifdown {dev}\")\n",
    "host_a.run(f\"ifup {dev}\")"
   ]
  },
  {
   "cell_type": "code",
   "execution_count": null,
   "metadata": {},
   "outputs": [],
   "source": [
    "# IP Address\n",
    "host_testbed_ip = '192.168.127.11'\n",
    "\n",
    "# Subnet Mask\n",
    "host_testbed_mask = '255.255.255.0'\n",
    "\n",
    "# Network name (subnet)\n",
    "host_testbed_subnet = str(\n",
    "    ipaddress.ip_network(f'{host_testbed_ip}/{host_testbed_mask}',\n",
    "                            strict=False)).split('/')[0]\n",
    "\n",
    "# Gateway IP\n",
    "host_testbed_gw = '192.168.127.254'\n",
    "\n",
    "# context.host_info[host][\"testbed\"][\"cur_host\"] = host_testbed_ip\n",
    "# context.host_info[host][\"testbed\"][\"cur_subnet\"] = host_testbed_subnet\n",
    "# context.host_info[host][\"testbed\"][\"cur_gw\"] = host_testbed_gw\n",
    "\n",
    "# set network\n",
    "dev = 'eth1'\n",
    "config=f\"auto {dev}\\niface {dev} inet static\\naddress {host_testbed_ip}\\nnetmask {host_testbed_mask}\"\n",
    "host_b.run(f'ip addr flush {dev}')\n",
    "host_b.run('echo \"source-directory /etc/network/interfaces.d\" > /etc/network/interfaces')\n",
    "host_b.run(f'echo \"{config}\" > /etc/network/interfaces.d/{dev}')\n",
    "\n",
    "host_b.run(f\"ifdown {dev}\")\n",
    "host_b.run(f\"ifup {dev}\")"
   ]
  },
  {
   "cell_type": "code",
   "execution_count": null,
   "metadata": {},
   "outputs": [],
   "source": [
    "dev = 'eth1'\n",
    "dip = '192.168.127.0' # host b subnet\n",
    "mask = '255.255.255.0' # host b mask\n",
    "gw = '192.168.128.254' # host a gw\n",
    "\n",
    "\n",
    "host_a.run(f'ip addr flush {dev}')\n",
    "host_a.run(f'echo \"post-up ip route add {dip}/{mask} via {gw}\" >> /etc/network/interfaces.d/{dev}')\n",
    "\n",
    "host_a.run(f\"ifdown {dev}\")\n",
    "host_a.run(f\"ifup {dev}\")"
   ]
  },
  {
   "cell_type": "code",
   "execution_count": null,
   "metadata": {},
   "outputs": [],
   "source": [
    "dev = 'eth1'\n",
    "dip = '192.168.128.0' # host a subnet\n",
    "mask = '255.255.255.0' # host a mask\n",
    "gw = '192.168.127.254' # host b gw\n",
    "\n",
    "host_b.run(f'ip addr flush {dev}')\n",
    "host_b.run(f'echo \"post-up ip route add {dip}/{mask} via {gw}\" >> /etc/network/interfaces.d/{dev}')\n",
    "\n",
    "host_b.run(f\"ifdown {dev}\")\n",
    "host_b.run(f\"ifup {dev}\")"
   ]
  },
  {
   "cell_type": "code",
   "execution_count": null,
   "metadata": {},
   "outputs": [],
   "source": [
    "for i in range(5):\n",
    "    # ret = context.host_a.run('ping -c 3 192.168.127.11', is_shell=True)\n",
    "    ret = host_a.run('ping -c 3 192.168.127.11', expect_string=\"3 packets transmitted\")\n",
    "    if '3 received' in ret:\n",
    "        break\n",
    "assert '3 received' in ret, 'HOST_A cannot ping HOST_B'"
   ]
  },
  {
   "cell_type": "code",
   "execution_count": null,
   "metadata": {},
   "outputs": [],
   "source": [
    "for i in range(5):\n",
    "    # ret = context.host_b.run('ping -c 3 192.168.128.10', is_shell=True)\n",
    "    ret = host_b.run('ping -c 3 192.168.128.10', expect_string=\"3 packets transmitted\")\n",
    "    if '3 received' in ret:\n",
    "        break\n",
    "assert '3 received' in ret, 'HOST_B cannot ping HOST_A'"
   ]
  }
 ],
 "metadata": {
  "kernelspec": {
   "display_name": ".venv",
   "language": "python",
   "name": "python3"
  },
  "language_info": {
   "codemirror_mode": {
    "name": "ipython",
    "version": 3
   },
   "file_extension": ".py",
   "mimetype": "text/x-python",
   "name": "python",
   "nbconvert_exporter": "python",
   "pygments_lexer": "ipython3",
   "version": "3.12.0"
  }
 },
 "nbformat": 4,
 "nbformat_minor": 2
}
