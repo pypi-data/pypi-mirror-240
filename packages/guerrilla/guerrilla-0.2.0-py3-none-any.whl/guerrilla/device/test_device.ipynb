{
 "cells": [
  {
   "cell_type": "code",
   "execution_count": 1,
   "metadata": {},
   "outputs": [],
   "source": [
    "from guerrilla.device import Device\n",
    "import time"
   ]
  },
  {
   "cell_type": "code",
   "execution_count": 2,
   "metadata": {},
   "outputs": [
    {
     "name": "stdout",
     "output_type": "stream",
     "text": [
      "\u001b[32m2023-11-07 18:44:48.293\u001b[0m | \u001b[1mINFO    \u001b[0m | \u001b[36mguerrilla.connection.ssh\u001b[0m:\u001b[36m_establish_connection\u001b[0m:\u001b[36m36\u001b[0m - \u001b[1mCreated EDR-G9010's SSH session to 192.168.127.254:22\u001b[0m\n",
      "\u001b[32m2023-11-07 18:44:48.629\u001b[0m | \u001b[32m\u001b[1mSUCCESS \u001b[0m | \u001b[36mguerrilla.connection.ssh\u001b[0m:\u001b[36m_establish_connection\u001b[0m:\u001b[36m49\u001b[0m - \u001b[32m\u001b[1mConnected to admin 192.168.127.254:22\u001b[0m\n",
      "\u001b[32m2023-11-07 18:44:52.386\u001b[0m | \u001b[1mINFO    \u001b[0m | \u001b[36mguerrilla.connection.session\u001b[0m:\u001b[36mset_base_prompt\u001b[0m:\u001b[36m658\u001b[0m - \u001b[1mDefault Prompt:Firewall/VPN Router 00000\u001b[0m\n",
      "\u001b[32m2023-11-07 18:44:52.397\u001b[0m | \u001b[1mINFO    \u001b[0m | \u001b[36mguerrilla.device.router.router\u001b[0m:\u001b[36mdisable_paging\u001b[0m:\u001b[36m76\u001b[0m - \u001b[1mDisable Paging Default\u001b[0m\n",
      "\u001b[32m2023-11-07 18:44:53.495\u001b[0m | \u001b[1mINFO    \u001b[0m | \u001b[36mguerrilla.connection.session\u001b[0m:\u001b[36mset_base_prompt\u001b[0m:\u001b[36m658\u001b[0m - \u001b[1mDefault Prompt:Firewall/VPN Router 00000(config)\u001b[0m\n"
     ]
    }
   ],
   "source": [
    "config = {\n",
    "    \"name\": \"EDR-G9010\",\n",
    "    \"type\": \"router\",\n",
    "    \"host\": \"192.168.127.254\",\n",
    "    \"username\": \"admin\",\n",
    "    \"password\": \"moxa\",\n",
    "    \"protocol\": \"ssh\",\n",
    "}\n",
    "device = Device(config)\n",
    "device.connect()"
   ]
  },
  {
   "cell_type": "code",
   "execution_count": null,
   "metadata": {},
   "outputs": [],
   "source": [
    "device.session.original_prompt\n",
    "device.session.base_prompt"
   ]
  },
  {
   "cell_type": "code",
   "execution_count": null,
   "metadata": {},
   "outputs": [],
   "source": [
    "device.run('configure', expect_string=r\"\\(config.*\\)#\")\n",
    "device.run('interface wan', expect_string=r\"\\(config.*\\)#\")"
   ]
  },
  {
   "cell_type": "code",
   "execution_count": null,
   "metadata": {},
   "outputs": [],
   "source": [
    "device.session.write_channel('exit')"
   ]
  },
  {
   "cell_type": "code",
   "execution_count": null,
   "metadata": {},
   "outputs": [],
   "source": [
    "device.find_prompt()"
   ]
  },
  {
   "cell_type": "code",
   "execution_count": null,
   "metadata": {},
   "outputs": [],
   "source": [
    "current_prompt = device.find_prompt()[:-1]\n",
    "while current_prompt != device.session.original_prompt:\n",
    "    print(\"current_prompt\", current_prompt)\n",
    "    print(\"original_prompt\", device.session.original_prompt)\n",
    "    device.session.write_channel('exit')\n",
    "    time.sleep(0.2)\n",
    "    current_prompt = device.find_prompt()[:-1]"
   ]
  },
  {
   "cell_type": "code",
   "execution_count": null,
   "metadata": {},
   "outputs": [],
   "source": [
    "device.run(\"hostname test456\")"
   ]
  },
  {
   "cell_type": "code",
   "execution_count": null,
   "metadata": {},
   "outputs": [],
   "source": [
    "device.show_system()"
   ]
  },
  {
   "cell_type": "code",
   "execution_count": null,
   "metadata": {},
   "outputs": [],
   "source": [
    "device.session.base_prompt"
   ]
  },
  {
   "cell_type": "code",
   "execution_count": null,
   "metadata": {},
   "outputs": [],
   "source": [
    "device.session.set_base_prompt()"
   ]
  },
  {
   "cell_type": "code",
   "execution_count": null,
   "metadata": {},
   "outputs": [],
   "source": [
    "device.find_prompt()"
   ]
  },
  {
   "cell_type": "code",
   "execution_count": null,
   "metadata": {},
   "outputs": [],
   "source": [
    "device.run('exit', expect_string=r\".*(#|>)\")"
   ]
  },
  {
   "cell_type": "code",
   "execution_count": null,
   "metadata": {},
   "outputs": [],
   "source": [
    "device.check_config_mode()"
   ]
  },
  {
   "cell_type": "code",
   "execution_count": null,
   "metadata": {},
   "outputs": [],
   "source": [
    "device.find_prompt()"
   ]
  },
  {
   "cell_type": "code",
   "execution_count": null,
   "metadata": {},
   "outputs": [],
   "source": [
    "device.run('interface wan', expect_string=r\"\\(config.*\\)#\")"
   ]
  },
  {
   "cell_type": "code",
   "execution_count": null,
   "metadata": {},
   "outputs": [],
   "source": [
    "device.config_mode('interface wan')"
   ]
  },
  {
   "cell_type": "code",
   "execution_count": null,
   "metadata": {},
   "outputs": [],
   "source": [
    "device.run('interface wan', expect_string=r\"\\(config.*\\)#\")"
   ]
  },
  {
   "cell_type": "code",
   "execution_count": null,
   "metadata": {},
   "outputs": [],
   "source": [
    "device.find_prompt()"
   ]
  },
  {
   "cell_type": "code",
   "execution_count": null,
   "metadata": {},
   "outputs": [],
   "source": [
    "device.run_timing('reload factory-default')\n",
    "device.run_timing('Y')\n",
    "device.disconnect()\n",
    "time.sleep(30)\n",
    "device.connect()"
   ]
  },
  {
   "cell_type": "code",
   "execution_count": null,
   "metadata": {},
   "outputs": [],
   "source": [
    "dut_iface_ip = '192.168.128.254'\n",
    "dut_iface_vlan = '2'\n",
    "dut_iface_port = '8'\n",
    "dut_iface_mask = '255.255.255.0'\n",
    "\n",
    "# device.config_mode('configure') # config\n",
    "device.run_timing('configure') # config\n",
    "\n",
    "device.run_timing(f'vlan create {dut_iface_vlan}')\n",
    "# device.create_vlan(dut_iface_vlan)\n",
    "\n",
    "device.run_timing(f'interface ethernet 1/{dut_iface_port}') # config-if\n",
    "\n",
    "\n",
    "device.run_timing(f'switchport access vlan {dut_iface_vlan}') \n",
    "from guerrilla.logging import logger\n",
    "import sys\n",
    "logger.add(sys.stdout, level=\"DEBUG\")\n",
    "device.run_timing('exit') # return config\n",
    "# device.exit_config_mode()\n",
    "device.run_timing('interface wan') # config-if wan\n",
    "device.run_timing(f'bind vlan {dut_iface_vlan}')\n",
    "device.run_timing(f'ip address static {dut_iface_ip} {dut_iface_mask}')\n",
    "\n",
    "# device.exit_config_mode() # return config\n",
    "# device.exit_config_mode() # return main\n",
    "device.run_timing('exit') # return config\n",
    "device.run_timing('exit') # return main"
   ]
  },
  {
   "cell_type": "code",
   "execution_count": null,
   "metadata": {},
   "outputs": [],
   "source": []
  }
 ],
 "metadata": {
  "kernelspec": {
   "display_name": "Python 3 (ipykernel)",
   "language": "python",
   "name": "python3"
  },
  "language_info": {
   "codemirror_mode": {
    "name": "ipython",
    "version": 3
   },
   "file_extension": ".py",
   "mimetype": "text/x-python",
   "name": "python",
   "nbconvert_exporter": "python",
   "pygments_lexer": "ipython3",
   "version": "3.12.0"
  }
 },
 "nbformat": 4,
 "nbformat_minor": 4
}
