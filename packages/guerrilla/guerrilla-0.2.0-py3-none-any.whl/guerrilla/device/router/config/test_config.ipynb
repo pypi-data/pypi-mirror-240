{
 "cells": [
  {
   "cell_type": "code",
   "execution_count": 1,
   "metadata": {},
   "outputs": [],
   "source": [
    "from guerrilla.device import Device"
   ]
  },
  {
   "cell_type": "code",
   "execution_count": 2,
   "metadata": {},
   "outputs": [
    {
     "name": "stdout",
     "output_type": "stream",
     "text": [
      "\u001b[32m2023-11-12 01:50:37.422\u001b[0m | \u001b[1mINFO    \u001b[0m | \u001b[36mguerrilla.connection.ssh\u001b[0m:\u001b[36m_establish_connection\u001b[0m:\u001b[36m36\u001b[0m - \u001b[1mCreated EDR-G9010's SSH session to 192.168.127.254:22\u001b[0m\n",
      "\u001b[32m2023-11-12 01:50:37.704\u001b[0m | \u001b[32m\u001b[1mSUCCESS \u001b[0m | \u001b[36mguerrilla.connection.ssh\u001b[0m:\u001b[36m_establish_connection\u001b[0m:\u001b[36m49\u001b[0m - \u001b[32m\u001b[1mConnected to admin 192.168.127.254:22\u001b[0m\n",
      "\u001b[32m2023-11-12 01:50:41.464\u001b[0m | \u001b[1mINFO    \u001b[0m | \u001b[36mguerrilla.connection.session\u001b[0m:\u001b[36mset_base_prompt\u001b[0m:\u001b[36m658\u001b[0m - \u001b[1mDefault Prompt:Firewall/VPN Router 00000\u001b[0m\n",
      "\u001b[32m2023-11-12 01:50:41.475\u001b[0m | \u001b[1mINFO    \u001b[0m | \u001b[36mguerrilla.device.router.router\u001b[0m:\u001b[36mdisable_paging\u001b[0m:\u001b[36m47\u001b[0m - \u001b[1mDisable Paging Default\u001b[0m\n"
     ]
    }
   ],
   "source": [
    "config = {\n",
    "    \"name\": \"EDR-G9010\",\n",
    "    \"type\": \"router\",\n",
    "    \"host\": \"192.168.127.254\",\n",
    "    \"username\": \"admin\",\n",
    "    \"password\": \"moxa\",\n",
    "    \"protocol\": \"ssh\",\n",
    "}\n",
    "device = Device(config)\n",
    "device.connect()"
   ]
  },
  {
   "cell_type": "code",
   "execution_count": 4,
   "metadata": {},
   "outputs": [
    {
     "name": "stdout",
     "output_type": "stream",
     "text": [
      "\u001b[32m2023-11-12 01:52:19.812\u001b[0m | \u001b[1mINFO    \u001b[0m | \u001b[36mguerrilla.utils.decorator\u001b[0m:\u001b[36mdecorated\u001b[0m:\u001b[36m18\u001b[0m - \u001b[1mFrom \u001b[95mEDR-G9010\u001b[0m     \u001b[91msent command:\u001b[0m show version\u001b[0m\n",
      "\u001b[32m2023-11-12 01:52:20.289\u001b[0m | \u001b[1mINFO    \u001b[0m | \u001b[36mguerrilla.utils.decorator\u001b[0m:\u001b[36mdecorated\u001b[0m:\u001b[36m22\u001b[0m - \u001b[1mFrom \u001b[95mEDR-G9010\u001b[0m \u001b[92mreceived  output:\u001b[0m Model Name                   : EDR-G9010-VPN-2MGSFP-T\n",
      "Firmware Version             : V3.2.99 build 23110317\u001b[0m\n"
     ]
    },
    {
     "data": {
      "text/plain": [
       "Response <Command: show version> <Expect: None> <Success: True> <Elapsed Time: 0.478002 sec>"
      ]
     },
     "execution_count": 4,
     "metadata": {},
     "output_type": "execute_result"
    }
   ],
   "source": [
    "device.show_version()"
   ]
  },
  {
   "cell_type": "code",
   "execution_count": null,
   "metadata": {},
   "outputs": [],
   "source": []
  }
 ],
 "metadata": {
  "kernelspec": {
   "display_name": ".venv",
   "language": "python",
   "name": "python3"
  },
  "language_info": {
   "codemirror_mode": {
    "name": "ipython",
    "version": 3
   },
   "file_extension": ".py",
   "mimetype": "text/x-python",
   "name": "python",
   "nbconvert_exporter": "python",
   "pygments_lexer": "ipython3",
   "version": "3.12.0"
  }
 },
 "nbformat": 4,
 "nbformat_minor": 2
}
