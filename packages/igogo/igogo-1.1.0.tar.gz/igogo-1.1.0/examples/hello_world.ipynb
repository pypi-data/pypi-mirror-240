{
 "cells": [
  {
   "cell_type": "code",
   "execution_count": 1,
   "id": "0c6f9554-c2c8-4c31-952a-4599234331c5",
   "metadata": {},
   "outputs": [
    {
     "data": {
      "text/html": [
       "\n",
       "    <style>\n",
       "        div.output_text { padding: 0; }\n",
       "        div.output_text pre:empty { padding: 0; }\n",
       "    </style>\n",
       "    "
      ]
     },
     "metadata": {},
     "output_type": "display_data"
    }
   ],
   "source": [
    "import igogo\n",
    "\n",
    "@igogo.job\n",
    "def hello_world(name):\n",
    "    for i in range(3):\n",
    "        print(\"Hello, world from\", name)\n",
    "        \n",
    "        # allows other jobs to run while asleep\n",
    "        # also can be `igogo.yielder()`\n",
    "        igogo.sleep(1)  \n",
    "    return name"
   ]
  },
  {
   "cell_type": "code",
   "execution_count": 2,
   "id": "e448de2f-d7e5-4bea-9f8e-6be34ebfc7cf",
   "metadata": {},
   "outputs": [
    {
     "data": {
      "text/plain": []
     },
     "metadata": {},
     "output_type": "display_data"
    },
    {
     "data": {
      "text/plain": [
       "Hello, world from igogo\n",
       "Hello, world from igogo\n",
       "Hello, world from igogo\n"
      ]
     },
     "metadata": {},
     "output_type": "display_data"
    },
    {
     "data": {},
     "metadata": {},
     "output_type": "display_data"
    },
    {
     "data": {},
     "metadata": {},
     "output_type": "display_data"
    },
    {
     "data": {
      "text/plain": [
       "Hello, world from other igogo\n",
       "Hello, world from other igogo\n",
       "Hello, world from other igogo\n"
      ]
     },
     "metadata": {},
     "output_type": "display_data"
    },
    {
     "data": {},
     "metadata": {},
     "output_type": "display_data"
    },
    {
     "data": {},
     "metadata": {},
     "output_type": "display_data"
    }
   ],
   "source": [
    "hello_world('igogo'), hello_world('other igogo');"
   ]
  }
 ],
 "metadata": {
  "kernelspec": {
   "display_name": "Python 3 (ipykernel)",
   "language": "python",
   "name": "python3"
  },
  "language_info": {
   "codemirror_mode": {
    "name": "ipython",
    "version": 3
   },
   "file_extension": ".py",
   "mimetype": "text/x-python",
   "name": "python",
   "nbconvert_exporter": "python",
   "pygments_lexer": "ipython3",
   "version": "3.10.8"
  }
 },
 "nbformat": 4,
 "nbformat_minor": 5
}
