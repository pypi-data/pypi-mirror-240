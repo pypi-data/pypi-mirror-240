{
 "cells": [
  {
   "cell_type": "code",
   "execution_count": 4,
   "id": "e94f1c52-fd29-4994-8d52-6a2faa825931",
   "metadata": {},
   "outputs": [
    {
     "name": "stdout",
     "output_type": "stream",
     "text": [
      "The igogo extension is already loaded. To reload it, use:\n",
      "  %reload_ext igogo\n"
     ]
    }
   ],
   "source": [
    "%load_ext igogo\n",
    "import igogo\n",
    "import numpy as np\n",
    "from tqdm.auto import tqdm\n",
    "\n",
    "raw_data = np.random.randn(5000000, 100)\n",
    "\n",
    "igogo_yield_freq = 32\n",
    "igogo_first_step_cache = []\n",
    "\n",
    "result = []"
   ]
  },
  {
   "cell_type": "code",
   "execution_count": 5,
   "id": "c9a8edfc-dd51-420a-81a5-7f6c9fb3ae63",
   "metadata": {},
   "outputs": [
    {
     "data": {
      "text/plain": []
     },
     "metadata": {},
     "output_type": "display_data"
    },
    {
     "data": {},
     "metadata": {},
     "output_type": "display_data"
    },
    {
     "data": {},
     "metadata": {},
     "output_type": "display_data"
    },
    {
     "data": {},
     "metadata": {},
     "output_type": "display_data"
    },
    {
     "data": {
      "application/vnd.jupyter.widget-view+json": {
       "model_id": "d733eaa11ef44ca7991070c62f13d653",
       "version_major": 2,
       "version_minor": 0
      },
      "text/plain": [
       "  0%|          | 0/5000000 [00:00<?, ?it/s]"
      ]
     },
     "metadata": {},
     "output_type": "display_data"
    }
   ],
   "source": [
    "%%igogo\n",
    "\n",
    "for i in tqdm(range(len(raw_data))):\n",
    "    processed = np.log(raw_data[i] * raw_data[i])\n",
    "    igogo_first_step_cache.append(processed)\n",
    "    \n",
    "    if i > 0 and i % igogo_yield_freq == 0:\n",
    "        igogo.yielder()  # allow other jobs to execute"
   ]
  },
  {
   "cell_type": "code",
   "execution_count": 6,
   "id": "9baf82be-5ef3-49ad-9006-2f026ee1a782",
   "metadata": {},
   "outputs": [
    {
     "data": {
      "text/plain": []
     },
     "metadata": {},
     "output_type": "display_data"
    },
    {
     "data": {},
     "metadata": {},
     "output_type": "display_data"
    },
    {
     "data": {},
     "metadata": {},
     "output_type": "display_data"
    },
    {
     "data": {},
     "metadata": {},
     "output_type": "display_data"
    },
    {
     "data": {
      "application/vnd.jupyter.widget-view+json": {
       "model_id": "1130932025094e7f9e9a43a76d49e820",
       "version_major": 2,
       "version_minor": 0
      },
      "text/plain": [
       "  0%|          | 0/5000000 [00:00<?, ?it/s]"
      ]
     },
     "metadata": {},
     "output_type": "display_data"
    }
   ],
   "source": [
    "%%igogo\n",
    "\n",
    "for i in tqdm(range(len(raw_data))):\n",
    "    while i >= len(igogo_first_step_cache):  # wait for producer to process data\n",
    "        igogo.yielder()\n",
    "    \n",
    "    result.append(np.mean(igogo_first_step_cache[i]))\n",
    "    "
   ]
  },
  {
   "cell_type": "code",
   "execution_count": null,
   "id": "eee93ec9-491e-485a-8af8-1cc608ccd271",
   "metadata": {},
   "outputs": [],
   "source": []
  }
 ],
 "metadata": {
  "kernelspec": {
   "display_name": "Python 3 (ipykernel)",
   "language": "python",
   "name": "python3"
  },
  "language_info": {
   "codemirror_mode": {
    "name": "ipython",
    "version": 3
   },
   "file_extension": ".py",
   "mimetype": "text/x-python",
   "name": "python",
   "nbconvert_exporter": "python",
   "pygments_lexer": "ipython3",
   "version": "3.10.8"
  }
 },
 "nbformat": 4,
 "nbformat_minor": 5
}
