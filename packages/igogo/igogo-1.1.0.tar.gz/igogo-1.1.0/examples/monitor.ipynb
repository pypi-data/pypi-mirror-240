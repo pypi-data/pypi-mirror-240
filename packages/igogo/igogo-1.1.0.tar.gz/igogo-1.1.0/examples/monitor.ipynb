{
 "cells": [
  {
   "cell_type": "code",
   "execution_count": 10,
   "id": "2dd6ab80-bf7c-46e5-be94-472a0ee599a0",
   "metadata": {},
   "outputs": [
    {
     "name": "stdout",
     "output_type": "stream",
     "text": [
      "The igogo extension is already loaded. To reload it, use:\n",
      "  %reload_ext igogo\n"
     ]
    }
   ],
   "source": [
    "import igogo\n",
    "import numpy as np\n",
    "from tqdm.auto import tqdm\n",
    "%load_ext igogo\n",
    "\n",
    "raw_data = np.random.randn(100000, 100)\n",
    "result = []"
   ]
  },
  {
   "cell_type": "code",
   "execution_count": 11,
   "id": "0e155562-baad-48e6-994d-16bbdb62131d",
   "metadata": {},
   "outputs": [],
   "source": [
    "def row_processor(row):\n",
    "    return np.mean(row)"
   ]
  },
  {
   "cell_type": "code",
   "execution_count": 12,
   "id": "cab57e5d-9942-48d7-a704-588104c8d65b",
   "metadata": {},
   "outputs": [
    {
     "data": {
      "text/plain": []
     },
     "metadata": {},
     "output_type": "display_data"
    },
    {
     "data": {},
     "metadata": {},
     "output_type": "display_data"
    },
    {
     "data": {},
     "metadata": {},
     "output_type": "display_data"
    },
    {
     "data": {},
     "metadata": {},
     "output_type": "display_data"
    },
    {
     "data": {
      "application/vnd.jupyter.widget-view+json": {
       "model_id": "bdcc347008df44f2b2f43fe9c9c4d421",
       "version_major": 2,
       "version_minor": 0
      },
      "text/plain": [
       "  0%|          | 0/100000 [00:00<?, ?it/s]"
      ]
     },
     "metadata": {},
     "output_type": "display_data"
    }
   ],
   "source": [
    "%%igogo\n",
    "for i in tqdm(range(len(raw_data))):\n",
    "    result.append(row_processor(raw_data[i]))\n",
    "    igogo.yielder()"
   ]
  },
  {
   "cell_type": "code",
   "execution_count": 13,
   "id": "049b8991-9730-4ebb-97b4-8291a2001f8b",
   "metadata": {},
   "outputs": [
    {
     "data": {
      "text/plain": [
       "0.007416555376210884"
      ]
     },
     "execution_count": 13,
     "metadata": {},
     "output_type": "execute_result"
    }
   ],
   "source": [
    "result[-1]"
   ]
  },
  {
   "cell_type": "code",
   "execution_count": null,
   "id": "c2e9dcf4-9b90-4e35-8bda-c53e0ba2d887",
   "metadata": {},
   "outputs": [],
   "source": []
  }
 ],
 "metadata": {
  "kernelspec": {
   "display_name": "Python 3 (ipykernel)",
   "language": "python",
   "name": "python3"
  },
  "language_info": {
   "codemirror_mode": {
    "name": "ipython",
    "version": 3
   },
   "file_extension": ".py",
   "mimetype": "text/x-python",
   "name": "python",
   "nbconvert_exporter": "python",
   "pygments_lexer": "ipython3",
   "version": "3.10.8"
  }
 },
 "nbformat": 4,
 "nbformat_minor": 5
}
