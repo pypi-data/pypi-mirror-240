{
 "cells": [
  {
   "cell_type": "code",
   "execution_count": null,
   "metadata": {},
   "outputs": [],
   "source": [
    "%load_ext autoreload\n",
    "%autoreload 2\n",
    "\n",
    "%pip install kebiml"
   ]
  },
  {
   "cell_type": "code",
   "execution_count": null,
   "metadata": {},
   "outputs": [],
   "source": [
    "# 로컬 소스코드 경로 등록\n",
    "# 아래와 같이 경로 앞에 \"src.\"를 붙여서 import\n",
    "# from src.kebiml import ...\n",
    "\n",
    "import sys\n",
    "import os\n",
    "\n",
    "module_path = os.path.abspath(os.path.join(os.pardir, os.pardir, os.pardir))\n",
    "if module_path not in sys.path:\n",
    "    sys.path.append(module_path)"
   ]
  },
  {
   "cell_type": "code",
   "execution_count": null,
   "metadata": {},
   "outputs": [],
   "source": [
    "import numpy as np\n",
    "\n",
    "import matplotlib.pyplot as plt"
   ]
  },
  {
   "cell_type": "code",
   "execution_count": null,
   "metadata": {},
   "outputs": [],
   "source": [
    "from sklearn.datasets import load_iris\n",
    "\n",
    "# import some data to play with\n",
    "iris = load_iris()\n",
    "X = iris.data[:, :2]  # we only take the first two features. ['sepal length (cm)', 'sepal width (cm)']\n",
    "y = iris.target\n",
    "\n",
    "# 2 class 만들기\n",
    "X_2cls = X[y > 0]\n",
    "y_2cls = y[y > 0]\n",
    "y_2cls -= 1"
   ]
  },
  {
   "cell_type": "code",
   "execution_count": null,
   "metadata": {},
   "outputs": [],
   "source": [
    "from src.kebiml.visutil.decision_boundary import decision_boundary_display_from_estimator\n",
    "\n",
    "# 차트 도움 함수\n",
    "cmap = plt.cm.rainbow_r\n",
    "\n",
    "def scatter(X, y, ax, cmap=cmap):\n",
    "    scatter = ax.scatter(X[:, 0], X[:, 1], c=y, cmap=cmap, edgecolors=\"k\")\n",
    "    \n",
    "    labels = iris.target_names if y.max() > 1 else iris.target_names[-2:]\n",
    "    ax.legend(scatter.legend_elements()[0], labels, loc=\"upper left\")\n",
    "\n",
    "def dbd(\n",
    "    estimator,\n",
    "    ax,\n",
    "    title,\n",
    "    plot_method=\"pcolormesh\",\n",
    "    response_method=\"auto\",\n",
    "    decision_normalize_method=\"sigmoid\",\n",
    "    multiclass_mix_rest=False,\n",
    "    multiclass_target_index=None,\n",
    "):\n",
    "    ax.set_title(title)\n",
    "    \n",
    "    decision_boundary_display_from_estimator(\n",
    "        estimator, X, ax=ax, cmap=cmap,\n",
    "        plot_method=plot_method,\n",
    "        response_method=response_method,\n",
    "        decision_normalize_method=decision_normalize_method,\n",
    "        multiclass_mix_rest=multiclass_mix_rest,\n",
    "        multiclass_target_index=multiclass_target_index,\n",
    "    )\n",
    "\n",
    "    scatter(X, y, ax)"
   ]
  },
  {
   "cell_type": "code",
   "execution_count": null,
   "metadata": {},
   "outputs": [],
   "source": [
    "from sklearn.svm import SVC\n",
    "from sklearn.calibration import CalibratedClassifierCV\n",
    "from sklearn.inspection import DecisionBoundaryDisplay\n",
    "\n",
    "# 모델 학습\n",
    "clf_2cls = SVC(C=100, gamma=\"scale\")\n",
    "clf_2cls.fit(X_2cls, y_2cls)\n",
    "\n",
    "clf = SVC(C=100, gamma=\"scale\")\n",
    "clf.fit(X, y)\n",
    "\n",
    "clf_calibrated = CalibratedClassifierCV(clf, cv=5)\n",
    "clf_calibrated.fit(X, y)\n",
    "\n",
    "# decision boundary display 비교\n",
    "fig, axs = plt.subplots(3, 5, figsize=(20, 12))\n",
    "\n",
    "# - 기존 DecisionBoundaryDisplay\n",
    "axs[0, 0].set_title(\"org DecisionBoundaryDisplay (predict only)\")\n",
    "DecisionBoundaryDisplay.from_estimator(clf, X, plot_method=\"pcolormesh\", ax=axs[0, 0], cmap=cmap)\n",
    "scatter(X, y, axs[0, 0])\n",
    "\n",
    "# - 기존 DecisionBoundaryDisplay w/ 2 classes\n",
    "axs[0, 1].set_title(\"org with 2-classes\")\n",
    "DecisionBoundaryDisplay.from_estimator(clf_2cls, X_2cls, plot_method=\"pcolormesh\", ax=axs[0, 1], cmap=plt.cm.RdBu)\n",
    "scatter(X_2cls, y_2cls, axs[0, 1], cmap=plt.cm.RdBu)\n",
    "\n",
    "# - 멀티클래스 decision_function 점수\n",
    "dbd(clf, axs[1, 0], \"3-classes decision_function\")\n",
    "# dbd(clf, axs[1, 0], \"3-classes decision_function\", decision_normalize_method=\"minmax\")\n",
    "dbd(clf, axs[1, 1], \"(mix all classes)\", multiclass_mix_rest=True)  # 예측 클래스와 더불어 나머지 클래스 색상도 혼합\n",
    "dbd(clf, axs[1, 2], \"(class 0: setosa)\", multiclass_target_index=0)  # 클래스 0 점수\n",
    "dbd(clf, axs[1, 3], \"(class 1: versicolor)\", multiclass_target_index=1)  # 클래스 1 점수\n",
    "dbd(clf, axs[1, 4], \"(class 2: virginica)\", multiclass_target_index=2)  # 클래스 2 점수\n",
    "\n",
    "# - 멀티클래스 CalibratedClassifierCV.predict_proba 확률\n",
    "dbd(clf_calibrated, axs[2, 0], \"CalibratedClassifierCV.predict_proba\", response_method=\"predict_proba\")\n",
    "dbd(clf_calibrated, axs[2, 1], \"(mix all classes)\", response_method=\"predict_proba\", multiclass_mix_rest=True)\n",
    "dbd(clf_calibrated, axs[2, 2], \"(class 0: setosa)\", response_method=\"predict_proba\", multiclass_target_index=0)\n",
    "dbd(clf_calibrated, axs[2, 3], \"(class 1: versicolor)\", response_method=\"predict_proba\", multiclass_target_index=1)\n",
    "dbd(clf_calibrated, axs[2, 4], \"(class 2: virginica)\", response_method=\"predict_proba\", multiclass_target_index=2)\n",
    "\n",
    "for ax in axs.flat:\n",
    "    if not ax.collections:\n",
    "        ax.set_axis_off()\n",
    "\n",
    "plt.show()"
   ]
  }
 ],
 "metadata": {
  "kernelspec": {
   "display_name": ".venv",
   "language": "python",
   "name": "python3"
  },
  "language_info": {
   "codemirror_mode": {
    "name": "ipython",
    "version": 3
   },
   "file_extension": ".py",
   "mimetype": "text/x-python",
   "name": "python",
   "nbconvert_exporter": "python",
   "pygments_lexer": "ipython3",
   "version": "3.11.6"
  }
 },
 "nbformat": 4,
 "nbformat_minor": 2
}
