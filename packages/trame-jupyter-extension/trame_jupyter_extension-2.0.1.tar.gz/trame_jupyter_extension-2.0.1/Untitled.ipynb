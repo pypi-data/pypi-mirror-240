{
 "cells": [
  {
   "cell_type": "code",
   "execution_count": 1,
   "id": "1a773f42-aafe-4773-82ff-866e7ed9874b",
   "metadata": {},
   "outputs": [],
   "source": [
    "import os\n",
    "\n",
    "def console_print(*args, sep=' ', end='\\n'):\n",
    "    full_str = sep.join(str(arg) for arg in args) + end\n",
    "\n",
    "    os.write(1, full_str.encode())\n"
   ]
  },
  {
   "cell_type": "code",
   "execution_count": 2,
   "id": "9802bdc9-fb43-4582-834c-f113401d3ffc",
   "metadata": {},
   "outputs": [],
   "source": [
    "kernel = get_ipython().kernel\n",
    "\n",
    "comm = None\n",
    "\n",
    "def on_message(*args, **kwargs):\n",
    "    console_print(\"COMM MESSAGE\", args, kwargs)\n",
    "\n",
    "def on_close(*args, **kwargs):\n",
    "    console_print(\"COMM CLOSED\", args, kwargs)\n",
    "\n",
    "    global comm\n",
    "    comm = None\n",
    "\n",
    "def on_open(_comm, msg):\n",
    "    console_print(\"COMM OPENED\", msg)\n",
    "\n",
    "    global comm\n",
    "    comm = _comm\n",
    "\n",
    "    comm.on_msg(on_message)\n",
    "\n",
    "    comm.on_close(on_close)\n",
    "\n",
    "kernel.comm_manager.register_target('test', on_open)"
   ]
  },
  {
   "cell_type": "code",
   "execution_count": 6,
   "id": "ce165612-b333-4196-a19e-6d2a4beb99bf",
   "metadata": {},
   "outputs": [],
   "source": [
    "if comm is not None:\n",
    "    comm.send(\"from server to client\")"
   ]
  }
 ],
 "metadata": {
  "kernelspec": {
   "display_name": "Python 3 (ipykernel)",
   "language": "python",
   "name": "python3"
  },
  "language_info": {
   "codemirror_mode": {
    "name": "ipython",
    "version": 3
   },
   "file_extension": ".py",
   "mimetype": "text/x-python",
   "name": "python",
   "nbconvert_exporter": "python",
   "pygments_lexer": "ipython3",
   "version": "3.10.12"
  }
 },
 "nbformat": 4,
 "nbformat_minor": 5
}
