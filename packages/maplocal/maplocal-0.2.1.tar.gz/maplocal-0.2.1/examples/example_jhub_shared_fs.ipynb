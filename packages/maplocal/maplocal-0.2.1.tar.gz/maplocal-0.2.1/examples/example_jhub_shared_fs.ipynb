{
 "cells": [
  {
   "cell_type": "code",
   "execution_count": 1,
   "id": "56a9a33a",
   "metadata": {},
   "outputs": [],
   "source": [
    "# Requires Max Fordham's `Applauncher` application\n",
    "\n",
    "import pathlib\n",
    "import sys\n",
    "DIR_REPO = pathlib.Path('/home/jovyan/maplocal')\n",
    "sys.path.append(str(DIR_REPO/'src'))\n",
    "\n",
    "# NOTE: DOESN'T WORK IN VS CODE\n",
    "path = \"/mnt/c/Users/j.gunstone/Documents/doc_header_schema.json\"\n",
    "path = \"/mnt/c/Documents\"\n",
    "\n",
    "target= r\"C:\\Documents\"\n",
    "\n",
    "# NOTE: opening files from the linux mount does not work throught the browser\n",
    "#       as \"strict-mode\" does not like the $ character used in the path..."
   ]
  },
  {
   "cell_type": "code",
   "execution_count": 5,
   "id": "32bda7f8",
   "metadata": {},
   "outputs": [
    {
     "data": {
      "text/plain": [
       "('c:\\\\', 'Documents')"
      ]
     },
     "execution_count": 5,
     "metadata": {},
     "output_type": "execute_result"
    }
   ],
   "source": [
    "PATH_ENV = DIR_REPO / \"scripts\" / \"mfapplauncher_wsl.env\"\n",
    "from maplocal.env import MapLocalEnv\n",
    "from maplocal.maplocal import openlocal, maplocal, mapremote\n",
    "\n",
    "ENV = MapLocalEnv(_env_file=PATH_ENV)\n",
    "maplocal(path, oldroot=ENV.MAPLOCAL_FROM, newroot=ENV.MAPLOCAL_TO).parts\n"
   ]
  },
  {
   "cell_type": "code",
   "execution_count": 6,
   "id": "1b88c363-051f-4dde-aaa9-0ee3aad6bef7",
   "metadata": {},
   "outputs": [],
   "source": [
    "# maplocal(target, oldroot=ENV.MAPLOCAL_TO, newroot=ENV.MAPLOCAL_FROM)"
   ]
  },
  {
   "cell_type": "code",
   "execution_count": 4,
   "id": "64413aeb",
   "metadata": {},
   "outputs": [
    {
     "data": {
      "application/vnd.jupyter.widget-view+json": {
       "model_id": "89bb705abfe84dd395e992eeef449188",
       "version_major": 2,
       "version_minor": 0
      },
      "text/plain": [
       "Output()"
      ]
     },
     "metadata": {},
     "output_type": "display_data"
    }
   ],
   "source": [
    "import ipywidgets as w\n",
    "out = w.Output()\n",
    "with out:\n",
    "    openlocal(path, mapenv=ENV)\n",
    "display(out)"
   ]
  },
  {
   "cell_type": "code",
   "execution_count": null,
   "id": "8a2e29a2-87f9-40c1-8995-0a3c892bf6c2",
   "metadata": {},
   "outputs": [],
   "source": []
  }
 ],
 "metadata": {
  "kernelspec": {
   "display_name": "Python 3 (ipykernel)",
   "language": "python",
   "name": "python3"
  },
  "language_info": {
   "codemirror_mode": {
    "name": "ipython",
    "version": 3
   },
   "file_extension": ".py",
   "mimetype": "text/x-python",
   "name": "python",
   "nbconvert_exporter": "python",
   "pygments_lexer": "ipython3",
   "version": "3.10.7"
  },
  "vscode": {
   "interpreter": {
    "hash": "913eedbce2f5b7793ab1e1991de538e791adf1b9e6b4b290356e287e5495ea2e"
   }
  }
 },
 "nbformat": 4,
 "nbformat_minor": 5
}
