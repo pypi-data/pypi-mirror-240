{
 "cells": [
  {
   "cell_type": "code",
   "execution_count": null,
   "id": "2d9d5c53",
   "metadata": {},
   "outputs": [],
   "source": [
    "# "
   ]
  },
  {
   "cell_type": "code",
   "execution_count": 1,
   "id": "25041c07-8cd9-4bb1-a02c-863864e031a8",
   "metadata": {},
   "outputs": [],
   "source": [
    "import sys\n",
    "import pathlib\n",
    "\n",
    "sys.path.append(str(pathlib.Path(\".\").absolute().parent / \"src\"))"
   ]
  },
  {
   "cell_type": "code",
   "execution_count": 2,
   "id": "4ada90bb-61b0-4bbb-bb1d-b7831f2ff5e8",
   "metadata": {},
   "outputs": [
    {
     "name": "stdout",
     "output_type": "stream",
     "text": [
      "adsf\n"
     ]
    }
   ],
   "source": [
    "from maplocal import maplocal, openlocal, runlocal"
   ]
  },
  {
   "cell_type": "code",
   "execution_count": 3,
   "id": "3814bb8c-a8d5-4b00-9c69-82594e359abd",
   "metadata": {},
   "outputs": [
    {
     "data": {
      "text/plain": [
       "PureWindowsPath('/wsl$/20221021/home/jovyan/maplocal/tests/test_maplocal.py')"
      ]
     },
     "execution_count": 3,
     "metadata": {},
     "output_type": "execute_result"
    }
   ],
   "source": [
    "path = \"/home/jovyan/maplocal/tests/test_maplocal.py\"\n",
    "\n",
    "maplocal(path)"
   ]
  },
  {
   "cell_type": "code",
   "execution_count": 6,
   "id": "92393e87-055d-403d-baa8-2313a3461328",
   "metadata": {},
   "outputs": [
    {
     "ename": "TypeError",
     "evalue": "'NoneType' object is not callable",
     "output_type": "error",
     "traceback": [
      "\u001b[0;31m---------------------------------------------------------------------------\u001b[0m",
      "\u001b[0;31mTypeError\u001b[0m                                 Traceback (most recent call last)",
      "Cell \u001b[0;32mIn [6], line 1\u001b[0m\n\u001b[0;32m----> 1\u001b[0m openlocal(path)\n",
      "File \u001b[0;32m~/maplocal/src/maplocal/maplocal.py:71\u001b[0m, in \u001b[0;36mopenlocal\u001b[0;34m(path)\u001b[0m\n\u001b[1;32m     69\u001b[0m \u001b[39mdef\u001b[39;00m \u001b[39mopenlocal\u001b[39m(path):\n\u001b[1;32m     70\u001b[0m     path \u001b[39m=\u001b[39m maplocal(path)\n\u001b[0;32m---> 71\u001b[0m     \u001b[39mreturn\u001b[39;00m MAPENV\u001b[39m.\u001b[39;49mopenpath(path)\n",
      "\u001b[0;31mTypeError\u001b[0m: 'NoneType' object is not callable"
     ]
    }
   ],
   "source": [
    "openlocal(path)"
   ]
  },
  {
   "cell_type": "code",
   "execution_count": 6,
   "id": "3c7642a8-9f11-46bd-8c8d-4ddb87a0ee44",
   "metadata": {},
   "outputs": [
    {
     "name": "stdout",
     "output_type": "stream",
     "text": [
      "\u001b[0;31mSignature:\u001b[0m \u001b[0mopenlocal\u001b[0m\u001b[0;34m(\u001b[0m\u001b[0mpath\u001b[0m\u001b[0;34m)\u001b[0m\u001b[0;34m\u001b[0m\u001b[0;34m\u001b[0m\u001b[0m\n",
      "\u001b[0;31mDocstring:\u001b[0m <no docstring>\n",
      "\u001b[0;31mFile:\u001b[0m      ~/maplocal/src/maplocal/maplocal.py\n",
      "\u001b[0;31mType:\u001b[0m      function\n"
     ]
    }
   ],
   "source": [
    "?openlocal"
   ]
  },
  {
   "cell_type": "code",
   "execution_count": null,
   "id": "74bbb7cc",
   "metadata": {},
   "outputs": [],
   "source": []
  }
 ],
 "metadata": {
  "kernelspec": {
   "display_name": "Python 3.10.7 ('maplocal-dev')",
   "language": "python",
   "name": "python3"
  },
  "language_info": {
   "codemirror_mode": {
    "name": "ipython",
    "version": 3
   },
   "file_extension": ".py",
   "mimetype": "text/x-python",
   "name": "python",
   "nbconvert_exporter": "python",
   "pygments_lexer": "ipython3",
   "version": "3.10.7"
  },
  "vscode": {
   "interpreter": {
    "hash": "913eedbce2f5b7793ab1e1991de538e791adf1b9e6b4b290356e287e5495ea2e"
   }
  }
 },
 "nbformat": 4,
 "nbformat_minor": 5
}
