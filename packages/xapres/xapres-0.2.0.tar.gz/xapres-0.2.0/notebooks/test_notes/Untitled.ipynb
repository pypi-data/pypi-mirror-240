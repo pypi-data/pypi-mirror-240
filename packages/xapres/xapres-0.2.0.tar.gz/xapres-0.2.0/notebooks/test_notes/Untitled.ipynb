{
 "cells": [
  {
   "cell_type": "markdown",
   "id": "44daafe3-5e1f-4d7a-991b-e66b7d3b1360",
   "metadata": {},
   "source": [
    "#"
   ]
  }
 ],
 "metadata": {
  "kernelspec": {
   "display_name": "Python 3 (ipykernel)",
   "language": "python",
   "name": "python3"
  },
  "language_info": {
   "codemirror_mode": {
    "name": "ipython",
    "version": 3
   },
   "file_extension": ".py",
   "mimetype": "text/x-python",
   "name": "python",
   "nbconvert_exporter": "python",
   "pygments_lexer": "ipython3",
   "version": "3.11.3"
  }
 },
 "nbformat": 4,
 "nbformat_minor": 5
}
