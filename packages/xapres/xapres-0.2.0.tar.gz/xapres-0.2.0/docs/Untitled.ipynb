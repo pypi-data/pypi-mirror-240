{
 "cells": [
  {
   "cell_type": "code",
   "execution_count": 5,
   "id": "6426f368-9d91-498e-8af3-38d98ee6308c",
   "metadata": {},
   "outputs": [
    {
     "data": {
      "text/plain": [
       "'/Users/jkingslake/Documents/science/ApRES/xapres/docs'"
      ]
     },
     "execution_count": 5,
     "metadata": {},
     "output_type": "execute_result"
    }
   ],
   "source": [
    "pwd"
   ]
  },
  {
   "cell_type": "code",
   "execution_count": 4,
   "id": "f0a0b6ff-3bbf-4164-aaa7-2714c1259047",
   "metadata": {},
   "outputs": [
    {
     "name": "stdout",
     "output_type": "stream",
     "text": [
      "python exec: /Users/jkingslake/mambaforge/envs/xapres_package/bin/python\n",
      "sys.path: ['/Users/jkingslake/Documents/science/ApRES/xapres_package/docs', '/Users/jkingslake/mambaforge/envs/xapres_package/lib/python311.zip', '/Users/jkingslake/mambaforge/envs/xapres_package/lib/python3.11', '/Users/jkingslake/mambaforge/envs/xapres_package/lib/python3.11/lib-dynload', '', '/Users/jkingslake/mambaforge/envs/xapres_package/lib/python3.11/site-packages']\n"
     ]
    },
    {
     "ename": "NameError",
     "evalue": "name '__file__' is not defined",
     "output_type": "error",
     "traceback": [
      "\u001b[0;31m---------------------------------------------------------------------------\u001b[0m",
      "\u001b[0;31mNameError\u001b[0m                                 Traceback (most recent call last)",
      "Cell \u001b[0;32mIn[4], line 8\u001b[0m\n\u001b[1;32m      6\u001b[0m \u001b[38;5;28mprint\u001b[39m(\u001b[38;5;124m\"\u001b[39m\u001b[38;5;124mpython exec:\u001b[39m\u001b[38;5;124m\"\u001b[39m, sys\u001b[38;5;241m.\u001b[39mexecutable)\n\u001b[1;32m      7\u001b[0m \u001b[38;5;28mprint\u001b[39m(\u001b[38;5;124m\"\u001b[39m\u001b[38;5;124msys.path:\u001b[39m\u001b[38;5;124m\"\u001b[39m, sys\u001b[38;5;241m.\u001b[39mpath)\n\u001b[0;32m----> 8\u001b[0m root \u001b[38;5;241m=\u001b[39m pathlib\u001b[38;5;241m.\u001b[39mPath(\u001b[38;5;18;43m__file__\u001b[39;49m)\u001b[38;5;241m.\u001b[39mparent\u001b[38;5;241m.\u001b[39mparent\u001b[38;5;241m.\u001b[39mabsolute()\n\u001b[1;32m      9\u001b[0m os\u001b[38;5;241m.\u001b[39menviron[\u001b[38;5;124m\"\u001b[39m\u001b[38;5;124mPYTHONPATH\u001b[39m\u001b[38;5;124m\"\u001b[39m] \u001b[38;5;241m=\u001b[39m \u001b[38;5;28mstr\u001b[39m(root)\n\u001b[1;32m     10\u001b[0m sys\u001b[38;5;241m.\u001b[39mpath\u001b[38;5;241m.\u001b[39minsert(\u001b[38;5;241m0\u001b[39m, \u001b[38;5;28mstr\u001b[39m(root))\n",
      "\u001b[0;31mNameError\u001b[0m: name '__file__' is not defined"
     ]
    }
   ],
   "source": [
    "import os\n",
    "import pathlib\n",
    "import sys\n",
    "\n",
    "\n",
    "print(\"python exec:\", sys.executable)\n",
    "print(\"sys.path:\", sys.path)\n",
    "root = pathlib.Path(__file__).parent.parent.absolute()\n",
    "os.environ[\"PYTHONPATH\"] = str(root)\n",
    "sys.path.insert(0, str(root))\n",
    "\n",
    "import xapres\n",
    "\n",
    "\n",
    "import xapres  # isort:skip\n",
    "\n",
    "# -- Project information -----------------------------------------------------\n",
    "\n",
    "project = \"xapres\"\n",
    "copyright = \"2021, ldeo_glaciology\"\n",
    "author = \"ldeo_glaciology\"\n",
    "\n",
    "# The version info for the project you're documenting, acts as replacement for\n",
    "# |version| and |release|, also used in various other places throughout the\n",
    "# built documents.\n",
    "# see https://pypi.org/project/setuptools-scm/ for details\n",
    "from pkg_resources import get_distribution\n",
    "release = get_distribution('xapres').version\n",
    "# for example take major/minor\n",
    "version = '.'.join(release.split('.')[:2])\n"
   ]
  },
  {
   "cell_type": "code",
   "execution_count": 3,
   "id": "6f6a8539-0354-4917-828e-07dde1995bcb",
   "metadata": {},
   "outputs": [
    {
     "data": {
      "text/plain": [
       "PosixPath('.')"
      ]
     },
     "execution_count": 3,
     "metadata": {},
     "output_type": "execute_result"
    }
   ],
   "source": [
    "pathlib.Path()"
   ]
  },
  {
   "cell_type": "code",
   "execution_count": null,
   "id": "615c0f3a-7484-4c47-bade-518e9db08746",
   "metadata": {},
   "outputs": [],
   "source": []
  }
 ],
 "metadata": {
  "kernelspec": {
   "display_name": "Python 3 (ipykernel)",
   "language": "python",
   "name": "python3"
  },
  "language_info": {
   "codemirror_mode": {
    "name": "ipython",
    "version": 3
   },
   "file_extension": ".py",
   "mimetype": "text/x-python",
   "name": "python",
   "nbconvert_exporter": "python",
   "pygments_lexer": "ipython3",
   "version": "3.11.3"
  }
 },
 "nbformat": 4,
 "nbformat_minor": 5
}
