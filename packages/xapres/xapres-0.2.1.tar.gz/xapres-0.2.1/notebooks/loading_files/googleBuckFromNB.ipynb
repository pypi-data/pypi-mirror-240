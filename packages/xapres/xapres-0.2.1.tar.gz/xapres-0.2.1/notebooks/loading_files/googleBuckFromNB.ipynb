{
 "cells": [
  {
   "cell_type": "markdown",
   "id": "6d0a894d-d586-4733-a2d8-ac374ab1b58c",
   "metadata": {},
   "source": [
    "# Accessing the google bucket from a NB. "
   ]
  },
  {
   "cell_type": "code",
   "execution_count": 8,
   "id": "2a234f99-b02f-4918-8fe7-83e84b0b6968",
   "metadata": {},
   "outputs": [
    {
     "name": "stdout",
     "output_type": "stream",
     "text": [
      "Your browser has been opened to visit:\n",
      "\n",
      "    https://accounts.google.com/o/oauth2/auth?response_type=code&client_id=764086051850-6qr4p6gpi6hn506pt8ejuq83di341hur.apps.googleusercontent.com&redirect_uri=http%3A%2F%2Flocalhost%3A8085%2F&scope=openid+https%3A%2F%2Fwww.googleapis.com%2Fauth%2Fuserinfo.email+https%3A%2F%2Fwww.googleapis.com%2Fauth%2Fcloud-platform+https%3A%2F%2Fwww.googleapis.com%2Fauth%2Fsqlservice.login+https%3A%2F%2Fwww.googleapis.com%2Fauth%2Faccounts.reauth&state=Rq1XrUOHhMjuObVkxS5zu6eHnsvBKs&access_type=offline&code_challenge=6RhDrN4tVIPKMGEeNEEzrYc1s-r-Rp0TvXQmuhY2Jc0&code_challenge_method=S256\n",
      "\n",
      "\n",
      "Credentials saved to file: [/Users/jkingslake/.config/gcloud/application_default_credentials.json]\n",
      "\n",
      "These credentials will be used by any library that requests Application Default Credentials (ADC).\n",
      "\n",
      "Quota project \"ldeo-glaciology\" was added to ADC which can be used by Google client libraries for billing and quota. Note that some services may still bill the project owning the resource.\n"
     ]
    }
   ],
   "source": [
    "!gcloud auth application-default login"
   ]
  },
  {
   "cell_type": "code",
   "execution_count": 21,
   "id": "a079279b-0041-4426-8fef-6bdd70d6aa6f",
   "metadata": {},
   "outputs": [
    {
     "ename": "AttributeError",
     "evalue": "'NoneType' object has no attribute 'metadata'",
     "output_type": "error",
     "traceback": [
      "\u001b[0;31m---------------------------------------------------------------------------\u001b[0m",
      "\u001b[0;31mAttributeError\u001b[0m                            Traceback (most recent call last)",
      "Cell \u001b[0;32mIn [21], line 5\u001b[0m\n\u001b[1;32m      3\u001b[0m blob \u001b[38;5;241m=\u001b[39m bucket\u001b[38;5;241m.\u001b[39mget_blob(\u001b[38;5;124m'\u001b[39m\u001b[38;5;124mgs://ldeo-glaciology/append_test/test30/.zmetadata\u001b[39m\u001b[38;5;124m'\u001b[39m)\n\u001b[1;32m      4\u001b[0m metadata \u001b[38;5;241m=\u001b[39m {\u001b[38;5;124m'\u001b[39m\u001b[38;5;124mCache-Control\u001b[39m\u001b[38;5;124m'\u001b[39m: \u001b[38;5;124m'\u001b[39m\u001b[38;5;124mno-cache\u001b[39m\u001b[38;5;124m'\u001b[39m}\n\u001b[0;32m----> 5\u001b[0m \u001b[43mblob\u001b[49m\u001b[38;5;241;43m.\u001b[39;49m\u001b[43mmetadata\u001b[49m \u001b[38;5;241m=\u001b[39m metadata\n\u001b[1;32m      6\u001b[0m blob\u001b[38;5;241m.\u001b[39mpatch()\n",
      "\u001b[0;31mAttributeError\u001b[0m: 'NoneType' object has no attribute 'metadata'"
     ]
    }
   ],
   "source": [
    "storage_client = storage.Client(project = 'ldeo-glaciology')\n",
    "bucket = storage_client.bucket('ldeo-glaciology')\n",
    "blob = bucket.get_blob('gs://ldeo-glaciology/append_test/test30/.zmetadata')\n",
    "metadata = {'Cache-Control': 'no-cache'}\n",
    "blob.metadata = metadata\n",
    "blob.patch()"
   ]
  },
  {
   "cell_type": "code",
   "execution_count": 20,
   "id": "cbf33f45-7a1a-4faf-a326-00a5d511c867",
   "metadata": {},
   "outputs": [
    {
     "ename": "TypeError",
     "evalue": "Expected an integer timestamp, datetime, or timedelta. Got <class 'NoneType'>",
     "output_type": "error",
     "traceback": [
      "\u001b[0;31m---------------------------------------------------------------------------\u001b[0m",
      "\u001b[0;31mTypeError\u001b[0m                                 Traceback (most recent call last)",
      "Cell \u001b[0;32mIn [20], line 1\u001b[0m\n\u001b[0;32m----> 1\u001b[0m \u001b[43mbucket\u001b[49m\u001b[38;5;241;43m.\u001b[39;49m\u001b[43mgenerate_signed_url\u001b[49m\u001b[43m(\u001b[49m\u001b[43m)\u001b[49m\n",
      "File \u001b[0;32m~/opt/anaconda3/envs/conda_main_env_4/lib/python3.10/site-packages/google/cloud/storage/bucket.py:3404\u001b[0m, in \u001b[0;36mBucket.generate_signed_url\u001b[0;34m(self, expiration, api_access_endpoint, method, headers, query_parameters, client, credentials, version, virtual_hosted_style, bucket_bound_hostname, scheme)\u001b[0m\n\u001b[1;32m   3401\u001b[0m \u001b[38;5;28;01melse\u001b[39;00m:\n\u001b[1;32m   3402\u001b[0m     helper \u001b[38;5;241m=\u001b[39m generate_signed_url_v4\n\u001b[0;32m-> 3404\u001b[0m \u001b[38;5;28;01mreturn\u001b[39;00m \u001b[43mhelper\u001b[49m\u001b[43m(\u001b[49m\n\u001b[1;32m   3405\u001b[0m \u001b[43m    \u001b[49m\u001b[43mcredentials\u001b[49m\u001b[43m,\u001b[49m\n\u001b[1;32m   3406\u001b[0m \u001b[43m    \u001b[49m\u001b[43mresource\u001b[49m\u001b[38;5;241;43m=\u001b[39;49m\u001b[43mresource\u001b[49m\u001b[43m,\u001b[49m\n\u001b[1;32m   3407\u001b[0m \u001b[43m    \u001b[49m\u001b[43mexpiration\u001b[49m\u001b[38;5;241;43m=\u001b[39;49m\u001b[43mexpiration\u001b[49m\u001b[43m,\u001b[49m\n\u001b[1;32m   3408\u001b[0m \u001b[43m    \u001b[49m\u001b[43mapi_access_endpoint\u001b[49m\u001b[38;5;241;43m=\u001b[39;49m\u001b[43mapi_access_endpoint\u001b[49m\u001b[43m,\u001b[49m\n\u001b[1;32m   3409\u001b[0m \u001b[43m    \u001b[49m\u001b[43mmethod\u001b[49m\u001b[38;5;241;43m=\u001b[39;49m\u001b[43mmethod\u001b[49m\u001b[38;5;241;43m.\u001b[39;49m\u001b[43mupper\u001b[49m\u001b[43m(\u001b[49m\u001b[43m)\u001b[49m\u001b[43m,\u001b[49m\n\u001b[1;32m   3410\u001b[0m \u001b[43m    \u001b[49m\u001b[43mheaders\u001b[49m\u001b[38;5;241;43m=\u001b[39;49m\u001b[43mheaders\u001b[49m\u001b[43m,\u001b[49m\n\u001b[1;32m   3411\u001b[0m \u001b[43m    \u001b[49m\u001b[43mquery_parameters\u001b[49m\u001b[38;5;241;43m=\u001b[39;49m\u001b[43mquery_parameters\u001b[49m\u001b[43m,\u001b[49m\n\u001b[1;32m   3412\u001b[0m \u001b[43m\u001b[49m\u001b[43m)\u001b[49m\n",
      "File \u001b[0;32m~/opt/anaconda3/envs/conda_main_env_4/lib/python3.10/site-packages/google/cloud/storage/_signing.py:370\u001b[0m, in \u001b[0;36mgenerate_signed_url_v2\u001b[0;34m(credentials, resource, expiration, api_access_endpoint, method, content_md5, content_type, response_type, response_disposition, generation, headers, query_parameters, service_account_email, access_token)\u001b[0m\n\u001b[1;32m    257\u001b[0m \u001b[38;5;28;01mdef\u001b[39;00m \u001b[38;5;21mgenerate_signed_url_v2\u001b[39m(\n\u001b[1;32m    258\u001b[0m     credentials,\n\u001b[1;32m    259\u001b[0m     resource,\n\u001b[0;32m   (...)\u001b[0m\n\u001b[1;32m    271\u001b[0m     access_token\u001b[38;5;241m=\u001b[39m\u001b[38;5;28;01mNone\u001b[39;00m,\n\u001b[1;32m    272\u001b[0m ):\n\u001b[1;32m    273\u001b[0m     \u001b[38;5;124;03m\"\"\"Generate a V2 signed URL to provide query-string auth'n to a resource.\u001b[39;00m\n\u001b[1;32m    274\u001b[0m \n\u001b[1;32m    275\u001b[0m \u001b[38;5;124;03m    .. note::\u001b[39;00m\n\u001b[0;32m   (...)\u001b[0m\n\u001b[1;32m    368\u001b[0m \u001b[38;5;124;03m              until expiration.\u001b[39;00m\n\u001b[1;32m    369\u001b[0m \u001b[38;5;124;03m    \"\"\"\u001b[39;00m\n\u001b[0;32m--> 370\u001b[0m     expiration_stamp \u001b[38;5;241m=\u001b[39m \u001b[43mget_expiration_seconds_v2\u001b[49m\u001b[43m(\u001b[49m\u001b[43mexpiration\u001b[49m\u001b[43m)\u001b[49m\n\u001b[1;32m    372\u001b[0m     canonical \u001b[38;5;241m=\u001b[39m canonicalize_v2(method, resource, query_parameters, headers)\n\u001b[1;32m    374\u001b[0m     \u001b[38;5;66;03m# Generate the string to sign.\u001b[39;00m\n",
      "File \u001b[0;32m~/opt/anaconda3/envs/conda_main_env_4/lib/python3.10/site-packages/google/cloud/storage/_signing.py:115\u001b[0m, in \u001b[0;36mget_expiration_seconds_v2\u001b[0;34m(expiration)\u001b[0m\n\u001b[1;32m    112\u001b[0m     expiration \u001b[38;5;241m=\u001b[39m micros \u001b[38;5;241m/\u001b[39m\u001b[38;5;241m/\u001b[39m \u001b[38;5;241m10\u001b[39m\u001b[38;5;241m*\u001b[39m\u001b[38;5;241m*\u001b[39m\u001b[38;5;241m6\u001b[39m\n\u001b[1;32m    114\u001b[0m \u001b[38;5;28;01mif\u001b[39;00m \u001b[38;5;129;01mnot\u001b[39;00m \u001b[38;5;28misinstance\u001b[39m(expiration, \u001b[38;5;28mint\u001b[39m):\n\u001b[0;32m--> 115\u001b[0m     \u001b[38;5;28;01mraise\u001b[39;00m \u001b[38;5;167;01mTypeError\u001b[39;00m(\n\u001b[1;32m    116\u001b[0m         \u001b[38;5;124m\"\u001b[39m\u001b[38;5;124mExpected an integer timestamp, datetime, or \u001b[39m\u001b[38;5;124m\"\u001b[39m\n\u001b[1;32m    117\u001b[0m         \u001b[38;5;124m\"\u001b[39m\u001b[38;5;124mtimedelta. Got \u001b[39m\u001b[38;5;132;01m%s\u001b[39;00m\u001b[38;5;124m\"\u001b[39m \u001b[38;5;241m%\u001b[39m \u001b[38;5;28mtype\u001b[39m(expiration)\n\u001b[1;32m    118\u001b[0m     )\n\u001b[1;32m    119\u001b[0m \u001b[38;5;28;01mreturn\u001b[39;00m expiration\n",
      "\u001b[0;31mTypeError\u001b[0m: Expected an integer timestamp, datetime, or timedelta. Got <class 'NoneType'>"
     ]
    }
   ],
   "source": [
    "bucket.get_blob"
   ]
  },
  {
   "cell_type": "code",
   "execution_count": 11,
   "id": "3f40cdf6-3436-44e3-bac9-1be719024cf9",
   "metadata": {},
   "outputs": [],
   "source": [
    "from google.cloud import storage\n",
    "\n",
    "\n",
    "def set_blob_metadata(bucket_name, blob_name):\n",
    "    \"\"\"Set a blob's metadata.\"\"\"\n",
    "    # bucket_name = 'your-bucket-name'\n",
    "    # blob_name = 'your-object-name'\n",
    "\n",
    "    storage_client = storage.Client(project = 'ldeo-glaciology')\n",
    "    bucket = storage_client.bucket(bucket_name)\n",
    "    blob = bucket.get_blob(blob_name)\n",
    "    metadata = {'Cache-Control': 'no-cache'}\n",
    "    blob.metadata = metadata\n",
    "    blob.patch()\n",
    "\n",
    "    print(f\"The metadata for the blob {blob.name} is {blob.metadata}\")"
   ]
  },
  {
   "cell_type": "code",
   "execution_count": 12,
   "id": "db7d544b-16ce-4586-8d9e-298f8a3c9ffd",
   "metadata": {},
   "outputs": [
    {
     "ename": "AttributeError",
     "evalue": "'NoneType' object has no attribute 'metadata'",
     "output_type": "error",
     "traceback": [
      "\u001b[0;31m---------------------------------------------------------------------------\u001b[0m",
      "\u001b[0;31mAttributeError\u001b[0m                            Traceback (most recent call last)",
      "Cell \u001b[0;32mIn [12], line 1\u001b[0m\n\u001b[0;32m----> 1\u001b[0m \u001b[43mset_blob_metadata\u001b[49m\u001b[43m(\u001b[49m\u001b[38;5;124;43m'\u001b[39;49m\u001b[38;5;124;43mldeo-glaciology\u001b[39;49m\u001b[38;5;124;43m'\u001b[39;49m\u001b[43m,\u001b[49m\u001b[38;5;124;43m'\u001b[39;49m\u001b[38;5;124;43mgs://ldeo-glaciology/append_test/test30/.zmetadata\u001b[39;49m\u001b[38;5;124;43m'\u001b[39;49m\u001b[43m)\u001b[49m\n",
      "Cell \u001b[0;32mIn [11], line 13\u001b[0m, in \u001b[0;36mset_blob_metadata\u001b[0;34m(bucket_name, blob_name)\u001b[0m\n\u001b[1;32m     11\u001b[0m blob \u001b[38;5;241m=\u001b[39m bucket\u001b[38;5;241m.\u001b[39mget_blob(blob_name)\n\u001b[1;32m     12\u001b[0m metadata \u001b[38;5;241m=\u001b[39m {\u001b[38;5;124m'\u001b[39m\u001b[38;5;124mCache-Control\u001b[39m\u001b[38;5;124m'\u001b[39m: \u001b[38;5;124m'\u001b[39m\u001b[38;5;124mno-cache\u001b[39m\u001b[38;5;124m'\u001b[39m}\n\u001b[0;32m---> 13\u001b[0m \u001b[43mblob\u001b[49m\u001b[38;5;241;43m.\u001b[39;49m\u001b[43mmetadata\u001b[49m \u001b[38;5;241m=\u001b[39m metadata\n\u001b[1;32m     14\u001b[0m blob\u001b[38;5;241m.\u001b[39mpatch()\n\u001b[1;32m     16\u001b[0m \u001b[38;5;28mprint\u001b[39m(\u001b[38;5;124mf\u001b[39m\u001b[38;5;124m\"\u001b[39m\u001b[38;5;124mThe metadata for the blob \u001b[39m\u001b[38;5;132;01m{\u001b[39;00mblob\u001b[38;5;241m.\u001b[39mname\u001b[38;5;132;01m}\u001b[39;00m\u001b[38;5;124m is \u001b[39m\u001b[38;5;132;01m{\u001b[39;00mblob\u001b[38;5;241m.\u001b[39mmetadata\u001b[38;5;132;01m}\u001b[39;00m\u001b[38;5;124m\"\u001b[39m)\n",
      "\u001b[0;31mAttributeError\u001b[0m: 'NoneType' object has no attribute 'metadata'"
     ]
    }
   ],
   "source": [
    "set_blob_metadata('ldeo-glaciology','gs://ldeo-glaciology/append_test/test30/.zmetadata')"
   ]
  },
  {
   "cell_type": "code",
   "execution_count": 5,
   "id": "bc643acd-a32e-45e5-a0f0-d018a4d37865",
   "metadata": {},
   "outputs": [
    {
     "name": "stdout",
     "output_type": "stream",
     "text": [
      "Setting metadata on gs://ldeo-glaciology/append_test/test30/.zmetadata...\n",
      "/ [1 objects]                                                                   \n",
      "Operation completed over 1 objects.                                              \n"
     ]
    }
   ],
   "source": [
    "!gsutil setmeta -h \"Cache-Control:no-store\" gs://ldeo-glaciology/append_test/test30/.zmetadata"
   ]
  },
  {
   "cell_type": "code",
   "execution_count": null,
   "id": "c79b2ba5-a4a2-4e2e-b21b-a635a8397c40",
   "metadata": {},
   "outputs": [],
   "source": []
  }
 ],
 "metadata": {
  "kernelspec": {
   "display_name": "Python 3 (ipykernel)",
   "language": "python",
   "name": "python3"
  },
  "language_info": {
   "codemirror_mode": {
    "name": "ipython",
    "version": 3
   },
   "file_extension": ".py",
   "mimetype": "text/x-python",
   "name": "python",
   "nbconvert_exporter": "python",
   "pygments_lexer": "ipython3",
   "version": "3.10.11"
  }
 },
 "nbformat": 4,
 "nbformat_minor": 5
}
