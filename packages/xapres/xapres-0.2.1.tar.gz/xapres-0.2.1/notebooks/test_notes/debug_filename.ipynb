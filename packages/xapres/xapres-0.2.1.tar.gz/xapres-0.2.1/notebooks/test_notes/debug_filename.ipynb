{
 "cells": [
  {
   "cell_type": "markdown",
   "id": "27a6460e-fa42-496d-b5f6-95074fe57342",
   "metadata": {},
   "source": [
    "# Debugging incorrect file names in xarray "
   ]
  },
  {
   "cell_type": "code",
   "execution_count": 23,
   "id": "fe2fb4fe-ac5e-4d87-ab9d-fffec936c7c5",
   "metadata": {
    "tags": []
   },
   "outputs": [],
   "source": [
    "import numpy as np\n",
    "import os\n",
    "import gcsfs\n",
    "import fsspec\n",
    "import json\n",
    "import xarray as xr\n",
    "import sys\n",
    "sys.path.append(\"../../xapres/\")\n",
    "import ApRESDefs\n",
    "import zarr\n",
    "from tqdm.notebook import trange, tqdm\n",
    "from dask.distributed import performance_report\n",
    "import matplotlib.pyplot as plt"
   ]
  },
  {
   "cell_type": "markdown",
   "id": "15f11a2c-0672-4b81-a795-7e558b05cc8c",
   "metadata": {},
   "source": [
    "First, illustrating the issue. We load in the data as we would before. We see the filename is properly displayed in full."
   ]
  },
  {
   "cell_type": "code",
   "execution_count": 2,
   "id": "93b107b9-df49-4679-bf26-49073e358392",
   "metadata": {
    "tags": []
   },
   "outputs": [],
   "source": [
    "# Loading site data\n",
    "def reload(site):\n",
    "    filename = f'gs://ldeo-glaciology/apres/greenland/2022/single_zarrs_noencode/{site}'\n",
    "    ds = xr.open_dataset(filename,\n",
    "        engine='zarr', \n",
    "        chunks={}) \n",
    "    return ds\n",
    "\n",
    "ds_104 = reload(\"A103\")\n"
   ]
  },
  {
   "cell_type": "code",
   "execution_count": 5,
   "id": "ee376c65-5434-4ec9-9d6b-a50493b65dec",
   "metadata": {
    "scrolled": true,
    "tags": []
   },
   "outputs": [],
   "source": [
    "for value in ds_104.filename.values:\n",
    "    if 'Survey' in value:\n",
    "        print(value)"
   ]
  },
  {
   "cell_type": "markdown",
   "id": "dcc9f8c8-daeb-4a5c-893b-f1959f0e39e4",
   "metadata": {},
   "source": [
    "Doing the same with our newly saved zarr data. If not in the survey folder, we see the filename is cut off. "
   ]
  },
  {
   "cell_type": "code",
   "execution_count": 65,
   "id": "fc414c9b-1fd1-42d2-944b-6fb1561f88c8",
   "metadata": {
    "tags": []
   },
   "outputs": [
    {
     "data": {
      "text/plain": [
       "array(['ldeo-glaciology/GL_apres_2022/A103/winter22_23/DIR2022-09-25-1209/DATA2022-09-25-1209.DAT',\n",
       "       'ldeo-glaciology/GL_apres_2022/A103/winter22_23/DIR2022-09-25-1215/DATA2022-09-25-1215.DAT',\n",
       "       'ldeo-glaciology/GL_apres_2022/A103/winter22_23/DIR2022-09-25-1215/DATA2022-09-25-1215.DAT',\n",
       "       ...,\n",
       "       'ldeo-glaciology/GL_apres_2022/A103/winter22_23/DIR2023-04-16-0101/DATA2023-05-19-0802.DAT',\n",
       "       'ldeo-glaciology/GL_apres_2022/A103/winter22_23/DIR2023-04-16-0101/DATA2023-05-19-0802.DAT',\n",
       "       'ldeo-glaciology/GL_apres_2022/A103/winter22_23/DIR2023-04-16-0101/DATA2023-05-19-0802.DAT'],\n",
       "      dtype='<U89')"
      ]
     },
     "execution_count": 65,
     "metadata": {},
     "output_type": "execute_result"
    }
   ],
   "source": [
    "def reload(site):\n",
    "    filename = f'gs://ldeo-glaciology/apres/greenland/2022/single_zarrs_noencode/{site}_winter22_23'\n",
    "    ds = xr.open_dataset(filename,\n",
    "        engine='zarr', \n",
    "        consolidated=True, \n",
    "        chunks={}) \n",
    "    return ds\n",
    "\n",
    "ds_104 = reload(\"A103\")\n",
    "ds_104.filename.values"
   ]
  },
  {
   "cell_type": "markdown",
   "id": "4880117a-0ade-493c-b86c-2d25c3b8525a",
   "metadata": {},
   "source": [
    "Let's try and go through the different points in which the processing could've messed up. First, checking the Google bucket, I can confirm that the raw .DAT files were correctly updated. "
   ]
  },
  {
   "cell_type": "code",
   "execution_count": 8,
   "id": "8079ccb1-da94-40d7-a625-78f858739cc1",
   "metadata": {
    "scrolled": true,
    "tags": []
   },
   "outputs": [
    {
     "data": {
      "text/plain": [
       "['ldeo-glaciology/GL_apres_2022/A104/winter22_23/DIR2022-09-25-1348/DATA2022-09-25-1348.DAT',\n",
       " 'ldeo-glaciology/GL_apres_2022/A104/winter22_23/DIR2022-09-25-1354/DATA2022-09-25-1354.DAT',\n",
       " 'ldeo-glaciology/GL_apres_2022/A104/winter22_23/DIR2022-09-25-1354/DATA2022-09-26-1324.DAT',\n",
       " 'ldeo-glaciology/GL_apres_2022/A104/winter22_23/DIR2022-09-25-1354/DATA2022-09-27-1254.DAT',\n",
       " 'ldeo-glaciology/GL_apres_2022/A104/winter22_23/DIR2022-09-25-1354/DATA2022-09-28-1224.DAT',\n",
       " 'ldeo-glaciology/GL_apres_2022/A104/winter22_23/DIR2022-09-25-1354/DATA2022-09-29-1154.DAT',\n",
       " 'ldeo-glaciology/GL_apres_2022/A104/winter22_23/DIR2022-09-25-1354/DATA2022-09-30-1124.DAT',\n",
       " 'ldeo-glaciology/GL_apres_2022/A104/winter22_23/DIR2022-09-25-1354/DATA2022-10-01-1054.DAT',\n",
       " 'ldeo-glaciology/GL_apres_2022/A104/winter22_23/DIR2022-09-25-1354/DATA2022-10-02-1024.DAT',\n",
       " 'ldeo-glaciology/GL_apres_2022/A104/winter22_23/DIR2022-09-25-1354/DATA2022-10-03-0954.DAT',\n",
       " 'ldeo-glaciology/GL_apres_2022/A104/winter22_23/DIR2022-09-25-1354/DATA2022-10-04-0924.DAT',\n",
       " 'ldeo-glaciology/GL_apres_2022/A104/winter22_23/DIR2022-09-25-1354/DATA2022-10-05-0854.DAT',\n",
       " 'ldeo-glaciology/GL_apres_2022/A104/winter22_23/DIR2022-09-25-1354/DATA2022-10-06-0824.DAT',\n",
       " 'ldeo-glaciology/GL_apres_2022/A104/winter22_23/DIR2022-09-25-1354/DATA2022-10-07-0754.DAT',\n",
       " 'ldeo-glaciology/GL_apres_2022/A104/winter22_23/DIR2022-09-25-1354/DATA2022-10-08-0724.DAT',\n",
       " 'ldeo-glaciology/GL_apres_2022/A104/winter22_23/DIR2022-09-25-1354/DATA2022-10-09-0654.DAT',\n",
       " 'ldeo-glaciology/GL_apres_2022/A104/winter22_23/DIR2022-09-25-1354/DATA2022-10-10-0625.DAT',\n",
       " 'ldeo-glaciology/GL_apres_2022/A104/winter22_23/DIR2022-09-25-1354/DATA2022-10-11-0555.DAT',\n",
       " 'ldeo-glaciology/GL_apres_2022/A104/winter22_23/DIR2022-09-25-1354/DATA2022-10-12-0525.DAT',\n",
       " 'ldeo-glaciology/GL_apres_2022/A104/winter22_23/DIR2022-09-25-1354/DATA2022-10-13-0455.DAT',\n",
       " 'ldeo-glaciology/GL_apres_2022/A104/winter22_23/DIR2022-09-25-1354/DATA2022-10-14-0425.DAT',\n",
       " 'ldeo-glaciology/GL_apres_2022/A104/winter22_23/DIR2022-10-14-0451/DATA2022-10-14-0451.DAT',\n",
       " 'ldeo-glaciology/GL_apres_2022/A104/winter22_23/DIR2022-10-14-0451/DATA2022-10-15-0421.DAT',\n",
       " 'ldeo-glaciology/GL_apres_2022/A104/winter22_23/DIR2022-10-15-0835/DATA2022-10-15-0835.DAT',\n",
       " 'ldeo-glaciology/GL_apres_2022/A104/winter22_23/DIR2022-10-15-0835/DATA2022-10-16-0805.DAT',\n",
       " 'ldeo-glaciology/GL_apres_2022/A104/winter22_23/DIR2022-10-15-0835/DATA2022-10-17-0735.DAT',\n",
       " 'ldeo-glaciology/GL_apres_2022/A104/winter22_23/DIR2022-10-15-0835/DATA2022-10-18-0705.DAT',\n",
       " 'ldeo-glaciology/GL_apres_2022/A104/winter22_23/DIR2022-10-15-0835/DATA2022-10-19-0635.DAT',\n",
       " 'ldeo-glaciology/GL_apres_2022/A104/winter22_23/DIR2022-10-15-0835/DATA2022-10-20-0605.DAT',\n",
       " 'ldeo-glaciology/GL_apres_2022/A104/winter22_23/DIR2022-10-15-0835/DATA2022-10-21-0535.DAT',\n",
       " 'ldeo-glaciology/GL_apres_2022/A104/winter22_23/DIR2022-10-15-0835/DATA2022-10-22-0506.DAT',\n",
       " 'ldeo-glaciology/GL_apres_2022/A104/winter22_23/DIR2022-10-15-0835/DATA2022-10-23-0435.DAT',\n",
       " 'ldeo-glaciology/GL_apres_2022/A104/winter22_23/DIR2022-10-15-0835/DATA2022-10-24-0405.DAT',\n",
       " 'ldeo-glaciology/GL_apres_2022/A104/winter22_23/DIR2022-10-15-0835/DATA2022-10-25-0335.DAT',\n",
       " 'ldeo-glaciology/GL_apres_2022/A104/winter22_23/DIR2022-10-15-0835/DATA2022-10-26-0306.DAT',\n",
       " 'ldeo-glaciology/GL_apres_2022/A104/winter22_23/DIR2022-10-15-0835/DATA2022-10-27-0236.DAT',\n",
       " 'ldeo-glaciology/GL_apres_2022/A104/winter22_23/DIR2022-10-15-0835/DATA2022-10-28-0206.DAT',\n",
       " 'ldeo-glaciology/GL_apres_2022/A104/winter22_23/DIR2022-10-15-0835/DATA2022-10-29-0136.DAT',\n",
       " 'ldeo-glaciology/GL_apres_2022/A104/winter22_23/DIR2022-10-15-0835/DATA2022-10-30-0106.DAT',\n",
       " 'ldeo-glaciology/GL_apres_2022/A104/winter22_23/DIR2022-10-15-0835/DATA2022-10-31-0036.DAT',\n",
       " 'ldeo-glaciology/GL_apres_2022/A104/winter22_23/DIR2022-10-15-0835/DATA2022-11-01-0006.DAT',\n",
       " 'ldeo-glaciology/GL_apres_2022/A104/winter22_23/DIR2022-10-15-0835/DATA2022-11-01-2336.DAT',\n",
       " 'ldeo-glaciology/GL_apres_2022/A104/winter22_23/DIR2022-10-15-0835/DATA2022-11-02-2306.DAT',\n",
       " 'ldeo-glaciology/GL_apres_2022/A104/winter22_23/DIR2022-10-15-0835/DATA2022-11-03-2236.DAT',\n",
       " 'ldeo-glaciology/GL_apres_2022/A104/winter22_23/DIR2022-10-15-0835/DATA2022-11-04-2206.DAT',\n",
       " 'ldeo-glaciology/GL_apres_2022/A104/winter22_23/DIR2022-10-15-0835/DATA2022-11-05-2136.DAT',\n",
       " 'ldeo-glaciology/GL_apres_2022/A104/winter22_23/DIR2022-10-15-0835/DATA2022-11-06-2106.DAT',\n",
       " 'ldeo-glaciology/GL_apres_2022/A104/winter22_23/DIR2022-10-15-0835/DATA2022-11-07-2036.DAT',\n",
       " 'ldeo-glaciology/GL_apres_2022/A104/winter22_23/DIR2022-10-15-0835/DATA2022-11-08-2006.DAT',\n",
       " 'ldeo-glaciology/GL_apres_2022/A104/winter22_23/DIR2022-10-15-0835/DATA2022-11-09-1936.DAT',\n",
       " 'ldeo-glaciology/GL_apres_2022/A104/winter22_23/DIR2022-10-15-0835/DATA2022-11-10-1907.DAT',\n",
       " 'ldeo-glaciology/GL_apres_2022/A104/winter22_23/DIR2022-10-15-0835/DATA2022-11-11-1836.DAT',\n",
       " 'ldeo-glaciology/GL_apres_2022/A104/winter22_23/DIR2022-10-15-0835/DATA2022-11-12-1807.DAT',\n",
       " 'ldeo-glaciology/GL_apres_2022/A104/winter22_23/DIR2022-10-15-0835/DATA2022-11-13-1737.DAT',\n",
       " 'ldeo-glaciology/GL_apres_2022/A104/winter22_23/DIR2022-10-15-0835/DATA2022-11-14-1707.DAT',\n",
       " 'ldeo-glaciology/GL_apres_2022/A104/winter22_23/DIR2022-10-15-0835/DATA2022-11-15-1637.DAT',\n",
       " 'ldeo-glaciology/GL_apres_2022/A104/winter22_23/DIR2022-10-15-0835/DATA2022-11-16-1607.DAT',\n",
       " 'ldeo-glaciology/GL_apres_2022/A104/winter22_23/DIR2022-10-15-0835/DATA2022-11-17-1537.DAT',\n",
       " 'ldeo-glaciology/GL_apres_2022/A104/winter22_23/DIR2022-10-15-0835/DATA2022-11-18-1507.DAT',\n",
       " 'ldeo-glaciology/GL_apres_2022/A104/winter22_23/DIR2022-10-15-0835/DATA2022-11-19-1437.DAT',\n",
       " 'ldeo-glaciology/GL_apres_2022/A104/winter22_23/DIR2022-11-19-2251/DATA2022-11-19-2251.DAT',\n",
       " 'ldeo-glaciology/GL_apres_2022/A104/winter22_23/DIR2022-11-19-2251/DATA2022-11-20-2221.DAT',\n",
       " 'ldeo-glaciology/GL_apres_2022/A104/winter22_23/DIR2022-11-19-2251/DATA2022-11-21-2151.DAT',\n",
       " 'ldeo-glaciology/GL_apres_2022/A104/winter22_23/DIR2022-11-22-1007/DATA2022-11-22-1007.DAT',\n",
       " 'ldeo-glaciology/GL_apres_2022/A104/winter22_23/DIR2022-11-22-1122/DATA2022-11-22-1122.DAT',\n",
       " 'ldeo-glaciology/GL_apres_2022/A104/winter22_23/DIR2022-11-22-2014/DATA2022-11-22-2014.DAT',\n",
       " 'ldeo-glaciology/GL_apres_2022/A104/winter22_23/DIR2022-11-22-2014/DATA2022-11-23-1944.DAT',\n",
       " 'ldeo-glaciology/GL_apres_2022/A104/winter22_23/DIR2022-11-22-2014/DATA2022-11-24-1914.DAT',\n",
       " 'ldeo-glaciology/GL_apres_2022/A104/winter22_23/DIR2022-11-22-2014/DATA2022-11-25-1844.DAT',\n",
       " 'ldeo-glaciology/GL_apres_2022/A104/winter22_23/DIR2022-11-22-2014/DATA2022-11-26-1814.DAT',\n",
       " 'ldeo-glaciology/GL_apres_2022/A104/winter22_23/DIR2022-11-22-2014/DATA2022-11-27-1745.DAT',\n",
       " 'ldeo-glaciology/GL_apres_2022/A104/winter22_23/DIR2022-11-22-2014/DATA2022-11-28-1715.DAT',\n",
       " 'ldeo-glaciology/GL_apres_2022/A104/winter22_23/DIR2022-11-22-2014/DATA2022-11-29-1645.DAT',\n",
       " 'ldeo-glaciology/GL_apres_2022/A104/winter22_23/DIR2022-11-22-2014/DATA2022-11-30-1615.DAT',\n",
       " 'ldeo-glaciology/GL_apres_2022/A104/winter22_23/DIR2022-11-22-2014/DATA2022-12-01-1545.DAT',\n",
       " 'ldeo-glaciology/GL_apres_2022/A104/winter22_23/DIR2022-11-22-2014/DATA2022-12-02-1515.DAT',\n",
       " 'ldeo-glaciology/GL_apres_2022/A104/winter22_23/DIR2022-11-22-2014/DATA2022-12-03-1445.DAT',\n",
       " 'ldeo-glaciology/GL_apres_2022/A104/winter22_23/DIR2022-11-22-2014/DATA2022-12-04-1415.DAT',\n",
       " 'ldeo-glaciology/GL_apres_2022/A104/winter22_23/DIR2022-11-22-2014/DATA2022-12-05-1345.DAT',\n",
       " 'ldeo-glaciology/GL_apres_2022/A104/winter22_23/DIR2022-11-22-2014/DATA2022-12-06-1315.DAT',\n",
       " 'ldeo-glaciology/GL_apres_2022/A104/winter22_23/DIR2022-11-22-2014/DATA2022-12-07-1245.DAT',\n",
       " 'ldeo-glaciology/GL_apres_2022/A104/winter22_23/DIR2022-11-22-2014/DATA2022-12-08-1215.DAT',\n",
       " 'ldeo-glaciology/GL_apres_2022/A104/winter22_23/DIR2022-11-22-2014/DATA2022-12-09-1145.DAT',\n",
       " 'ldeo-glaciology/GL_apres_2022/A104/winter22_23/DIR2022-11-22-2014/DATA2022-12-10-1115.DAT',\n",
       " 'ldeo-glaciology/GL_apres_2022/A104/winter22_23/DIR2022-11-22-2014/DATA2022-12-11-1045.DAT',\n",
       " 'ldeo-glaciology/GL_apres_2022/A104/winter22_23/DIR2022-11-22-2014/DATA2022-12-12-1015.DAT',\n",
       " 'ldeo-glaciology/GL_apres_2022/A104/winter22_23/DIR2022-11-22-2014/DATA2022-12-13-0946.DAT',\n",
       " 'ldeo-glaciology/GL_apres_2022/A104/winter22_23/DIR2022-11-22-2014/DATA2022-12-14-0916.DAT',\n",
       " 'ldeo-glaciology/GL_apres_2022/A104/winter22_23/DIR2022-11-22-2014/DATA2022-12-15-0846.DAT',\n",
       " 'ldeo-glaciology/GL_apres_2022/A104/winter22_23/DIR2022-11-22-2014/DATA2022-12-16-0816.DAT',\n",
       " 'ldeo-glaciology/GL_apres_2022/A104/winter22_23/DIR2022-11-22-2014/DATA2022-12-17-0746.DAT',\n",
       " 'ldeo-glaciology/GL_apres_2022/A104/winter22_23/DIR2023-01-17-0149/DATA2023-01-17-0149.DAT',\n",
       " 'ldeo-glaciology/GL_apres_2022/A104/winter22_23/DIR2023-01-17-0149/DATA2023-01-26-0549.DAT',\n",
       " 'ldeo-glaciology/GL_apres_2022/A104/winter22_23/DIR2023-01-17-0149/DATA2023-01-27-0654.DAT',\n",
       " 'ldeo-glaciology/GL_apres_2022/A104/winter22_23/DIR2023-01-17-0149/DATA2023-01-29-1209.DAT',\n",
       " 'ldeo-glaciology/GL_apres_2022/A104/winter22_23/DIR2023-01-17-0149/DATA2023-01-30-1139.DAT',\n",
       " 'ldeo-glaciology/GL_apres_2022/A104/winter22_23/DIR2023-01-17-0149/DATA2023-01-31-1839.DAT',\n",
       " 'ldeo-glaciology/GL_apres_2022/A104/winter22_23/DIR2023-01-17-0149/DATA2023-02-01-1810.DAT',\n",
       " 'ldeo-glaciology/GL_apres_2022/A104/winter22_23/DIR2023-01-17-0149/DATA2023-02-02-1740.DAT',\n",
       " 'ldeo-glaciology/GL_apres_2022/A104/winter22_23/DIR2023-01-17-0149/DATA2023-02-03-1710.DAT',\n",
       " 'ldeo-glaciology/GL_apres_2022/A104/winter22_23/DIR2023-01-17-0149/DATA2023-02-04-1640.DAT',\n",
       " 'ldeo-glaciology/GL_apres_2022/A104/winter22_23/DIR2023-01-17-0149/DATA2023-02-05-1610.DAT',\n",
       " 'ldeo-glaciology/GL_apres_2022/A104/winter22_23/DIR2023-01-17-0149/DATA2023-02-06-1540.DAT',\n",
       " 'ldeo-glaciology/GL_apres_2022/A104/winter22_23/DIR2023-02-21-1022/DATA2023-02-21-1022.DAT',\n",
       " 'ldeo-glaciology/GL_apres_2022/A104/winter22_23/DIR2023-02-21-1022/DATA2023-03-01-1725.DAT',\n",
       " 'ldeo-glaciology/GL_apres_2022/A104/winter22_23/DIR2023-02-21-1022/DATA2023-03-02-1655.DAT',\n",
       " 'ldeo-glaciology/GL_apres_2022/A104/winter22_23/DIR2023-02-21-1022/DATA2023-03-03-1625.DAT',\n",
       " 'ldeo-glaciology/GL_apres_2022/A104/winter22_23/DIR2023-02-21-1022/DATA2023-03-04-1555.DAT',\n",
       " 'ldeo-glaciology/GL_apres_2022/A104/winter22_23/DIR2023-02-21-1022/DATA2023-03-05-1525.DAT',\n",
       " 'ldeo-glaciology/GL_apres_2022/A104/winter22_23/DIR2023-02-21-1022/DATA2023-03-06-1455.DAT',\n",
       " 'ldeo-glaciology/GL_apres_2022/A104/winter22_23/DIR2023-02-21-1022/DATA2023-03-07-1425.DAT',\n",
       " 'ldeo-glaciology/GL_apres_2022/A104/winter22_23/DIR2023-02-21-1022/DATA2023-03-09-1655.DAT',\n",
       " 'ldeo-glaciology/GL_apres_2022/A104/winter22_23/DIR2023-02-21-1022/DATA2023-03-10-1625.DAT',\n",
       " 'ldeo-glaciology/GL_apres_2022/A104/winter22_23/DIR2023-02-21-1022/DATA2023-03-11-1556.DAT',\n",
       " 'ldeo-glaciology/GL_apres_2022/A104/winter22_23/DIR2023-02-21-1022/DATA2023-03-12-1526.DAT',\n",
       " 'ldeo-glaciology/GL_apres_2022/A104/winter22_23/DIR2023-02-21-1022/DATA2023-03-13-1456.DAT',\n",
       " 'ldeo-glaciology/GL_apres_2022/A104/winter22_23/DIR2023-02-21-1022/DATA2023-03-14-1426.DAT',\n",
       " 'ldeo-glaciology/GL_apres_2022/A104/winter22_23/DIR2023-02-21-1022/DATA2023-03-15-1356.DAT',\n",
       " 'ldeo-glaciology/GL_apres_2022/A104/winter22_23/DIR2023-02-21-1022/DATA2023-03-16-1326.DAT',\n",
       " 'ldeo-glaciology/GL_apres_2022/A104/winter22_23/DIR2023-02-21-1022/DATA2023-03-17-1256.DAT',\n",
       " 'ldeo-glaciology/GL_apres_2022/A104/winter22_23/DIR2023-02-21-1022/DATA2023-03-18-1226.DAT',\n",
       " 'ldeo-glaciology/GL_apres_2022/A104/winter22_23/DIR2023-02-21-1022/DATA2023-03-19-1156.DAT',\n",
       " 'ldeo-glaciology/GL_apres_2022/A104/winter22_23/DIR2023-02-21-1022/DATA2023-03-20-1126.DAT',\n",
       " 'ldeo-glaciology/GL_apres_2022/A104/winter22_23/DIR2023-02-21-1022/DATA2023-03-21-1056.DAT',\n",
       " 'ldeo-glaciology/GL_apres_2022/A104/winter22_23/DIR2023-03-21-1420/DATA2023-03-21-1420.DAT',\n",
       " 'ldeo-glaciology/GL_apres_2022/A104/winter22_23/DIR2023-03-21-1420/DATA2023-03-22-1350.DAT',\n",
       " 'ldeo-glaciology/GL_apres_2022/A104/winter22_23/DIR2023-03-21-1420/DATA2023-03-23-1320.DAT',\n",
       " 'ldeo-glaciology/GL_apres_2022/A104/winter22_23/Survey/2022-09-25_134631.dat']"
      ]
     },
     "execution_count": 8,
     "metadata": {},
     "output_type": "execute_result"
    }
   ],
   "source": [
    "xa = ApRESDefs.xapres(max_range=1400)\n",
    "dat_file_list = xa.list_files(directory=f'gs://ldeo-glaciology/GL_apres_2022/A104/winter22_23', \n",
    "            remote_load = True)\n",
    "dat_file_list"
   ]
  },
  {
   "cell_type": "markdown",
   "id": "764f75d7-685d-40ce-8d08-28192a73bd3b",
   "metadata": {
    "tags": []
   },
   "source": [
    "Now let's try looking at the individual zarrs. It is fine. So then something in the conversion to the single zarr messes it up."
   ]
  },
  {
   "cell_type": "code",
   "execution_count": 59,
   "id": "a3e52648-5efd-4dac-9459-37c0c6230713",
   "metadata": {
    "tags": []
   },
   "outputs": [],
   "source": [
    "ds = xr.open_mfdataset(f'gs://ldeo-glaciology/apres/greenland/2022/A101/individual_zarrs_prechunked_winter22_23/dat_*',\n",
    "                           chunks = {}, \n",
    "                           engine = 'zarr', \n",
    "                           consolidated = False, \n",
    "                           parallel = True)\n",
    "#ds['attenuator'] = ds.attenuator[100]\n",
    "#ds['AFGain'] = ds.AFGain[100]\n",
    "\n",
    "for var in ds:\n",
    "    del ds[var].encoding['chunks']\n",
    "\n",
    "profile_stacked = ds.profile.mean(dim='chirp_num')\n",
    "ds_stacked = ds.assign({'profile_stacked':profile_stacked})\n",
    "\n",
    "ds_stacked_rechunked = ds_stacked.chunk({'time':20})\n",
    "\n",
    "#encoding = {i: {\"dtype\": \"float64\"} for i in ds_stacked_rechunked.data_vars}\n",
    "encoding = {\n",
    "    'time': {\n",
    "        'units': 'seconds since 1970-01-01'\n",
    "    }\n",
    "}\n",
    "\n",
    "filename = f'gs://ldeo-glaciology/apres/greenland/2022/single_zarrs_noencode/A101_winter22_23' \n",
    "with open('../../secrets/ldeo-glaciology-bc97b12df06b.json') as token_file:\n",
    "    token = json.load(token_file)\n",
    "mapper = fsspec.get_mapper(filename, mode='w', token=token) "
   ]
  },
  {
   "cell_type": "code",
   "execution_count": 63,
   "id": "aa8a9904-c2fb-4bf8-abb4-85abd9110584",
   "metadata": {
    "tags": []
   },
   "outputs": [
    {
     "data": {
      "text/plain": [
       "{'chunks': (1,),\n",
       " 'preferred_chunks': {'time': 1},\n",
       " 'compressor': Blosc(cname='lz4', clevel=5, shuffle=SHUFFLE, blocksize=0),\n",
       " 'filters': None,\n",
       " 'dtype': dtype('<U89')}"
      ]
     },
     "execution_count": 63,
     "metadata": {},
     "output_type": "execute_result"
    }
   ],
   "source": [
    "ds_stacked_rechunked.filename.encoding"
   ]
  },
  {
   "cell_type": "code",
   "execution_count": null,
   "id": "37f5a7c4-1290-49ed-b6c8-88c3a94f97f8",
   "metadata": {},
   "outputs": [],
   "source": []
  }
 ],
 "metadata": {
  "kernelspec": {
   "display_name": "Python 3 (ipykernel)",
   "language": "python",
   "name": "python3"
  },
  "language_info": {
   "codemirror_mode": {
    "name": "ipython",
    "version": 3
   },
   "file_extension": ".py",
   "mimetype": "text/x-python",
   "name": "python",
   "nbconvert_exporter": "python",
   "pygments_lexer": "ipython3",
   "version": "3.10.12"
  }
 },
 "nbformat": 4,
 "nbformat_minor": 5
}
