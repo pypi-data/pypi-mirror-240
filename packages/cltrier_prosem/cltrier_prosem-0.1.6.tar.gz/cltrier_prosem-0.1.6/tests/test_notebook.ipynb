{
 "cells": [
  {
   "cell_type": "code",
   "execution_count": 1,
   "id": "initial_id",
   "metadata": {
    "collapsed": true,
    "ExecuteTime": {
     "end_time": "2023-11-13T15:39:41.354934Z",
     "start_time": "2023-11-13T15:39:37.162951Z"
    }
   },
   "outputs": [],
   "source": [
    " # add additional module import path to import the desired function from the classifier module\n",
    "# https://stackoverflow.com/questions/34478398/import-local-function-from-a-module-housed-in-another-directory-with-relative-im#answer-35273613\n",
    "import os\n",
    "import sys\n",
    "\n",
    "module_path = os.path.abspath(os.path.join('..'))\n",
    "\n",
    "if module_path not in sys.path:\n",
    "    sys.path.append(module_path)\n",
    "    \n",
    "from src.cltrier_prosem import Pipeline"
   ]
  },
  {
   "cell_type": "code",
   "execution_count": 2,
   "outputs": [],
   "source": [
    "# ! pip install cltrier_prosem==0.1.3"
   ],
   "metadata": {
    "collapsed": false,
    "ExecuteTime": {
     "end_time": "2023-11-13T15:39:41.363750Z",
     "start_time": "2023-11-13T15:39:41.357672Z"
    }
   },
   "id": "2595ee4a4bbab9dd"
  },
  {
   "cell_type": "code",
   "execution_count": 3,
   "outputs": [],
   "source": [
    "LOCAL_PCK = True"
   ],
   "metadata": {
    "collapsed": false,
    "ExecuteTime": {
     "end_time": "2023-11-13T15:39:41.374170Z",
     "start_time": "2023-11-13T15:39:41.363364Z"
    }
   },
   "id": "7612ed055709027c"
  },
  {
   "cell_type": "code",
   "execution_count": 4,
   "outputs": [],
   "source": [
    "if LOCAL_PCK:\n",
    "    from src.cltrier_prosem import Pipeline\n",
    "else:\n",
    "    from cltrier_prosem import Pipeline"
   ],
   "metadata": {
    "collapsed": false,
    "ExecuteTime": {
     "end_time": "2023-11-13T15:39:41.381681Z",
     "start_time": "2023-11-13T15:39:41.373590Z"
    }
   },
   "id": "d228a31725adcfc0"
  },
  {
   "cell_type": "code",
   "execution_count": 5,
   "outputs": [
    {
     "name": "stderr",
     "output_type": "stream",
     "text": [
      "[--- LOAD ENCODER ---]\n",
      "> Encoder Name: deepset/gbert-base\n",
      "  Memory Usage: 419.3486 MB\n",
      "> f(__init__) took: 1.3918 sec\n",
      "[--- LOAD TRAINER ---]\n",
      "> Dataset: train\n",
      "  Samples: 9889\n",
      "> Dataset: test\n",
      "  Samples: 1259\n",
      "> Model: Multilayer perceptron\n",
      "  Memory Usage: 1.5254 MB \n",
      "  (0): Linear(in_features=768, out_features=512, bias=True)\n",
      "  (1): Dropout(p=0.2, inplace=False)\n",
      "  (2): LeakyReLU(negative_slope=0.01)\n",
      "  (3): Linear(in_features=512, out_features=12, bias=True)\n",
      "\n"
     ]
    }
   ],
   "source": [
    "pipeline = Pipeline({\n",
    "    'encoder': {\n",
    "        'model': 'deepset/gbert-base',\n",
    "    },\n",
    "    'dataset': {\n",
    "        'path': './data',\n",
    "        'text_column': 'text',\n",
    "        'label_column': 'label',\n",
    "        'label_classes': [\n",
    "            '1901-1910', '1911-1920', '1921-1930', '1931-1940',\n",
    "            '1941-1950', '1951-1960', '1961-1970', '1971-1980',\n",
    "            '1981-1990', '1991-2000', '2001-2010', '2011-2018',\n",
    "        ],\n",
    "    },\n",
    "    'classifier': {\n",
    "        'hid_size': 512,\n",
    "        'dropout': 0.2,\n",
    "    },\n",
    "    'pooler': {\n",
    "        'form': 'cls'\n",
    "    },\n",
    "    'trainer': {\n",
    "        'num_epochs': 5,\n",
    "        'batch_size': 32,\n",
    "        'learning_rate': 1e-3,\n",
    "        'export_path': '/',\n",
    "    }\n",
    "})"
   ],
   "metadata": {
    "collapsed": false,
    "ExecuteTime": {
     "end_time": "2023-11-13T15:39:42.859911Z",
     "start_time": "2023-11-13T15:39:41.384466Z"
    }
   },
   "id": "1a0bfc94c2409527"
  },
  {
   "cell_type": "code",
   "execution_count": 6,
   "outputs": [
    {
     "name": "stderr",
     "output_type": "stream",
     "text": [
      "[--- RUN TRAINER ---]\n",
      "Warning: Training interrupted by user, skipping to evaluation if possible.\n"
     ]
    }
   ],
   "source": [
    "pipeline()"
   ],
   "metadata": {
    "collapsed": false,
    "ExecuteTime": {
     "end_time": "2023-11-13T15:39:47.767734Z",
     "start_time": "2023-11-13T15:39:42.860685Z"
    }
   },
   "id": "5c10430ae17d7c28"
  },
  {
   "cell_type": "code",
   "execution_count": 6,
   "outputs": [],
   "source": [],
   "metadata": {
    "collapsed": false,
    "ExecuteTime": {
     "end_time": "2023-11-13T15:39:47.775420Z",
     "start_time": "2023-11-13T15:39:47.767327Z"
    }
   },
   "id": "820116d505c73227"
  }
 ],
 "metadata": {
  "kernelspec": {
   "display_name": "Python 3",
   "language": "python",
   "name": "python3"
  },
  "language_info": {
   "codemirror_mode": {
    "name": "ipython",
    "version": 2
   },
   "file_extension": ".py",
   "mimetype": "text/x-python",
   "name": "python",
   "nbconvert_exporter": "python",
   "pygments_lexer": "ipython2",
   "version": "2.7.6"
  }
 },
 "nbformat": 4,
 "nbformat_minor": 5
}
